{
  "nbformat": 4,
  "nbformat_minor": 0,
  "metadata": {
    "colab": {
      "name": "workbook_04_pandas.ipynb",
      "provenance": [],
      "toc_visible": true,
      "include_colab_link": true
    },
    "kernelspec": {
      "name": "python3",
      "display_name": "Python 3"
    }
  },
  "cells": [
    {
      "cell_type": "markdown",
      "metadata": {
        "id": "view-in-github",
        "colab_type": "text"
      },
      "source": [
        "<a href=\"https://colab.research.google.com/github/fbeilstein/machine_learning/blob/master/workbook_04_pandas.ipynb\" target=\"_parent\"><img src=\"https://colab.research.google.com/assets/colab-badge.svg\" alt=\"Open In Colab\"/></a>"
      ]
    },
    {
      "cell_type": "code",
      "source": [
        "#@title #Quiz\n",
        "\n",
        "%%html\n",
        "<link   rel=\"stylesheet\" href=\"https://fbeilstein.github.io/machine_learning/js_common/styles.css\"/>\n",
        "<script src=\"https://fbeilstein.github.io/machine_learning/js_common/script.js\"></script>\n",
        "<script>\n",
        "load_quiz_from(\"https://fbeilstein.github.io/machine_learning/lecture_04_pandas/quiz_1.txt\")\n",
        "</script>"
      ],
      "metadata": {
        "cellView": "form",
        "id": "ioJN6L9in0en",
        "outputId": "ebad6bf4-e1c1-4c70-f867-2b58534031ac",
        "colab": {
          "base_uri": "https://localhost:8080/",
          "height": 247
        }
      },
      "execution_count": 4,
      "outputs": [
        {
          "output_type": "display_data",
          "data": {
            "text/plain": [
              "<IPython.core.display.HTML object>"
            ],
            "text/html": [
              "<link   rel=\"stylesheet\" href=\"https://fbeilstein.github.io/machine_learning/js_common/styles.css\"/>\n",
              "<script src=\"https://fbeilstein.github.io/machine_learning/js_common/script.js\"></script>\n",
              "<script>\n",
              "load_quiz_from(\"https://fbeilstein.github.io/machine_learning/lecture_04_pandas/quiz_1.txt\")\n",
              "</script>\n"
            ]
          },
          "metadata": {}
        }
      ]
    },
    {
      "cell_type": "markdown",
      "metadata": {
        "id": "qmtCX7_C56MZ"
      },
      "source": [
        "Run the following code to get helper functions:\n",
        "* `display_pandas(series_or_dataframe)` -- visualizes Series or DataFrame as a neat table."
      ]
    },
    {
      "cell_type": "code",
      "metadata": {
        "id": "BDm-3EMZbDRl",
        "cellView": "form"
      },
      "source": [
        "#@title Helper Functions\n",
        "\n",
        "def pandas_to_html(obj, ordering=False):\n",
        "  import pandas as pd\n",
        "  if type(obj) == pd.core.series.Series:\n",
        "    if obj.name != None:\n",
        "      obj = pd.DataFrame(obj)#, columns=[' '])\n",
        "    else:\n",
        "      obj = pd.DataFrame(obj, columns=[' '])\n",
        "\n",
        "  class_name = 'pandas_table'\n",
        "  if obj.shape[0] > 10:\n",
        "    class_name += '_long'\n",
        "  else:\n",
        "    class_name += '_short'\n",
        "\n",
        "  if ordering:\n",
        "    class_name += '_ordered'\n",
        "  else:\n",
        "    class_name += '_unordered'\n",
        "\n",
        "\n",
        "  main_str = '''\n",
        "  <script src=\"https://ajax.googleapis.com/ajax/libs/jquery/3.5.1/jquery.min.js\"></script>\n",
        "  <link rel=\"stylesheet\" type=\"text/css\" href=\"https://cdn.datatables.net/1.10.21/css/jquery.dataTables.css\">\n",
        "  <script type=\"text/javascript\" charset=\"utf8\" src=\"https://cdn.datatables.net/1.10.21/js/jquery.dataTables.js\"></script>\n",
        "  ''' + obj.to_html(classes=[class_name, 'cell-border']) + '''\n",
        "  <script>\n",
        "  $(document).ready( function () {\n",
        "      $('.pandas_table_long_ordered').DataTable({\"autoWidth\": false});\n",
        "      $('.pandas_table_long_ordered').removeClass(\"pandas_table_long_ordered\");\n",
        "      $('.pandas_table_short_ordered').DataTable({\"autoWidth\": false, \"paging\":false, \"searching\":false, \"info\":false});\n",
        "      $('.pandas_table_short_ordered').removeClass(\"pandas_table_short_ordered\");\n",
        "\n",
        "      $('.pandas_table_long_unordered').DataTable({\"autoWidth\": false, \"ordering\":false, \"paging\":true});\n",
        "      $('.pandas_table_long_unordered').removeClass(\"pandas_table_long_unordered\");\n",
        "      $('.pandas_table_short_unordered').DataTable({\"autoWidth\": false, \"paging\":false, \"searching\":false, \"info\":false, \"ordering\":false});\n",
        "      $('.pandas_table_short_unordered').removeClass(\"pandas_table_short_unordered\");\n",
        "  } );\n",
        "  </script>\n",
        "  '''\n",
        "  return main_str\n",
        "\n",
        "def display_pandas(obj, ordering=False):\n",
        "  import IPython\n",
        "  from google.colab import output\n",
        "  display(IPython.display.HTML(pandas_to_html(obj, ordering)))\n",
        "\n",
        "str_style_bigtbl = '''\n",
        "<style>\n",
        ".bigtable {\n",
        "  border-collapse: collapse;\n",
        "}\n",
        "\n",
        ".bigtd {\n",
        "  border: 3px solid #d4d4d3ff;\n",
        "  min-width:50%;\n",
        "  min-width:50%;\n",
        "  height: 30px;\n",
        "  position: relative;\n",
        "  text-align:center;\n",
        "  color: #474747;\n",
        "  font-size:15px;\n",
        "  font-weight: bolder;\n",
        "  padding: 19px;\n",
        "}\n",
        "\n",
        "</style>\n",
        "'''\n",
        "\n",
        "def envelope_tbl(lst):\n",
        "  result = '<table class=\"bigtable\">\\n'\n",
        "  for row in lst:\n",
        "    result += '<tr>\\n\\t'\n",
        "    for e in row:\n",
        "      if isinstance(e, dict):\n",
        "        result += '<td class=\"bigtd\"'\n",
        "        for key in e:\n",
        "          if key != 'text':\n",
        "            result += str(key) + '=\"' + str(e[key]) + '\" '\n",
        "        result += '><div width=\"40px\">' + str(e['text']) + '</div></td>'\n",
        "      else:\n",
        "        result += '<td class=\"bigtd\">' + str(e) + '</td>'\n",
        "    result += '\\n</tr>\\n'\n",
        "  result += '</table>'\n",
        "  return result\n",
        "\n",
        "def draw_tbl(lst):\n",
        "  result = envelope_tbl(lst)\n",
        "  import IPython\n",
        "  from google.colab import output\n",
        "  display(IPython.display.HTML(str_style_bigtbl + result))"
      ],
      "execution_count": null,
      "outputs": []
    },
    {
      "cell_type": "markdown",
      "metadata": {
        "id": "tv61qZNL0Fpj"
      },
      "source": [
        "# Importing pandas\n",
        "\n",
        "Difficulty: **easy**"
      ]
    },
    {
      "cell_type": "code",
      "metadata": {
        "id": "c0xLwnJN-yG-",
        "cellView": "form",
        "colab": {
          "base_uri": "https://localhost:8080/",
          "height": 52
        },
        "outputId": "360858ed-5d95-4aa5-da77-50084482dca5"
      },
      "source": [
        "#@title Difficulty:\n",
        "%%html\n",
        "\n",
        "<svg width=\"25mm\" height=\"8mm\" version=\"1.1\" viewBox=\"0 0 38.506 12.662\" xmlns=\"http://www.w3.org/2000/svg\">\n",
        " <g transform=\"translate(-13.418 -11.061)\">\n",
        "  <rect x=\"13.418\" y=\"11.061\" width=\"38.506\" height=\"12.662\" rx=\"2.3559\" fill=\"#00a54b\"/>\n",
        "  <text x=\"22.959692\" y=\"20.304243\" fill=\"#ffffff\" font-family=\"Verdana\" font-size=\"8.531px\" letter-spacing=\"0px\" stroke-width=\".26458\" word-spacing=\"0px\" style=\"line-height:1.25\" xml:space=\"preserve\"><tspan x=\"22.959692\" y=\"20.304243\" fill=\"#ffffff\" font-family=\"'Courier New'\" font-size=\"8.531px\" font-weight=\"bold\" stroke-width=\".26458\" style=\"font-feature-settings:normal;font-variant-caps:normal;font-variant-ligatures:normal;font-variant-numeric:normal\">EASY</tspan></text>\n",
        " </g>\n",
        "</svg>\n"
      ],
      "execution_count": 3,
      "outputs": [
        {
          "output_type": "display_data",
          "data": {
            "text/plain": [
              "<IPython.core.display.HTML object>"
            ],
            "text/html": [
              "\n",
              "<svg width=\"25mm\" height=\"8mm\" version=\"1.1\" viewBox=\"0 0 38.506 12.662\" xmlns=\"http://www.w3.org/2000/svg\">\n",
              " <g transform=\"translate(-13.418 -11.061)\">\n",
              "  <rect x=\"13.418\" y=\"11.061\" width=\"38.506\" height=\"12.662\" rx=\"2.3559\" fill=\"#00a54b\"/>\n",
              "  <text x=\"22.959692\" y=\"20.304243\" fill=\"#ffffff\" font-family=\"Verdana\" font-size=\"8.531px\" letter-spacing=\"0px\" stroke-width=\".26458\" word-spacing=\"0px\" style=\"line-height:1.25\" xml:space=\"preserve\"><tspan x=\"22.959692\" y=\"20.304243\" fill=\"#ffffff\" font-family=\"'Courier New'\" font-size=\"8.531px\" font-weight=\"bold\" stroke-width=\".26458\" style=\"font-feature-settings:normal;font-variant-caps:normal;font-variant-ligatures:normal;font-variant-numeric:normal\">EASY</tspan></text>\n",
              " </g>\n",
              "</svg>\n"
            ]
          },
          "metadata": {}
        }
      ]
    },
    {
      "cell_type": "markdown",
      "metadata": {
        "id": "JnPc49S50Fpo"
      },
      "source": [
        "##Problem 1."
      ]
    },
    {
      "cell_type": "markdown",
      "metadata": {
        "id": "B8RwOU_ZRCyC"
      },
      "source": [
        " Print the version of pandas that has been imported."
      ]
    },
    {
      "cell_type": "code",
      "metadata": {
        "id": "dIcdlg9C0Fpp"
      },
      "source": [
        "import pandas as pd\n",
        "\n",
        "# Enter your code here"
      ],
      "execution_count": null,
      "outputs": []
    },
    {
      "cell_type": "code",
      "metadata": {
        "id": "XSaqlTH80Fpr",
        "cellView": "form",
        "colab": {
          "base_uri": "https://localhost:8080/",
          "height": 35
        },
        "outputId": "14fc9f48-f098-4866-ca8a-db325ff2c71b"
      },
      "source": [
        "#@title Solution (double-click to open)\n",
        "\n",
        "import pandas as pd\n",
        "\n",
        "# Solution\n",
        "pd.__version__"
      ],
      "execution_count": null,
      "outputs": [
        {
          "output_type": "execute_result",
          "data": {
            "application/vnd.google.colaboratory.intrinsic+json": {
              "type": "string"
            },
            "text/plain": [
              "'1.0.5'"
            ]
          },
          "metadata": {
            "tags": []
          },
          "execution_count": 42
        }
      ]
    },
    {
      "cell_type": "markdown",
      "metadata": {
        "id": "32Uywid20Fpw"
      },
      "source": [
        "# DataFrame basics\n",
        "\n",
        "Difficulty: **easy**\n",
        "\n"
      ]
    },
    {
      "cell_type": "code",
      "metadata": {
        "cellView": "form",
        "id": "6yaSFIvnBjCp",
        "colab": {
          "base_uri": "https://localhost:8080/",
          "height": 51
        },
        "outputId": "b702d6c9-c14e-4daf-8164-2327eaa66bbb"
      },
      "source": [
        "#@title Difficulty:\n",
        "%%html\n",
        "\n",
        "<svg width=\"25mm\" height=\"8mm\" version=\"1.1\" viewBox=\"0 0 38.506 12.662\" xmlns=\"http://www.w3.org/2000/svg\">\n",
        " <g transform=\"translate(-13.418 -11.061)\">\n",
        "  <rect x=\"13.418\" y=\"11.061\" width=\"38.506\" height=\"12.662\" rx=\"2.3559\" fill=\"#00a54b\"/>\n",
        "  <text x=\"22.959692\" y=\"20.304243\" fill=\"#ffffff\" font-family=\"Verdana\" font-size=\"8.531px\" letter-spacing=\"0px\" stroke-width=\".26458\" word-spacing=\"0px\" style=\"line-height:1.25\" xml:space=\"preserve\"><tspan x=\"22.959692\" y=\"20.304243\" fill=\"#ffffff\" font-family=\"'Courier New'\" font-size=\"8.531px\" font-weight=\"bold\" stroke-width=\".26458\" style=\"font-feature-settings:normal;font-variant-caps:normal;font-variant-ligatures:normal;font-variant-numeric:normal\">EASY</tspan></text>\n",
        " </g>\n",
        "</svg>\n"
      ],
      "execution_count": null,
      "outputs": [
        {
          "output_type": "display_data",
          "data": {
            "text/html": [
              "\n",
              "<svg width=\"25mm\" height=\"8mm\" version=\"1.1\" viewBox=\"0 0 38.506 12.662\" xmlns=\"http://www.w3.org/2000/svg\">\n",
              " <g transform=\"translate(-13.418 -11.061)\">\n",
              "  <rect x=\"13.418\" y=\"11.061\" width=\"38.506\" height=\"12.662\" rx=\"2.3559\" fill=\"#00a54b\"/>\n",
              "  <text x=\"22.959692\" y=\"20.304243\" fill=\"#ffffff\" font-family=\"Verdana\" font-size=\"8.531px\" letter-spacing=\"0px\" stroke-width=\".26458\" word-spacing=\"0px\" style=\"line-height:1.25\" xml:space=\"preserve\"><tspan x=\"22.959692\" y=\"20.304243\" fill=\"#ffffff\" font-family=\"'Courier New'\" font-size=\"8.531px\" font-weight=\"bold\" stroke-width=\".26458\" style=\"font-feature-settings:normal;font-variant-caps:normal;font-variant-ligatures:normal;font-variant-numeric:normal\">EASY</tspan></text>\n",
              " </g>\n",
              "</svg>"
            ],
            "text/plain": [
              "<IPython.core.display.HTML object>"
            ]
          },
          "metadata": {
            "tags": []
          }
        }
      ]
    },
    {
      "cell_type": "markdown",
      "metadata": {
        "id": "KRzKusR00Fp6"
      },
      "source": [
        "##Problem 1.\n"
      ]
    },
    {
      "cell_type": "markdown",
      "metadata": {
        "id": "xIgTH3wESKWg"
      },
      "source": [
        "Create a DataFrame from given Python dictionary data\n",
        "\n"
      ]
    },
    {
      "cell_type": "code",
      "metadata": {
        "id": "vi9VdmQo0Fpx"
      },
      "source": [
        "import numpy as np\n",
        "import pandas as pd\n",
        "\n",
        "# Input\n",
        "data = {'animal'  : ['cat', 'cat', 'snake',  'dog', 'dog', 'cat', 'snake',  'cat', 'dog', 'dog'],\n",
        "        'age'     : [  2.5,     3,     0.5, np.nan,     5,     2,     4.5, np.nan,     7,     3],\n",
        "        'visits'  : [    1,     3,       2,      3,     2,     3,       1,      1,     2,     1],\n",
        "        'priority': ['yes', 'yes',    'no',  'yes',  'no',  'no',    'no',  'yes',  'no',  'no']}\n",
        "labels =            [  'a',   'b',     'c',    'd',   'e',   'f',     'g',    'h',   'i',   'j']\n",
        "\n",
        "# Enter your code here\n",
        "df =\n",
        "\n",
        "# Visualize\n",
        "display_pandas(df)"
      ],
      "execution_count": null,
      "outputs": []
    },
    {
      "cell_type": "code",
      "metadata": {
        "id": "xtDBwdGo0Fp9",
        "cellView": "form",
        "colab": {
          "base_uri": "https://localhost:8080/",
          "height": 395
        },
        "outputId": "da036911-8b88-4445-ac72-ca07a8286daf"
      },
      "source": [
        "#@title Solution (double-click to open)\n",
        "\n",
        "import numpy as np\n",
        "import pandas as pd\n",
        "\n",
        "# Input\n",
        "data = {'animal'  : ['cat', 'cat', 'snake',  'dog', 'dog', 'cat', 'snake',  'cat', 'dog', 'dog'],\n",
        "        'age'     : [  2.5,     3,     0.5, np.nan,     5,     2,     4.5, np.nan,     7,     3],\n",
        "        'visits'  : [    1,     3,       2,      3,     2,     3,       1,      1,     2,     1],\n",
        "        'priority': ['yes', 'yes',    'no',  'yes',  'no',  'no',    'no',  'yes',  'no',  'no']}\n",
        "labels =            [  'a',   'b',     'c',    'd',   'e',   'f',     'g',    'h',   'i',   'j']\n",
        "\n",
        "# Solution\n",
        "df = pd.DataFrame(data, index=labels)\n",
        "\n",
        "# Visualize\n",
        "display_pandas(df)"
      ],
      "execution_count": null,
      "outputs": [
        {
          "output_type": "display_data",
          "data": {
            "text/html": [
              "\n",
              "  <script src=\"https://ajax.googleapis.com/ajax/libs/jquery/3.5.1/jquery.min.js\"></script>\n",
              "  <link rel=\"stylesheet\" type=\"text/css\" href=\"https://cdn.datatables.net/1.10.21/css/jquery.dataTables.css\">\n",
              "  <script type=\"text/javascript\" charset=\"utf8\" src=\"https://cdn.datatables.net/1.10.21/js/jquery.dataTables.js\"></script>\n",
              "  <table border=\"1\" class=\"dataframe pandas_table_short_unordered cell-border\">\n",
              "  <thead>\n",
              "    <tr style=\"text-align: right;\">\n",
              "      <th></th>\n",
              "      <th>animal</th>\n",
              "      <th>age</th>\n",
              "      <th>visits</th>\n",
              "      <th>priority</th>\n",
              "    </tr>\n",
              "  </thead>\n",
              "  <tbody>\n",
              "    <tr>\n",
              "      <th>a</th>\n",
              "      <td>cat</td>\n",
              "      <td>2.5</td>\n",
              "      <td>1</td>\n",
              "      <td>yes</td>\n",
              "    </tr>\n",
              "    <tr>\n",
              "      <th>b</th>\n",
              "      <td>cat</td>\n",
              "      <td>3.0</td>\n",
              "      <td>3</td>\n",
              "      <td>yes</td>\n",
              "    </tr>\n",
              "    <tr>\n",
              "      <th>c</th>\n",
              "      <td>snake</td>\n",
              "      <td>0.5</td>\n",
              "      <td>2</td>\n",
              "      <td>no</td>\n",
              "    </tr>\n",
              "    <tr>\n",
              "      <th>d</th>\n",
              "      <td>dog</td>\n",
              "      <td>NaN</td>\n",
              "      <td>3</td>\n",
              "      <td>yes</td>\n",
              "    </tr>\n",
              "    <tr>\n",
              "      <th>e</th>\n",
              "      <td>dog</td>\n",
              "      <td>5.0</td>\n",
              "      <td>2</td>\n",
              "      <td>no</td>\n",
              "    </tr>\n",
              "    <tr>\n",
              "      <th>f</th>\n",
              "      <td>cat</td>\n",
              "      <td>2.0</td>\n",
              "      <td>3</td>\n",
              "      <td>no</td>\n",
              "    </tr>\n",
              "    <tr>\n",
              "      <th>g</th>\n",
              "      <td>snake</td>\n",
              "      <td>4.5</td>\n",
              "      <td>1</td>\n",
              "      <td>no</td>\n",
              "    </tr>\n",
              "    <tr>\n",
              "      <th>h</th>\n",
              "      <td>cat</td>\n",
              "      <td>NaN</td>\n",
              "      <td>1</td>\n",
              "      <td>yes</td>\n",
              "    </tr>\n",
              "    <tr>\n",
              "      <th>i</th>\n",
              "      <td>dog</td>\n",
              "      <td>7.0</td>\n",
              "      <td>2</td>\n",
              "      <td>no</td>\n",
              "    </tr>\n",
              "    <tr>\n",
              "      <th>j</th>\n",
              "      <td>dog</td>\n",
              "      <td>3.0</td>\n",
              "      <td>1</td>\n",
              "      <td>no</td>\n",
              "    </tr>\n",
              "  </tbody>\n",
              "</table>\n",
              "  <script>\n",
              "  $(document).ready( function () {\n",
              "      $('.pandas_table_long_ordered').DataTable({\"autoWidth\": false});\n",
              "      $('.pandas_table_long_ordered').removeClass(\"pandas_table_long_ordered\");\n",
              "      $('.pandas_table_short_ordered').DataTable({\"autoWidth\": false, \"paging\":false, \"searching\":false, \"info\":false});\n",
              "      $('.pandas_table_short_ordered').removeClass(\"pandas_table_short_ordered\");\n",
              "\n",
              "      $('.pandas_table_long_unordered').DataTable({\"autoWidth\": false, \"ordering\":false, \"paging\":true});\n",
              "      $('.pandas_table_long_unordered').removeClass(\"pandas_table_long_unordered\");\n",
              "      $('.pandas_table_short_unordered').DataTable({\"autoWidth\": false, \"paging\":false, \"searching\":false, \"info\":false, \"ordering\":false});\n",
              "      $('.pandas_table_short_unordered').removeClass(\"pandas_table_short_unordered\");\n",
              "  } );\n",
              "  </script>\n",
              "  "
            ],
            "text/plain": [
              "<IPython.core.display.HTML object>"
            ]
          },
          "metadata": {
            "tags": []
          }
        }
      ]
    },
    {
      "cell_type": "markdown",
      "metadata": {
        "id": "4ZcGduQU0Fp_"
      },
      "source": [
        "##Problem 2."
      ]
    },
    {
      "cell_type": "markdown",
      "metadata": {
        "id": "gvFBAFnvjN4J"
      },
      "source": [
        "**Problem:**\n",
        "Display a summary on Python Objects contained within the given DataFrame."
      ]
    },
    {
      "cell_type": "code",
      "metadata": {
        "id": "QP3gyJtH0Fp_"
      },
      "source": [
        "import numpy as np\n",
        "import pandas as pd\n",
        "\n",
        "# Input\n",
        "data = {'animal'  : ['cat', 'cat', 'snake',  'dog', 'dog', 'cat', 'snake',  'cat', 'dog', 'dog'],\n",
        "        'age'     : [  2.5,     3,     0.5, np.nan,     5,     2,     4.5, np.nan,     7,     3],\n",
        "        'visits'  : [    1,     3,       2,      3,     2,     3,       1,      1,     2,     1],\n",
        "        'priority': ['yes', 'yes',    'no',  'yes',  'no',  'no',    'no',  'yes',  'no',  'no']}\n",
        "labels =            [  'a',   'b',     'c',    'd',   'e',   'f',     'g',    'h',   'i',   'j']\n",
        "df = pd.DataFrame(data, index=labels)\n",
        "\n",
        "# Enter your code here"
      ],
      "execution_count": null,
      "outputs": []
    },
    {
      "cell_type": "code",
      "metadata": {
        "id": "KY1aQgJ90FqB",
        "cellView": "form"
      },
      "source": [
        "#@title Solution (double-click to open)\n",
        "\n",
        "import numpy as np\n",
        "import pandas as pd\n",
        "\n",
        "# Input\n",
        "data = {'animal'  : ['cat', 'cat', 'snake',  'dog', 'dog', 'cat', 'snake',  'cat', 'dog', 'dog'],\n",
        "        'age'     : [  2.5,     3,     0.5, np.nan,     5,     2,     4.5, np.nan,     7,     3],\n",
        "        'visits'  : [    1,     3,       2,      3,     2,     3,       1,      1,     2,     1],\n",
        "        'priority': ['yes', 'yes',    'no',  'yes',  'no',  'no',    'no',  'yes',  'no',  'no']}\n",
        "labels =            [  'a',   'b',     'c',    'd',   'e',   'f',     'g',    'h',   'i',   'j']\n",
        "df = pd.DataFrame(data, index=labels)\n",
        "\n",
        "# Solution\n",
        "df.info()"
      ],
      "execution_count": null,
      "outputs": []
    },
    {
      "cell_type": "markdown",
      "metadata": {
        "id": "tsY78ko-iVRS"
      },
      "source": [
        "##Problem 3."
      ]
    },
    {
      "cell_type": "markdown",
      "metadata": {
        "id": "G6kFBw49qByV"
      },
      "source": [
        "**Problem:**\n",
        "Display a summary on information contained within DataFrame given.\n",
        "\n"
      ]
    },
    {
      "cell_type": "code",
      "metadata": {
        "id": "TiuY25jVimNd"
      },
      "source": [
        "import numpy as np\n",
        "import pandas as pd\n",
        "\n",
        "# Input\n",
        "data = {'animal'  : ['cat', 'cat', 'snake',  'dog', 'dog', 'cat', 'snake',  'cat', 'dog', 'dog'],\n",
        "        'age'     : [  2.5,     3,     0.5, np.nan,     5,     2,     4.5, np.nan,     7,     3],\n",
        "        'visits'  : [    1,     3,       2,      3,     2,     3,       1,      1,     2,     1],\n",
        "        'priority': ['yes', 'yes',    'no',  'yes',  'no',  'no',    'no',  'yes',  'no',  'no']}\n",
        "labels =            [  'a',   'b',     'c',    'd',   'e',   'f',     'g',    'h',   'i',   'j']\n",
        "df = pd.DataFrame(data, index=labels)\n",
        "\n",
        "# Enter your code here\n",
        "summary =\n",
        "\n",
        "# Visualize\n",
        "display_pandas(summary)"
      ],
      "execution_count": null,
      "outputs": []
    },
    {
      "cell_type": "code",
      "metadata": {
        "id": "45j5aomzTGWU",
        "cellView": "form",
        "colab": {
          "base_uri": "https://localhost:8080/",
          "height": 327
        },
        "outputId": "ed9c4071-bc8b-4f8d-fe2c-58b113c25f99"
      },
      "source": [
        "#@title ###Solution (double-click to open)\n",
        "\n",
        "import numpy as np\n",
        "import pandas as pd\n",
        "\n",
        "# Input\n",
        "data = {'animal'  : ['cat', 'cat', 'snake',  'dog', 'dog', 'cat', 'snake',  'cat', 'dog', 'dog'],\n",
        "        'age'     : [  2.5,     3,     0.5, np.nan,     5,     2,     4.5, np.nan,     7,     3],\n",
        "        'visits'  : [    1,     3,       2,      3,     2,     3,       1,      1,     2,     1],\n",
        "        'priority': ['yes', 'yes',    'no',  'yes',  'no',  'no',    'no',  'yes',  'no',  'no']}\n",
        "labels =            [  'a',   'b',     'c',    'd',   'e',   'f',     'g',    'h',   'i',   'j']\n",
        "df = pd.DataFrame(data, index=labels)\n",
        "\n",
        "# Solution\n",
        "summary = df.describe()\n",
        "\n",
        "# Visualize\n",
        "display_pandas(summary)"
      ],
      "execution_count": null,
      "outputs": [
        {
          "output_type": "display_data",
          "data": {
            "text/html": [
              "\n",
              "  <script src=\"https://ajax.googleapis.com/ajax/libs/jquery/3.5.1/jquery.min.js\"></script>\n",
              "  <link rel=\"stylesheet\" type=\"text/css\" href=\"https://cdn.datatables.net/1.10.21/css/jquery.dataTables.css\">\n",
              "  <script type=\"text/javascript\" charset=\"utf8\" src=\"https://cdn.datatables.net/1.10.21/js/jquery.dataTables.js\"></script>\n",
              "  <table border=\"1\" class=\"dataframe pandas_table_short_unordered cell-border\">\n",
              "  <thead>\n",
              "    <tr style=\"text-align: right;\">\n",
              "      <th></th>\n",
              "      <th>age</th>\n",
              "      <th>visits</th>\n",
              "    </tr>\n",
              "  </thead>\n",
              "  <tbody>\n",
              "    <tr>\n",
              "      <th>count</th>\n",
              "      <td>8.000000</td>\n",
              "      <td>10.000000</td>\n",
              "    </tr>\n",
              "    <tr>\n",
              "      <th>mean</th>\n",
              "      <td>3.437500</td>\n",
              "      <td>1.900000</td>\n",
              "    </tr>\n",
              "    <tr>\n",
              "      <th>std</th>\n",
              "      <td>2.007797</td>\n",
              "      <td>0.875595</td>\n",
              "    </tr>\n",
              "    <tr>\n",
              "      <th>min</th>\n",
              "      <td>0.500000</td>\n",
              "      <td>1.000000</td>\n",
              "    </tr>\n",
              "    <tr>\n",
              "      <th>25%</th>\n",
              "      <td>2.375000</td>\n",
              "      <td>1.000000</td>\n",
              "    </tr>\n",
              "    <tr>\n",
              "      <th>50%</th>\n",
              "      <td>3.000000</td>\n",
              "      <td>2.000000</td>\n",
              "    </tr>\n",
              "    <tr>\n",
              "      <th>75%</th>\n",
              "      <td>4.625000</td>\n",
              "      <td>2.750000</td>\n",
              "    </tr>\n",
              "    <tr>\n",
              "      <th>max</th>\n",
              "      <td>7.000000</td>\n",
              "      <td>3.000000</td>\n",
              "    </tr>\n",
              "  </tbody>\n",
              "</table>\n",
              "  <script>\n",
              "  $(document).ready( function () {\n",
              "      $('.pandas_table_long_ordered').DataTable({\"autoWidth\": false});\n",
              "      $('.pandas_table_long_ordered').removeClass(\"pandas_table_long_ordered\");\n",
              "      $('.pandas_table_short_ordered').DataTable({\"autoWidth\": false, \"paging\":false, \"searching\":false, \"info\":false});\n",
              "      $('.pandas_table_short_ordered').removeClass(\"pandas_table_short_ordered\");\n",
              "\n",
              "      $('.pandas_table_long_unordered').DataTable({\"autoWidth\": false, \"ordering\":false, \"paging\":true});\n",
              "      $('.pandas_table_long_unordered').removeClass(\"pandas_table_long_unordered\");\n",
              "      $('.pandas_table_short_unordered').DataTable({\"autoWidth\": false, \"paging\":false, \"searching\":false, \"info\":false, \"ordering\":false});\n",
              "      $('.pandas_table_short_unordered').removeClass(\"pandas_table_short_unordered\");\n",
              "  } );\n",
              "  </script>\n",
              "  "
            ],
            "text/plain": [
              "<IPython.core.display.HTML object>"
            ]
          },
          "metadata": {
            "tags": []
          }
        }
      ]
    },
    {
      "cell_type": "markdown",
      "metadata": {
        "id": "ThZvUPRp0FqC"
      },
      "source": [
        "##Problem 4."
      ]
    },
    {
      "cell_type": "markdown",
      "metadata": {
        "id": "7yQ-TuTBquxw"
      },
      "source": [
        "**Problem:**\n",
        "Return the first 3 rows of the DataFrame given.\n",
        "\n"
      ]
    },
    {
      "cell_type": "code",
      "metadata": {
        "id": "kn-iXYNj0FqC"
      },
      "source": [
        "import numpy as np\n",
        "import pandas as pd\n",
        "\n",
        "# Input\n",
        "data = {'animal'  : ['cat', 'cat', 'snake',  'dog', 'dog', 'cat', 'snake',  'cat', 'dog', 'dog'],\n",
        "        'age'     : [  2.5,     3,     0.5, np.nan,     5,     2,     4.5, np.nan,     7,     3],\n",
        "        'visits'  : [    1,     3,       2,      3,     2,     3,       1,      1,     2,     1],\n",
        "        'priority': ['yes', 'yes',    'no',  'yes',  'no',  'no',    'no',  'yes',  'no',  'no']}\n",
        "labels =            [  'a',   'b',     'c',    'd',   'e',   'f',     'g',    'h',   'i',   'j']\n",
        "df = pd.DataFrame(data, index=labels)\n",
        "\n",
        "# Enter your code here\n",
        "selection =\n",
        "\n",
        "# Visualize\n",
        "display_pandas(selection)"
      ],
      "execution_count": null,
      "outputs": []
    },
    {
      "cell_type": "code",
      "metadata": {
        "id": "eQ4tq0iI0FqF",
        "cellView": "form",
        "colab": {
          "base_uri": "https://localhost:8080/",
          "height": 157
        },
        "outputId": "7f8ba993-8ae1-443a-cc22-c4b8fedead02"
      },
      "source": [
        "#@title ###Solution A (double-click to open)\n",
        "\n",
        "import numpy as np\n",
        "import pandas as pd\n",
        "\n",
        "# Input\n",
        "data = {'animal'  : ['cat', 'cat', 'snake',  'dog', 'dog', 'cat', 'snake',  'cat', 'dog', 'dog'],\n",
        "        'age'     : [  2.5,     3,     0.5, np.nan,     5,     2,     4.5, np.nan,     7,     3],\n",
        "        'visits'  : [    1,     3,       2,      3,     2,     3,       1,      1,     2,     1],\n",
        "        'priority': ['yes', 'yes',    'no',  'yes',  'no',  'no',    'no',  'yes',  'no',  'no']}\n",
        "labels =            [  'a',   'b',     'c',    'd',   'e',   'f',     'g',    'h',   'i',   'j']\n",
        "df = pd.DataFrame(data, index=labels)\n",
        "\n",
        "# Solution\n",
        "selection = df.iloc[:3]\n",
        "\n",
        "# Visualize\n",
        "display_pandas(selection)"
      ],
      "execution_count": null,
      "outputs": [
        {
          "output_type": "display_data",
          "data": {
            "text/html": [
              "\n",
              "  <script src=\"https://ajax.googleapis.com/ajax/libs/jquery/3.5.1/jquery.min.js\"></script>\n",
              "  <link rel=\"stylesheet\" type=\"text/css\" href=\"https://cdn.datatables.net/1.10.21/css/jquery.dataTables.css\">\n",
              "  <script type=\"text/javascript\" charset=\"utf8\" src=\"https://cdn.datatables.net/1.10.21/js/jquery.dataTables.js\"></script>\n",
              "  <table border=\"1\" class=\"dataframe pandas_table_short_unordered cell-border\">\n",
              "  <thead>\n",
              "    <tr style=\"text-align: right;\">\n",
              "      <th></th>\n",
              "      <th>animal</th>\n",
              "      <th>age</th>\n",
              "      <th>visits</th>\n",
              "      <th>priority</th>\n",
              "    </tr>\n",
              "  </thead>\n",
              "  <tbody>\n",
              "    <tr>\n",
              "      <th>a</th>\n",
              "      <td>cat</td>\n",
              "      <td>2.5</td>\n",
              "      <td>1</td>\n",
              "      <td>yes</td>\n",
              "    </tr>\n",
              "    <tr>\n",
              "      <th>b</th>\n",
              "      <td>cat</td>\n",
              "      <td>3.0</td>\n",
              "      <td>3</td>\n",
              "      <td>yes</td>\n",
              "    </tr>\n",
              "    <tr>\n",
              "      <th>c</th>\n",
              "      <td>snake</td>\n",
              "      <td>0.5</td>\n",
              "      <td>2</td>\n",
              "      <td>no</td>\n",
              "    </tr>\n",
              "  </tbody>\n",
              "</table>\n",
              "  <script>\n",
              "  $(document).ready( function () {\n",
              "      $('.pandas_table_long_ordered').DataTable({\"autoWidth\": false});\n",
              "      $('.pandas_table_long_ordered').removeClass(\"pandas_table_long_ordered\");\n",
              "      $('.pandas_table_short_ordered').DataTable({\"autoWidth\": false, \"paging\":false, \"searching\":false, \"info\":false});\n",
              "      $('.pandas_table_short_ordered').removeClass(\"pandas_table_short_ordered\");\n",
              "\n",
              "      $('.pandas_table_long_unordered').DataTable({\"autoWidth\": false, \"ordering\":false, \"paging\":true});\n",
              "      $('.pandas_table_long_unordered').removeClass(\"pandas_table_long_unordered\");\n",
              "      $('.pandas_table_short_unordered').DataTable({\"autoWidth\": false, \"paging\":false, \"searching\":false, \"info\":false, \"ordering\":false});\n",
              "      $('.pandas_table_short_unordered').removeClass(\"pandas_table_short_unordered\");\n",
              "  } );\n",
              "  </script>\n",
              "  "
            ],
            "text/plain": [
              "<IPython.core.display.HTML object>"
            ]
          },
          "metadata": {
            "tags": []
          }
        }
      ]
    },
    {
      "cell_type": "code",
      "metadata": {
        "id": "JUBF9VMIqOE9",
        "cellView": "form",
        "colab": {
          "base_uri": "https://localhost:8080/",
          "height": 157
        },
        "outputId": "479bd490-e992-4411-8423-8709e0dbee82"
      },
      "source": [
        "#@title ###Solution B (double-click to open)\n",
        "\n",
        "import numpy as np\n",
        "import pandas as pd\n",
        "\n",
        "# Input\n",
        "data = {'animal'  : ['cat', 'cat', 'snake',  'dog', 'dog', 'cat', 'snake',  'cat', 'dog', 'dog'],\n",
        "        'age'     : [  2.5,     3,     0.5, np.nan,     5,     2,     4.5, np.nan,     7,     3],\n",
        "        'visits'  : [    1,     3,       2,      3,     2,     3,       1,      1,     2,     1],\n",
        "        'priority': ['yes', 'yes',    'no',  'yes',  'no',  'no',    'no',  'yes',  'no',  'no']}\n",
        "labels =            [  'a',   'b',     'c',    'd',   'e',   'f',     'g',    'h',   'i',   'j']\n",
        "df = pd.DataFrame(data, index=labels)\n",
        "\n",
        "# Solution\n",
        "selection = df.head(3)\n",
        "\n",
        "# Visualize\n",
        "display_pandas(selection)"
      ],
      "execution_count": null,
      "outputs": [
        {
          "output_type": "display_data",
          "data": {
            "text/html": [
              "\n",
              "  <script src=\"https://ajax.googleapis.com/ajax/libs/jquery/3.5.1/jquery.min.js\"></script>\n",
              "  <link rel=\"stylesheet\" type=\"text/css\" href=\"https://cdn.datatables.net/1.10.21/css/jquery.dataTables.css\">\n",
              "  <script type=\"text/javascript\" charset=\"utf8\" src=\"https://cdn.datatables.net/1.10.21/js/jquery.dataTables.js\"></script>\n",
              "  <table border=\"1\" class=\"dataframe pandas_table_short_unordered cell-border\">\n",
              "  <thead>\n",
              "    <tr style=\"text-align: right;\">\n",
              "      <th></th>\n",
              "      <th>animal</th>\n",
              "      <th>age</th>\n",
              "      <th>visits</th>\n",
              "      <th>priority</th>\n",
              "    </tr>\n",
              "  </thead>\n",
              "  <tbody>\n",
              "    <tr>\n",
              "      <th>a</th>\n",
              "      <td>cat</td>\n",
              "      <td>2.5</td>\n",
              "      <td>1</td>\n",
              "      <td>yes</td>\n",
              "    </tr>\n",
              "    <tr>\n",
              "      <th>b</th>\n",
              "      <td>cat</td>\n",
              "      <td>3.0</td>\n",
              "      <td>3</td>\n",
              "      <td>yes</td>\n",
              "    </tr>\n",
              "    <tr>\n",
              "      <th>c</th>\n",
              "      <td>snake</td>\n",
              "      <td>0.5</td>\n",
              "      <td>2</td>\n",
              "      <td>no</td>\n",
              "    </tr>\n",
              "  </tbody>\n",
              "</table>\n",
              "  <script>\n",
              "  $(document).ready( function () {\n",
              "      $('.pandas_table_long_ordered').DataTable({\"autoWidth\": false});\n",
              "      $('.pandas_table_long_ordered').removeClass(\"pandas_table_long_ordered\");\n",
              "      $('.pandas_table_short_ordered').DataTable({\"autoWidth\": false, \"paging\":false, \"searching\":false, \"info\":false});\n",
              "      $('.pandas_table_short_ordered').removeClass(\"pandas_table_short_ordered\");\n",
              "\n",
              "      $('.pandas_table_long_unordered').DataTable({\"autoWidth\": false, \"ordering\":false, \"paging\":true});\n",
              "      $('.pandas_table_long_unordered').removeClass(\"pandas_table_long_unordered\");\n",
              "      $('.pandas_table_short_unordered').DataTable({\"autoWidth\": false, \"paging\":false, \"searching\":false, \"info\":false, \"ordering\":false});\n",
              "      $('.pandas_table_short_unordered').removeClass(\"pandas_table_short_unordered\");\n",
              "  } );\n",
              "  </script>\n",
              "  "
            ],
            "text/plain": [
              "<IPython.core.display.HTML object>"
            ]
          },
          "metadata": {
            "tags": []
          }
        }
      ]
    },
    {
      "cell_type": "markdown",
      "metadata": {
        "id": "Qvb_CZML0FqI"
      },
      "source": [
        "##Problem 5.\n",
        "\n"
      ]
    },
    {
      "cell_type": "markdown",
      "metadata": {
        "id": "JC0uu7wwl8a9"
      },
      "source": [
        " **Problem:**\n",
        " Select just the \"animal\" and \"age\" columns from the DataFrame given."
      ]
    },
    {
      "cell_type": "code",
      "metadata": {
        "id": "D8BXPDKT0FqJ"
      },
      "source": [
        "import numpy as np\n",
        "import pandas as pd\n",
        "\n",
        "# Input\n",
        "data = {'animal'  : ['cat', 'cat', 'snake',  'dog', 'dog', 'cat', 'snake',  'cat', 'dog', 'dog'],\n",
        "        'age'     : [  2.5,     3,     0.5, np.nan,     5,     2,     4.5, np.nan,     7,     3],\n",
        "        'visits'  : [    1,     3,       2,      3,     2,     3,       1,      1,     2,     1],\n",
        "        'priority': ['yes', 'yes',    'no',  'yes',  'no',  'no',    'no',  'yes',  'no',  'no']}\n",
        "labels =            [  'a',   'b',     'c',    'd',   'e',   'f',     'g',    'h',   'i',   'j']\n",
        "df = pd.DataFrame(data, index=labels)\n",
        "\n",
        "# Enter your code here\n",
        "selection =\n",
        "\n",
        "# Visualize\n",
        "display_pandas(selection)"
      ],
      "execution_count": null,
      "outputs": []
    },
    {
      "cell_type": "code",
      "metadata": {
        "id": "B1DPQPPn0FqL",
        "cellView": "form",
        "colab": {
          "base_uri": "https://localhost:8080/",
          "height": 395
        },
        "outputId": "e7810c23-8bfe-4d0d-e43f-0b0cd0d55d16"
      },
      "source": [
        "#@title ###Solution A (double-click to open)\n",
        "\n",
        "import numpy as np\n",
        "import pandas as pd\n",
        "\n",
        "# Input\n",
        "data = {'animal'  : ['cat', 'cat', 'snake',  'dog', 'dog', 'cat', 'snake',  'cat', 'dog', 'dog'],\n",
        "        'age'     : [  2.5,     3,     0.5, np.nan,     5,     2,     4.5, np.nan,     7,     3],\n",
        "        'visits'  : [    1,     3,       2,      3,     2,     3,       1,      1,     2,     1],\n",
        "        'priority': ['yes', 'yes',    'no',  'yes',  'no',  'no',    'no',  'yes',  'no',  'no']}\n",
        "labels =            [  'a',   'b',     'c',    'd',   'e',   'f',     'g',    'h',   'i',   'j']\n",
        "df = pd.DataFrame(data, index=labels)\n",
        "\n",
        "# Solution\n",
        "selection = df.loc[:, ['animal', 'age']]\n",
        "\n",
        "# Visualize\n",
        "display_pandas(selection)"
      ],
      "execution_count": null,
      "outputs": [
        {
          "output_type": "display_data",
          "data": {
            "text/html": [
              "\n",
              "  <script src=\"https://ajax.googleapis.com/ajax/libs/jquery/3.5.1/jquery.min.js\"></script>\n",
              "  <link rel=\"stylesheet\" type=\"text/css\" href=\"https://cdn.datatables.net/1.10.21/css/jquery.dataTables.css\">\n",
              "  <script type=\"text/javascript\" charset=\"utf8\" src=\"https://cdn.datatables.net/1.10.21/js/jquery.dataTables.js\"></script>\n",
              "  <table border=\"1\" class=\"dataframe pandas_table_short_unordered cell-border\">\n",
              "  <thead>\n",
              "    <tr style=\"text-align: right;\">\n",
              "      <th></th>\n",
              "      <th>animal</th>\n",
              "      <th>age</th>\n",
              "    </tr>\n",
              "  </thead>\n",
              "  <tbody>\n",
              "    <tr>\n",
              "      <th>a</th>\n",
              "      <td>cat</td>\n",
              "      <td>2.5</td>\n",
              "    </tr>\n",
              "    <tr>\n",
              "      <th>b</th>\n",
              "      <td>cat</td>\n",
              "      <td>3.0</td>\n",
              "    </tr>\n",
              "    <tr>\n",
              "      <th>c</th>\n",
              "      <td>snake</td>\n",
              "      <td>0.5</td>\n",
              "    </tr>\n",
              "    <tr>\n",
              "      <th>d</th>\n",
              "      <td>dog</td>\n",
              "      <td>NaN</td>\n",
              "    </tr>\n",
              "    <tr>\n",
              "      <th>e</th>\n",
              "      <td>dog</td>\n",
              "      <td>5.0</td>\n",
              "    </tr>\n",
              "    <tr>\n",
              "      <th>f</th>\n",
              "      <td>cat</td>\n",
              "      <td>2.0</td>\n",
              "    </tr>\n",
              "    <tr>\n",
              "      <th>g</th>\n",
              "      <td>snake</td>\n",
              "      <td>4.5</td>\n",
              "    </tr>\n",
              "    <tr>\n",
              "      <th>h</th>\n",
              "      <td>cat</td>\n",
              "      <td>NaN</td>\n",
              "    </tr>\n",
              "    <tr>\n",
              "      <th>i</th>\n",
              "      <td>dog</td>\n",
              "      <td>7.0</td>\n",
              "    </tr>\n",
              "    <tr>\n",
              "      <th>j</th>\n",
              "      <td>dog</td>\n",
              "      <td>3.0</td>\n",
              "    </tr>\n",
              "  </tbody>\n",
              "</table>\n",
              "  <script>\n",
              "  $(document).ready( function () {\n",
              "      $('.pandas_table_long_ordered').DataTable({\"autoWidth\": false});\n",
              "      $('.pandas_table_long_ordered').removeClass(\"pandas_table_long_ordered\");\n",
              "      $('.pandas_table_short_ordered').DataTable({\"autoWidth\": false, \"paging\":false, \"searching\":false, \"info\":false});\n",
              "      $('.pandas_table_short_ordered').removeClass(\"pandas_table_short_ordered\");\n",
              "\n",
              "      $('.pandas_table_long_unordered').DataTable({\"autoWidth\": false, \"ordering\":false, \"paging\":true});\n",
              "      $('.pandas_table_long_unordered').removeClass(\"pandas_table_long_unordered\");\n",
              "      $('.pandas_table_short_unordered').DataTable({\"autoWidth\": false, \"paging\":false, \"searching\":false, \"info\":false, \"ordering\":false});\n",
              "      $('.pandas_table_short_unordered').removeClass(\"pandas_table_short_unordered\");\n",
              "  } );\n",
              "  </script>\n",
              "  "
            ],
            "text/plain": [
              "<IPython.core.display.HTML object>"
            ]
          },
          "metadata": {
            "tags": []
          }
        }
      ]
    },
    {
      "cell_type": "code",
      "metadata": {
        "id": "JAmGlHhrlUqR",
        "cellView": "form",
        "colab": {
          "base_uri": "https://localhost:8080/",
          "height": 395
        },
        "outputId": "e620862b-2f44-40dd-8eae-92e5caab1044"
      },
      "source": [
        "#@title ###Solution B (double-click to open)\n",
        "\n",
        "import numpy as np\n",
        "import pandas as pd\n",
        "\n",
        "# Input\n",
        "data = {'animal'  : ['cat', 'cat', 'snake',  'dog', 'dog', 'cat', 'snake',  'cat', 'dog', 'dog'],\n",
        "        'age'     : [  2.5,     3,     0.5, np.nan,     5,     2,     4.5, np.nan,     7,     3],\n",
        "        'visits'  : [    1,     3,       2,      3,     2,     3,       1,      1,     2,     1],\n",
        "        'priority': ['yes', 'yes',    'no',  'yes',  'no',  'no',    'no',  'yes',  'no',  'no']}\n",
        "labels =            [  'a',   'b',     'c',    'd',   'e',   'f',     'g',    'h',   'i',   'j']\n",
        "df = pd.DataFrame(data, index=labels)\n",
        "\n",
        "# Solution\n",
        "selection = df[['animal', 'age']]\n",
        "\n",
        "# Visualize\n",
        "display_pandas(selection)"
      ],
      "execution_count": null,
      "outputs": [
        {
          "output_type": "display_data",
          "data": {
            "text/html": [
              "\n",
              "  <script src=\"https://ajax.googleapis.com/ajax/libs/jquery/3.5.1/jquery.min.js\"></script>\n",
              "  <link rel=\"stylesheet\" type=\"text/css\" href=\"https://cdn.datatables.net/1.10.21/css/jquery.dataTables.css\">\n",
              "  <script type=\"text/javascript\" charset=\"utf8\" src=\"https://cdn.datatables.net/1.10.21/js/jquery.dataTables.js\"></script>\n",
              "  <table border=\"1\" class=\"dataframe pandas_table_short_unordered cell-border\">\n",
              "  <thead>\n",
              "    <tr style=\"text-align: right;\">\n",
              "      <th></th>\n",
              "      <th>animal</th>\n",
              "      <th>age</th>\n",
              "    </tr>\n",
              "  </thead>\n",
              "  <tbody>\n",
              "    <tr>\n",
              "      <th>a</th>\n",
              "      <td>cat</td>\n",
              "      <td>2.5</td>\n",
              "    </tr>\n",
              "    <tr>\n",
              "      <th>b</th>\n",
              "      <td>cat</td>\n",
              "      <td>3.0</td>\n",
              "    </tr>\n",
              "    <tr>\n",
              "      <th>c</th>\n",
              "      <td>snake</td>\n",
              "      <td>0.5</td>\n",
              "    </tr>\n",
              "    <tr>\n",
              "      <th>d</th>\n",
              "      <td>dog</td>\n",
              "      <td>NaN</td>\n",
              "    </tr>\n",
              "    <tr>\n",
              "      <th>e</th>\n",
              "      <td>dog</td>\n",
              "      <td>5.0</td>\n",
              "    </tr>\n",
              "    <tr>\n",
              "      <th>f</th>\n",
              "      <td>cat</td>\n",
              "      <td>2.0</td>\n",
              "    </tr>\n",
              "    <tr>\n",
              "      <th>g</th>\n",
              "      <td>snake</td>\n",
              "      <td>4.5</td>\n",
              "    </tr>\n",
              "    <tr>\n",
              "      <th>h</th>\n",
              "      <td>cat</td>\n",
              "      <td>NaN</td>\n",
              "    </tr>\n",
              "    <tr>\n",
              "      <th>i</th>\n",
              "      <td>dog</td>\n",
              "      <td>7.0</td>\n",
              "    </tr>\n",
              "    <tr>\n",
              "      <th>j</th>\n",
              "      <td>dog</td>\n",
              "      <td>3.0</td>\n",
              "    </tr>\n",
              "  </tbody>\n",
              "</table>\n",
              "  <script>\n",
              "  $(document).ready( function () {\n",
              "      $('.pandas_table_long_ordered').DataTable({\"autoWidth\": false});\n",
              "      $('.pandas_table_long_ordered').removeClass(\"pandas_table_long_ordered\");\n",
              "      $('.pandas_table_short_ordered').DataTable({\"autoWidth\": false, \"paging\":false, \"searching\":false, \"info\":false});\n",
              "      $('.pandas_table_short_ordered').removeClass(\"pandas_table_short_ordered\");\n",
              "\n",
              "      $('.pandas_table_long_unordered').DataTable({\"autoWidth\": false, \"ordering\":false, \"paging\":true});\n",
              "      $('.pandas_table_long_unordered').removeClass(\"pandas_table_long_unordered\");\n",
              "      $('.pandas_table_short_unordered').DataTable({\"autoWidth\": false, \"paging\":false, \"searching\":false, \"info\":false, \"ordering\":false});\n",
              "      $('.pandas_table_short_unordered').removeClass(\"pandas_table_short_unordered\");\n",
              "  } );\n",
              "  </script>\n",
              "  "
            ],
            "text/plain": [
              "<IPython.core.display.HTML object>"
            ]
          },
          "metadata": {
            "tags": []
          }
        }
      ]
    },
    {
      "cell_type": "markdown",
      "metadata": {
        "id": "RCR8g1eG0FqM"
      },
      "source": [
        "##Problem 6.\n",
        "\n"
      ]
    },
    {
      "cell_type": "markdown",
      "metadata": {
        "id": "EpqjeOZrn6tf"
      },
      "source": [
        " **Problem:**\n",
        " Select the data in rows `[3, 4, 8]` *and* in columns `['animal', 'age']`."
      ]
    },
    {
      "cell_type": "code",
      "metadata": {
        "id": "Jyczbyva0FqM"
      },
      "source": [
        "import numpy as np\n",
        "import pandas as pd\n",
        "\n",
        "# Input\n",
        "data = {'animal'  : ['cat', 'cat', 'snake',  'dog', 'dog', 'cat', 'snake',  'cat', 'dog', 'dog'],\n",
        "        'age'     : [  2.5,     3,     0.5, np.nan,     5,     2,     4.5, np.nan,     7,     3],\n",
        "        'visits'  : [    1,     3,       2,      3,     2,     3,       1,      1,     2,     1],\n",
        "        'priority': ['yes', 'yes',    'no',  'yes',  'no',  'no',    'no',  'yes',  'no',  'no']}\n",
        "labels =            [  'a',   'b',     'c',    'd',   'e',   'f',     'g',    'h',   'i',   'j']\n",
        "df = pd.DataFrame(data, index=labels)\n",
        "\n",
        "# Enter your code here\n",
        "selection =\n",
        "\n",
        "# Visualize\n",
        "display_pandas(selection)"
      ],
      "execution_count": null,
      "outputs": []
    },
    {
      "cell_type": "code",
      "metadata": {
        "id": "tYNZ26j90FqO",
        "cellView": "form",
        "colab": {
          "base_uri": "https://localhost:8080/",
          "height": 157
        },
        "outputId": "5ae22c9a-11cd-4111-e2bf-eda7ab72be03"
      },
      "source": [
        "#@title ###Solution (double-click to open)\n",
        "\n",
        "import numpy as np\n",
        "import pandas as pd\n",
        "\n",
        "# Input\n",
        "data = {'animal'  : ['cat', 'cat', 'snake',  'dog', 'dog', 'cat', 'snake',  'cat', 'dog', 'dog'],\n",
        "        'age'     : [  2.5,     3,     0.5, np.nan,     5,     2,     4.5, np.nan,     7,     3],\n",
        "        'visits'  : [    1,     3,       2,      3,     2,     3,       1,      1,     2,     1],\n",
        "        'priority': ['yes', 'yes',    'no',  'yes',  'no',  'no',    'no',  'yes',  'no',  'no']}\n",
        "labels =            [  'a',   'b',     'c',    'd',   'e',   'f',     'g',    'h',   'i',   'j']\n",
        "df = pd.DataFrame(data, index=labels)\n",
        "\n",
        "# Solution\n",
        "selection = df.loc[df.index[[3, 4, 8]], ['animal', 'age']]\n",
        "\n",
        "# Visualize\n",
        "display_pandas(selection)"
      ],
      "execution_count": null,
      "outputs": [
        {
          "output_type": "display_data",
          "data": {
            "text/html": [
              "\n",
              "  <script src=\"https://ajax.googleapis.com/ajax/libs/jquery/3.5.1/jquery.min.js\"></script>\n",
              "  <link rel=\"stylesheet\" type=\"text/css\" href=\"https://cdn.datatables.net/1.10.21/css/jquery.dataTables.css\">\n",
              "  <script type=\"text/javascript\" charset=\"utf8\" src=\"https://cdn.datatables.net/1.10.21/js/jquery.dataTables.js\"></script>\n",
              "  <table border=\"1\" class=\"dataframe pandas_table_short_unordered cell-border\">\n",
              "  <thead>\n",
              "    <tr style=\"text-align: right;\">\n",
              "      <th></th>\n",
              "      <th>animal</th>\n",
              "      <th>age</th>\n",
              "    </tr>\n",
              "  </thead>\n",
              "  <tbody>\n",
              "    <tr>\n",
              "      <th>d</th>\n",
              "      <td>dog</td>\n",
              "      <td>NaN</td>\n",
              "    </tr>\n",
              "    <tr>\n",
              "      <th>e</th>\n",
              "      <td>dog</td>\n",
              "      <td>5.0</td>\n",
              "    </tr>\n",
              "    <tr>\n",
              "      <th>i</th>\n",
              "      <td>dog</td>\n",
              "      <td>7.0</td>\n",
              "    </tr>\n",
              "  </tbody>\n",
              "</table>\n",
              "  <script>\n",
              "  $(document).ready( function () {\n",
              "      $('.pandas_table_long_ordered').DataTable({\"autoWidth\": false});\n",
              "      $('.pandas_table_long_ordered').removeClass(\"pandas_table_long_ordered\");\n",
              "      $('.pandas_table_short_ordered').DataTable({\"autoWidth\": false, \"paging\":false, \"searching\":false, \"info\":false});\n",
              "      $('.pandas_table_short_ordered').removeClass(\"pandas_table_short_ordered\");\n",
              "\n",
              "      $('.pandas_table_long_unordered').DataTable({\"autoWidth\": false, \"ordering\":false, \"paging\":true});\n",
              "      $('.pandas_table_long_unordered').removeClass(\"pandas_table_long_unordered\");\n",
              "      $('.pandas_table_short_unordered').DataTable({\"autoWidth\": false, \"paging\":false, \"searching\":false, \"info\":false, \"ordering\":false});\n",
              "      $('.pandas_table_short_unordered').removeClass(\"pandas_table_short_unordered\");\n",
              "  } );\n",
              "  </script>\n",
              "  "
            ],
            "text/plain": [
              "<IPython.core.display.HTML object>"
            ]
          },
          "metadata": {
            "tags": []
          }
        }
      ]
    },
    {
      "cell_type": "markdown",
      "metadata": {
        "id": "PtN-xRXV0FqP"
      },
      "source": [
        "##Problem 7."
      ]
    },
    {
      "cell_type": "markdown",
      "metadata": {
        "id": "WZzYHyA9s1of"
      },
      "source": [
        "**Problem:**\n",
        "Select only the rows where the number of visits is greater than 2.\n",
        "\n"
      ]
    },
    {
      "cell_type": "code",
      "metadata": {
        "id": "DqAikZ5o0FqP"
      },
      "source": [
        "import numpy as np\n",
        "import pandas as pd\n",
        "\n",
        "# Input\n",
        "data = {'animal'  : ['cat', 'cat', 'snake',  'dog', 'dog', 'cat', 'snake',  'cat', 'dog', 'dog'],\n",
        "        'age'     : [  2.5,     3,     0.5, np.nan,     5,     2,     4.5, np.nan,     7,     3],\n",
        "        'visits'  : [    1,     3,       2,      3,     2,     3,       1,      1,     2,     1],\n",
        "        'priority': ['yes', 'yes',    'no',  'yes',  'no',  'no',    'no',  'yes',  'no',  'no']}\n",
        "labels =            [  'a',   'b',     'c',    'd',   'e',   'f',     'g',    'h',   'i',   'j']\n",
        "df = pd.DataFrame(data, index=labels)\n",
        "\n",
        "# Enter your code here\n",
        "selection =\n",
        "\n",
        "# Visualize\n",
        "display_pandas(selection)"
      ],
      "execution_count": null,
      "outputs": []
    },
    {
      "cell_type": "code",
      "metadata": {
        "id": "4Vps03yL0FqR",
        "cellView": "form",
        "colab": {
          "base_uri": "https://localhost:8080/",
          "height": 157
        },
        "outputId": "7c66822d-9ae8-45a1-850d-af11407877ba"
      },
      "source": [
        "#@title ###Solution (double-click to open)\n",
        "\n",
        "import numpy as np\n",
        "import pandas as pd\n",
        "\n",
        "# Input\n",
        "data = {'animal'  : ['cat', 'cat', 'snake',  'dog', 'dog', 'cat', 'snake',  'cat', 'dog', 'dog'],\n",
        "        'age'     : [  2.5,     3,     0.5, np.nan,     5,     2,     4.5, np.nan,     7,     3],\n",
        "        'visits'  : [    1,     3,       2,      3,     2,     3,       1,      1,     2,     1],\n",
        "        'priority': ['yes', 'yes',    'no',  'yes',  'no',  'no',    'no',  'yes',  'no',  'no']}\n",
        "labels =            [  'a',   'b',     'c',    'd',   'e',   'f',     'g',    'h',   'i',   'j']\n",
        "df = pd.DataFrame(data, index=labels)\n",
        "\n",
        "#Solution\n",
        "selection = df[df['visits'] > 2]\n",
        "\n",
        "# Visualize\n",
        "display_pandas(selection)"
      ],
      "execution_count": null,
      "outputs": [
        {
          "output_type": "display_data",
          "data": {
            "text/html": [
              "\n",
              "  <script src=\"https://ajax.googleapis.com/ajax/libs/jquery/3.5.1/jquery.min.js\"></script>\n",
              "  <link rel=\"stylesheet\" type=\"text/css\" href=\"https://cdn.datatables.net/1.10.21/css/jquery.dataTables.css\">\n",
              "  <script type=\"text/javascript\" charset=\"utf8\" src=\"https://cdn.datatables.net/1.10.21/js/jquery.dataTables.js\"></script>\n",
              "  <table border=\"1\" class=\"dataframe pandas_table_short_unordered cell-border\">\n",
              "  <thead>\n",
              "    <tr style=\"text-align: right;\">\n",
              "      <th></th>\n",
              "      <th>animal</th>\n",
              "      <th>age</th>\n",
              "      <th>visits</th>\n",
              "      <th>priority</th>\n",
              "    </tr>\n",
              "  </thead>\n",
              "  <tbody>\n",
              "    <tr>\n",
              "      <th>b</th>\n",
              "      <td>cat</td>\n",
              "      <td>3.0</td>\n",
              "      <td>3</td>\n",
              "      <td>yes</td>\n",
              "    </tr>\n",
              "    <tr>\n",
              "      <th>d</th>\n",
              "      <td>dog</td>\n",
              "      <td>NaN</td>\n",
              "      <td>3</td>\n",
              "      <td>yes</td>\n",
              "    </tr>\n",
              "    <tr>\n",
              "      <th>f</th>\n",
              "      <td>cat</td>\n",
              "      <td>2.0</td>\n",
              "      <td>3</td>\n",
              "      <td>no</td>\n",
              "    </tr>\n",
              "  </tbody>\n",
              "</table>\n",
              "  <script>\n",
              "  $(document).ready( function () {\n",
              "      $('.pandas_table_long_ordered').DataTable({\"autoWidth\": false});\n",
              "      $('.pandas_table_long_ordered').removeClass(\"pandas_table_long_ordered\");\n",
              "      $('.pandas_table_short_ordered').DataTable({\"autoWidth\": false, \"paging\":false, \"searching\":false, \"info\":false});\n",
              "      $('.pandas_table_short_ordered').removeClass(\"pandas_table_short_ordered\");\n",
              "\n",
              "      $('.pandas_table_long_unordered').DataTable({\"autoWidth\": false, \"ordering\":false, \"paging\":true});\n",
              "      $('.pandas_table_long_unordered').removeClass(\"pandas_table_long_unordered\");\n",
              "      $('.pandas_table_short_unordered').DataTable({\"autoWidth\": false, \"paging\":false, \"searching\":false, \"info\":false, \"ordering\":false});\n",
              "      $('.pandas_table_short_unordered').removeClass(\"pandas_table_short_unordered\");\n",
              "  } );\n",
              "  </script>\n",
              "  "
            ],
            "text/plain": [
              "<IPython.core.display.HTML object>"
            ]
          },
          "metadata": {
            "tags": []
          }
        }
      ]
    },
    {
      "cell_type": "markdown",
      "metadata": {
        "id": "4ZDLSVoF0FqS"
      },
      "source": [
        "##Problem 8."
      ]
    },
    {
      "cell_type": "markdown",
      "metadata": {
        "id": "wucoFyEKs_-x"
      },
      "source": [
        "**Problem:**\n",
        "Select the rows where the age is missing, i.e. is `NaN`."
      ]
    },
    {
      "cell_type": "code",
      "metadata": {
        "id": "CoYoIOo10FqT"
      },
      "source": [
        "import numpy as np\n",
        "import pandas as pd\n",
        "\n",
        "# Input\n",
        "data = {'animal'  : ['cat', 'cat', 'snake',  'dog', 'dog', 'cat', 'snake',  'cat', 'dog', 'dog'],\n",
        "        'age'     : [  2.5,     3,     0.5, np.nan,     5,     2,     4.5, np.nan,     7,     3],\n",
        "        'visits'  : [    1,     3,       2,      3,     2,     3,       1,      1,     2,     1],\n",
        "        'priority': ['yes', 'yes',    'no',  'yes',  'no',  'no',    'no',  'yes',  'no',  'no']}\n",
        "labels =            [  'a',   'b',     'c',    'd',   'e',   'f',     'g',    'h',   'i',   'j']\n",
        "df = pd.DataFrame(data, index=labels)\n",
        "\n",
        "# Enter your code here\n",
        "selection =\n",
        "\n",
        "# Visualize\n",
        "display_pandas(selection)"
      ],
      "execution_count": null,
      "outputs": []
    },
    {
      "cell_type": "code",
      "metadata": {
        "id": "mEwPNuet0FqU",
        "cellView": "form",
        "colab": {
          "base_uri": "https://localhost:8080/",
          "height": 123
        },
        "outputId": "6daaca3c-6202-45f4-be96-24ec5a2e7059"
      },
      "source": [
        "#@title ###Solution (double-click to open)\n",
        "\n",
        "import numpy as np\n",
        "import pandas as pd\n",
        "\n",
        "# Input\n",
        "data = {'animal'  : ['cat', 'cat', 'snake',  'dog', 'dog', 'cat', 'snake',  'cat', 'dog', 'dog'],\n",
        "        'age'     : [  2.5,     3,     0.5, np.nan,     5,     2,     4.5, np.nan,     7,     3],\n",
        "        'visits'  : [    1,     3,       2,      3,     2,     3,       1,      1,     2,     1],\n",
        "        'priority': ['yes', 'yes',    'no',  'yes',  'no',  'no',    'no',  'yes',  'no',  'no']}\n",
        "labels =            [  'a',   'b',     'c',    'd',   'e',   'f',     'g',    'h',   'i',   'j']\n",
        "df = pd.DataFrame(data, index=labels)\n",
        "\n",
        "#Solution\n",
        "selection = df[df['age'].isnull()]\n",
        "\n",
        "# Visualize\n",
        "display_pandas(selection)"
      ],
      "execution_count": null,
      "outputs": [
        {
          "output_type": "display_data",
          "data": {
            "text/html": [
              "\n",
              "  <script src=\"https://ajax.googleapis.com/ajax/libs/jquery/3.5.1/jquery.min.js\"></script>\n",
              "  <link rel=\"stylesheet\" type=\"text/css\" href=\"https://cdn.datatables.net/1.10.21/css/jquery.dataTables.css\">\n",
              "  <script type=\"text/javascript\" charset=\"utf8\" src=\"https://cdn.datatables.net/1.10.21/js/jquery.dataTables.js\"></script>\n",
              "  <table border=\"1\" class=\"dataframe pandas_table_short_unordered cell-border\">\n",
              "  <thead>\n",
              "    <tr style=\"text-align: right;\">\n",
              "      <th></th>\n",
              "      <th>animal</th>\n",
              "      <th>age</th>\n",
              "      <th>visits</th>\n",
              "      <th>priority</th>\n",
              "    </tr>\n",
              "  </thead>\n",
              "  <tbody>\n",
              "    <tr>\n",
              "      <th>d</th>\n",
              "      <td>dog</td>\n",
              "      <td>NaN</td>\n",
              "      <td>3</td>\n",
              "      <td>yes</td>\n",
              "    </tr>\n",
              "    <tr>\n",
              "      <th>h</th>\n",
              "      <td>cat</td>\n",
              "      <td>NaN</td>\n",
              "      <td>1</td>\n",
              "      <td>yes</td>\n",
              "    </tr>\n",
              "  </tbody>\n",
              "</table>\n",
              "  <script>\n",
              "  $(document).ready( function () {\n",
              "      $('.pandas_table_long_ordered').DataTable({\"autoWidth\": false});\n",
              "      $('.pandas_table_long_ordered').removeClass(\"pandas_table_long_ordered\");\n",
              "      $('.pandas_table_short_ordered').DataTable({\"autoWidth\": false, \"paging\":false, \"searching\":false, \"info\":false});\n",
              "      $('.pandas_table_short_ordered').removeClass(\"pandas_table_short_ordered\");\n",
              "\n",
              "      $('.pandas_table_long_unordered').DataTable({\"autoWidth\": false, \"ordering\":false, \"paging\":true});\n",
              "      $('.pandas_table_long_unordered').removeClass(\"pandas_table_long_unordered\");\n",
              "      $('.pandas_table_short_unordered').DataTable({\"autoWidth\": false, \"paging\":false, \"searching\":false, \"info\":false, \"ordering\":false});\n",
              "      $('.pandas_table_short_unordered').removeClass(\"pandas_table_short_unordered\");\n",
              "  } );\n",
              "  </script>\n",
              "  "
            ],
            "text/plain": [
              "<IPython.core.display.HTML object>"
            ]
          },
          "metadata": {
            "tags": []
          }
        }
      ]
    },
    {
      "cell_type": "markdown",
      "metadata": {
        "id": "XFU5Za6R0FqW"
      },
      "source": [
        "##Problem 9."
      ]
    },
    {
      "cell_type": "markdown",
      "metadata": {
        "id": "P8KRWDZKtEgV"
      },
      "source": [
        "**Problem:**\n",
        "Select the rows where the animal is a cat *and* the age is less than 3."
      ]
    },
    {
      "cell_type": "code",
      "metadata": {
        "id": "cvQbku2T0FqW"
      },
      "source": [
        "import numpy as np\n",
        "import pandas as pd\n",
        "\n",
        "# Input\n",
        "data = {'animal'  : ['cat', 'cat', 'snake',  'dog', 'dog', 'cat', 'snake',  'cat', 'dog', 'dog'],\n",
        "        'age'     : [  2.5,     3,     0.5, np.nan,     5,     2,     4.5, np.nan,     7,     3],\n",
        "        'visits'  : [    1,     3,       2,      3,     2,     3,       1,      1,     2,     1],\n",
        "        'priority': ['yes', 'yes',    'no',  'yes',  'no',  'no',    'no',  'yes',  'no',  'no']}\n",
        "labels =            [  'a',   'b',     'c',    'd',   'e',   'f',     'g',    'h',   'i',   'j']\n",
        "df = pd.DataFrame(data, index=labels)\n",
        "\n",
        "# Enter your code here\n",
        "selection =\n",
        "\n",
        "# Visualize\n",
        "display_pandas(selection)"
      ],
      "execution_count": null,
      "outputs": []
    },
    {
      "cell_type": "code",
      "metadata": {
        "id": "1yWRuu_T0FqY",
        "cellView": "form",
        "colab": {
          "base_uri": "https://localhost:8080/",
          "height": 123
        },
        "outputId": "ffd8e99d-7af2-4285-f17f-1dbae0bbba21"
      },
      "source": [
        "#@title ###Solution (double-click to open)\n",
        "\n",
        "import numpy as np\n",
        "import pandas as pd\n",
        "\n",
        "# Input\n",
        "data = {'animal'  : ['cat', 'cat', 'snake',  'dog', 'dog', 'cat', 'snake',  'cat', 'dog', 'dog'],\n",
        "        'age'     : [  2.5,     3,     0.5, np.nan,     5,     2,     4.5, np.nan,     7,     3],\n",
        "        'visits'  : [    1,     3,       2,      3,     2,     3,       1,      1,     2,     1],\n",
        "        'priority': ['yes', 'yes',    'no',  'yes',  'no',  'no',    'no',  'yes',  'no',  'no']}\n",
        "labels =            [  'a',   'b',     'c',    'd',   'e',   'f',     'g',    'h',   'i',   'j']\n",
        "df = pd.DataFrame(data, index=labels)\n",
        "\n",
        "#Solution\n",
        "selection = df[(df['animal'] == 'cat') & (df['age'] < 3)]\n",
        "\n",
        "# Visualize\n",
        "display_pandas(selection)"
      ],
      "execution_count": null,
      "outputs": [
        {
          "output_type": "display_data",
          "data": {
            "text/html": [
              "\n",
              "  <script src=\"https://ajax.googleapis.com/ajax/libs/jquery/3.5.1/jquery.min.js\"></script>\n",
              "  <link rel=\"stylesheet\" type=\"text/css\" href=\"https://cdn.datatables.net/1.10.21/css/jquery.dataTables.css\">\n",
              "  <script type=\"text/javascript\" charset=\"utf8\" src=\"https://cdn.datatables.net/1.10.21/js/jquery.dataTables.js\"></script>\n",
              "  <table border=\"1\" class=\"dataframe pandas_table_short_unordered cell-border\">\n",
              "  <thead>\n",
              "    <tr style=\"text-align: right;\">\n",
              "      <th></th>\n",
              "      <th>animal</th>\n",
              "      <th>age</th>\n",
              "      <th>visits</th>\n",
              "      <th>priority</th>\n",
              "    </tr>\n",
              "  </thead>\n",
              "  <tbody>\n",
              "    <tr>\n",
              "      <th>a</th>\n",
              "      <td>cat</td>\n",
              "      <td>2.5</td>\n",
              "      <td>1</td>\n",
              "      <td>yes</td>\n",
              "    </tr>\n",
              "    <tr>\n",
              "      <th>f</th>\n",
              "      <td>cat</td>\n",
              "      <td>2.0</td>\n",
              "      <td>3</td>\n",
              "      <td>no</td>\n",
              "    </tr>\n",
              "  </tbody>\n",
              "</table>\n",
              "  <script>\n",
              "  $(document).ready( function () {\n",
              "      $('.pandas_table_long_ordered').DataTable({\"autoWidth\": false});\n",
              "      $('.pandas_table_long_ordered').removeClass(\"pandas_table_long_ordered\");\n",
              "      $('.pandas_table_short_ordered').DataTable({\"autoWidth\": false, \"paging\":false, \"searching\":false, \"info\":false});\n",
              "      $('.pandas_table_short_ordered').removeClass(\"pandas_table_short_ordered\");\n",
              "\n",
              "      $('.pandas_table_long_unordered').DataTable({\"autoWidth\": false, \"ordering\":false, \"paging\":true});\n",
              "      $('.pandas_table_long_unordered').removeClass(\"pandas_table_long_unordered\");\n",
              "      $('.pandas_table_short_unordered').DataTable({\"autoWidth\": false, \"paging\":false, \"searching\":false, \"info\":false, \"ordering\":false});\n",
              "      $('.pandas_table_short_unordered').removeClass(\"pandas_table_short_unordered\");\n",
              "  } );\n",
              "  </script>\n",
              "  "
            ],
            "text/plain": [
              "<IPython.core.display.HTML object>"
            ]
          },
          "metadata": {
            "tags": []
          }
        }
      ]
    },
    {
      "cell_type": "markdown",
      "metadata": {
        "id": "-z6UCh070FqZ"
      },
      "source": [
        "##Problem 10."
      ]
    },
    {
      "cell_type": "markdown",
      "metadata": {
        "id": "Hif0WPSAtGK8"
      },
      "source": [
        "**Problem:**\n",
        "Select the rows the age is between 2 and 4 (inclusive).\n"
      ]
    },
    {
      "cell_type": "code",
      "metadata": {
        "id": "HIqJFo0n0Fqa"
      },
      "source": [
        "import numpy as np\n",
        "import pandas as pd\n",
        "\n",
        "# Input\n",
        "data = {'animal'  : ['cat', 'cat', 'snake',  'dog', 'dog', 'cat', 'snake',  'cat', 'dog', 'dog'],\n",
        "        'age'     : [  2.5,     3,     0.5, np.nan,     5,     2,     4.5, np.nan,     7,     3],\n",
        "        'visits'  : [    1,     3,       2,      3,     2,     3,       1,      1,     2,     1],\n",
        "        'priority': ['yes', 'yes',    'no',  'yes',  'no',  'no',    'no',  'yes',  'no',  'no']}\n",
        "labels =            [  'a',   'b',     'c',    'd',   'e',   'f',     'g',    'h',   'i',   'j']\n",
        "df = pd.DataFrame(data, index=labels)\n",
        "\n",
        "# Enter your code here\n",
        "selection =\n",
        "\n",
        "# Visualize\n",
        "display_pandas(selection)"
      ],
      "execution_count": null,
      "outputs": []
    },
    {
      "cell_type": "code",
      "metadata": {
        "id": "l0wsxGVa0Fqb",
        "cellView": "form",
        "colab": {
          "base_uri": "https://localhost:8080/",
          "height": 191
        },
        "outputId": "61ecccc0-18cf-44de-c44a-3baea57c115f"
      },
      "source": [
        "#@title ###Solution (double-click to open)\n",
        "\n",
        "import numpy as np\n",
        "import pandas as pd\n",
        "\n",
        "# Input\n",
        "data = {'animal'  : ['cat', 'cat', 'snake',  'dog', 'dog', 'cat', 'snake',  'cat', 'dog', 'dog'],\n",
        "        'age'     : [  2.5,     3,     0.5, np.nan,     5,     2,     4.5, np.nan,     7,     3],\n",
        "        'visits'  : [    1,     3,       2,      3,     2,     3,       1,      1,     2,     1],\n",
        "        'priority': ['yes', 'yes',    'no',  'yes',  'no',  'no',    'no',  'yes',  'no',  'no']}\n",
        "labels =            [  'a',   'b',     'c',    'd',   'e',   'f',     'g',    'h',   'i',   'j']\n",
        "df = pd.DataFrame(data, index=labels)\n",
        "\n",
        "#Solution\n",
        "selection = df[df['age'].between(2, 4)]\n",
        "\n",
        "# Visualize\n",
        "display_pandas(selection)"
      ],
      "execution_count": null,
      "outputs": [
        {
          "output_type": "display_data",
          "data": {
            "text/html": [
              "\n",
              "  <script src=\"https://ajax.googleapis.com/ajax/libs/jquery/3.5.1/jquery.min.js\"></script>\n",
              "  <link rel=\"stylesheet\" type=\"text/css\" href=\"https://cdn.datatables.net/1.10.21/css/jquery.dataTables.css\">\n",
              "  <script type=\"text/javascript\" charset=\"utf8\" src=\"https://cdn.datatables.net/1.10.21/js/jquery.dataTables.js\"></script>\n",
              "  <table border=\"1\" class=\"dataframe pandas_table_short_unordered cell-border\">\n",
              "  <thead>\n",
              "    <tr style=\"text-align: right;\">\n",
              "      <th></th>\n",
              "      <th>animal</th>\n",
              "      <th>age</th>\n",
              "      <th>visits</th>\n",
              "      <th>priority</th>\n",
              "    </tr>\n",
              "  </thead>\n",
              "  <tbody>\n",
              "    <tr>\n",
              "      <th>a</th>\n",
              "      <td>cat</td>\n",
              "      <td>2.5</td>\n",
              "      <td>1</td>\n",
              "      <td>yes</td>\n",
              "    </tr>\n",
              "    <tr>\n",
              "      <th>b</th>\n",
              "      <td>cat</td>\n",
              "      <td>3.0</td>\n",
              "      <td>3</td>\n",
              "      <td>yes</td>\n",
              "    </tr>\n",
              "    <tr>\n",
              "      <th>f</th>\n",
              "      <td>cat</td>\n",
              "      <td>2.0</td>\n",
              "      <td>3</td>\n",
              "      <td>no</td>\n",
              "    </tr>\n",
              "    <tr>\n",
              "      <th>j</th>\n",
              "      <td>dog</td>\n",
              "      <td>3.0</td>\n",
              "      <td>1</td>\n",
              "      <td>no</td>\n",
              "    </tr>\n",
              "  </tbody>\n",
              "</table>\n",
              "  <script>\n",
              "  $(document).ready( function () {\n",
              "      $('.pandas_table_long_ordered').DataTable({\"autoWidth\": false});\n",
              "      $('.pandas_table_long_ordered').removeClass(\"pandas_table_long_ordered\");\n",
              "      $('.pandas_table_short_ordered').DataTable({\"autoWidth\": false, \"paging\":false, \"searching\":false, \"info\":false});\n",
              "      $('.pandas_table_short_ordered').removeClass(\"pandas_table_short_ordered\");\n",
              "\n",
              "      $('.pandas_table_long_unordered').DataTable({\"autoWidth\": false, \"ordering\":false, \"paging\":true});\n",
              "      $('.pandas_table_long_unordered').removeClass(\"pandas_table_long_unordered\");\n",
              "      $('.pandas_table_short_unordered').DataTable({\"autoWidth\": false, \"paging\":false, \"searching\":false, \"info\":false, \"ordering\":false});\n",
              "      $('.pandas_table_short_unordered').removeClass(\"pandas_table_short_unordered\");\n",
              "  } );\n",
              "  </script>\n",
              "  "
            ],
            "text/plain": [
              "<IPython.core.display.HTML object>"
            ]
          },
          "metadata": {
            "tags": []
          }
        }
      ]
    },
    {
      "cell_type": "markdown",
      "metadata": {
        "id": "dAwY8OZ-0Fqc"
      },
      "source": [
        "##Problem 11."
      ]
    },
    {
      "cell_type": "markdown",
      "metadata": {
        "id": "gfPwQE5atHeA"
      },
      "source": [
        "**Problem:**\n",
        "Change the age in row 'f' to 1.5.\n"
      ]
    },
    {
      "cell_type": "code",
      "metadata": {
        "id": "-DNusW0c0Fqc"
      },
      "source": [
        "import numpy as np\n",
        "import pandas as pd\n",
        "\n",
        "# Input\n",
        "data = {'animal'  : ['cat', 'cat', 'snake',  'dog', 'dog', 'cat', 'snake',  'cat', 'dog', 'dog'],\n",
        "        'age'     : [  2.5,     3,     0.5, np.nan,     5,     2,     4.5, np.nan,     7,     3],\n",
        "        'visits'  : [    1,     3,       2,      3,     2,     3,       1,      1,     2,     1],\n",
        "        'priority': ['yes', 'yes',    'no',  'yes',  'no',  'no',    'no',  'yes',  'no',  'no']}\n",
        "labels =            [  'a',   'b',     'c',    'd',   'e',   'f',     'g',    'h',   'i',   'j']\n",
        "df = pd.DataFrame(data, index=labels)\n",
        "\n",
        "# Enter your code here\n",
        "\n",
        "\n",
        "# Visualize\n",
        "display_pandas(df)"
      ],
      "execution_count": null,
      "outputs": []
    },
    {
      "cell_type": "code",
      "metadata": {
        "id": "XzfUCiUq0Fqe",
        "cellView": "form",
        "colab": {
          "base_uri": "https://localhost:8080/",
          "height": 395
        },
        "outputId": "02a55c77-fa59-4771-f035-1ddb74194a6e"
      },
      "source": [
        "#@title ###Solution (double-click to open)\n",
        "\n",
        "import numpy as np\n",
        "import pandas as pd\n",
        "\n",
        "# Input\n",
        "data = {'animal'  : ['cat', 'cat', 'snake',  'dog', 'dog', 'cat', 'snake',  'cat', 'dog', 'dog'],\n",
        "        'age'     : [  2.5,     3,     0.5, np.nan,     5,     2,     4.5, np.nan,     7,     3],\n",
        "        'visits'  : [    1,     3,       2,      3,     2,     3,       1,      1,     2,     1],\n",
        "        'priority': ['yes', 'yes',    'no',  'yes',  'no',  'no',    'no',  'yes',  'no',  'no']}\n",
        "labels =            [  'a',   'b',     'c',    'd',   'e',   'f',     'g',    'h',   'i',   'j']\n",
        "df = pd.DataFrame(data, index=labels)\n",
        "\n",
        "#Solution\n",
        "df.loc['f', 'age'] = 1.5\n",
        "\n",
        "# Visualize\n",
        "display_pandas(df)"
      ],
      "execution_count": null,
      "outputs": [
        {
          "output_type": "display_data",
          "data": {
            "text/html": [
              "\n",
              "  <script src=\"https://ajax.googleapis.com/ajax/libs/jquery/3.5.1/jquery.min.js\"></script>\n",
              "  <link rel=\"stylesheet\" type=\"text/css\" href=\"https://cdn.datatables.net/1.10.21/css/jquery.dataTables.css\">\n",
              "  <script type=\"text/javascript\" charset=\"utf8\" src=\"https://cdn.datatables.net/1.10.21/js/jquery.dataTables.js\"></script>\n",
              "  <table border=\"1\" class=\"dataframe pandas_table_short_unordered cell-border\">\n",
              "  <thead>\n",
              "    <tr style=\"text-align: right;\">\n",
              "      <th></th>\n",
              "      <th>animal</th>\n",
              "      <th>age</th>\n",
              "      <th>visits</th>\n",
              "      <th>priority</th>\n",
              "    </tr>\n",
              "  </thead>\n",
              "  <tbody>\n",
              "    <tr>\n",
              "      <th>a</th>\n",
              "      <td>cat</td>\n",
              "      <td>2.5</td>\n",
              "      <td>1</td>\n",
              "      <td>yes</td>\n",
              "    </tr>\n",
              "    <tr>\n",
              "      <th>b</th>\n",
              "      <td>cat</td>\n",
              "      <td>3.0</td>\n",
              "      <td>3</td>\n",
              "      <td>yes</td>\n",
              "    </tr>\n",
              "    <tr>\n",
              "      <th>c</th>\n",
              "      <td>snake</td>\n",
              "      <td>0.5</td>\n",
              "      <td>2</td>\n",
              "      <td>no</td>\n",
              "    </tr>\n",
              "    <tr>\n",
              "      <th>d</th>\n",
              "      <td>dog</td>\n",
              "      <td>NaN</td>\n",
              "      <td>3</td>\n",
              "      <td>yes</td>\n",
              "    </tr>\n",
              "    <tr>\n",
              "      <th>e</th>\n",
              "      <td>dog</td>\n",
              "      <td>5.0</td>\n",
              "      <td>2</td>\n",
              "      <td>no</td>\n",
              "    </tr>\n",
              "    <tr>\n",
              "      <th>f</th>\n",
              "      <td>cat</td>\n",
              "      <td>1.5</td>\n",
              "      <td>3</td>\n",
              "      <td>no</td>\n",
              "    </tr>\n",
              "    <tr>\n",
              "      <th>g</th>\n",
              "      <td>snake</td>\n",
              "      <td>4.5</td>\n",
              "      <td>1</td>\n",
              "      <td>no</td>\n",
              "    </tr>\n",
              "    <tr>\n",
              "      <th>h</th>\n",
              "      <td>cat</td>\n",
              "      <td>NaN</td>\n",
              "      <td>1</td>\n",
              "      <td>yes</td>\n",
              "    </tr>\n",
              "    <tr>\n",
              "      <th>i</th>\n",
              "      <td>dog</td>\n",
              "      <td>7.0</td>\n",
              "      <td>2</td>\n",
              "      <td>no</td>\n",
              "    </tr>\n",
              "    <tr>\n",
              "      <th>j</th>\n",
              "      <td>dog</td>\n",
              "      <td>3.0</td>\n",
              "      <td>1</td>\n",
              "      <td>no</td>\n",
              "    </tr>\n",
              "  </tbody>\n",
              "</table>\n",
              "  <script>\n",
              "  $(document).ready( function () {\n",
              "      $('.pandas_table_long_ordered').DataTable({\"autoWidth\": false});\n",
              "      $('.pandas_table_long_ordered').removeClass(\"pandas_table_long_ordered\");\n",
              "      $('.pandas_table_short_ordered').DataTable({\"autoWidth\": false, \"paging\":false, \"searching\":false, \"info\":false});\n",
              "      $('.pandas_table_short_ordered').removeClass(\"pandas_table_short_ordered\");\n",
              "\n",
              "      $('.pandas_table_long_unordered').DataTable({\"autoWidth\": false, \"ordering\":false, \"paging\":true});\n",
              "      $('.pandas_table_long_unordered').removeClass(\"pandas_table_long_unordered\");\n",
              "      $('.pandas_table_short_unordered').DataTable({\"autoWidth\": false, \"paging\":false, \"searching\":false, \"info\":false, \"ordering\":false});\n",
              "      $('.pandas_table_short_unordered').removeClass(\"pandas_table_short_unordered\");\n",
              "  } );\n",
              "  </script>\n",
              "  "
            ],
            "text/plain": [
              "<IPython.core.display.HTML object>"
            ]
          },
          "metadata": {
            "tags": []
          }
        }
      ]
    },
    {
      "cell_type": "markdown",
      "metadata": {
        "id": "M5i23o_U0Fqf"
      },
      "source": [
        "##Problem 12."
      ]
    },
    {
      "cell_type": "markdown",
      "metadata": {
        "id": "vuzwd3AGtIyo"
      },
      "source": [
        "**Problem:**\n",
        "Calculate the sum of all visits (the total number of visits).\n"
      ]
    },
    {
      "cell_type": "code",
      "metadata": {
        "id": "Q1u6CvlD0Fqf"
      },
      "source": [
        "import numpy as np\n",
        "import pandas as pd\n",
        "\n",
        "# Input\n",
        "data = {'animal'  : ['cat', 'cat', 'snake',  'dog', 'dog', 'cat', 'snake',  'cat', 'dog', 'dog'],\n",
        "        'age'     : [  2.5,     3,     0.5, np.nan,     5,     2,     4.5, np.nan,     7,     3],\n",
        "        'visits'  : [    1,     3,       2,      3,     2,     3,       1,      1,     2,     1],\n",
        "        'priority': ['yes', 'yes',    'no',  'yes',  'no',  'no',    'no',  'yes',  'no',  'no']}\n",
        "labels =            [  'a',   'b',     'c',    'd',   'e',   'f',     'g',    'h',   'i',   'j']\n",
        "df = pd.DataFrame(data, index=labels)\n",
        "\n",
        "# Enter your code here"
      ],
      "execution_count": null,
      "outputs": []
    },
    {
      "cell_type": "code",
      "metadata": {
        "id": "1UPwfoj80Fqh",
        "cellView": "form",
        "colab": {
          "base_uri": "https://localhost:8080/",
          "height": 35
        },
        "outputId": "de2cbb27-b803-47d7-c17b-9c0430adcf65"
      },
      "source": [
        "#@title ###Solution (double-click to open)\n",
        "\n",
        "import numpy as np\n",
        "import pandas as pd\n",
        "\n",
        "# Input\n",
        "data = {'animal'  : ['cat', 'cat', 'snake',  'dog', 'dog', 'cat', 'snake',  'cat', 'dog', 'dog'],\n",
        "        'age'     : [  2.5,     3,     0.5, np.nan,     5,     2,     4.5, np.nan,     7,     3],\n",
        "        'visits'  : [    1,     3,       2,      3,     2,     3,       1,      1,     2,     1],\n",
        "        'priority': ['yes', 'yes',    'no',  'yes',  'no',  'no',    'no',  'yes',  'no',  'no']}\n",
        "labels =            [  'a',   'b',     'c',    'd',   'e',   'f',     'g',    'h',   'i',   'j']\n",
        "df = pd.DataFrame(data, index=labels)\n",
        "\n",
        "#Solution\n",
        "df['visits'].sum()"
      ],
      "execution_count": null,
      "outputs": [
        {
          "output_type": "execute_result",
          "data": {
            "text/plain": [
              "19"
            ]
          },
          "metadata": {
            "tags": []
          },
          "execution_count": 33
        }
      ]
    },
    {
      "cell_type": "markdown",
      "metadata": {
        "id": "YXjkc4ui0Fqi"
      },
      "source": [
        "##Problem 13."
      ]
    },
    {
      "cell_type": "markdown",
      "metadata": {
        "id": "Etd5NZoztKKF"
      },
      "source": [
        "**Problem:**\n",
        "Calculate the mean age for each different animal in `df`.\n"
      ]
    },
    {
      "cell_type": "code",
      "metadata": {
        "id": "Hnu67HN10Fqj"
      },
      "source": [
        "import numpy as np\n",
        "import pandas as pd\n",
        "\n",
        "# Input\n",
        "data = {'animal'  : ['cat', 'cat', 'snake',  'dog', 'dog', 'cat', 'snake',  'cat', 'dog', 'dog'],\n",
        "        'age'     : [  2.5,     3,     0.5, np.nan,     5,     2,     4.5, np.nan,     7,     3],\n",
        "        'visits'  : [    1,     3,       2,      3,     2,     3,       1,      1,     2,     1],\n",
        "        'priority': ['yes', 'yes',    'no',  'yes',  'no',  'no',    'no',  'yes',  'no',  'no']}\n",
        "labels =            [  'a',   'b',     'c',    'd',   'e',   'f',     'g',    'h',   'i',   'j']\n",
        "df = pd.DataFrame(data, index=labels)\n",
        "\n",
        "# Enter your code here\n",
        "means =\n",
        "\n",
        "# Visualize\n",
        "display_pandas(means)"
      ],
      "execution_count": null,
      "outputs": []
    },
    {
      "cell_type": "code",
      "metadata": {
        "id": "RLxsO6Qn0Fqn",
        "cellView": "form",
        "colab": {
          "base_uri": "https://localhost:8080/",
          "height": 195
        },
        "outputId": "9fba16c6-59f4-4429-ebf8-2cffc9e605fd"
      },
      "source": [
        "#@title ###Solution (double-click to open)\n",
        "\n",
        "import numpy as np\n",
        "import pandas as pd\n",
        "\n",
        "# Input\n",
        "data = {'animal'  : ['cat', 'cat', 'snake',  'dog', 'dog', 'cat', 'snake',  'cat', 'dog', 'dog'],\n",
        "        'age'     : [  2.5,     3,     0.5, np.nan,     5,     2,     4.5, np.nan,     7,     3],\n",
        "        'visits'  : [    1,     3,       2,      3,     2,     3,       1,      1,     2,     1],\n",
        "        'priority': ['yes', 'yes',    'no',  'yes',  'no',  'no',    'no',  'yes',  'no',  'no']}\n",
        "labels =            [  'a',   'b',     'c',    'd',   'e',   'f',     'g',    'h',   'i',   'j']\n",
        "df = pd.DataFrame(data, index=labels)\n",
        "\n",
        "#Solution\n",
        "means = df.groupby('animal')['age'].mean()\n",
        "\n",
        "# Visualize\n",
        "display_pandas(means)"
      ],
      "execution_count": null,
      "outputs": [
        {
          "output_type": "display_data",
          "data": {
            "text/html": [
              "\n",
              "  <script src=\"https://ajax.googleapis.com/ajax/libs/jquery/3.5.1/jquery.min.js\"></script>\n",
              "  <link rel=\"stylesheet\" type=\"text/css\" href=\"https://cdn.datatables.net/1.10.21/css/jquery.dataTables.css\">\n",
              "  <script type=\"text/javascript\" charset=\"utf8\" src=\"https://cdn.datatables.net/1.10.21/js/jquery.dataTables.js\"></script>\n",
              "  <table border=\"1\" class=\"dataframe pandas_table_short_unordered cell-border\">\n",
              "  <thead>\n",
              "    <tr style=\"text-align: right;\">\n",
              "      <th></th>\n",
              "      <th>age</th>\n",
              "    </tr>\n",
              "    <tr>\n",
              "      <th>animal</th>\n",
              "      <th></th>\n",
              "    </tr>\n",
              "  </thead>\n",
              "  <tbody>\n",
              "    <tr>\n",
              "      <th>cat</th>\n",
              "      <td>2.5</td>\n",
              "    </tr>\n",
              "    <tr>\n",
              "      <th>dog</th>\n",
              "      <td>5.0</td>\n",
              "    </tr>\n",
              "    <tr>\n",
              "      <th>snake</th>\n",
              "      <td>2.5</td>\n",
              "    </tr>\n",
              "  </tbody>\n",
              "</table>\n",
              "  <script>\n",
              "  $(document).ready( function () {\n",
              "      $('.pandas_table_long_ordered').DataTable({\"autoWidth\": false});\n",
              "      $('.pandas_table_long_ordered').removeClass(\"pandas_table_long_ordered\");\n",
              "      $('.pandas_table_short_ordered').DataTable({\"autoWidth\": false, \"paging\":false, \"searching\":false, \"info\":false});\n",
              "      $('.pandas_table_short_ordered').removeClass(\"pandas_table_short_ordered\");\n",
              "\n",
              "      $('.pandas_table_long_unordered').DataTable({\"autoWidth\": false, \"ordering\":false, \"paging\":true});\n",
              "      $('.pandas_table_long_unordered').removeClass(\"pandas_table_long_unordered\");\n",
              "      $('.pandas_table_short_unordered').DataTable({\"autoWidth\": false, \"paging\":false, \"searching\":false, \"info\":false, \"ordering\":false});\n",
              "      $('.pandas_table_short_unordered').removeClass(\"pandas_table_short_unordered\");\n",
              "  } );\n",
              "  </script>\n",
              "  "
            ],
            "text/plain": [
              "<IPython.core.display.HTML object>"
            ]
          },
          "metadata": {
            "tags": []
          }
        }
      ]
    },
    {
      "cell_type": "markdown",
      "metadata": {
        "id": "iFavUHtJ0Fqo"
      },
      "source": [
        "##Problem 14."
      ]
    },
    {
      "cell_type": "markdown",
      "metadata": {
        "id": "nNLN0GiytLgI"
      },
      "source": [
        "**Problem:**\n",
        "Append a new row 'k' to `df` with your choice of values for each column.\n",
        "Then delete that row to return the original DataFrame.\n"
      ]
    },
    {
      "cell_type": "code",
      "metadata": {
        "id": "3zU8fIjm0Fqp"
      },
      "source": [
        "import numpy as np\n",
        "import pandas as pd\n",
        "\n",
        "# Input\n",
        "data = {'animal'  : ['cat', 'cat', 'snake',  'dog', 'dog', 'cat', 'snake',  'cat', 'dog', 'dog'],\n",
        "        'age'     : [  2.5,     3,     0.5, np.nan,     5,     2,     4.5, np.nan,     7,     3],\n",
        "        'visits'  : [    1,     3,       2,      3,     2,     3,       1,      1,     2,     1],\n",
        "        'priority': ['yes', 'yes',    'no',  'yes',  'no',  'no',    'no',  'yes',  'no',  'no']}\n",
        "labels =            [  'a',   'b',     'c',    'd',   'e',   'f',     'g',    'h',   'i',   'j']\n",
        "df = pd.DataFrame(data, index=labels)\n",
        "initial_table = pandas_to_html(df)\n",
        "\n",
        "# Add new row here\n",
        "\n",
        "# For visualization\n",
        "with_row_added = pandas_to_html(df)\n",
        "\n",
        "# Remove row here\n",
        "\n",
        "# For visualization\n",
        "with_row_removed = pandas_to_html(df)\n",
        "\n",
        "# Visualization\n",
        "draw_tbl([[\"Initial\", \"Row Added\", \"Row Removed\"],\n",
        "          [initial_table, with_row_added, with_row_removed]])"
      ],
      "execution_count": null,
      "outputs": []
    },
    {
      "cell_type": "code",
      "metadata": {
        "id": "hPfSFH1x0Fqq",
        "cellView": "form",
        "colab": {
          "base_uri": "https://localhost:8080/",
          "height": 609
        },
        "outputId": "87214b0b-1969-4ec8-b939-5b46115417b6"
      },
      "source": [
        "#@title ###Solution (double-click to open)\n",
        "\n",
        "import numpy as np\n",
        "import pandas as pd\n",
        "\n",
        "# Input\n",
        "data = {'animal'  : ['cat', 'cat', 'snake',  'dog', 'dog', 'cat', 'snake',  'cat', 'dog', 'dog'],\n",
        "        'age'     : [  2.5,     3,     0.5, np.nan,     5,     2,     4.5, np.nan,     7,     3],\n",
        "        'visits'  : [    1,     3,       2,      3,     2,     3,       1,      1,     2,     1],\n",
        "        'priority': ['yes', 'yes',    'no',  'yes',  'no',  'no',    'no',  'yes',  'no',  'no']}\n",
        "labels =            [  'a',   'b',     'c',    'd',   'e',   'f',     'g',    'h',   'i',   'j']\n",
        "df = pd.DataFrame(data, index=labels)\n",
        "\n",
        "# Add new row here\n",
        "df.loc['k'] = [5.5, 'dog', 'no', 2]\n",
        "\n",
        "# For visualization\n",
        "with_row_added = pandas_to_html(df)\n",
        "\n",
        "# Remove row here\n",
        "df = df.drop('k')\n",
        "\n",
        "# For visualization\n",
        "with_row_removed = pandas_to_html(df)\n",
        "\n",
        "# Visualization\n",
        "draw_tbl([[\"Initial\", \"Row Added\", \"Row Removed\"],\n",
        "          [initial_table, with_row_added, with_row_removed]])"
      ],
      "execution_count": null,
      "outputs": [
        {
          "output_type": "display_data",
          "data": {
            "text/html": [
              "\n",
              "<style>\n",
              ".bigtable {\n",
              "  border-collapse: collapse;\n",
              "}\n",
              "\n",
              ".bigtd {\n",
              "  border: 3px solid #d4d4d3ff;\n",
              "  min-width:50%;\n",
              "  min-width:50%;\n",
              "  height: 30px;\n",
              "  position: relative; \n",
              "  text-align:center; \n",
              "  color: #474747;\n",
              "  font-size:15px;\n",
              "  font-weight: bolder;\n",
              "  padding: 19px;\n",
              "}\n",
              "\n",
              "</style>\n",
              "<table class=\"bigtable\">\n",
              "<tr>\n",
              "\t<td class=\"bigtd\">Initial</td><td class=\"bigtd\">Row Added</td><td class=\"bigtd\">Row Removed</td>\n",
              "</tr>\n",
              "<tr>\n",
              "\t<td class=\"bigtd\">\n",
              "  <script src=\"https://ajax.googleapis.com/ajax/libs/jquery/3.5.1/jquery.min.js\"></script>\n",
              "  <link rel=\"stylesheet\" type=\"text/css\" href=\"https://cdn.datatables.net/1.10.21/css/jquery.dataTables.css\">\n",
              "  <script type=\"text/javascript\" charset=\"utf8\" src=\"https://cdn.datatables.net/1.10.21/js/jquery.dataTables.js\"></script>\n",
              "  <table border=\"1\" class=\"dataframe pandas_table_short_unordered cell-border\">\n",
              "  <thead>\n",
              "    <tr style=\"text-align: right;\">\n",
              "      <th></th>\n",
              "      <th>animal</th>\n",
              "      <th>age</th>\n",
              "      <th>visits</th>\n",
              "      <th>priority</th>\n",
              "    </tr>\n",
              "  </thead>\n",
              "  <tbody>\n",
              "    <tr>\n",
              "      <th>a</th>\n",
              "      <td>cat</td>\n",
              "      <td>2.5</td>\n",
              "      <td>1</td>\n",
              "      <td>yes</td>\n",
              "    </tr>\n",
              "    <tr>\n",
              "      <th>b</th>\n",
              "      <td>cat</td>\n",
              "      <td>3.0</td>\n",
              "      <td>3</td>\n",
              "      <td>yes</td>\n",
              "    </tr>\n",
              "    <tr>\n",
              "      <th>c</th>\n",
              "      <td>snake</td>\n",
              "      <td>0.5</td>\n",
              "      <td>2</td>\n",
              "      <td>no</td>\n",
              "    </tr>\n",
              "    <tr>\n",
              "      <th>d</th>\n",
              "      <td>dog</td>\n",
              "      <td>NaN</td>\n",
              "      <td>3</td>\n",
              "      <td>yes</td>\n",
              "    </tr>\n",
              "    <tr>\n",
              "      <th>e</th>\n",
              "      <td>dog</td>\n",
              "      <td>5.0</td>\n",
              "      <td>2</td>\n",
              "      <td>no</td>\n",
              "    </tr>\n",
              "    <tr>\n",
              "      <th>f</th>\n",
              "      <td>cat</td>\n",
              "      <td>2.0</td>\n",
              "      <td>3</td>\n",
              "      <td>no</td>\n",
              "    </tr>\n",
              "    <tr>\n",
              "      <th>g</th>\n",
              "      <td>snake</td>\n",
              "      <td>4.5</td>\n",
              "      <td>1</td>\n",
              "      <td>no</td>\n",
              "    </tr>\n",
              "    <tr>\n",
              "      <th>h</th>\n",
              "      <td>cat</td>\n",
              "      <td>NaN</td>\n",
              "      <td>1</td>\n",
              "      <td>yes</td>\n",
              "    </tr>\n",
              "    <tr>\n",
              "      <th>i</th>\n",
              "      <td>dog</td>\n",
              "      <td>7.0</td>\n",
              "      <td>2</td>\n",
              "      <td>no</td>\n",
              "    </tr>\n",
              "    <tr>\n",
              "      <th>j</th>\n",
              "      <td>dog</td>\n",
              "      <td>3.0</td>\n",
              "      <td>1</td>\n",
              "      <td>no</td>\n",
              "    </tr>\n",
              "  </tbody>\n",
              "</table>\n",
              "  <script>\n",
              "  $(document).ready( function () {\n",
              "      $('.pandas_table_long_ordered').DataTable({\"autoWidth\": false});\n",
              "      $('.pandas_table_long_ordered').removeClass(\"pandas_table_long_ordered\");\n",
              "      $('.pandas_table_short_ordered').DataTable({\"autoWidth\": false, \"paging\":false, \"searching\":false, \"info\":false});\n",
              "      $('.pandas_table_short_ordered').removeClass(\"pandas_table_short_ordered\");\n",
              "\n",
              "      $('.pandas_table_long_unordered').DataTable({\"autoWidth\": false, \"ordering\":false, \"paging\":true});\n",
              "      $('.pandas_table_long_unordered').removeClass(\"pandas_table_long_unordered\");\n",
              "      $('.pandas_table_short_unordered').DataTable({\"autoWidth\": false, \"paging\":false, \"searching\":false, \"info\":false, \"ordering\":false});\n",
              "      $('.pandas_table_short_unordered').removeClass(\"pandas_table_short_unordered\");\n",
              "  } );\n",
              "  </script>\n",
              "  </td><td class=\"bigtd\">\n",
              "  <script src=\"https://ajax.googleapis.com/ajax/libs/jquery/3.5.1/jquery.min.js\"></script>\n",
              "  <link rel=\"stylesheet\" type=\"text/css\" href=\"https://cdn.datatables.net/1.10.21/css/jquery.dataTables.css\">\n",
              "  <script type=\"text/javascript\" charset=\"utf8\" src=\"https://cdn.datatables.net/1.10.21/js/jquery.dataTables.js\"></script>\n",
              "  <table border=\"1\" class=\"dataframe pandas_table_long_unordered cell-border\">\n",
              "  <thead>\n",
              "    <tr style=\"text-align: right;\">\n",
              "      <th></th>\n",
              "      <th>animal</th>\n",
              "      <th>age</th>\n",
              "      <th>visits</th>\n",
              "      <th>priority</th>\n",
              "    </tr>\n",
              "  </thead>\n",
              "  <tbody>\n",
              "    <tr>\n",
              "      <th>a</th>\n",
              "      <td>cat</td>\n",
              "      <td>2.5</td>\n",
              "      <td>1</td>\n",
              "      <td>yes</td>\n",
              "    </tr>\n",
              "    <tr>\n",
              "      <th>b</th>\n",
              "      <td>cat</td>\n",
              "      <td>3</td>\n",
              "      <td>3</td>\n",
              "      <td>yes</td>\n",
              "    </tr>\n",
              "    <tr>\n",
              "      <th>c</th>\n",
              "      <td>snake</td>\n",
              "      <td>0.5</td>\n",
              "      <td>2</td>\n",
              "      <td>no</td>\n",
              "    </tr>\n",
              "    <tr>\n",
              "      <th>d</th>\n",
              "      <td>dog</td>\n",
              "      <td>NaN</td>\n",
              "      <td>3</td>\n",
              "      <td>yes</td>\n",
              "    </tr>\n",
              "    <tr>\n",
              "      <th>e</th>\n",
              "      <td>dog</td>\n",
              "      <td>5</td>\n",
              "      <td>2</td>\n",
              "      <td>no</td>\n",
              "    </tr>\n",
              "    <tr>\n",
              "      <th>f</th>\n",
              "      <td>cat</td>\n",
              "      <td>2</td>\n",
              "      <td>3</td>\n",
              "      <td>no</td>\n",
              "    </tr>\n",
              "    <tr>\n",
              "      <th>g</th>\n",
              "      <td>snake</td>\n",
              "      <td>4.5</td>\n",
              "      <td>1</td>\n",
              "      <td>no</td>\n",
              "    </tr>\n",
              "    <tr>\n",
              "      <th>h</th>\n",
              "      <td>cat</td>\n",
              "      <td>NaN</td>\n",
              "      <td>1</td>\n",
              "      <td>yes</td>\n",
              "    </tr>\n",
              "    <tr>\n",
              "      <th>i</th>\n",
              "      <td>dog</td>\n",
              "      <td>7</td>\n",
              "      <td>2</td>\n",
              "      <td>no</td>\n",
              "    </tr>\n",
              "    <tr>\n",
              "      <th>j</th>\n",
              "      <td>dog</td>\n",
              "      <td>3</td>\n",
              "      <td>1</td>\n",
              "      <td>no</td>\n",
              "    </tr>\n",
              "    <tr>\n",
              "      <th>k</th>\n",
              "      <td>5.5</td>\n",
              "      <td>dog</td>\n",
              "      <td>no</td>\n",
              "      <td>2</td>\n",
              "    </tr>\n",
              "  </tbody>\n",
              "</table>\n",
              "  <script>\n",
              "  $(document).ready( function () {\n",
              "      $('.pandas_table_long_ordered').DataTable({\"autoWidth\": false});\n",
              "      $('.pandas_table_long_ordered').removeClass(\"pandas_table_long_ordered\");\n",
              "      $('.pandas_table_short_ordered').DataTable({\"autoWidth\": false, \"paging\":false, \"searching\":false, \"info\":false});\n",
              "      $('.pandas_table_short_ordered').removeClass(\"pandas_table_short_ordered\");\n",
              "\n",
              "      $('.pandas_table_long_unordered').DataTable({\"autoWidth\": false, \"ordering\":false, \"paging\":true});\n",
              "      $('.pandas_table_long_unordered').removeClass(\"pandas_table_long_unordered\");\n",
              "      $('.pandas_table_short_unordered').DataTable({\"autoWidth\": false, \"paging\":false, \"searching\":false, \"info\":false, \"ordering\":false});\n",
              "      $('.pandas_table_short_unordered').removeClass(\"pandas_table_short_unordered\");\n",
              "  } );\n",
              "  </script>\n",
              "  </td><td class=\"bigtd\">\n",
              "  <script src=\"https://ajax.googleapis.com/ajax/libs/jquery/3.5.1/jquery.min.js\"></script>\n",
              "  <link rel=\"stylesheet\" type=\"text/css\" href=\"https://cdn.datatables.net/1.10.21/css/jquery.dataTables.css\">\n",
              "  <script type=\"text/javascript\" charset=\"utf8\" src=\"https://cdn.datatables.net/1.10.21/js/jquery.dataTables.js\"></script>\n",
              "  <table border=\"1\" class=\"dataframe pandas_table_short_unordered cell-border\">\n",
              "  <thead>\n",
              "    <tr style=\"text-align: right;\">\n",
              "      <th></th>\n",
              "      <th>animal</th>\n",
              "      <th>age</th>\n",
              "      <th>visits</th>\n",
              "      <th>priority</th>\n",
              "    </tr>\n",
              "  </thead>\n",
              "  <tbody>\n",
              "    <tr>\n",
              "      <th>a</th>\n",
              "      <td>cat</td>\n",
              "      <td>2.5</td>\n",
              "      <td>1</td>\n",
              "      <td>yes</td>\n",
              "    </tr>\n",
              "    <tr>\n",
              "      <th>b</th>\n",
              "      <td>cat</td>\n",
              "      <td>3</td>\n",
              "      <td>3</td>\n",
              "      <td>yes</td>\n",
              "    </tr>\n",
              "    <tr>\n",
              "      <th>c</th>\n",
              "      <td>snake</td>\n",
              "      <td>0.5</td>\n",
              "      <td>2</td>\n",
              "      <td>no</td>\n",
              "    </tr>\n",
              "    <tr>\n",
              "      <th>d</th>\n",
              "      <td>dog</td>\n",
              "      <td>NaN</td>\n",
              "      <td>3</td>\n",
              "      <td>yes</td>\n",
              "    </tr>\n",
              "    <tr>\n",
              "      <th>e</th>\n",
              "      <td>dog</td>\n",
              "      <td>5</td>\n",
              "      <td>2</td>\n",
              "      <td>no</td>\n",
              "    </tr>\n",
              "    <tr>\n",
              "      <th>f</th>\n",
              "      <td>cat</td>\n",
              "      <td>2</td>\n",
              "      <td>3</td>\n",
              "      <td>no</td>\n",
              "    </tr>\n",
              "    <tr>\n",
              "      <th>g</th>\n",
              "      <td>snake</td>\n",
              "      <td>4.5</td>\n",
              "      <td>1</td>\n",
              "      <td>no</td>\n",
              "    </tr>\n",
              "    <tr>\n",
              "      <th>h</th>\n",
              "      <td>cat</td>\n",
              "      <td>NaN</td>\n",
              "      <td>1</td>\n",
              "      <td>yes</td>\n",
              "    </tr>\n",
              "    <tr>\n",
              "      <th>i</th>\n",
              "      <td>dog</td>\n",
              "      <td>7</td>\n",
              "      <td>2</td>\n",
              "      <td>no</td>\n",
              "    </tr>\n",
              "    <tr>\n",
              "      <th>j</th>\n",
              "      <td>dog</td>\n",
              "      <td>3</td>\n",
              "      <td>1</td>\n",
              "      <td>no</td>\n",
              "    </tr>\n",
              "  </tbody>\n",
              "</table>\n",
              "  <script>\n",
              "  $(document).ready( function () {\n",
              "      $('.pandas_table_long_ordered').DataTable({\"autoWidth\": false});\n",
              "      $('.pandas_table_long_ordered').removeClass(\"pandas_table_long_ordered\");\n",
              "      $('.pandas_table_short_ordered').DataTable({\"autoWidth\": false, \"paging\":false, \"searching\":false, \"info\":false});\n",
              "      $('.pandas_table_short_ordered').removeClass(\"pandas_table_short_ordered\");\n",
              "\n",
              "      $('.pandas_table_long_unordered').DataTable({\"autoWidth\": false, \"ordering\":false, \"paging\":true});\n",
              "      $('.pandas_table_long_unordered').removeClass(\"pandas_table_long_unordered\");\n",
              "      $('.pandas_table_short_unordered').DataTable({\"autoWidth\": false, \"paging\":false, \"searching\":false, \"info\":false, \"ordering\":false});\n",
              "      $('.pandas_table_short_unordered').removeClass(\"pandas_table_short_unordered\");\n",
              "  } );\n",
              "  </script>\n",
              "  </td>\n",
              "</tr>\n",
              "</table>"
            ],
            "text/plain": [
              "<IPython.core.display.HTML object>"
            ]
          },
          "metadata": {
            "tags": []
          }
        }
      ]
    },
    {
      "cell_type": "markdown",
      "metadata": {
        "id": "udvxA5Hm0Fqr"
      },
      "source": [
        "##Problem 15.\n"
      ]
    },
    {
      "cell_type": "markdown",
      "metadata": {
        "id": "yNfSag_mtNQa"
      },
      "source": [
        "**Problem:**\n",
        "Count the number of each type of animal in `df`.\n"
      ]
    },
    {
      "cell_type": "code",
      "metadata": {
        "id": "CFzvcX5Z0Fqs"
      },
      "source": [
        "import numpy as np\n",
        "import pandas as pd\n",
        "\n",
        "# Input\n",
        "data = {'animal'  : ['cat', 'cat', 'snake',  'dog', 'dog', 'cat', 'snake',  'cat', 'dog', 'dog'],\n",
        "        'age'     : [  2.5,     3,     0.5, np.nan,     5,     2,     4.5, np.nan,     7,     3],\n",
        "        'visits'  : [    1,     3,       2,      3,     2,     3,       1,      1,     2,     1],\n",
        "        'priority': ['yes', 'yes',    'no',  'yes',  'no',  'no',    'no',  'yes',  'no',  'no']}\n",
        "labels =            [  'a',   'b',     'c',    'd',   'e',   'f',     'g',    'h',   'i',   'j']\n",
        "df = pd.DataFrame(data, index=labels)\n",
        "\n",
        "# Enter your code here\n",
        "counts =\n",
        "\n",
        "# Visualize\n",
        "display_pandas(counts)"
      ],
      "execution_count": null,
      "outputs": []
    },
    {
      "cell_type": "code",
      "metadata": {
        "id": "MdXRSMmK0Fqu",
        "cellView": "form",
        "colab": {
          "base_uri": "https://localhost:8080/",
          "height": 157
        },
        "outputId": "ebb60a13-cdb3-432e-cc08-2ca57e0b9e91"
      },
      "source": [
        "#@title ###Solution (double-click to open)\n",
        "\n",
        "import numpy as np\n",
        "import pandas as pd\n",
        "\n",
        "# Input\n",
        "data = {'animal'  : ['cat', 'cat', 'snake',  'dog', 'dog', 'cat', 'snake',  'cat', 'dog', 'dog'],\n",
        "        'age'     : [  2.5,     3,     0.5, np.nan,     5,     2,     4.5, np.nan,     7,     3],\n",
        "        'visits'  : [    1,     3,       2,      3,     2,     3,       1,      1,     2,     1],\n",
        "        'priority': ['yes', 'yes',    'no',  'yes',  'no',  'no',    'no',  'yes',  'no',  'no']}\n",
        "labels =            [  'a',   'b',     'c',    'd',   'e',   'f',     'g',    'h',   'i',   'j']\n",
        "df = pd.DataFrame(data, index=labels)\n",
        "\n",
        "#Solution\n",
        "counts = df['animal'].value_counts()\n",
        "\n",
        "# Visualize\n",
        "display_pandas(counts)"
      ],
      "execution_count": null,
      "outputs": [
        {
          "output_type": "display_data",
          "data": {
            "text/html": [
              "\n",
              "  <script src=\"https://ajax.googleapis.com/ajax/libs/jquery/3.5.1/jquery.min.js\"></script>\n",
              "  <link rel=\"stylesheet\" type=\"text/css\" href=\"https://cdn.datatables.net/1.10.21/css/jquery.dataTables.css\">\n",
              "  <script type=\"text/javascript\" charset=\"utf8\" src=\"https://cdn.datatables.net/1.10.21/js/jquery.dataTables.js\"></script>\n",
              "  <table border=\"1\" class=\"dataframe pandas_table_short_unordered cell-border\">\n",
              "  <thead>\n",
              "    <tr style=\"text-align: right;\">\n",
              "      <th></th>\n",
              "      <th>animal</th>\n",
              "    </tr>\n",
              "  </thead>\n",
              "  <tbody>\n",
              "    <tr>\n",
              "      <th>cat</th>\n",
              "      <td>4</td>\n",
              "    </tr>\n",
              "    <tr>\n",
              "      <th>dog</th>\n",
              "      <td>4</td>\n",
              "    </tr>\n",
              "    <tr>\n",
              "      <th>snake</th>\n",
              "      <td>2</td>\n",
              "    </tr>\n",
              "  </tbody>\n",
              "</table>\n",
              "  <script>\n",
              "  $(document).ready( function () {\n",
              "      $('.pandas_table_long_ordered').DataTable({\"autoWidth\": false});\n",
              "      $('.pandas_table_long_ordered').removeClass(\"pandas_table_long_ordered\");\n",
              "      $('.pandas_table_short_ordered').DataTable({\"autoWidth\": false, \"paging\":false, \"searching\":false, \"info\":false});\n",
              "      $('.pandas_table_short_ordered').removeClass(\"pandas_table_short_ordered\");\n",
              "\n",
              "      $('.pandas_table_long_unordered').DataTable({\"autoWidth\": false, \"ordering\":false, \"paging\":true});\n",
              "      $('.pandas_table_long_unordered').removeClass(\"pandas_table_long_unordered\");\n",
              "      $('.pandas_table_short_unordered').DataTable({\"autoWidth\": false, \"paging\":false, \"searching\":false, \"info\":false, \"ordering\":false});\n",
              "      $('.pandas_table_short_unordered').removeClass(\"pandas_table_short_unordered\");\n",
              "  } );\n",
              "  </script>\n",
              "  "
            ],
            "text/plain": [
              "<IPython.core.display.HTML object>"
            ]
          },
          "metadata": {
            "tags": []
          }
        }
      ]
    },
    {
      "cell_type": "markdown",
      "metadata": {
        "id": "rIEWJuUQ0Fqw"
      },
      "source": [
        "##Problem 16."
      ]
    },
    {
      "cell_type": "markdown",
      "metadata": {
        "id": "9HSXwQtctOjL"
      },
      "source": [
        "**Problem:**\n",
        "Sort `df` first by the values in the 'age' in *decending* order, then by\n",
        "the value in the 'visit' column in *ascending* order.\n"
      ]
    },
    {
      "cell_type": "code",
      "metadata": {
        "id": "qoO7CXeg0Fqw"
      },
      "source": [
        "import numpy as np\n",
        "import pandas as pd\n",
        "\n",
        "# Input\n",
        "data = {'animal'  : ['cat', 'cat', 'snake',  'dog', 'dog', 'cat', 'snake',  'cat', 'dog', 'dog'],\n",
        "        'age'     : [  2.5,     3,     0.5, np.nan,     5,     2,     4.5, np.nan,     7,     3],\n",
        "        'visits'  : [    1,     3,       2,      3,     2,     3,       1,      1,     2,     1],\n",
        "        'priority': ['yes', 'yes',    'no',  'yes',  'no',  'no',    'no',  'yes',  'no',  'no']}\n",
        "labels =            [  'a',   'b',     'c',    'd',   'e',   'f',     'g',    'h',   'i',   'j']\n",
        "df = pd.DataFrame(data, index=labels)\n",
        "\n",
        "# Enter your code here\n",
        "sorted =\n",
        "\n",
        "# Visualize\n",
        "display_pandas(sorted)"
      ],
      "execution_count": null,
      "outputs": []
    },
    {
      "cell_type": "code",
      "metadata": {
        "id": "vygQ_ryz0Fqx",
        "cellView": "form",
        "colab": {
          "base_uri": "https://localhost:8080/",
          "height": 395
        },
        "outputId": "eea88b75-b346-498c-a951-12b5f1b61895"
      },
      "source": [
        "#@title ###Solution (double-click to open)\n",
        "\n",
        "import numpy as np\n",
        "import pandas as pd\n",
        "\n",
        "# Input\n",
        "data = {'animal'  : ['cat', 'cat', 'snake',  'dog', 'dog', 'cat', 'snake',  'cat', 'dog', 'dog'],\n",
        "        'age'     : [  2.5,     3,     0.5, np.nan,     5,     2,     4.5, np.nan,     7,     3],\n",
        "        'visits'  : [    1,     3,       2,      3,     2,     3,       1,      1,     2,     1],\n",
        "        'priority': ['yes', 'yes',    'no',  'yes',  'no',  'no',    'no',  'yes',  'no',  'no']}\n",
        "labels =            [  'a',   'b',     'c',    'd',   'e',   'f',     'g',    'h',   'i',   'j']\n",
        "df = pd.DataFrame(data, index=labels)\n",
        "\n",
        "#Solution\n",
        "sorted = df.sort_values(by=['age', 'visits'], ascending=[False, True])\n",
        "\n",
        "# Visualize\n",
        "display_pandas(sorted)"
      ],
      "execution_count": null,
      "outputs": [
        {
          "output_type": "display_data",
          "data": {
            "text/html": [
              "\n",
              "  <script src=\"https://ajax.googleapis.com/ajax/libs/jquery/3.5.1/jquery.min.js\"></script>\n",
              "  <link rel=\"stylesheet\" type=\"text/css\" href=\"https://cdn.datatables.net/1.10.21/css/jquery.dataTables.css\">\n",
              "  <script type=\"text/javascript\" charset=\"utf8\" src=\"https://cdn.datatables.net/1.10.21/js/jquery.dataTables.js\"></script>\n",
              "  <table border=\"1\" class=\"dataframe pandas_table_short_unordered cell-border\">\n",
              "  <thead>\n",
              "    <tr style=\"text-align: right;\">\n",
              "      <th></th>\n",
              "      <th>animal</th>\n",
              "      <th>age</th>\n",
              "      <th>visits</th>\n",
              "      <th>priority</th>\n",
              "    </tr>\n",
              "  </thead>\n",
              "  <tbody>\n",
              "    <tr>\n",
              "      <th>i</th>\n",
              "      <td>dog</td>\n",
              "      <td>7.0</td>\n",
              "      <td>2</td>\n",
              "      <td>no</td>\n",
              "    </tr>\n",
              "    <tr>\n",
              "      <th>e</th>\n",
              "      <td>dog</td>\n",
              "      <td>5.0</td>\n",
              "      <td>2</td>\n",
              "      <td>no</td>\n",
              "    </tr>\n",
              "    <tr>\n",
              "      <th>g</th>\n",
              "      <td>snake</td>\n",
              "      <td>4.5</td>\n",
              "      <td>1</td>\n",
              "      <td>no</td>\n",
              "    </tr>\n",
              "    <tr>\n",
              "      <th>j</th>\n",
              "      <td>dog</td>\n",
              "      <td>3.0</td>\n",
              "      <td>1</td>\n",
              "      <td>no</td>\n",
              "    </tr>\n",
              "    <tr>\n",
              "      <th>b</th>\n",
              "      <td>cat</td>\n",
              "      <td>3.0</td>\n",
              "      <td>3</td>\n",
              "      <td>yes</td>\n",
              "    </tr>\n",
              "    <tr>\n",
              "      <th>a</th>\n",
              "      <td>cat</td>\n",
              "      <td>2.5</td>\n",
              "      <td>1</td>\n",
              "      <td>yes</td>\n",
              "    </tr>\n",
              "    <tr>\n",
              "      <th>f</th>\n",
              "      <td>cat</td>\n",
              "      <td>2.0</td>\n",
              "      <td>3</td>\n",
              "      <td>no</td>\n",
              "    </tr>\n",
              "    <tr>\n",
              "      <th>c</th>\n",
              "      <td>snake</td>\n",
              "      <td>0.5</td>\n",
              "      <td>2</td>\n",
              "      <td>no</td>\n",
              "    </tr>\n",
              "    <tr>\n",
              "      <th>h</th>\n",
              "      <td>cat</td>\n",
              "      <td>NaN</td>\n",
              "      <td>1</td>\n",
              "      <td>yes</td>\n",
              "    </tr>\n",
              "    <tr>\n",
              "      <th>d</th>\n",
              "      <td>dog</td>\n",
              "      <td>NaN</td>\n",
              "      <td>3</td>\n",
              "      <td>yes</td>\n",
              "    </tr>\n",
              "  </tbody>\n",
              "</table>\n",
              "  <script>\n",
              "  $(document).ready( function () {\n",
              "      $('.pandas_table_long_ordered').DataTable({\"autoWidth\": false});\n",
              "      $('.pandas_table_long_ordered').removeClass(\"pandas_table_long_ordered\");\n",
              "      $('.pandas_table_short_ordered').DataTable({\"autoWidth\": false, \"paging\":false, \"searching\":false, \"info\":false});\n",
              "      $('.pandas_table_short_ordered').removeClass(\"pandas_table_short_ordered\");\n",
              "\n",
              "      $('.pandas_table_long_unordered').DataTable({\"autoWidth\": false, \"ordering\":false, \"paging\":true});\n",
              "      $('.pandas_table_long_unordered').removeClass(\"pandas_table_long_unordered\");\n",
              "      $('.pandas_table_short_unordered').DataTable({\"autoWidth\": false, \"paging\":false, \"searching\":false, \"info\":false, \"ordering\":false});\n",
              "      $('.pandas_table_short_unordered').removeClass(\"pandas_table_short_unordered\");\n",
              "  } );\n",
              "  </script>\n",
              "  "
            ],
            "text/plain": [
              "<IPython.core.display.HTML object>"
            ]
          },
          "metadata": {
            "tags": []
          }
        }
      ]
    },
    {
      "cell_type": "markdown",
      "metadata": {
        "id": "bQ_ies1Q0Fqy"
      },
      "source": [
        "##Problem 17."
      ]
    },
    {
      "cell_type": "markdown",
      "metadata": {
        "id": "lIJ7KW9itQ92"
      },
      "source": [
        "**Problem:**\n",
        "The 'priority' column contains the values 'yes' and 'no'.\n",
        "Replace this column with a column of boolean values: 'yes' should be `True` and 'no' should be `False`.\n"
      ]
    },
    {
      "cell_type": "code",
      "metadata": {
        "id": "KcGXVM5O0Fqy"
      },
      "source": [
        "import numpy as np\n",
        "import pandas as pd\n",
        "\n",
        "# Input\n",
        "data = {'animal'  : ['cat', 'cat', 'snake',  'dog', 'dog', 'cat', 'snake',  'cat', 'dog', 'dog'],\n",
        "        'age'     : [  2.5,     3,     0.5, np.nan,     5,     2,     4.5, np.nan,     7,     3],\n",
        "        'visits'  : [    1,     3,       2,      3,     2,     3,       1,      1,     2,     1],\n",
        "        'priority': ['yes', 'yes',    'no',  'yes',  'no',  'no',    'no',  'yes',  'no',  'no']}\n",
        "labels =            [  'a',   'b',     'c',    'd',   'e',   'f',     'g',    'h',   'i',   'j']\n",
        "df = pd.DataFrame(data, index=labels)\n",
        "\n",
        "# Enter your code here\n",
        "\n",
        "# Visualize\n",
        "display_pandas(df)"
      ],
      "execution_count": null,
      "outputs": []
    },
    {
      "cell_type": "code",
      "metadata": {
        "id": "zRg_TwRq0Fq1",
        "cellView": "form",
        "colab": {
          "base_uri": "https://localhost:8080/",
          "height": 395
        },
        "outputId": "36469abd-f439-44d4-c50e-076600791c84"
      },
      "source": [
        "#@title ###Solution (double-click to open)\n",
        "\n",
        "import numpy as np\n",
        "import pandas as pd\n",
        "\n",
        "# Input\n",
        "data = {'animal'  : ['cat', 'cat', 'snake',  'dog', 'dog', 'cat', 'snake',  'cat', 'dog', 'dog'],\n",
        "        'age'     : [  2.5,     3,     0.5, np.nan,     5,     2,     4.5, np.nan,     7,     3],\n",
        "        'visits'  : [    1,     3,       2,      3,     2,     3,       1,      1,     2,     1],\n",
        "        'priority': ['yes', 'yes',    'no',  'yes',  'no',  'no',    'no',  'yes',  'no',  'no']}\n",
        "labels =            [  'a',   'b',     'c',    'd',   'e',   'f',     'g',    'h',   'i',   'j']\n",
        "df = pd.DataFrame(data, index=labels)\n",
        "\n",
        "#Solution\n",
        "df['priority'] = df['priority'].map({'yes': True, 'no': False})\n",
        "\n",
        "# Visualize\n",
        "display_pandas(df)"
      ],
      "execution_count": null,
      "outputs": [
        {
          "output_type": "display_data",
          "data": {
            "text/html": [
              "\n",
              "  <script src=\"https://ajax.googleapis.com/ajax/libs/jquery/3.5.1/jquery.min.js\"></script>\n",
              "  <link rel=\"stylesheet\" type=\"text/css\" href=\"https://cdn.datatables.net/1.10.21/css/jquery.dataTables.css\">\n",
              "  <script type=\"text/javascript\" charset=\"utf8\" src=\"https://cdn.datatables.net/1.10.21/js/jquery.dataTables.js\"></script>\n",
              "  <table border=\"1\" class=\"dataframe pandas_table_short_unordered cell-border\">\n",
              "  <thead>\n",
              "    <tr style=\"text-align: right;\">\n",
              "      <th></th>\n",
              "      <th>animal</th>\n",
              "      <th>age</th>\n",
              "      <th>visits</th>\n",
              "      <th>priority</th>\n",
              "    </tr>\n",
              "  </thead>\n",
              "  <tbody>\n",
              "    <tr>\n",
              "      <th>a</th>\n",
              "      <td>cat</td>\n",
              "      <td>2.5</td>\n",
              "      <td>1</td>\n",
              "      <td>True</td>\n",
              "    </tr>\n",
              "    <tr>\n",
              "      <th>b</th>\n",
              "      <td>cat</td>\n",
              "      <td>3.0</td>\n",
              "      <td>3</td>\n",
              "      <td>True</td>\n",
              "    </tr>\n",
              "    <tr>\n",
              "      <th>c</th>\n",
              "      <td>snake</td>\n",
              "      <td>0.5</td>\n",
              "      <td>2</td>\n",
              "      <td>False</td>\n",
              "    </tr>\n",
              "    <tr>\n",
              "      <th>d</th>\n",
              "      <td>dog</td>\n",
              "      <td>NaN</td>\n",
              "      <td>3</td>\n",
              "      <td>True</td>\n",
              "    </tr>\n",
              "    <tr>\n",
              "      <th>e</th>\n",
              "      <td>dog</td>\n",
              "      <td>5.0</td>\n",
              "      <td>2</td>\n",
              "      <td>False</td>\n",
              "    </tr>\n",
              "    <tr>\n",
              "      <th>f</th>\n",
              "      <td>cat</td>\n",
              "      <td>2.0</td>\n",
              "      <td>3</td>\n",
              "      <td>False</td>\n",
              "    </tr>\n",
              "    <tr>\n",
              "      <th>g</th>\n",
              "      <td>snake</td>\n",
              "      <td>4.5</td>\n",
              "      <td>1</td>\n",
              "      <td>False</td>\n",
              "    </tr>\n",
              "    <tr>\n",
              "      <th>h</th>\n",
              "      <td>cat</td>\n",
              "      <td>NaN</td>\n",
              "      <td>1</td>\n",
              "      <td>True</td>\n",
              "    </tr>\n",
              "    <tr>\n",
              "      <th>i</th>\n",
              "      <td>dog</td>\n",
              "      <td>7.0</td>\n",
              "      <td>2</td>\n",
              "      <td>False</td>\n",
              "    </tr>\n",
              "    <tr>\n",
              "      <th>j</th>\n",
              "      <td>dog</td>\n",
              "      <td>3.0</td>\n",
              "      <td>1</td>\n",
              "      <td>False</td>\n",
              "    </tr>\n",
              "  </tbody>\n",
              "</table>\n",
              "  <script>\n",
              "  $(document).ready( function () {\n",
              "      $('.pandas_table_long_ordered').DataTable({\"autoWidth\": false});\n",
              "      $('.pandas_table_long_ordered').removeClass(\"pandas_table_long_ordered\");\n",
              "      $('.pandas_table_short_ordered').DataTable({\"autoWidth\": false, \"paging\":false, \"searching\":false, \"info\":false});\n",
              "      $('.pandas_table_short_ordered').removeClass(\"pandas_table_short_ordered\");\n",
              "\n",
              "      $('.pandas_table_long_unordered').DataTable({\"autoWidth\": false, \"ordering\":false, \"paging\":true});\n",
              "      $('.pandas_table_long_unordered').removeClass(\"pandas_table_long_unordered\");\n",
              "      $('.pandas_table_short_unordered').DataTable({\"autoWidth\": false, \"paging\":false, \"searching\":false, \"info\":false, \"ordering\":false});\n",
              "      $('.pandas_table_short_unordered').removeClass(\"pandas_table_short_unordered\");\n",
              "  } );\n",
              "  </script>\n",
              "  "
            ],
            "text/plain": [
              "<IPython.core.display.HTML object>"
            ]
          },
          "metadata": {
            "tags": []
          }
        }
      ]
    },
    {
      "cell_type": "markdown",
      "metadata": {
        "id": "g3lyPnPd0Fq3"
      },
      "source": [
        "##Problem 18."
      ]
    },
    {
      "cell_type": "markdown",
      "metadata": {
        "id": "6F0rCNn1tSgs"
      },
      "source": [
        "**Problem:**\n",
        "In the 'animal' column, change the 'snake' entries to 'python'.\n"
      ]
    },
    {
      "cell_type": "code",
      "metadata": {
        "id": "XbVVq3E40Fq3"
      },
      "source": [
        "import numpy as np\n",
        "import pandas as pd\n",
        "\n",
        "# Input\n",
        "data = {'animal'  : ['cat', 'cat', 'snake',  'dog', 'dog', 'cat', 'snake',  'cat', 'dog', 'dog'],\n",
        "        'age'     : [  2.5,     3,     0.5, np.nan,     5,     2,     4.5, np.nan,     7,     3],\n",
        "        'visits'  : [    1,     3,       2,      3,     2,     3,       1,      1,     2,     1],\n",
        "        'priority': ['yes', 'yes',    'no',  'yes',  'no',  'no',    'no',  'yes',  'no',  'no']}\n",
        "labels =            [  'a',   'b',     'c',    'd',   'e',   'f',     'g',    'h',   'i',   'j']\n",
        "df = pd.DataFrame(data, index=labels)\n",
        "\n",
        "# Enter your code here\n",
        "\n",
        "# Visualize\n",
        "display_pandas(df)"
      ],
      "execution_count": null,
      "outputs": []
    },
    {
      "cell_type": "code",
      "metadata": {
        "id": "KpEIRw3Q0Fq4",
        "cellView": "form",
        "colab": {
          "base_uri": "https://localhost:8080/",
          "height": 395
        },
        "outputId": "c890e00e-8cc4-47d2-f2fc-f396bc683c85"
      },
      "source": [
        "#@title ###Solution (double-click to open)\n",
        "\n",
        "import numpy as np\n",
        "import pandas as pd\n",
        "\n",
        "# Input\n",
        "data = {'animal'  : ['cat', 'cat', 'snake',  'dog', 'dog', 'cat', 'snake',  'cat', 'dog', 'dog'],\n",
        "        'age'     : [  2.5,     3,     0.5, np.nan,     5,     2,     4.5, np.nan,     7,     3],\n",
        "        'visits'  : [    1,     3,       2,      3,     2,     3,       1,      1,     2,     1],\n",
        "        'priority': ['yes', 'yes',    'no',  'yes',  'no',  'no',    'no',  'yes',  'no',  'no']}\n",
        "labels =            [  'a',   'b',     'c',    'd',   'e',   'f',     'g',    'h',   'i',   'j']\n",
        "df = pd.DataFrame(data, index=labels)\n",
        "\n",
        "#Solution\n",
        "df['animal'] = df['animal'].replace('snake', 'python')\n",
        "\n",
        "# Visualize\n",
        "display_pandas(df)"
      ],
      "execution_count": null,
      "outputs": [
        {
          "output_type": "display_data",
          "data": {
            "text/html": [
              "\n",
              "  <script src=\"https://ajax.googleapis.com/ajax/libs/jquery/3.5.1/jquery.min.js\"></script>\n",
              "  <link rel=\"stylesheet\" type=\"text/css\" href=\"https://cdn.datatables.net/1.10.21/css/jquery.dataTables.css\">\n",
              "  <script type=\"text/javascript\" charset=\"utf8\" src=\"https://cdn.datatables.net/1.10.21/js/jquery.dataTables.js\"></script>\n",
              "  <table border=\"1\" class=\"dataframe pandas_table_short_unordered cell-border\">\n",
              "  <thead>\n",
              "    <tr style=\"text-align: right;\">\n",
              "      <th></th>\n",
              "      <th>animal</th>\n",
              "      <th>age</th>\n",
              "      <th>visits</th>\n",
              "      <th>priority</th>\n",
              "    </tr>\n",
              "  </thead>\n",
              "  <tbody>\n",
              "    <tr>\n",
              "      <th>a</th>\n",
              "      <td>cat</td>\n",
              "      <td>2.5</td>\n",
              "      <td>1</td>\n",
              "      <td>yes</td>\n",
              "    </tr>\n",
              "    <tr>\n",
              "      <th>b</th>\n",
              "      <td>cat</td>\n",
              "      <td>3.0</td>\n",
              "      <td>3</td>\n",
              "      <td>yes</td>\n",
              "    </tr>\n",
              "    <tr>\n",
              "      <th>c</th>\n",
              "      <td>python</td>\n",
              "      <td>0.5</td>\n",
              "      <td>2</td>\n",
              "      <td>no</td>\n",
              "    </tr>\n",
              "    <tr>\n",
              "      <th>d</th>\n",
              "      <td>dog</td>\n",
              "      <td>NaN</td>\n",
              "      <td>3</td>\n",
              "      <td>yes</td>\n",
              "    </tr>\n",
              "    <tr>\n",
              "      <th>e</th>\n",
              "      <td>dog</td>\n",
              "      <td>5.0</td>\n",
              "      <td>2</td>\n",
              "      <td>no</td>\n",
              "    </tr>\n",
              "    <tr>\n",
              "      <th>f</th>\n",
              "      <td>cat</td>\n",
              "      <td>2.0</td>\n",
              "      <td>3</td>\n",
              "      <td>no</td>\n",
              "    </tr>\n",
              "    <tr>\n",
              "      <th>g</th>\n",
              "      <td>python</td>\n",
              "      <td>4.5</td>\n",
              "      <td>1</td>\n",
              "      <td>no</td>\n",
              "    </tr>\n",
              "    <tr>\n",
              "      <th>h</th>\n",
              "      <td>cat</td>\n",
              "      <td>NaN</td>\n",
              "      <td>1</td>\n",
              "      <td>yes</td>\n",
              "    </tr>\n",
              "    <tr>\n",
              "      <th>i</th>\n",
              "      <td>dog</td>\n",
              "      <td>7.0</td>\n",
              "      <td>2</td>\n",
              "      <td>no</td>\n",
              "    </tr>\n",
              "    <tr>\n",
              "      <th>j</th>\n",
              "      <td>dog</td>\n",
              "      <td>3.0</td>\n",
              "      <td>1</td>\n",
              "      <td>no</td>\n",
              "    </tr>\n",
              "  </tbody>\n",
              "</table>\n",
              "  <script>\n",
              "  $(document).ready( function () {\n",
              "      $('.pandas_table_long_ordered').DataTable({\"autoWidth\": false});\n",
              "      $('.pandas_table_long_ordered').removeClass(\"pandas_table_long_ordered\");\n",
              "      $('.pandas_table_short_ordered').DataTable({\"autoWidth\": false, \"paging\":false, \"searching\":false, \"info\":false});\n",
              "      $('.pandas_table_short_ordered').removeClass(\"pandas_table_short_ordered\");\n",
              "\n",
              "      $('.pandas_table_long_unordered').DataTable({\"autoWidth\": false, \"ordering\":false, \"paging\":true});\n",
              "      $('.pandas_table_long_unordered').removeClass(\"pandas_table_long_unordered\");\n",
              "      $('.pandas_table_short_unordered').DataTable({\"autoWidth\": false, \"paging\":false, \"searching\":false, \"info\":false, \"ordering\":false});\n",
              "      $('.pandas_table_short_unordered').removeClass(\"pandas_table_short_unordered\");\n",
              "  } );\n",
              "  </script>\n",
              "  "
            ],
            "text/plain": [
              "<IPython.core.display.HTML object>"
            ]
          },
          "metadata": {
            "tags": []
          }
        }
      ]
    },
    {
      "cell_type": "markdown",
      "metadata": {
        "id": "PL5xbiVo0Fq7"
      },
      "source": [
        "##Problem 18."
      ]
    },
    {
      "cell_type": "markdown",
      "metadata": {
        "id": "IEMy6ClYtUMS"
      },
      "source": [
        "**Problem:**\n",
        "For each animal type and each number of visits, find the mean age.\n",
        "In other words, create new table.\n",
        "Each row should be an animal, each column should be a number of visits and the values should be the mean ages.\n",
        "**Hint:** use a pivot table.\n"
      ]
    },
    {
      "cell_type": "code",
      "metadata": {
        "id": "V9HW-VIC0Fq7"
      },
      "source": [
        "import numpy as np\n",
        "import pandas as pd\n",
        "\n",
        "# Input\n",
        "data = {'animal'  : ['cat', 'cat', 'snake',  'dog', 'dog', 'cat', 'snake',  'cat', 'dog', 'dog'],\n",
        "        'age'     : [  2.5,     3,     0.5, np.nan,     5,     2,     4.5, np.nan,     7,     3],\n",
        "        'visits'  : [    1,     3,       2,      3,     2,     3,       1,      1,     2,     1],\n",
        "        'priority': ['yes', 'yes',    'no',  'yes',  'no',  'no',    'no',  'yes',  'no',  'no']}\n",
        "labels =            [  'a',   'b',     'c',    'd',   'e',   'f',     'g',    'h',   'i',   'j']\n",
        "df = pd.DataFrame(data, index=labels)\n",
        "\n",
        "# Enter your code here\n",
        "mean_age =\n",
        "\n",
        "# Visualize\n",
        "display_pandas(mean_age)"
      ],
      "execution_count": null,
      "outputs": []
    },
    {
      "cell_type": "code",
      "metadata": {
        "id": "8yljTSux0Fq8",
        "cellView": "form",
        "colab": {
          "base_uri": "https://localhost:8080/",
          "height": 195
        },
        "outputId": "f322d1e1-1e59-47f2-8d88-75a8fcb85653"
      },
      "source": [
        "#@title ###Solution (double-click to open)\n",
        "\n",
        "import numpy as np\n",
        "import pandas as pd\n",
        "\n",
        "# Input\n",
        "data = {'animal'  : ['cat', 'cat', 'snake',  'dog', 'dog', 'cat', 'snake',  'cat', 'dog', 'dog'],\n",
        "        'age'     : [  2.5,     3,     0.5, np.nan,     5,     2,     4.5, np.nan,     7,     3],\n",
        "        'visits'  : [    1,     3,       2,      3,     2,     3,       1,      1,     2,     1],\n",
        "        'priority': ['yes', 'yes',    'no',  'yes',  'no',  'no',    'no',  'yes',  'no',  'no']}\n",
        "labels =            [  'a',   'b',     'c',    'd',   'e',   'f',     'g',    'h',   'i',   'j']\n",
        "df = pd.DataFrame(data, index=labels)\n",
        "\n",
        "#Solution\n",
        "mean_age = df.pivot_table(index='animal', columns='visits', values='age', aggfunc='mean')\n",
        "\n",
        "# Visualize\n",
        "display_pandas(mean_age)"
      ],
      "execution_count": null,
      "outputs": [
        {
          "output_type": "display_data",
          "data": {
            "text/html": [
              "\n",
              "  <script src=\"https://ajax.googleapis.com/ajax/libs/jquery/3.5.1/jquery.min.js\"></script>\n",
              "  <link rel=\"stylesheet\" type=\"text/css\" href=\"https://cdn.datatables.net/1.10.21/css/jquery.dataTables.css\">\n",
              "  <script type=\"text/javascript\" charset=\"utf8\" src=\"https://cdn.datatables.net/1.10.21/js/jquery.dataTables.js\"></script>\n",
              "  <table border=\"1\" class=\"dataframe pandas_table_short_unordered cell-border\">\n",
              "  <thead>\n",
              "    <tr style=\"text-align: right;\">\n",
              "      <th>visits</th>\n",
              "      <th>1</th>\n",
              "      <th>2</th>\n",
              "      <th>3</th>\n",
              "    </tr>\n",
              "    <tr>\n",
              "      <th>animal</th>\n",
              "      <th></th>\n",
              "      <th></th>\n",
              "      <th></th>\n",
              "    </tr>\n",
              "  </thead>\n",
              "  <tbody>\n",
              "    <tr>\n",
              "      <th>cat</th>\n",
              "      <td>2.5</td>\n",
              "      <td>NaN</td>\n",
              "      <td>2.5</td>\n",
              "    </tr>\n",
              "    <tr>\n",
              "      <th>dog</th>\n",
              "      <td>3.0</td>\n",
              "      <td>6.0</td>\n",
              "      <td>NaN</td>\n",
              "    </tr>\n",
              "    <tr>\n",
              "      <th>snake</th>\n",
              "      <td>4.5</td>\n",
              "      <td>0.5</td>\n",
              "      <td>NaN</td>\n",
              "    </tr>\n",
              "  </tbody>\n",
              "</table>\n",
              "  <script>\n",
              "  $(document).ready( function () {\n",
              "      $('.pandas_table_long_ordered').DataTable({\"autoWidth\": false});\n",
              "      $('.pandas_table_long_ordered').removeClass(\"pandas_table_long_ordered\");\n",
              "      $('.pandas_table_short_ordered').DataTable({\"autoWidth\": false, \"paging\":false, \"searching\":false, \"info\":false});\n",
              "      $('.pandas_table_short_ordered').removeClass(\"pandas_table_short_ordered\");\n",
              "\n",
              "      $('.pandas_table_long_unordered').DataTable({\"autoWidth\": false, \"ordering\":false, \"paging\":true});\n",
              "      $('.pandas_table_long_unordered').removeClass(\"pandas_table_long_unordered\");\n",
              "      $('.pandas_table_short_unordered').DataTable({\"autoWidth\": false, \"paging\":false, \"searching\":false, \"info\":false, \"ordering\":false});\n",
              "      $('.pandas_table_short_unordered').removeClass(\"pandas_table_short_unordered\");\n",
              "  } );\n",
              "  </script>\n",
              "  "
            ],
            "text/plain": [
              "<IPython.core.display.HTML object>"
            ]
          },
          "metadata": {
            "tags": []
          }
        }
      ]
    },
    {
      "cell_type": "markdown",
      "metadata": {
        "id": "nft3SLBL0Fq9"
      },
      "source": [
        "# DataFrames: beyond the basics\n",
        "\n",
        "Difficulty: **medium**"
      ]
    },
    {
      "cell_type": "code",
      "metadata": {
        "cellView": "form",
        "id": "XqEJhIwFBS3E",
        "colab": {
          "base_uri": "https://localhost:8080/",
          "height": 51
        },
        "outputId": "1e3ff8fb-fa69-406d-d90a-d549d3e083a0"
      },
      "source": [
        "#@title Difficulty:\n",
        "%%html\n",
        "\n",
        "<svg width=\"25mm\" height=\"8mm\" version=\"1.1\" viewBox=\"0 0 38.506 12.662\" xmlns=\"http://www.w3.org/2000/svg\">\n",
        " <g transform=\"translate(-13.418 -11.061)\">\n",
        "  <rect x=\"13.418\" y=\"11.061\" width=\"38.506\" height=\"12.662\" rx=\"2.3559\" fill=\"#ffa512\"/>\n",
        "  <text x=\"17.290049\" y=\"20.13888\" fill=\"#ffffff\" font-family=\"Verdana\" font-size=\"8.531px\" letter-spacing=\"0px\" stroke-width=\".26458\" word-spacing=\"0px\" style=\"line-height:1.25\" xml:space=\"preserve\"><tspan x=\"17.290049\" y=\"20.13888\" fill=\"#ffffff\" font-family=\"'Courier New'\" font-size=\"8.531px\" font-weight=\"bold\" stroke-width=\".26458\" style=\"font-feature-settings:normal;font-variant-caps:normal;font-variant-ligatures:normal;font-variant-numeric:normal\">MEDIUM</tspan></text>\n",
        " </g>\n",
        "</svg>\n",
        "\n"
      ],
      "execution_count": null,
      "outputs": [
        {
          "output_type": "display_data",
          "data": {
            "text/html": [
              "\n",
              "<svg width=\"25mm\" height=\"8mm\" version=\"1.1\" viewBox=\"0 0 38.506 12.662\" xmlns=\"http://www.w3.org/2000/svg\">\n",
              " <g transform=\"translate(-13.418 -11.061)\">\n",
              "  <rect x=\"13.418\" y=\"11.061\" width=\"38.506\" height=\"12.662\" rx=\"2.3559\" fill=\"#ffa512\"/>\n",
              "  <text x=\"17.290049\" y=\"20.13888\" fill=\"#ffffff\" font-family=\"Verdana\" font-size=\"8.531px\" letter-spacing=\"0px\" stroke-width=\".26458\" word-spacing=\"0px\" style=\"line-height:1.25\" xml:space=\"preserve\"><tspan x=\"17.290049\" y=\"20.13888\" fill=\"#ffffff\" font-family=\"'Courier New'\" font-size=\"8.531px\" font-weight=\"bold\" stroke-width=\".26458\" style=\"font-feature-settings:normal;font-variant-caps:normal;font-variant-ligatures:normal;font-variant-numeric:normal\">MEDIUM</tspan></text>\n",
              " </g>\n",
              "</svg>\n"
            ],
            "text/plain": [
              "<IPython.core.display.HTML object>"
            ]
          },
          "metadata": {
            "tags": []
          }
        }
      ]
    },
    {
      "cell_type": "markdown",
      "metadata": {
        "id": "7EGdoY8AFF7W"
      },
      "source": [
        "##Problem 1."
      ]
    },
    {
      "cell_type": "markdown",
      "metadata": {
        "id": "07Iq_b_bEi6X"
      },
      "source": [
        "**Problem:**\n",
        "Given dataframe, consider column \"A\" and filter out rows which contain the same integer as the row immediately above."
      ]
    },
    {
      "cell_type": "code",
      "metadata": {
        "id": "myF5NgXz0Fq9"
      },
      "source": [
        "import numpy as np\n",
        "import pandas as pd\n",
        "\n",
        "# Input\n",
        "df = pd.DataFrame({'A': [1, 2, 2, 3, 4, 5, 5, 5, 2, 2, 2, 2, 6, 7, 7]})\n",
        "\n",
        "# Enter your code here\n",
        "filtered =\n",
        "\n",
        "# Visualize\n",
        "display_pandas(filtered)"
      ],
      "execution_count": null,
      "outputs": []
    },
    {
      "cell_type": "code",
      "metadata": {
        "id": "oeItWFT30Fq_",
        "cellView": "form",
        "colab": {
          "base_uri": "https://localhost:8080/",
          "height": 327
        },
        "outputId": "e8a0fa7f-a1a6-48a3-fe09-453b700b95bc"
      },
      "source": [
        "#@title Solution (double-click to open)\n",
        "\n",
        "import numpy as np\n",
        "import pandas as pd\n",
        "\n",
        "# Input\n",
        "df = pd.DataFrame({'A': [1, 2, 2, 3, 4, 5, 5, 5, 2, 2, 2, 2, 6, 7, 7]})\n",
        "\n",
        "# Solution\n",
        "filtered = df.loc[df['A'].shift() != df['A']]\n",
        "\n",
        "# Visualize\n",
        "display_pandas(filtered)"
      ],
      "execution_count": null,
      "outputs": [
        {
          "output_type": "display_data",
          "data": {
            "text/html": [
              "\n",
              "  <script src=\"https://ajax.googleapis.com/ajax/libs/jquery/3.5.1/jquery.min.js\"></script>\n",
              "  <link rel=\"stylesheet\" type=\"text/css\" href=\"https://cdn.datatables.net/1.10.21/css/jquery.dataTables.css\">\n",
              "  <script type=\"text/javascript\" charset=\"utf8\" src=\"https://cdn.datatables.net/1.10.21/js/jquery.dataTables.js\"></script>\n",
              "  <table border=\"1\" class=\"dataframe pandas_table_short_unordered cell-border\">\n",
              "  <thead>\n",
              "    <tr style=\"text-align: right;\">\n",
              "      <th></th>\n",
              "      <th>A</th>\n",
              "    </tr>\n",
              "  </thead>\n",
              "  <tbody>\n",
              "    <tr>\n",
              "      <th>0</th>\n",
              "      <td>1</td>\n",
              "    </tr>\n",
              "    <tr>\n",
              "      <th>1</th>\n",
              "      <td>2</td>\n",
              "    </tr>\n",
              "    <tr>\n",
              "      <th>3</th>\n",
              "      <td>3</td>\n",
              "    </tr>\n",
              "    <tr>\n",
              "      <th>4</th>\n",
              "      <td>4</td>\n",
              "    </tr>\n",
              "    <tr>\n",
              "      <th>5</th>\n",
              "      <td>5</td>\n",
              "    </tr>\n",
              "    <tr>\n",
              "      <th>8</th>\n",
              "      <td>2</td>\n",
              "    </tr>\n",
              "    <tr>\n",
              "      <th>12</th>\n",
              "      <td>6</td>\n",
              "    </tr>\n",
              "    <tr>\n",
              "      <th>13</th>\n",
              "      <td>7</td>\n",
              "    </tr>\n",
              "  </tbody>\n",
              "</table>\n",
              "  <script>\n",
              "  $(document).ready( function () {\n",
              "      $('.pandas_table_long_ordered').DataTable({\"autoWidth\": false});\n",
              "      $('.pandas_table_long_ordered').removeClass(\"pandas_table_long_ordered\");\n",
              "      $('.pandas_table_short_ordered').DataTable({\"autoWidth\": false, \"paging\":false, \"searching\":false, \"info\":false});\n",
              "      $('.pandas_table_short_ordered').removeClass(\"pandas_table_short_ordered\");\n",
              "\n",
              "      $('.pandas_table_long_unordered').DataTable({\"autoWidth\": false, \"ordering\":false, \"paging\":true});\n",
              "      $('.pandas_table_long_unordered').removeClass(\"pandas_table_long_unordered\");\n",
              "      $('.pandas_table_short_unordered').DataTable({\"autoWidth\": false, \"paging\":false, \"searching\":false, \"info\":false, \"ordering\":false});\n",
              "      $('.pandas_table_short_unordered').removeClass(\"pandas_table_short_unordered\");\n",
              "  } );\n",
              "  </script>\n",
              "  "
            ],
            "text/plain": [
              "<IPython.core.display.HTML object>"
            ]
          },
          "metadata": {
            "tags": []
          }
        }
      ]
    },
    {
      "cell_type": "markdown",
      "metadata": {
        "id": "kV4HH6e00FrC"
      },
      "source": [
        "##Problem 2."
      ]
    },
    {
      "cell_type": "markdown",
      "metadata": {
        "id": "U3mcBZK7Jnne"
      },
      "source": [
        "**Problem:**\n",
        "Given a DataFrame of numeric values, subtract the row mean from each element in the row.\n",
        "\n",
        "\n"
      ]
    },
    {
      "cell_type": "code",
      "metadata": {
        "id": "2m0aeBDl0FrD"
      },
      "source": [
        "import numpy as np\n",
        "import pandas as ps\n",
        "\n",
        "# Input\n",
        "df = pd.DataFrame({'A': [  5,  -1,  -3,   9,   8],\n",
        "                   'B': [  9,   9,  -1,   5,  -2],\n",
        "                   'C': [ -5,  10,  -5,   9, -10]})\n",
        "\n",
        "# Enter your code here\n",
        "subtracted =\n",
        "\n",
        "# Visualize\n",
        "display_pandas(subtracted)"
      ],
      "execution_count": null,
      "outputs": []
    },
    {
      "cell_type": "code",
      "metadata": {
        "id": "RQMmua5-0FrG",
        "cellView": "form",
        "colab": {
          "base_uri": "https://localhost:8080/",
          "height": 225
        },
        "outputId": "e4f89a11-29b9-4faa-8379-0bf61c07da8e"
      },
      "source": [
        "#@title Solution (double-click to open)\n",
        "\n",
        "import numpy as np\n",
        "import pandas as ps\n",
        "\n",
        "# Input\n",
        "df = pd.DataFrame({'A': [  5,  -1,  -3,   9,   8],\n",
        "                   'B': [  9,   9,  -1,   5,  -2],\n",
        "                   'C': [ -5,  10,  -5,   9, -10]})\n",
        "\n",
        "# Solution\n",
        "subtracted = df.sub(df.mean(axis=1), axis=0)\n",
        "\n",
        "# Visualize\n",
        "display_pandas(subtracted)"
      ],
      "execution_count": null,
      "outputs": [
        {
          "output_type": "display_data",
          "data": {
            "text/html": [
              "\n",
              "  <script src=\"https://ajax.googleapis.com/ajax/libs/jquery/3.5.1/jquery.min.js\"></script>\n",
              "  <link rel=\"stylesheet\" type=\"text/css\" href=\"https://cdn.datatables.net/1.10.21/css/jquery.dataTables.css\">\n",
              "  <script type=\"text/javascript\" charset=\"utf8\" src=\"https://cdn.datatables.net/1.10.21/js/jquery.dataTables.js\"></script>\n",
              "  <table border=\"1\" class=\"dataframe pandas_table_short_unordered cell-border\">\n",
              "  <thead>\n",
              "    <tr style=\"text-align: right;\">\n",
              "      <th></th>\n",
              "      <th>A</th>\n",
              "      <th>B</th>\n",
              "      <th>C</th>\n",
              "    </tr>\n",
              "  </thead>\n",
              "  <tbody>\n",
              "    <tr>\n",
              "      <th>0</th>\n",
              "      <td>2.000000</td>\n",
              "      <td>6.000000</td>\n",
              "      <td>-8.000000</td>\n",
              "    </tr>\n",
              "    <tr>\n",
              "      <th>1</th>\n",
              "      <td>-7.000000</td>\n",
              "      <td>3.000000</td>\n",
              "      <td>4.000000</td>\n",
              "    </tr>\n",
              "    <tr>\n",
              "      <th>2</th>\n",
              "      <td>0.000000</td>\n",
              "      <td>2.000000</td>\n",
              "      <td>-2.000000</td>\n",
              "    </tr>\n",
              "    <tr>\n",
              "      <th>3</th>\n",
              "      <td>1.333333</td>\n",
              "      <td>-2.666667</td>\n",
              "      <td>1.333333</td>\n",
              "    </tr>\n",
              "    <tr>\n",
              "      <th>4</th>\n",
              "      <td>9.333333</td>\n",
              "      <td>-0.666667</td>\n",
              "      <td>-8.666667</td>\n",
              "    </tr>\n",
              "  </tbody>\n",
              "</table>\n",
              "  <script>\n",
              "  $(document).ready( function () {\n",
              "      $('.pandas_table_long_ordered').DataTable({\"autoWidth\": false});\n",
              "      $('.pandas_table_long_ordered').removeClass(\"pandas_table_long_ordered\");\n",
              "      $('.pandas_table_short_ordered').DataTable({\"autoWidth\": false, \"paging\":false, \"searching\":false, \"info\":false});\n",
              "      $('.pandas_table_short_ordered').removeClass(\"pandas_table_short_ordered\");\n",
              "\n",
              "      $('.pandas_table_long_unordered').DataTable({\"autoWidth\": false, \"ordering\":false, \"paging\":true});\n",
              "      $('.pandas_table_long_unordered').removeClass(\"pandas_table_long_unordered\");\n",
              "      $('.pandas_table_short_unordered').DataTable({\"autoWidth\": false, \"paging\":false, \"searching\":false, \"info\":false, \"ordering\":false});\n",
              "      $('.pandas_table_short_unordered').removeClass(\"pandas_table_short_unordered\");\n",
              "  } );\n",
              "  </script>\n",
              "  "
            ],
            "text/plain": [
              "<IPython.core.display.HTML object>"
            ]
          },
          "metadata": {
            "tags": []
          }
        }
      ]
    },
    {
      "cell_type": "markdown",
      "metadata": {
        "id": "uGBurm550FrI"
      },
      "source": [
        "##Problem 3."
      ]
    },
    {
      "cell_type": "markdown",
      "metadata": {
        "id": "qFJr_8uSO-v2"
      },
      "source": [
        "**Problem:**\n",
        "A dataframe that contains 10 columns of nubers is given.\n",
        "Find label of the column containing the smallest sum.\n",
        "\n"
      ]
    },
    {
      "cell_type": "code",
      "metadata": {
        "id": "KAvcTSLb0FrI"
      },
      "source": [
        "import numpy as np\n",
        "import pandas as pd\n",
        "\n",
        "# Input\n",
        "df = pd.DataFrame({\n",
        "       'a' : [  2,  -4,  -7, -10,   9],\n",
        "       'b' : [  7,  -9,  -7,  -7,  -4],\n",
        "       'c' : [ -8,  10,  -8,   5,  -3],\n",
        "       'd' : [  3,  -8,   5,  -4, -10],\n",
        "       'e' : [  9,   3,  -5,  -9,   6],\n",
        "       'f' : [ -1,  -7, -10,  -8,  10],\n",
        "       'g' : [  1,   8,   3,   9,   5],\n",
        "       'h' : [  3,   5,   0,   1,  -3],\n",
        "       'i' : [  3,   4,  -5,  -9,  -7],\n",
        "       'j' : [  0,   4,  -6,   3,   9]})\n",
        "\n",
        "# Enter your code here"
      ],
      "execution_count": null,
      "outputs": []
    },
    {
      "cell_type": "code",
      "metadata": {
        "id": "f1ojxMpv0FrM",
        "cellView": "form",
        "colab": {
          "base_uri": "https://localhost:8080/",
          "height": 35
        },
        "outputId": "d28567fa-02bd-4390-fb64-4d577164ef02"
      },
      "source": [
        "#@title Solution (double-click to open)\n",
        "\n",
        "import numpy as np\n",
        "import pandas as pd\n",
        "\n",
        "# Input\n",
        "df = pd.DataFrame({\n",
        "       'a' : [  2,  -4,  -7, -10,   9],\n",
        "       'b' : [  7,  -9,  -7,  -7,  -4],\n",
        "       'c' : [ -8,  10,  -8,   5,  -3],\n",
        "       'd' : [  3,  -8,   5,  -4, -10],\n",
        "       'e' : [  9,   3,  -5,  -9,   6],\n",
        "       'f' : [ -1,  -7, -10,  -8,  10],\n",
        "       'g' : [  1,   8,   3,   9,   5],\n",
        "       'h' : [  3,   5,   0,   1,  -3],\n",
        "       'i' : [  3,   4,  -5,  -9,  -7],\n",
        "       'j' : [  0,   4,  -6,   3,   9]})\n",
        "\n",
        "# Solution\n",
        "df.sum().idxmin()"
      ],
      "execution_count": null,
      "outputs": [
        {
          "output_type": "execute_result",
          "data": {
            "application/vnd.google.colaboratory.intrinsic": {
              "type": "string"
            },
            "text/plain": [
              "'b'"
            ]
          },
          "metadata": {
            "tags": []
          },
          "execution_count": 7
        }
      ]
    },
    {
      "cell_type": "markdown",
      "metadata": {
        "id": "3uuI-TjJ0FrN"
      },
      "source": [
        "##Problem 4."
      ]
    },
    {
      "cell_type": "markdown",
      "metadata": {
        "id": "9gEzWrH4Re_z"
      },
      "source": [
        "**Problem:**\n",
        "Count the number of unique rows in the given dataframe.\n",
        "\n"
      ]
    },
    {
      "cell_type": "code",
      "metadata": {
        "id": "S4na5Wvd0FrN"
      },
      "source": [
        "import numpy as np\n",
        "import pandas as pd\n",
        "\n",
        "# Input\n",
        "df = pd.DataFrame({\n",
        "       'a' : [  2,  -4,   2,   2,  -4],\n",
        "       'b' : [  7,  -9,   7,   7,  -9],\n",
        "       'c' : [ -8,  10,  -8,  -8,  10],\n",
        "       'd' : [  3,  -8,   3,   3,  -8]})\n",
        "\n",
        "# Enter your code here"
      ],
      "execution_count": null,
      "outputs": []
    },
    {
      "cell_type": "code",
      "metadata": {
        "id": "EeyHHUYL0FrP",
        "cellView": "form",
        "colab": {
          "base_uri": "https://localhost:8080/",
          "height": 34
        },
        "outputId": "f4a096d0-87c5-4a63-cd7d-1b0596e2c050"
      },
      "source": [
        "#@title Solution A (double-click to open)\n",
        "\n",
        "import numpy as np\n",
        "import pandas as pd\n",
        "\n",
        "# Input\n",
        "df = pd.DataFrame({\n",
        "       'a' : [  2,  -4,   2,   2,  -4],\n",
        "       'b' : [  7,  -9,   7,   7,  -9],\n",
        "       'c' : [ -8,  10,  -8,  -8,  10],\n",
        "       'd' : [  3,  -8,   3,   3,  -8]})\n",
        "\n",
        "# Solution\n",
        "len(df.drop_duplicates(keep=\"first\"))"
      ],
      "execution_count": null,
      "outputs": [
        {
          "output_type": "execute_result",
          "data": {
            "text/plain": [
              "2"
            ]
          },
          "metadata": {
            "tags": []
          },
          "execution_count": 8
        }
      ]
    },
    {
      "cell_type": "code",
      "metadata": {
        "id": "gPWP1wh0S5IU",
        "cellView": "form",
        "colab": {
          "base_uri": "https://localhost:8080/",
          "height": 34
        },
        "outputId": "25e982f7-1303-40c5-9be6-255495ad3f21"
      },
      "source": [
        "#@title Solution B (double-click to open)\n",
        "\n",
        "import numpy as np\n",
        "import pandas as pd\n",
        "\n",
        "# Input\n",
        "df = pd.DataFrame({\n",
        "       'a' : [  2,  -4,   2,   2,  -4],\n",
        "       'b' : [  7,  -9,   7,   7,  -9],\n",
        "       'c' : [ -8,  10,  -8,  -8,  10],\n",
        "       'd' : [  3,  -8,   3,   3,  -8]})\n",
        "\n",
        "# Solution\n",
        "len(df) - df.duplicated(keep=\"first\").sum()"
      ],
      "execution_count": null,
      "outputs": [
        {
          "output_type": "execute_result",
          "data": {
            "text/plain": [
              "2"
            ]
          },
          "metadata": {
            "tags": []
          },
          "execution_count": 9
        }
      ]
    },
    {
      "cell_type": "markdown",
      "metadata": {
        "id": "80HPTF3M0FrQ"
      },
      "source": [
        "##Problem 5."
      ]
    },
    {
      "cell_type": "markdown",
      "metadata": {
        "id": "Qn47jaUQu9mH"
      },
      "source": [
        "**Problem:**\n",
        "You are given a dataframe that contains numbers and nans.\n",
        "For each row find the column that contains the third nan.\n",
        "Print as output pairs row-column with third nan."
      ]
    },
    {
      "cell_type": "code",
      "metadata": {
        "id": "IuHKu2qh0FrQ"
      },
      "source": [
        "import numpy as np\n",
        "import pandas as pd\n",
        "\n",
        "# Input\n",
        "df = pd.DataFrame({\n",
        "       'a' : [np.nan,    -4,  -7,   -10,     9],\n",
        "       'b' : [     7,    -9,  -7,np.nan,    -4],\n",
        "       'c' : [    -8,    10,  -8,     5,    -3],\n",
        "       'd' : [np.nan,np.nan,   5,    -4,np.nan],\n",
        "       'e' : [     9,np.nan,  -5,    -9,np.nan],\n",
        "       'f' : [np.nan,    -7, -10,    -8,np.nan],\n",
        "       'g' : [np.nan,     8,   3,     9,     5],\n",
        "       'h' : [np.nan,     5,   0,np.nan,    -3],\n",
        "       'i' : [     3,np.nan,  -5,    -9,    -7],\n",
        "       'j' : [     0,np.nan,  -6,     3,     9]})\n",
        "n = 3\n",
        "\n",
        "# Enter your code here\n",
        "third_nan =\n",
        "\n",
        "# Visualize\n",
        "display_pandas(third_nan)"
      ],
      "execution_count": null,
      "outputs": []
    },
    {
      "cell_type": "code",
      "metadata": {
        "id": "DHNRZMFD0FrS",
        "cellView": "form",
        "colab": {
          "base_uri": "https://localhost:8080/",
          "height": 140
        },
        "outputId": "19c35308-6894-49e7-fabd-e384ca876657"
      },
      "source": [
        "#@title Solution A (double-click to open)\n",
        "\n",
        "import numpy as np\n",
        "import pandas as pd\n",
        "\n",
        "# Input\n",
        "df = pd.DataFrame({\n",
        "       'a' : [np.nan,    -4,  -7,   -10,     9],\n",
        "       'b' : [     7,    -9,  -7,np.nan,    -4],\n",
        "       'c' : [    -8,    10,  -8,     5,    -3],\n",
        "       'd' : [np.nan,np.nan,   5,    -4,np.nan],\n",
        "       'e' : [     9,np.nan,  -5,    -9,np.nan],\n",
        "       'f' : [np.nan,    -7, -10,    -8,np.nan],\n",
        "       'g' : [np.nan,     8,   3,     9,     5],\n",
        "       'h' : [np.nan,     5,   0,np.nan,    -3],\n",
        "       'i' : [     3,np.nan,  -5,    -9,    -7],\n",
        "       'j' : [     0,np.nan,  -6,     3,     9]})\n",
        "n = 3\n",
        "\n",
        "# Solution\n",
        "third_nan = (df[df.isnull().sum(axis=1) >= n].isnull().cumsum(axis=1) == n).idxmax(axis=1, skipna=True)\n",
        "\n",
        "# Visualize\n",
        "display_pandas(third_nan)"
      ],
      "execution_count": null,
      "outputs": [
        {
          "output_type": "display_data",
          "data": {
            "text/html": [
              "\n",
              "  <script src=\"https://ajax.googleapis.com/ajax/libs/jquery/3.5.1/jquery.min.js\"></script>\n",
              "  <link rel=\"stylesheet\" type=\"text/css\" href=\"https://cdn.datatables.net/1.10.21/css/jquery.dataTables.css\">\n",
              "  <script type=\"text/javascript\" charset=\"utf8\" src=\"https://cdn.datatables.net/1.10.21/js/jquery.dataTables.js\"></script>\n",
              "  <table border=\"1\" class=\"dataframe pandas_table_short_unordered cell-border\">\n",
              "  <thead>\n",
              "    <tr style=\"text-align: right;\">\n",
              "      <th></th>\n",
              "      <th></th>\n",
              "    </tr>\n",
              "  </thead>\n",
              "  <tbody>\n",
              "    <tr>\n",
              "      <th>0</th>\n",
              "      <td>f</td>\n",
              "    </tr>\n",
              "    <tr>\n",
              "      <th>1</th>\n",
              "      <td>i</td>\n",
              "    </tr>\n",
              "    <tr>\n",
              "      <th>4</th>\n",
              "      <td>f</td>\n",
              "    </tr>\n",
              "  </tbody>\n",
              "</table>\n",
              "  <script>\n",
              "  $(document).ready( function () {\n",
              "      $('.pandas_table_long_ordered').DataTable({\"autoWidth\": false});\n",
              "      $('.pandas_table_long_ordered').removeClass(\"pandas_table_long_ordered\");\n",
              "      $('.pandas_table_short_ordered').DataTable({\"autoWidth\": false, \"paging\":false, \"searching\":false, \"info\":false});\n",
              "      $('.pandas_table_short_ordered').removeClass(\"pandas_table_short_ordered\");\n",
              "\n",
              "      $('.pandas_table_long_unordered').DataTable({\"autoWidth\": false, \"ordering\":false, \"paging\":true});\n",
              "      $('.pandas_table_long_unordered').removeClass(\"pandas_table_long_unordered\");\n",
              "      $('.pandas_table_short_unordered').DataTable({\"autoWidth\": false, \"paging\":false, \"searching\":false, \"info\":false, \"ordering\":false});\n",
              "      $('.pandas_table_short_unordered').removeClass(\"pandas_table_short_unordered\");\n",
              "  } );\n",
              "  </script>\n",
              "  "
            ],
            "text/plain": [
              "<IPython.core.display.HTML object>"
            ]
          },
          "metadata": {
            "tags": []
          }
        }
      ]
    },
    {
      "cell_type": "code",
      "metadata": {
        "id": "ZE68zhLGucWW",
        "cellView": "form",
        "colab": {
          "base_uri": "https://localhost:8080/",
          "height": 140
        },
        "outputId": "70ecc391-e060-40f0-fd50-da27c618059b"
      },
      "source": [
        "#@title Solution B (double-click to open)\n",
        "\n",
        "import numpy as np\n",
        "import pandas as pd\n",
        "\n",
        "# Input\n",
        "df = pd.DataFrame({\n",
        "       'a' : [np.nan,    -4,  -7,   -10,     9],\n",
        "       'b' : [     7,    -9,  -7,np.nan,    -4],\n",
        "       'c' : [    -8,    10,  -8,     5,    -3],\n",
        "       'd' : [np.nan,np.nan,   5,    -4,np.nan],\n",
        "       'e' : [     9,np.nan,  -5,    -9,np.nan],\n",
        "       'f' : [np.nan,    -7, -10,    -8,np.nan],\n",
        "       'g' : [np.nan,     8,   3,     9,     5],\n",
        "       'h' : [np.nan,     5,   0,np.nan,    -3],\n",
        "       'i' : [     3,np.nan,  -5,    -9,    -7],\n",
        "       'j' : [     0,np.nan,  -6,     3,     9]})\n",
        "n = 3\n",
        "\n",
        "# Solution\n",
        "temp = df.isnull()\n",
        "temp = temp[temp.sum(axis=1) >= n]\n",
        "third_nan = (temp.cumsum(axis=1) == n).idxmax(axis=1, skipna=True)\n",
        "\n",
        "# Visualize\n",
        "display_pandas(third_nan)"
      ],
      "execution_count": null,
      "outputs": [
        {
          "output_type": "display_data",
          "data": {
            "text/html": [
              "\n",
              "  <script src=\"https://ajax.googleapis.com/ajax/libs/jquery/3.5.1/jquery.min.js\"></script>\n",
              "  <link rel=\"stylesheet\" type=\"text/css\" href=\"https://cdn.datatables.net/1.10.21/css/jquery.dataTables.css\">\n",
              "  <script type=\"text/javascript\" charset=\"utf8\" src=\"https://cdn.datatables.net/1.10.21/js/jquery.dataTables.js\"></script>\n",
              "  <table border=\"1\" class=\"dataframe pandas_table_short_unordered cell-border\">\n",
              "  <thead>\n",
              "    <tr style=\"text-align: right;\">\n",
              "      <th></th>\n",
              "      <th></th>\n",
              "    </tr>\n",
              "  </thead>\n",
              "  <tbody>\n",
              "    <tr>\n",
              "      <th>0</th>\n",
              "      <td>f</td>\n",
              "    </tr>\n",
              "    <tr>\n",
              "      <th>1</th>\n",
              "      <td>i</td>\n",
              "    </tr>\n",
              "    <tr>\n",
              "      <th>4</th>\n",
              "      <td>f</td>\n",
              "    </tr>\n",
              "  </tbody>\n",
              "</table>\n",
              "  <script>\n",
              "  $(document).ready( function () {\n",
              "      $('.pandas_table_long_ordered').DataTable({\"autoWidth\": false});\n",
              "      $('.pandas_table_long_ordered').removeClass(\"pandas_table_long_ordered\");\n",
              "      $('.pandas_table_short_ordered').DataTable({\"autoWidth\": false, \"paging\":false, \"searching\":false, \"info\":false});\n",
              "      $('.pandas_table_short_ordered').removeClass(\"pandas_table_short_ordered\");\n",
              "\n",
              "      $('.pandas_table_long_unordered').DataTable({\"autoWidth\": false, \"ordering\":false, \"paging\":true});\n",
              "      $('.pandas_table_long_unordered').removeClass(\"pandas_table_long_unordered\");\n",
              "      $('.pandas_table_short_unordered').DataTable({\"autoWidth\": false, \"paging\":false, \"searching\":false, \"info\":false, \"ordering\":false});\n",
              "      $('.pandas_table_short_unordered').removeClass(\"pandas_table_short_unordered\");\n",
              "  } );\n",
              "  </script>\n",
              "  "
            ],
            "text/plain": [
              "<IPython.core.display.HTML object>"
            ]
          },
          "metadata": {
            "tags": []
          }
        }
      ]
    },
    {
      "cell_type": "markdown",
      "metadata": {
        "id": "e48iw4gU0FrS"
      },
      "source": [
        "##Problem 6."
      ]
    },
    {
      "cell_type": "markdown",
      "metadata": {
        "id": "Rh55ztRj6dGz"
      },
      "source": [
        "**Problem:**\n",
        "A DataFrame has a column \"groups\" and a column \"values\" that contains numbers.\n",
        "For each group, find the sum of the three greatest values."
      ]
    },
    {
      "cell_type": "code",
      "metadata": {
        "id": "LNRnfYEV0FrS"
      },
      "source": [
        "import numpy as np\n",
        "import pandas as pd\n",
        "\n",
        "# Input\n",
        "df = pd.DataFrame({'groups': list('aaabbcaabcccbbc'),\n",
        "                   'values': [12,345,3,1,45,14,4,52,54,23,235,21,57,3,87]})\n",
        "\n",
        "# Enter your code here\n",
        "sums =\n",
        "\n",
        "# Visualize\n",
        "display_pandas(sums)"
      ],
      "execution_count": null,
      "outputs": []
    },
    {
      "cell_type": "code",
      "metadata": {
        "id": "AVw6EHTP0FrU",
        "cellView": "form",
        "colab": {
          "base_uri": "https://localhost:8080/",
          "height": 195
        },
        "outputId": "7ec7d55e-2671-4b75-8f72-36cf8d09cba4"
      },
      "source": [
        "#@title Solution (double-click to open)\n",
        "\n",
        "import numpy as np\n",
        "import pandas as pd\n",
        "\n",
        "# Input\n",
        "df = pd.DataFrame({'groups': list('aaabbcaabcccbbc'),\n",
        "                   'values': [12,345,3,1,45,14,4,52,54,23,235,21,57,3,87]})\n",
        "\n",
        "# Solution\n",
        "sums = df.groupby('groups')['values'].nlargest(3).sum(level=0)\n",
        "\n",
        "# Visualize\n",
        "display_pandas(sums)"
      ],
      "execution_count": null,
      "outputs": [
        {
          "output_type": "display_data",
          "data": {
            "text/html": [
              "\n",
              "  <script src=\"https://ajax.googleapis.com/ajax/libs/jquery/3.5.1/jquery.min.js\"></script>\n",
              "  <link rel=\"stylesheet\" type=\"text/css\" href=\"https://cdn.datatables.net/1.10.21/css/jquery.dataTables.css\">\n",
              "  <script type=\"text/javascript\" charset=\"utf8\" src=\"https://cdn.datatables.net/1.10.21/js/jquery.dataTables.js\"></script>\n",
              "  <table border=\"1\" class=\"dataframe pandas_table_short_unordered cell-border\">\n",
              "  <thead>\n",
              "    <tr style=\"text-align: right;\">\n",
              "      <th></th>\n",
              "      <th>values</th>\n",
              "    </tr>\n",
              "    <tr>\n",
              "      <th>groups</th>\n",
              "      <th></th>\n",
              "    </tr>\n",
              "  </thead>\n",
              "  <tbody>\n",
              "    <tr>\n",
              "      <th>a</th>\n",
              "      <td>409</td>\n",
              "    </tr>\n",
              "    <tr>\n",
              "      <th>b</th>\n",
              "      <td>156</td>\n",
              "    </tr>\n",
              "    <tr>\n",
              "      <th>c</th>\n",
              "      <td>345</td>\n",
              "    </tr>\n",
              "  </tbody>\n",
              "</table>\n",
              "  <script>\n",
              "  $(document).ready( function () {\n",
              "      $('.pandas_table_long_ordered').DataTable({\"autoWidth\": false});\n",
              "      $('.pandas_table_long_ordered').removeClass(\"pandas_table_long_ordered\");\n",
              "      $('.pandas_table_short_ordered').DataTable({\"autoWidth\": false, \"paging\":false, \"searching\":false, \"info\":false});\n",
              "      $('.pandas_table_short_ordered').removeClass(\"pandas_table_short_ordered\");\n",
              "\n",
              "      $('.pandas_table_long_unordered').DataTable({\"autoWidth\": false, \"ordering\":false, \"paging\":true});\n",
              "      $('.pandas_table_long_unordered').removeClass(\"pandas_table_long_unordered\");\n",
              "      $('.pandas_table_short_unordered').DataTable({\"autoWidth\": false, \"paging\":false, \"searching\":false, \"info\":false, \"ordering\":false});\n",
              "      $('.pandas_table_short_unordered').removeClass(\"pandas_table_short_unordered\");\n",
              "  } );\n",
              "  </script>\n",
              "  "
            ],
            "text/plain": [
              "<IPython.core.display.HTML object>"
            ]
          },
          "metadata": {
            "tags": []
          }
        }
      ]
    },
    {
      "cell_type": "markdown",
      "metadata": {
        "id": "O-8-zOpJ0FrX"
      },
      "source": [
        "##Problem 7."
      ]
    },
    {
      "cell_type": "markdown",
      "metadata": {
        "id": "338cJCi89gYT"
      },
      "source": [
        "**Problem:**\n",
        "A DataFrame has two integer columns 'A' and 'B'.\n",
        "The values in 'A' are between 1 and 100 (inclusive).\n",
        "For each group of 10 consecutive integers in 'A' (i.e. `(0, 10]`, `(10, 20]`, ...), calculate the sum of the corresponding values\n",
        "in column 'B'.\n"
      ]
    },
    {
      "cell_type": "code",
      "metadata": {
        "id": "69Py3xMa0FrX"
      },
      "source": [
        "import numpy as np\n",
        "import pandas as pd\n",
        "\n",
        "# Input\n",
        "df = pd.DataFrame({'A': np.arange(1, 101),\n",
        "                   'B': [2.0**(-n) for n in range(1, 101)]})\n",
        "\n",
        "# Enter your code here\n",
        "sums =\n",
        "\n",
        "# Visualize\n",
        "display_pandas(sums)"
      ],
      "execution_count": null,
      "outputs": []
    },
    {
      "cell_type": "code",
      "metadata": {
        "id": "lwrdWcS30FrY",
        "cellView": "form",
        "colab": {
          "base_uri": "https://localhost:8080/",
          "height": 433
        },
        "outputId": "9d1aff02-3b7d-4c23-d885-8a74b8906d65"
      },
      "source": [
        "#@title Solution (double-click to open)\n",
        "\n",
        "import numpy as np\n",
        "import pandas as pd\n",
        "\n",
        "# Input\n",
        "df = pd.DataFrame({'A': np.arange(1, 101),\n",
        "                   'B': [2.0**(-n) for n in range(1, 101)]})\n",
        "\n",
        "# Solution\n",
        "sums = df.groupby(pd.cut(df['A'], np.arange(0, 101, 10)))['B'].sum()\n",
        "\n",
        "# Visualize\n",
        "display_pandas(sums)"
      ],
      "execution_count": null,
      "outputs": [
        {
          "output_type": "display_data",
          "data": {
            "text/html": [
              "\n",
              "  <script src=\"https://ajax.googleapis.com/ajax/libs/jquery/3.5.1/jquery.min.js\"></script>\n",
              "  <link rel=\"stylesheet\" type=\"text/css\" href=\"https://cdn.datatables.net/1.10.21/css/jquery.dataTables.css\">\n",
              "  <script type=\"text/javascript\" charset=\"utf8\" src=\"https://cdn.datatables.net/1.10.21/js/jquery.dataTables.js\"></script>\n",
              "  <table border=\"1\" class=\"dataframe pandas_table_short_unordered cell-border\">\n",
              "  <thead>\n",
              "    <tr style=\"text-align: right;\">\n",
              "      <th></th>\n",
              "      <th>B</th>\n",
              "    </tr>\n",
              "    <tr>\n",
              "      <th>A</th>\n",
              "      <th></th>\n",
              "    </tr>\n",
              "  </thead>\n",
              "  <tbody>\n",
              "    <tr>\n",
              "      <th>(0, 10]</th>\n",
              "      <td>9.990234e-01</td>\n",
              "    </tr>\n",
              "    <tr>\n",
              "      <th>(10, 20]</th>\n",
              "      <td>9.756088e-04</td>\n",
              "    </tr>\n",
              "    <tr>\n",
              "      <th>(20, 30]</th>\n",
              "      <td>9.527430e-07</td>\n",
              "    </tr>\n",
              "    <tr>\n",
              "      <th>(30, 40]</th>\n",
              "      <td>9.304131e-10</td>\n",
              "    </tr>\n",
              "    <tr>\n",
              "      <th>(40, 50]</th>\n",
              "      <td>9.086065e-13</td>\n",
              "    </tr>\n",
              "    <tr>\n",
              "      <th>(50, 60]</th>\n",
              "      <td>8.873111e-16</td>\n",
              "    </tr>\n",
              "    <tr>\n",
              "      <th>(60, 70]</th>\n",
              "      <td>8.665147e-19</td>\n",
              "    </tr>\n",
              "    <tr>\n",
              "      <th>(70, 80]</th>\n",
              "      <td>8.462058e-22</td>\n",
              "    </tr>\n",
              "    <tr>\n",
              "      <th>(80, 90]</th>\n",
              "      <td>8.263728e-25</td>\n",
              "    </tr>\n",
              "    <tr>\n",
              "      <th>(90, 100]</th>\n",
              "      <td>8.070047e-28</td>\n",
              "    </tr>\n",
              "  </tbody>\n",
              "</table>\n",
              "  <script>\n",
              "  $(document).ready( function () {\n",
              "      $('.pandas_table_long_ordered').DataTable({\"autoWidth\": false});\n",
              "      $('.pandas_table_long_ordered').removeClass(\"pandas_table_long_ordered\");\n",
              "      $('.pandas_table_short_ordered').DataTable({\"autoWidth\": false, \"paging\":false, \"searching\":false, \"info\":false});\n",
              "      $('.pandas_table_short_ordered').removeClass(\"pandas_table_short_ordered\");\n",
              "\n",
              "      $('.pandas_table_long_unordered').DataTable({\"autoWidth\": false, \"ordering\":false, \"paging\":true});\n",
              "      $('.pandas_table_long_unordered').removeClass(\"pandas_table_long_unordered\");\n",
              "      $('.pandas_table_short_unordered').DataTable({\"autoWidth\": false, \"paging\":false, \"searching\":false, \"info\":false, \"ordering\":false});\n",
              "      $('.pandas_table_short_unordered').removeClass(\"pandas_table_short_unordered\");\n",
              "  } );\n",
              "  </script>\n",
              "  "
            ],
            "text/plain": [
              "<IPython.core.display.HTML object>"
            ]
          },
          "metadata": {
            "tags": []
          }
        }
      ]
    },
    {
      "cell_type": "markdown",
      "metadata": {
        "id": "q9UEzPxW0FrZ"
      },
      "source": [
        "# DataFrames: harder problems\n",
        "\n",
        "Difficulty: **hard**"
      ]
    },
    {
      "cell_type": "code",
      "metadata": {
        "cellView": "form",
        "id": "Mzmmbw3HB3u8",
        "colab": {
          "base_uri": "https://localhost:8080/",
          "height": 51
        },
        "outputId": "342de472-ce18-4726-c3c9-0119ead33849"
      },
      "source": [
        "#@title Difficulty:\n",
        "%%html\n",
        "\n",
        "<svg width=\"25mm\" height=\"8mm\" version=\"1.1\" viewBox=\"0 0 38.506 12.662\" xmlns=\"http://www.w3.org/2000/svg\">\n",
        " <g transform=\"translate(-13.418 -11.061)\">\n",
        "  <rect x=\"13.418\" y=\"11.061\" width=\"38.506\" height=\"12.662\" rx=\"2.3559\" fill=\"#d30000\"/>\n",
        "  <text x=\"23.045841\" y=\"20.127415\" fill=\"#ffffff\" font-family=\"Verdana\" font-size=\"8.531px\" letter-spacing=\"0px\" stroke-width=\".26458\" word-spacing=\"0px\" style=\"line-height:1.25\" xml:space=\"preserve\"><tspan x=\"23.045841\" y=\"20.127415\" fill=\"#ffffff\" font-family=\"'Courier New'\" font-size=\"8.531px\" font-weight=\"bold\" stroke-width=\".26458\" style=\"font-feature-settings:normal;font-variant-caps:normal;font-variant-ligatures:normal;font-variant-numeric:normal\">HARD</tspan></text>\n",
        " </g>\n",
        "</svg>\n"
      ],
      "execution_count": null,
      "outputs": [
        {
          "output_type": "display_data",
          "data": {
            "text/html": [
              "\n",
              "<svg width=\"25mm\" height=\"8mm\" version=\"1.1\" viewBox=\"0 0 38.506 12.662\" xmlns=\"http://www.w3.org/2000/svg\">\n",
              " <g transform=\"translate(-13.418 -11.061)\">\n",
              "  <rect x=\"13.418\" y=\"11.061\" width=\"38.506\" height=\"12.662\" rx=\"2.3559\" fill=\"#d30000\"/>\n",
              "  <text x=\"23.045841\" y=\"20.127415\" fill=\"#ffffff\" font-family=\"Verdana\" font-size=\"8.531px\" letter-spacing=\"0px\" stroke-width=\".26458\" word-spacing=\"0px\" style=\"line-height:1.25\" xml:space=\"preserve\"><tspan x=\"23.045841\" y=\"20.127415\" fill=\"#ffffff\" font-family=\"'Courier New'\" font-size=\"8.531px\" font-weight=\"bold\" stroke-width=\".26458\" style=\"font-feature-settings:normal;font-variant-caps:normal;font-variant-ligatures:normal;font-variant-numeric:normal\">HARD</tspan></text>\n",
              " </g>\n",
              "</svg>"
            ],
            "text/plain": [
              "<IPython.core.display.HTML object>"
            ]
          },
          "metadata": {
            "tags": []
          }
        }
      ]
    },
    {
      "cell_type": "markdown",
      "metadata": {
        "id": "tdg2iaag0Mgp"
      },
      "source": [
        "##Problem 1.\n",
        "\n"
      ]
    },
    {
      "cell_type": "markdown",
      "metadata": {
        "id": "3tWYLDML3Ap4"
      },
      "source": [
        "**Problem:**\n",
        "Consider a DataFrame df containing an integer column X.\n",
        "Create new column Y containing distance (in rows) to the closest previous zero value in X.\n",
        "If all previous values in column X are nonzero -- set entry in Y equal to the distance to the beginning of the array."
      ]
    },
    {
      "cell_type": "code",
      "metadata": {
        "id": "SfZWZehg0Fra"
      },
      "source": [
        "import numpy as np\n",
        "import pandas as pd\n",
        "\n",
        "# Input\n",
        "df = pd.DataFrame({'X': [7, 2, 0, 3, 4, 2, 5, 0, 3, 4]})\n",
        "\n",
        "# Enter your code here\n",
        "\n",
        "# Visualize\n",
        "display_pandas(df)"
      ],
      "execution_count": null,
      "outputs": []
    },
    {
      "cell_type": "code",
      "metadata": {
        "id": "-1uT2E930Frc",
        "cellView": "form",
        "colab": {
          "base_uri": "https://localhost:8080/",
          "height": 395
        },
        "outputId": "27238091-64e1-43e0-97e4-4f984158e37d"
      },
      "source": [
        "#@title Solution A (double-click to open)\n",
        "\n",
        "import numpy as np\n",
        "import pandas as pd\n",
        "\n",
        "# Input\n",
        "df = pd.DataFrame({'X': [7, 2, 0, 3, 4, 2, 5, 0, 3, 4]})\n",
        "\n",
        "# Solution\n",
        "izero = np.r_[-1, (df['X'] == 0).to_numpy().nonzero()[0]] # indices of zeros\n",
        "idx = np.arange(len(df))\n",
        "df['Y'] = idx - izero[np.searchsorted(izero - 1, idx) - 1]\n",
        "\n",
        "# Visualize\n",
        "display_pandas(df)"
      ],
      "execution_count": null,
      "outputs": [
        {
          "output_type": "display_data",
          "data": {
            "text/html": [
              "\n",
              "  <script src=\"https://ajax.googleapis.com/ajax/libs/jquery/3.5.1/jquery.min.js\"></script>\n",
              "  <link rel=\"stylesheet\" type=\"text/css\" href=\"https://cdn.datatables.net/1.10.21/css/jquery.dataTables.css\">\n",
              "  <script type=\"text/javascript\" charset=\"utf8\" src=\"https://cdn.datatables.net/1.10.21/js/jquery.dataTables.js\"></script>\n",
              "  <table border=\"1\" class=\"dataframe pandas_table_short_unordered cell-border\">\n",
              "  <thead>\n",
              "    <tr style=\"text-align: right;\">\n",
              "      <th></th>\n",
              "      <th>X</th>\n",
              "      <th>Y</th>\n",
              "    </tr>\n",
              "  </thead>\n",
              "  <tbody>\n",
              "    <tr>\n",
              "      <th>0</th>\n",
              "      <td>7</td>\n",
              "      <td>1</td>\n",
              "    </tr>\n",
              "    <tr>\n",
              "      <th>1</th>\n",
              "      <td>2</td>\n",
              "      <td>2</td>\n",
              "    </tr>\n",
              "    <tr>\n",
              "      <th>2</th>\n",
              "      <td>0</td>\n",
              "      <td>0</td>\n",
              "    </tr>\n",
              "    <tr>\n",
              "      <th>3</th>\n",
              "      <td>3</td>\n",
              "      <td>1</td>\n",
              "    </tr>\n",
              "    <tr>\n",
              "      <th>4</th>\n",
              "      <td>4</td>\n",
              "      <td>2</td>\n",
              "    </tr>\n",
              "    <tr>\n",
              "      <th>5</th>\n",
              "      <td>2</td>\n",
              "      <td>3</td>\n",
              "    </tr>\n",
              "    <tr>\n",
              "      <th>6</th>\n",
              "      <td>5</td>\n",
              "      <td>4</td>\n",
              "    </tr>\n",
              "    <tr>\n",
              "      <th>7</th>\n",
              "      <td>0</td>\n",
              "      <td>0</td>\n",
              "    </tr>\n",
              "    <tr>\n",
              "      <th>8</th>\n",
              "      <td>3</td>\n",
              "      <td>1</td>\n",
              "    </tr>\n",
              "    <tr>\n",
              "      <th>9</th>\n",
              "      <td>4</td>\n",
              "      <td>2</td>\n",
              "    </tr>\n",
              "  </tbody>\n",
              "</table>\n",
              "  <script>\n",
              "  $(document).ready( function () {\n",
              "      $('.pandas_table_long_ordered').DataTable({\"autoWidth\": false});\n",
              "      $('.pandas_table_long_ordered').removeClass(\"pandas_table_long_ordered\");\n",
              "      $('.pandas_table_short_ordered').DataTable({\"autoWidth\": false, \"paging\":false, \"searching\":false, \"info\":false});\n",
              "      $('.pandas_table_short_ordered').removeClass(\"pandas_table_short_ordered\");\n",
              "\n",
              "      $('.pandas_table_long_unordered').DataTable({\"autoWidth\": false, \"ordering\":false, \"paging\":true});\n",
              "      $('.pandas_table_long_unordered').removeClass(\"pandas_table_long_unordered\");\n",
              "      $('.pandas_table_short_unordered').DataTable({\"autoWidth\": false, \"paging\":false, \"searching\":false, \"info\":false, \"ordering\":false});\n",
              "      $('.pandas_table_short_unordered').removeClass(\"pandas_table_short_unordered\");\n",
              "  } );\n",
              "  </script>\n",
              "  "
            ],
            "text/plain": [
              "<IPython.core.display.HTML object>"
            ]
          },
          "metadata": {
            "tags": []
          }
        }
      ]
    },
    {
      "cell_type": "code",
      "metadata": {
        "id": "qfLUKPMh0Frf",
        "cellView": "form",
        "colab": {
          "base_uri": "https://localhost:8080/",
          "height": 395
        },
        "outputId": "66f24282-48e8-4a0b-980e-0733470aa24e"
      },
      "source": [
        "#@title Solution B (double-click to open)\n",
        "\n",
        "import numpy as np\n",
        "import pandas as pd\n",
        "\n",
        "# Input\n",
        "df = pd.DataFrame({'X': [7, 2, 0, 3, 4, 2, 5, 0, 3, 4]})\n",
        "\n",
        "# Solution\n",
        "izero = np.r_[-1, (df['X'] == 0).to_numpy().nonzero()[0]] # indices of zeros\n",
        "idx = np.arange(len(df))\n",
        "df['Y'] = idx - izero[np.searchsorted(izero - 1, idx) - 1]\n",
        "\n",
        "# Visualize\n",
        "display_pandas(df)"
      ],
      "execution_count": null,
      "outputs": [
        {
          "output_type": "display_data",
          "data": {
            "text/html": [
              "\n",
              "  <script src=\"https://ajax.googleapis.com/ajax/libs/jquery/3.5.1/jquery.min.js\"></script>\n",
              "  <link rel=\"stylesheet\" type=\"text/css\" href=\"https://cdn.datatables.net/1.10.21/css/jquery.dataTables.css\">\n",
              "  <script type=\"text/javascript\" charset=\"utf8\" src=\"https://cdn.datatables.net/1.10.21/js/jquery.dataTables.js\"></script>\n",
              "  <table border=\"1\" class=\"dataframe pandas_table_short_unordered cell-border\">\n",
              "  <thead>\n",
              "    <tr style=\"text-align: right;\">\n",
              "      <th></th>\n",
              "      <th>X</th>\n",
              "      <th>Y</th>\n",
              "    </tr>\n",
              "  </thead>\n",
              "  <tbody>\n",
              "    <tr>\n",
              "      <th>0</th>\n",
              "      <td>7</td>\n",
              "      <td>1</td>\n",
              "    </tr>\n",
              "    <tr>\n",
              "      <th>1</th>\n",
              "      <td>2</td>\n",
              "      <td>2</td>\n",
              "    </tr>\n",
              "    <tr>\n",
              "      <th>2</th>\n",
              "      <td>0</td>\n",
              "      <td>0</td>\n",
              "    </tr>\n",
              "    <tr>\n",
              "      <th>3</th>\n",
              "      <td>3</td>\n",
              "      <td>1</td>\n",
              "    </tr>\n",
              "    <tr>\n",
              "      <th>4</th>\n",
              "      <td>4</td>\n",
              "      <td>2</td>\n",
              "    </tr>\n",
              "    <tr>\n",
              "      <th>5</th>\n",
              "      <td>2</td>\n",
              "      <td>3</td>\n",
              "    </tr>\n",
              "    <tr>\n",
              "      <th>6</th>\n",
              "      <td>5</td>\n",
              "      <td>4</td>\n",
              "    </tr>\n",
              "    <tr>\n",
              "      <th>7</th>\n",
              "      <td>0</td>\n",
              "      <td>0</td>\n",
              "    </tr>\n",
              "    <tr>\n",
              "      <th>8</th>\n",
              "      <td>3</td>\n",
              "      <td>1</td>\n",
              "    </tr>\n",
              "    <tr>\n",
              "      <th>9</th>\n",
              "      <td>4</td>\n",
              "      <td>2</td>\n",
              "    </tr>\n",
              "  </tbody>\n",
              "</table>\n",
              "  <script>\n",
              "  $(document).ready( function () {\n",
              "      $('.pandas_table_long_ordered').DataTable({\"autoWidth\": false});\n",
              "      $('.pandas_table_long_ordered').removeClass(\"pandas_table_long_ordered\");\n",
              "      $('.pandas_table_short_ordered').DataTable({\"autoWidth\": false, \"paging\":false, \"searching\":false, \"info\":false});\n",
              "      $('.pandas_table_short_ordered').removeClass(\"pandas_table_short_ordered\");\n",
              "\n",
              "      $('.pandas_table_long_unordered').DataTable({\"autoWidth\": false, \"ordering\":false, \"paging\":true});\n",
              "      $('.pandas_table_long_unordered').removeClass(\"pandas_table_long_unordered\");\n",
              "      $('.pandas_table_short_unordered').DataTable({\"autoWidth\": false, \"paging\":false, \"searching\":false, \"info\":false, \"ordering\":false});\n",
              "      $('.pandas_table_short_unordered').removeClass(\"pandas_table_short_unordered\");\n",
              "  } );\n",
              "  </script>\n",
              "  "
            ],
            "text/plain": [
              "<IPython.core.display.HTML object>"
            ]
          },
          "metadata": {
            "tags": []
          }
        }
      ]
    },
    {
      "cell_type": "code",
      "metadata": {
        "id": "i_qUAsFF0Fri",
        "cellView": "form",
        "colab": {
          "base_uri": "https://localhost:8080/",
          "height": 395
        },
        "outputId": "2c1b1bab-06de-4564-ab19-871f10fb9e0a"
      },
      "source": [
        "#@title Solution C (double-click to open)\n",
        "\n",
        "import numpy as np\n",
        "import pandas as pd\n",
        "\n",
        "# Input\n",
        "df = pd.DataFrame({'X': [7, 2, 0, 3, 4, 2, 5, 0, 3, 4]})\n",
        "\n",
        "# Solution\n",
        "x = (df['X'] != 0).cumsum()\n",
        "y = x != x.shift()\n",
        "df['Y'] = y.groupby((y != y.shift()).cumsum()).cumsum().astype('int')\n",
        "\n",
        "# Visualize\n",
        "display_pandas(df)"
      ],
      "execution_count": null,
      "outputs": [
        {
          "output_type": "display_data",
          "data": {
            "text/html": [
              "\n",
              "  <script src=\"https://ajax.googleapis.com/ajax/libs/jquery/3.5.1/jquery.min.js\"></script>\n",
              "  <link rel=\"stylesheet\" type=\"text/css\" href=\"https://cdn.datatables.net/1.10.21/css/jquery.dataTables.css\">\n",
              "  <script type=\"text/javascript\" charset=\"utf8\" src=\"https://cdn.datatables.net/1.10.21/js/jquery.dataTables.js\"></script>\n",
              "  <table border=\"1\" class=\"dataframe pandas_table_short_unordered cell-border\">\n",
              "  <thead>\n",
              "    <tr style=\"text-align: right;\">\n",
              "      <th></th>\n",
              "      <th>X</th>\n",
              "      <th>Y</th>\n",
              "    </tr>\n",
              "  </thead>\n",
              "  <tbody>\n",
              "    <tr>\n",
              "      <th>0</th>\n",
              "      <td>7</td>\n",
              "      <td>1</td>\n",
              "    </tr>\n",
              "    <tr>\n",
              "      <th>1</th>\n",
              "      <td>2</td>\n",
              "      <td>2</td>\n",
              "    </tr>\n",
              "    <tr>\n",
              "      <th>2</th>\n",
              "      <td>0</td>\n",
              "      <td>0</td>\n",
              "    </tr>\n",
              "    <tr>\n",
              "      <th>3</th>\n",
              "      <td>3</td>\n",
              "      <td>1</td>\n",
              "    </tr>\n",
              "    <tr>\n",
              "      <th>4</th>\n",
              "      <td>4</td>\n",
              "      <td>2</td>\n",
              "    </tr>\n",
              "    <tr>\n",
              "      <th>5</th>\n",
              "      <td>2</td>\n",
              "      <td>3</td>\n",
              "    </tr>\n",
              "    <tr>\n",
              "      <th>6</th>\n",
              "      <td>5</td>\n",
              "      <td>4</td>\n",
              "    </tr>\n",
              "    <tr>\n",
              "      <th>7</th>\n",
              "      <td>0</td>\n",
              "      <td>0</td>\n",
              "    </tr>\n",
              "    <tr>\n",
              "      <th>8</th>\n",
              "      <td>3</td>\n",
              "      <td>1</td>\n",
              "    </tr>\n",
              "    <tr>\n",
              "      <th>9</th>\n",
              "      <td>4</td>\n",
              "      <td>2</td>\n",
              "    </tr>\n",
              "  </tbody>\n",
              "</table>\n",
              "  <script>\n",
              "  $(document).ready( function () {\n",
              "      $('.pandas_table_long_ordered').DataTable({\"autoWidth\": false});\n",
              "      $('.pandas_table_long_ordered').removeClass(\"pandas_table_long_ordered\");\n",
              "      $('.pandas_table_short_ordered').DataTable({\"autoWidth\": false, \"paging\":false, \"searching\":false, \"info\":false});\n",
              "      $('.pandas_table_short_ordered').removeClass(\"pandas_table_short_ordered\");\n",
              "\n",
              "      $('.pandas_table_long_unordered').DataTable({\"autoWidth\": false, \"ordering\":false, \"paging\":true});\n",
              "      $('.pandas_table_long_unordered').removeClass(\"pandas_table_long_unordered\");\n",
              "      $('.pandas_table_short_unordered').DataTable({\"autoWidth\": false, \"paging\":false, \"searching\":false, \"info\":false, \"ordering\":false});\n",
              "      $('.pandas_table_short_unordered').removeClass(\"pandas_table_short_unordered\");\n",
              "  } );\n",
              "  </script>\n",
              "  "
            ],
            "text/plain": [
              "<IPython.core.display.HTML object>"
            ]
          },
          "metadata": {
            "tags": []
          }
        }
      ]
    },
    {
      "cell_type": "code",
      "metadata": {
        "id": "KZ59W6U40Frk",
        "cellView": "form",
        "colab": {
          "base_uri": "https://localhost:8080/",
          "height": 395
        },
        "outputId": "715b6bd6-0b8b-4f8b-be8b-6970d288018e"
      },
      "source": [
        "#@title Solution D (double-click to open)\n",
        "\n",
        "import numpy as np\n",
        "import pandas as pd\n",
        "\n",
        "# Input\n",
        "df = pd.DataFrame({'X': [7, 2, 0, 3, 4, 2, 5, 0, 3, 4]})\n",
        "\n",
        "# Solution\n",
        "df['Y'] = df.groupby((df['X'] == 0).cumsum()).cumcount()\n",
        "# We're off by one before we reach the first zero.\n",
        "first_zero_idx = (df['X'] == 0).idxmax()\n",
        "df['Y'].iloc[0:first_zero_idx] += 1\n",
        "\n",
        "# Visualize\n",
        "display_pandas(df)"
      ],
      "execution_count": null,
      "outputs": [
        {
          "output_type": "display_data",
          "data": {
            "text/html": [
              "\n",
              "  <script src=\"https://ajax.googleapis.com/ajax/libs/jquery/3.5.1/jquery.min.js\"></script>\n",
              "  <link rel=\"stylesheet\" type=\"text/css\" href=\"https://cdn.datatables.net/1.10.21/css/jquery.dataTables.css\">\n",
              "  <script type=\"text/javascript\" charset=\"utf8\" src=\"https://cdn.datatables.net/1.10.21/js/jquery.dataTables.js\"></script>\n",
              "  <table border=\"1\" class=\"dataframe pandas_table_short_unordered cell-border\">\n",
              "  <thead>\n",
              "    <tr style=\"text-align: right;\">\n",
              "      <th></th>\n",
              "      <th>X</th>\n",
              "      <th>Y</th>\n",
              "    </tr>\n",
              "  </thead>\n",
              "  <tbody>\n",
              "    <tr>\n",
              "      <th>0</th>\n",
              "      <td>7</td>\n",
              "      <td>1</td>\n",
              "    </tr>\n",
              "    <tr>\n",
              "      <th>1</th>\n",
              "      <td>2</td>\n",
              "      <td>2</td>\n",
              "    </tr>\n",
              "    <tr>\n",
              "      <th>2</th>\n",
              "      <td>0</td>\n",
              "      <td>0</td>\n",
              "    </tr>\n",
              "    <tr>\n",
              "      <th>3</th>\n",
              "      <td>3</td>\n",
              "      <td>1</td>\n",
              "    </tr>\n",
              "    <tr>\n",
              "      <th>4</th>\n",
              "      <td>4</td>\n",
              "      <td>2</td>\n",
              "    </tr>\n",
              "    <tr>\n",
              "      <th>5</th>\n",
              "      <td>2</td>\n",
              "      <td>3</td>\n",
              "    </tr>\n",
              "    <tr>\n",
              "      <th>6</th>\n",
              "      <td>5</td>\n",
              "      <td>4</td>\n",
              "    </tr>\n",
              "    <tr>\n",
              "      <th>7</th>\n",
              "      <td>0</td>\n",
              "      <td>0</td>\n",
              "    </tr>\n",
              "    <tr>\n",
              "      <th>8</th>\n",
              "      <td>3</td>\n",
              "      <td>1</td>\n",
              "    </tr>\n",
              "    <tr>\n",
              "      <th>9</th>\n",
              "      <td>4</td>\n",
              "      <td>2</td>\n",
              "    </tr>\n",
              "  </tbody>\n",
              "</table>\n",
              "  <script>\n",
              "  $(document).ready( function () {\n",
              "      $('.pandas_table_long_ordered').DataTable({\"autoWidth\": false});\n",
              "      $('.pandas_table_long_ordered').removeClass(\"pandas_table_long_ordered\");\n",
              "      $('.pandas_table_short_ordered').DataTable({\"autoWidth\": false, \"paging\":false, \"searching\":false, \"info\":false});\n",
              "      $('.pandas_table_short_ordered').removeClass(\"pandas_table_short_ordered\");\n",
              "\n",
              "      $('.pandas_table_long_unordered').DataTable({\"autoWidth\": false, \"ordering\":false, \"paging\":true});\n",
              "      $('.pandas_table_long_unordered').removeClass(\"pandas_table_long_unordered\");\n",
              "      $('.pandas_table_short_unordered').DataTable({\"autoWidth\": false, \"paging\":false, \"searching\":false, \"info\":false, \"ordering\":false});\n",
              "      $('.pandas_table_short_unordered').removeClass(\"pandas_table_short_unordered\");\n",
              "  } );\n",
              "  </script>\n",
              "  "
            ],
            "text/plain": [
              "<IPython.core.display.HTML object>"
            ]
          },
          "metadata": {
            "tags": []
          }
        }
      ]
    },
    {
      "cell_type": "markdown",
      "metadata": {
        "id": "zL7-OSb30Frk"
      },
      "source": [
        "##Problem 2."
      ]
    },
    {
      "cell_type": "markdown",
      "metadata": {
        "id": "CPLups1rcuWf"
      },
      "source": [
        "**Problem:**\n",
        "Consider a DataFrame containing rows and columns of purely numerical data.\n",
        "Create a list of the row-column index locations of the 3 largest values.\n",
        "\n"
      ]
    },
    {
      "cell_type": "code",
      "metadata": {
        "id": "L3K7BcQT0Frk"
      },
      "source": [
        "import numpy as np\n",
        "import pandas as pd\n",
        "\n",
        "# Input\n",
        "df = pd.DataFrame({\n",
        "       'a' : [  2,  -4,  -7, -10,   9],\n",
        "       'b' : [  7,  -9,  -7,  -7,  -4],\n",
        "       'c' : [ -8,  10,  -8,   5,  -3],\n",
        "       'd' : [  3,  -8,   5,  -4, -10],\n",
        "       'e' : [  9,   3,  -5,  -9,   6],\n",
        "       'f' : [ -1,  -7, -10,  -8,  10],\n",
        "       'g' : [  1,   8,   3,   9,   5],\n",
        "       'h' : [  3,   5,   0,   1,  -3],\n",
        "       'i' : [  3,   4,  -5,  -9,  -7],\n",
        "       'j' : [  0,   4,  -6,   3,   9]})\n",
        "\n",
        "# Enter your code here"
      ],
      "execution_count": null,
      "outputs": []
    },
    {
      "cell_type": "code",
      "metadata": {
        "id": "7br1lcKO0Frl",
        "cellView": "form",
        "colab": {
          "base_uri": "https://localhost:8080/",
          "height": 34
        },
        "outputId": "65736a89-e3e0-417a-c75f-4fb1f508c518"
      },
      "source": [
        "#@title Solution (double-click to open)\n",
        "\n",
        "import numpy as np\n",
        "import pandas as pd\n",
        "\n",
        "# Input\n",
        "df = pd.DataFrame({\n",
        "       'a' : [  2,  -4,  -7, -10,   9],\n",
        "       'b' : [  7,  -9,  -7,  -7,  -4],\n",
        "       'c' : [ -8,  10,  -8,   5,  -3],\n",
        "       'd' : [  3,  -8,   5,  -4, -10],\n",
        "       'e' : [  9,   3,  -5,  -9,   6],\n",
        "       'f' : [ -1,  -7, -10,  -8,  10],\n",
        "       'g' : [  1,   8,   3,   9,   5],\n",
        "       'h' : [  3,   5,   0,   1,  -3],\n",
        "       'i' : [  3,   4,  -5,  -9,  -7],\n",
        "       'j' : [  0,   4,  -6,   3,   9]})\n",
        "\n",
        "# Solution\n",
        "df.unstack().sort_values()[-3:].index.tolist()"
      ],
      "execution_count": null,
      "outputs": [
        {
          "output_type": "execute_result",
          "data": {
            "text/plain": [
              "[('j', 4), ('f', 4), ('c', 1)]"
            ]
          },
          "metadata": {
            "tags": []
          },
          "execution_count": 21
        }
      ]
    },
    {
      "cell_type": "markdown",
      "metadata": {
        "id": "oLUmo5pv0Frm"
      },
      "source": [
        "##Problem 3."
      ]
    },
    {
      "cell_type": "markdown",
      "metadata": {
        "id": "oyygCgTArnOr"
      },
      "source": [
        "**Problem:**\n",
        "Given a DataFrame with a column \"groups\" and a column  \"values\", replace any negative entry in \"values\" column with the group mean over positive values.\n",
        "\n"
      ]
    },
    {
      "cell_type": "code",
      "metadata": {
        "id": "aPJTU5xI0Frm"
      },
      "source": [
        "import numpy as np\n",
        "import pandas as pd\n",
        "\n",
        "# Input\n",
        "df = pd.DataFrame({'groups': list('aaabbcaabcccbbc'),\n",
        "                   'values': [12, -35, -3, 1, -45, 14, 4, 52, 54, -23, 235, 21, 57, -3, 87]})\n",
        "\n",
        "# Enter your code here\n",
        "\n",
        "# Visualize\n",
        "display_pandas(df)"
      ],
      "execution_count": null,
      "outputs": []
    },
    {
      "cell_type": "code",
      "metadata": {
        "id": "heqE7S2S0Frn",
        "cellView": "form",
        "colab": {
          "base_uri": "https://localhost:8080/",
          "height": 451
        },
        "outputId": "46befd7f-24ed-4db5-ffd8-603a221ee19c"
      },
      "source": [
        "#@title Solution (double-click to open)\n",
        "\n",
        "import numpy as np\n",
        "import pandas as pd\n",
        "\n",
        "# Input\n",
        "df = pd.DataFrame({'groups': list('aaabbcaabcccbbc'),\n",
        "                   'values': [12, -35, -3, 1, -45, 14, 4, 52, 54, -23, 235, 21, 57, -3, 87]})\n",
        "\n",
        "# Solution\n",
        "def replace(grp):\n",
        "    grp[grp < 0] = grp[grp >= 0].mean()\n",
        "    return grp\n",
        "\n",
        "df['values'] = df.groupby(['groups'])['values'].transform(replace)\n",
        "\n",
        "# Visualize\n",
        "display_pandas(df)"
      ],
      "execution_count": null,
      "outputs": [
        {
          "output_type": "display_data",
          "data": {
            "text/html": [
              "\n",
              "  <script src=\"https://ajax.googleapis.com/ajax/libs/jquery/3.5.1/jquery.min.js\"></script>\n",
              "  <link rel=\"stylesheet\" type=\"text/css\" href=\"https://cdn.datatables.net/1.10.21/css/jquery.dataTables.css\">\n",
              "  <script type=\"text/javascript\" charset=\"utf8\" src=\"https://cdn.datatables.net/1.10.21/js/jquery.dataTables.js\"></script>\n",
              "  <table border=\"1\" class=\"dataframe pandas_table_long_unordered cell-border\">\n",
              "  <thead>\n",
              "    <tr style=\"text-align: right;\">\n",
              "      <th></th>\n",
              "      <th>groups</th>\n",
              "      <th>values</th>\n",
              "    </tr>\n",
              "  </thead>\n",
              "  <tbody>\n",
              "    <tr>\n",
              "      <th>0</th>\n",
              "      <td>a</td>\n",
              "      <td>12.000000</td>\n",
              "    </tr>\n",
              "    <tr>\n",
              "      <th>1</th>\n",
              "      <td>a</td>\n",
              "      <td>22.666667</td>\n",
              "    </tr>\n",
              "    <tr>\n",
              "      <th>2</th>\n",
              "      <td>a</td>\n",
              "      <td>22.666667</td>\n",
              "    </tr>\n",
              "    <tr>\n",
              "      <th>3</th>\n",
              "      <td>b</td>\n",
              "      <td>1.000000</td>\n",
              "    </tr>\n",
              "    <tr>\n",
              "      <th>4</th>\n",
              "      <td>b</td>\n",
              "      <td>37.333333</td>\n",
              "    </tr>\n",
              "    <tr>\n",
              "      <th>5</th>\n",
              "      <td>c</td>\n",
              "      <td>14.000000</td>\n",
              "    </tr>\n",
              "    <tr>\n",
              "      <th>6</th>\n",
              "      <td>a</td>\n",
              "      <td>4.000000</td>\n",
              "    </tr>\n",
              "    <tr>\n",
              "      <th>7</th>\n",
              "      <td>a</td>\n",
              "      <td>52.000000</td>\n",
              "    </tr>\n",
              "    <tr>\n",
              "      <th>8</th>\n",
              "      <td>b</td>\n",
              "      <td>54.000000</td>\n",
              "    </tr>\n",
              "    <tr>\n",
              "      <th>9</th>\n",
              "      <td>c</td>\n",
              "      <td>89.250000</td>\n",
              "    </tr>\n",
              "    <tr>\n",
              "      <th>10</th>\n",
              "      <td>c</td>\n",
              "      <td>235.000000</td>\n",
              "    </tr>\n",
              "    <tr>\n",
              "      <th>11</th>\n",
              "      <td>c</td>\n",
              "      <td>21.000000</td>\n",
              "    </tr>\n",
              "    <tr>\n",
              "      <th>12</th>\n",
              "      <td>b</td>\n",
              "      <td>57.000000</td>\n",
              "    </tr>\n",
              "    <tr>\n",
              "      <th>13</th>\n",
              "      <td>b</td>\n",
              "      <td>37.333333</td>\n",
              "    </tr>\n",
              "    <tr>\n",
              "      <th>14</th>\n",
              "      <td>c</td>\n",
              "      <td>87.000000</td>\n",
              "    </tr>\n",
              "  </tbody>\n",
              "</table>\n",
              "  <script>\n",
              "  $(document).ready( function () {\n",
              "      $('.pandas_table_long_ordered').DataTable({\"autoWidth\": false});\n",
              "      $('.pandas_table_long_ordered').removeClass(\"pandas_table_long_ordered\");\n",
              "      $('.pandas_table_short_ordered').DataTable({\"autoWidth\": false, \"paging\":false, \"searching\":false, \"info\":false});\n",
              "      $('.pandas_table_short_ordered').removeClass(\"pandas_table_short_ordered\");\n",
              "\n",
              "      $('.pandas_table_long_unordered').DataTable({\"autoWidth\": false, \"ordering\":false, \"paging\":true});\n",
              "      $('.pandas_table_long_unordered').removeClass(\"pandas_table_long_unordered\");\n",
              "      $('.pandas_table_short_unordered').DataTable({\"autoWidth\": false, \"paging\":false, \"searching\":false, \"info\":false, \"ordering\":false});\n",
              "      $('.pandas_table_short_unordered').removeClass(\"pandas_table_short_unordered\");\n",
              "  } );\n",
              "  </script>\n",
              "  "
            ],
            "text/plain": [
              "<IPython.core.display.HTML object>"
            ]
          },
          "metadata": {
            "tags": []
          }
        }
      ]
    },
    {
      "cell_type": "markdown",
      "metadata": {
        "id": "NBIAC3rn0Frn"
      },
      "source": [
        "##Problem 4."
      ]
    },
    {
      "cell_type": "markdown",
      "metadata": {
        "id": "R2C_S19hyD3q"
      },
      "source": [
        "**Problem:**\n",
        "Implement a rolling mean over groups with window size 3, which ignores NaN value.\n",
        "Add a 'rolling mean' column to the original dataframe.\n",
        "\n"
      ]
    },
    {
      "cell_type": "code",
      "metadata": {
        "id": "2PE8_VvZ0Frn"
      },
      "source": [
        "import numpy as np\n",
        "import pandas as pd\n",
        "\n",
        "# Input\n",
        "df = pd.DataFrame({'group': list('aabbabbbabab'),\n",
        "                   'value': [1, 2, 3, np.nan, 2, 3, np.nan, 1, 7, 3, np.nan, 8]})\n",
        "\n",
        "# Enter your code here\n",
        "\n",
        "# Visualize\n",
        "display_pandas(df)"
      ],
      "execution_count": null,
      "outputs": []
    },
    {
      "cell_type": "code",
      "metadata": {
        "id": "eJM9xGfX0Fro",
        "cellView": "form",
        "colab": {
          "base_uri": "https://localhost:8080/",
          "height": 451
        },
        "outputId": "5e98d3a7-d3de-4c42-a75e-8c5ed06b90cf"
      },
      "source": [
        "#@title Solution (double-click to open)\n",
        "\n",
        "import numpy as np\n",
        "import pandas as pd\n",
        "\n",
        "# Input\n",
        "df = pd.DataFrame({'group': list('aabbabbbabab'),\n",
        "                   'value': [1, 2, 3, np.nan, 2, 3, np.nan, 1, 7, 3, np.nan, 8]})\n",
        "\n",
        "# Solution\n",
        "g1 = df.groupby(['group'])['value']\n",
        "g2 = df.fillna(0).groupby(['group'])['value']\n",
        "s = g2.rolling(3, min_periods=1).sum() / g1.rolling(3, min_periods=1).count()\n",
        "rolling_means = s.reset_index(level=0, drop=True).sort_index()\n",
        "df['rolling mean'] = rolling_means\n",
        "\n",
        "\n",
        "# Visualize\n",
        "display_pandas(df)"
      ],
      "execution_count": null,
      "outputs": [
        {
          "output_type": "display_data",
          "data": {
            "text/html": [
              "\n",
              "  <script src=\"https://ajax.googleapis.com/ajax/libs/jquery/3.5.1/jquery.min.js\"></script>\n",
              "  <link rel=\"stylesheet\" type=\"text/css\" href=\"https://cdn.datatables.net/1.10.21/css/jquery.dataTables.css\">\n",
              "  <script type=\"text/javascript\" charset=\"utf8\" src=\"https://cdn.datatables.net/1.10.21/js/jquery.dataTables.js\"></script>\n",
              "  <table border=\"1\" class=\"dataframe pandas_table_long_unordered cell-border\">\n",
              "  <thead>\n",
              "    <tr style=\"text-align: right;\">\n",
              "      <th></th>\n",
              "      <th>group</th>\n",
              "      <th>value</th>\n",
              "      <th>rolling mean</th>\n",
              "    </tr>\n",
              "  </thead>\n",
              "  <tbody>\n",
              "    <tr>\n",
              "      <th>0</th>\n",
              "      <td>a</td>\n",
              "      <td>1.0</td>\n",
              "      <td>1.000000</td>\n",
              "    </tr>\n",
              "    <tr>\n",
              "      <th>1</th>\n",
              "      <td>a</td>\n",
              "      <td>2.0</td>\n",
              "      <td>1.500000</td>\n",
              "    </tr>\n",
              "    <tr>\n",
              "      <th>2</th>\n",
              "      <td>b</td>\n",
              "      <td>3.0</td>\n",
              "      <td>3.000000</td>\n",
              "    </tr>\n",
              "    <tr>\n",
              "      <th>3</th>\n",
              "      <td>b</td>\n",
              "      <td>NaN</td>\n",
              "      <td>3.000000</td>\n",
              "    </tr>\n",
              "    <tr>\n",
              "      <th>4</th>\n",
              "      <td>a</td>\n",
              "      <td>2.0</td>\n",
              "      <td>1.666667</td>\n",
              "    </tr>\n",
              "    <tr>\n",
              "      <th>5</th>\n",
              "      <td>b</td>\n",
              "      <td>3.0</td>\n",
              "      <td>3.000000</td>\n",
              "    </tr>\n",
              "    <tr>\n",
              "      <th>6</th>\n",
              "      <td>b</td>\n",
              "      <td>NaN</td>\n",
              "      <td>3.000000</td>\n",
              "    </tr>\n",
              "    <tr>\n",
              "      <th>7</th>\n",
              "      <td>b</td>\n",
              "      <td>1.0</td>\n",
              "      <td>2.000000</td>\n",
              "    </tr>\n",
              "    <tr>\n",
              "      <th>8</th>\n",
              "      <td>a</td>\n",
              "      <td>7.0</td>\n",
              "      <td>3.666667</td>\n",
              "    </tr>\n",
              "    <tr>\n",
              "      <th>9</th>\n",
              "      <td>b</td>\n",
              "      <td>3.0</td>\n",
              "      <td>2.000000</td>\n",
              "    </tr>\n",
              "    <tr>\n",
              "      <th>10</th>\n",
              "      <td>a</td>\n",
              "      <td>NaN</td>\n",
              "      <td>4.500000</td>\n",
              "    </tr>\n",
              "    <tr>\n",
              "      <th>11</th>\n",
              "      <td>b</td>\n",
              "      <td>8.0</td>\n",
              "      <td>4.000000</td>\n",
              "    </tr>\n",
              "  </tbody>\n",
              "</table>\n",
              "  <script>\n",
              "  $(document).ready( function () {\n",
              "      $('.pandas_table_long_ordered').DataTable({\"autoWidth\": false});\n",
              "      $('.pandas_table_long_ordered').removeClass(\"pandas_table_long_ordered\");\n",
              "      $('.pandas_table_short_ordered').DataTable({\"autoWidth\": false, \"paging\":false, \"searching\":false, \"info\":false});\n",
              "      $('.pandas_table_short_ordered').removeClass(\"pandas_table_short_ordered\");\n",
              "\n",
              "      $('.pandas_table_long_unordered').DataTable({\"autoWidth\": false, \"ordering\":false, \"paging\":true});\n",
              "      $('.pandas_table_long_unordered').removeClass(\"pandas_table_long_unordered\");\n",
              "      $('.pandas_table_short_unordered').DataTable({\"autoWidth\": false, \"paging\":false, \"searching\":false, \"info\":false, \"ordering\":false});\n",
              "      $('.pandas_table_short_unordered').removeClass(\"pandas_table_short_unordered\");\n",
              "  } );\n",
              "  </script>\n",
              "  "
            ],
            "text/plain": [
              "<IPython.core.display.HTML object>"
            ]
          },
          "metadata": {
            "tags": []
          }
        }
      ]
    },
    {
      "cell_type": "markdown",
      "metadata": {
        "id": "GCyBw02a0Frr"
      },
      "source": [
        "# Series and DatetimeIndex\n",
        "\n",
        "Difficulty: **easy/medium**"
      ]
    },
    {
      "cell_type": "code",
      "metadata": {
        "cellView": "form",
        "id": "7b0nXUUABt9f",
        "colab": {
          "base_uri": "https://localhost:8080/",
          "height": 51
        },
        "outputId": "1e3ff8fb-fa69-406d-d90a-d549d3e083a0"
      },
      "source": [
        "#@title Difficulty:\n",
        "%%html\n",
        "\n",
        "<svg width=\"25mm\" height=\"8mm\" version=\"1.1\" viewBox=\"0 0 38.506 12.662\" xmlns=\"http://www.w3.org/2000/svg\">\n",
        " <g transform=\"translate(-13.418 -11.061)\">\n",
        "  <rect x=\"13.418\" y=\"11.061\" width=\"38.506\" height=\"12.662\" rx=\"2.3559\" fill=\"#ffa512\"/>\n",
        "  <text x=\"17.290049\" y=\"20.13888\" fill=\"#ffffff\" font-family=\"Verdana\" font-size=\"8.531px\" letter-spacing=\"0px\" stroke-width=\".26458\" word-spacing=\"0px\" style=\"line-height:1.25\" xml:space=\"preserve\"><tspan x=\"17.290049\" y=\"20.13888\" fill=\"#ffffff\" font-family=\"'Courier New'\" font-size=\"8.531px\" font-weight=\"bold\" stroke-width=\".26458\" style=\"font-feature-settings:normal;font-variant-caps:normal;font-variant-ligatures:normal;font-variant-numeric:normal\">MEDIUM</tspan></text>\n",
        " </g>\n",
        "</svg>\n",
        "\n"
      ],
      "execution_count": null,
      "outputs": [
        {
          "output_type": "display_data",
          "data": {
            "text/html": [
              "\n",
              "<svg width=\"25mm\" height=\"8mm\" version=\"1.1\" viewBox=\"0 0 38.506 12.662\" xmlns=\"http://www.w3.org/2000/svg\">\n",
              " <g transform=\"translate(-13.418 -11.061)\">\n",
              "  <rect x=\"13.418\" y=\"11.061\" width=\"38.506\" height=\"12.662\" rx=\"2.3559\" fill=\"#ffa512\"/>\n",
              "  <text x=\"17.290049\" y=\"20.13888\" fill=\"#ffffff\" font-family=\"Verdana\" font-size=\"8.531px\" letter-spacing=\"0px\" stroke-width=\".26458\" word-spacing=\"0px\" style=\"line-height:1.25\" xml:space=\"preserve\"><tspan x=\"17.290049\" y=\"20.13888\" fill=\"#ffffff\" font-family=\"'Courier New'\" font-size=\"8.531px\" font-weight=\"bold\" stroke-width=\".26458\" style=\"font-feature-settings:normal;font-variant-caps:normal;font-variant-ligatures:normal;font-variant-numeric:normal\">MEDIUM</tspan></text>\n",
              " </g>\n",
              "</svg>\n"
            ],
            "text/plain": [
              "<IPython.core.display.HTML object>"
            ]
          },
          "metadata": {
            "tags": []
          }
        }
      ]
    },
    {
      "cell_type": "markdown",
      "metadata": {
        "id": "CSrPU7zP-lpo"
      },
      "source": [
        "##Problem 1."
      ]
    },
    {
      "cell_type": "markdown",
      "metadata": {
        "id": "VHCu3XFy-h0v"
      },
      "source": [
        "**Problem:**\n",
        "Create a DatetimeIndex that contains each business day between '2019-06-01' and '2019-07-01'.\n",
        "Use it to index a Series of of consequtive numbers starting at 1 (i.e. enumerate each business day)."
      ]
    },
    {
      "cell_type": "code",
      "metadata": {
        "id": "laFf1Pc60Frs"
      },
      "source": [
        "import numpy as np\n",
        "import pandas as pd\n",
        "\n",
        "# Enter your code here\n",
        "series =\n",
        "\n",
        "# Visualize\n",
        "display_pandas(series)"
      ],
      "execution_count": null,
      "outputs": []
    },
    {
      "cell_type": "code",
      "metadata": {
        "id": "zn8WxJDG0Frs",
        "cellView": "form",
        "colab": {
          "base_uri": "https://localhost:8080/",
          "height": 434
        },
        "outputId": "1ad5c4c4-f451-4d7c-f642-3bea009b6fa6"
      },
      "source": [
        "#@title Solution (double-click to open)\n",
        "\n",
        "import numpy as np\n",
        "import pandas as pd\n",
        "\n",
        "# Solution\n",
        "dti = pd.date_range(start='2019-06-01', end='2019-07-01', freq='B')\n",
        "series = pd.Series(1 + np.arange(len(dti)), index=dti)\n",
        "\n",
        "# Visualize\n",
        "display_pandas(series)"
      ],
      "execution_count": null,
      "outputs": [
        {
          "output_type": "display_data",
          "data": {
            "text/html": [
              "\n",
              "  <script src=\"https://ajax.googleapis.com/ajax/libs/jquery/3.5.1/jquery.min.js\"></script>\n",
              "  <link rel=\"stylesheet\" type=\"text/css\" href=\"https://cdn.datatables.net/1.10.21/css/jquery.dataTables.css\">\n",
              "  <script type=\"text/javascript\" charset=\"utf8\" src=\"https://cdn.datatables.net/1.10.21/js/jquery.dataTables.js\"></script>\n",
              "  <table border=\"1\" class=\"dataframe pandas_table_long_unordered cell-border\">\n",
              "  <thead>\n",
              "    <tr style=\"text-align: right;\">\n",
              "      <th></th>\n",
              "      <th></th>\n",
              "    </tr>\n",
              "  </thead>\n",
              "  <tbody>\n",
              "    <tr>\n",
              "      <th>2019-06-03</th>\n",
              "      <td>1</td>\n",
              "    </tr>\n",
              "    <tr>\n",
              "      <th>2019-06-04</th>\n",
              "      <td>2</td>\n",
              "    </tr>\n",
              "    <tr>\n",
              "      <th>2019-06-05</th>\n",
              "      <td>3</td>\n",
              "    </tr>\n",
              "    <tr>\n",
              "      <th>2019-06-06</th>\n",
              "      <td>4</td>\n",
              "    </tr>\n",
              "    <tr>\n",
              "      <th>2019-06-07</th>\n",
              "      <td>5</td>\n",
              "    </tr>\n",
              "    <tr>\n",
              "      <th>2019-06-10</th>\n",
              "      <td>6</td>\n",
              "    </tr>\n",
              "    <tr>\n",
              "      <th>2019-06-11</th>\n",
              "      <td>7</td>\n",
              "    </tr>\n",
              "    <tr>\n",
              "      <th>2019-06-12</th>\n",
              "      <td>8</td>\n",
              "    </tr>\n",
              "    <tr>\n",
              "      <th>2019-06-13</th>\n",
              "      <td>9</td>\n",
              "    </tr>\n",
              "    <tr>\n",
              "      <th>2019-06-14</th>\n",
              "      <td>10</td>\n",
              "    </tr>\n",
              "    <tr>\n",
              "      <th>2019-06-17</th>\n",
              "      <td>11</td>\n",
              "    </tr>\n",
              "    <tr>\n",
              "      <th>2019-06-18</th>\n",
              "      <td>12</td>\n",
              "    </tr>\n",
              "    <tr>\n",
              "      <th>2019-06-19</th>\n",
              "      <td>13</td>\n",
              "    </tr>\n",
              "    <tr>\n",
              "      <th>2019-06-20</th>\n",
              "      <td>14</td>\n",
              "    </tr>\n",
              "    <tr>\n",
              "      <th>2019-06-21</th>\n",
              "      <td>15</td>\n",
              "    </tr>\n",
              "    <tr>\n",
              "      <th>2019-06-24</th>\n",
              "      <td>16</td>\n",
              "    </tr>\n",
              "    <tr>\n",
              "      <th>2019-06-25</th>\n",
              "      <td>17</td>\n",
              "    </tr>\n",
              "    <tr>\n",
              "      <th>2019-06-26</th>\n",
              "      <td>18</td>\n",
              "    </tr>\n",
              "    <tr>\n",
              "      <th>2019-06-27</th>\n",
              "      <td>19</td>\n",
              "    </tr>\n",
              "    <tr>\n",
              "      <th>2019-06-28</th>\n",
              "      <td>20</td>\n",
              "    </tr>\n",
              "    <tr>\n",
              "      <th>2019-07-01</th>\n",
              "      <td>21</td>\n",
              "    </tr>\n",
              "  </tbody>\n",
              "</table>\n",
              "  <script>\n",
              "  $(document).ready( function () {\n",
              "      $('.pandas_table_long_ordered').DataTable({\"autoWidth\": false});\n",
              "      $('.pandas_table_long_ordered').removeClass(\"pandas_table_long_ordered\");\n",
              "      $('.pandas_table_short_ordered').DataTable({\"autoWidth\": false, \"paging\":false, \"searching\":false, \"info\":false});\n",
              "      $('.pandas_table_short_ordered').removeClass(\"pandas_table_short_ordered\");\n",
              "\n",
              "      $('.pandas_table_long_unordered').DataTable({\"autoWidth\": false, \"ordering\":false, \"paging\":true});\n",
              "      $('.pandas_table_long_unordered').removeClass(\"pandas_table_long_unordered\");\n",
              "      $('.pandas_table_short_unordered').DataTable({\"autoWidth\": false, \"paging\":false, \"searching\":false, \"info\":false, \"ordering\":false});\n",
              "      $('.pandas_table_short_unordered').removeClass(\"pandas_table_short_unordered\");\n",
              "  } );\n",
              "  </script>\n",
              "  "
            ],
            "text/plain": [
              "<IPython.core.display.HTML object>"
            ]
          },
          "metadata": {
            "tags": []
          }
        }
      ]
    },
    {
      "cell_type": "markdown",
      "metadata": {
        "id": "AY5AKfbY0Fru"
      },
      "source": [
        "##Problem 2."
      ]
    },
    {
      "cell_type": "markdown",
      "metadata": {
        "id": "rZgHEJIArtHz"
      },
      "source": [
        "**Problem:**\n",
        " Find the sum of the values in the given Series for every Wednesday.\n",
        "\n"
      ]
    },
    {
      "cell_type": "code",
      "metadata": {
        "id": "cDxSfzaH0Fru"
      },
      "source": [
        "import numpy as np\n",
        "import pandas as pd\n",
        "\n",
        "# Input\n",
        "dti = pd.date_range(start='2019-06-01', end='2019-07-01', freq='B')\n",
        "s   = pd.Series([0, 4, 8, 9, 9, 5, 1, -3, -7, -9, -9, -7, -2, 2, 6, 9, 9, 7, 4, 0, -5], index=dti)\n",
        "\n",
        "# Enter your code here"
      ],
      "execution_count": null,
      "outputs": []
    },
    {
      "cell_type": "code",
      "metadata": {
        "id": "ftj_VRld0Frv",
        "cellView": "form",
        "colab": {
          "base_uri": "https://localhost:8080/",
          "height": 34
        },
        "outputId": "f6ac500c-4dac-4cf0-dc77-536e947240a2"
      },
      "source": [
        "#@title Solution (double-click to open)\n",
        "\n",
        "import numpy as np\n",
        "import pandas as pd\n",
        "\n",
        "# Input\n",
        "dti = pd.date_range(start='2019-06-01', end='2019-07-01', freq='B')\n",
        "s = pd.Series([0, 4, 8, 9, 9, 5, 1, -3, -7, -9, -9, -7, -2, 2, 6, 9, 9, 7, 4, 0, -5], index=dti)\n",
        "\n",
        "# Solution\n",
        "s[s.index.weekday == 2].sum()"
      ],
      "execution_count": null,
      "outputs": [
        {
          "output_type": "execute_result",
          "data": {
            "text/plain": [
              "10"
            ]
          },
          "metadata": {
            "tags": []
          },
          "execution_count": 3
        }
      ]
    },
    {
      "cell_type": "markdown",
      "metadata": {
        "id": "Di4pY2X80Frw"
      },
      "source": [
        "##Problem 3."
      ]
    },
    {
      "cell_type": "markdown",
      "metadata": {
        "id": "SZg8v1j3Cyut"
      },
      "source": [
        "**Problem:**\n",
        "For each calendar month in series given find the mean of values.\n"
      ]
    },
    {
      "cell_type": "code",
      "metadata": {
        "id": "VIqVsUzo0Frw"
      },
      "source": [
        "import numpy as np\n",
        "import pandas as pd\n",
        "\n",
        "# Input\n",
        "dti = pd.date_range(start='2019-06-01', end='2020-06-30', freq='B')\n",
        "s = pd.Series([int(10.0 * np.sin(idx * 0.1)) for idx in range(len(dti))], index=dti)\n",
        "\n",
        "# Enter your code here\n",
        "means =\n",
        "\n",
        "# Visualize\n",
        "display_pandas(means)"
      ],
      "execution_count": null,
      "outputs": []
    },
    {
      "cell_type": "code",
      "metadata": {
        "id": "gFULJjLd0Frx",
        "cellView": "form",
        "colab": {
          "base_uri": "https://localhost:8080/",
          "height": 434
        },
        "outputId": "44165833-80d2-40cb-8658-085bd46f640a"
      },
      "source": [
        "#@title Solution (double-click to open)\n",
        "\n",
        "import numpy as np\n",
        "import pandas as pd\n",
        "\n",
        "# Input\n",
        "dti = pd.date_range(start='2019-06-01', end='2020-06-30', freq='B')\n",
        "s = pd.Series([int(10.0 * np.sin(idx * 0.1)) for idx in range(len(dti))], index=dti)\n",
        "\n",
        "# Solution\n",
        "means = s.resample('M').mean()\n",
        "\n",
        "# Visualize\n",
        "display_pandas(means)"
      ],
      "execution_count": null,
      "outputs": [
        {
          "output_type": "display_data",
          "data": {
            "text/html": [
              "\n",
              "  <script src=\"https://ajax.googleapis.com/ajax/libs/jquery/3.5.1/jquery.min.js\"></script>\n",
              "  <link rel=\"stylesheet\" type=\"text/css\" href=\"https://cdn.datatables.net/1.10.21/css/jquery.dataTables.css\">\n",
              "  <script type=\"text/javascript\" charset=\"utf8\" src=\"https://cdn.datatables.net/1.10.21/js/jquery.dataTables.js\"></script>\n",
              "  <table border=\"1\" class=\"dataframe pandas_table_long_unordered cell-border\">\n",
              "  <thead>\n",
              "    <tr style=\"text-align: right;\">\n",
              "      <th></th>\n",
              "      <th></th>\n",
              "    </tr>\n",
              "  </thead>\n",
              "  <tbody>\n",
              "    <tr>\n",
              "      <th>2019-06-30</th>\n",
              "      <td>6.150000</td>\n",
              "    </tr>\n",
              "    <tr>\n",
              "      <th>2019-07-31</th>\n",
              "      <td>0.347826</td>\n",
              "    </tr>\n",
              "    <tr>\n",
              "      <th>2019-08-31</th>\n",
              "      <td>-5.954545</td>\n",
              "    </tr>\n",
              "    <tr>\n",
              "      <th>2019-09-30</th>\n",
              "      <td>7.142857</td>\n",
              "    </tr>\n",
              "    <tr>\n",
              "      <th>2019-10-31</th>\n",
              "      <td>-1.913043</td>\n",
              "    </tr>\n",
              "    <tr>\n",
              "      <th>2019-11-30</th>\n",
              "      <td>-4.666667</td>\n",
              "    </tr>\n",
              "    <tr>\n",
              "      <th>2019-12-31</th>\n",
              "      <td>7.500000</td>\n",
              "    </tr>\n",
              "    <tr>\n",
              "      <th>2020-01-31</th>\n",
              "      <td>-4.000000</td>\n",
              "    </tr>\n",
              "    <tr>\n",
              "      <th>2020-02-29</th>\n",
              "      <td>-3.100000</td>\n",
              "    </tr>\n",
              "    <tr>\n",
              "      <th>2020-03-31</th>\n",
              "      <td>7.454545</td>\n",
              "    </tr>\n",
              "    <tr>\n",
              "      <th>2020-04-30</th>\n",
              "      <td>-5.181818</td>\n",
              "    </tr>\n",
              "    <tr>\n",
              "      <th>2020-05-31</th>\n",
              "      <td>-1.904762</td>\n",
              "    </tr>\n",
              "    <tr>\n",
              "      <th>2020-06-30</th>\n",
              "      <td>7.000000</td>\n",
              "    </tr>\n",
              "  </tbody>\n",
              "</table>\n",
              "  <script>\n",
              "  $(document).ready( function () {\n",
              "      $('.pandas_table_long_ordered').DataTable({\"autoWidth\": false});\n",
              "      $('.pandas_table_long_ordered').removeClass(\"pandas_table_long_ordered\");\n",
              "      $('.pandas_table_short_ordered').DataTable({\"autoWidth\": false, \"paging\":false, \"searching\":false, \"info\":false});\n",
              "      $('.pandas_table_short_ordered').removeClass(\"pandas_table_short_ordered\");\n",
              "\n",
              "      $('.pandas_table_long_unordered').DataTable({\"autoWidth\": false, \"ordering\":false, \"paging\":true});\n",
              "      $('.pandas_table_long_unordered').removeClass(\"pandas_table_long_unordered\");\n",
              "      $('.pandas_table_short_unordered').DataTable({\"autoWidth\": false, \"paging\":false, \"searching\":false, \"info\":false, \"ordering\":false});\n",
              "      $('.pandas_table_short_unordered').removeClass(\"pandas_table_short_unordered\");\n",
              "  } );\n",
              "  </script>\n",
              "  "
            ],
            "text/plain": [
              "<IPython.core.display.HTML object>"
            ]
          },
          "metadata": {
            "tags": []
          }
        }
      ]
    },
    {
      "cell_type": "markdown",
      "metadata": {
        "id": "IOh6N3IU0Fry"
      },
      "source": [
        "##Problem 4."
      ]
    },
    {
      "cell_type": "markdown",
      "metadata": {
        "id": "iKrLH5ybILSC"
      },
      "source": [
        "**Problem:**\n",
        "For each group of four consecutive calendar months in  the series given, find the date on which the highest value occurred.\n",
        "\n"
      ]
    },
    {
      "cell_type": "code",
      "metadata": {
        "id": "w5IAhQpX0Fry"
      },
      "source": [
        "import numpy as np\n",
        "import pandas as pd\n",
        "\n",
        "# Input\n",
        "dti = pd.date_range(start='2019-06-01', end='2020-06-30', freq='B')\n",
        "s = pd.Series([10.0 * np.sin(idx * 0.1) for idx in range(len(dti))], index=dti)\n",
        "\n",
        "# Enter your code here\n",
        "series =\n",
        "\n",
        "# Visualize\n",
        "display_pandas(series)"
      ],
      "execution_count": null,
      "outputs": []
    },
    {
      "cell_type": "code",
      "metadata": {
        "id": "Vj9BblHZ0Frz",
        "cellView": "form",
        "colab": {
          "base_uri": "https://localhost:8080/",
          "height": 174
        },
        "outputId": "3817c023-a60b-4fcb-be1d-9b5b1765b854"
      },
      "source": [
        "#@title Solution (double-click to open)\n",
        "\n",
        "import numpy as np\n",
        "import pandas as pd\n",
        "\n",
        "# Input\n",
        "dti = pd.date_range(start='2019-06-01', end='2020-06-30', freq='B')\n",
        "s = pd.Series([10.0 * np.sin(idx * 0.1) for idx in range(len(dti))], index=dti)\n",
        "\n",
        "# Solution\n",
        "series = s[s.groupby(pd.Grouper(freq='4M')).idxmax()]\n",
        "\n",
        "# Visualize\n",
        "display_pandas(series)"
      ],
      "execution_count": null,
      "outputs": [
        {
          "output_type": "display_data",
          "data": {
            "text/html": [
              "\n",
              "  <script src=\"https://ajax.googleapis.com/ajax/libs/jquery/3.5.1/jquery.min.js\"></script>\n",
              "  <link rel=\"stylesheet\" type=\"text/css\" href=\"https://cdn.datatables.net/1.10.21/css/jquery.dataTables.css\">\n",
              "  <script type=\"text/javascript\" charset=\"utf8\" src=\"https://cdn.datatables.net/1.10.21/js/jquery.dataTables.js\"></script>\n",
              "  <table border=\"1\" class=\"dataframe pandas_table_short_unordered cell-border\">\n",
              "  <thead>\n",
              "    <tr style=\"text-align: right;\">\n",
              "      <th></th>\n",
              "      <th></th>\n",
              "    </tr>\n",
              "  </thead>\n",
              "  <tbody>\n",
              "    <tr>\n",
              "      <th>2019-06-25</th>\n",
              "      <td>9.995736</td>\n",
              "    </tr>\n",
              "    <tr>\n",
              "      <th>2019-09-20</th>\n",
              "      <td>9.989413</td>\n",
              "    </tr>\n",
              "    <tr>\n",
              "      <th>2019-12-17</th>\n",
              "      <td>9.993094</td>\n",
              "    </tr>\n",
              "    <tr>\n",
              "      <th>2020-06-10</th>\n",
              "      <td>9.999937</td>\n",
              "    </tr>\n",
              "  </tbody>\n",
              "</table>\n",
              "  <script>\n",
              "  $(document).ready( function () {\n",
              "      $('.pandas_table_long_ordered').DataTable({\"autoWidth\": false});\n",
              "      $('.pandas_table_long_ordered').removeClass(\"pandas_table_long_ordered\");\n",
              "      $('.pandas_table_short_ordered').DataTable({\"autoWidth\": false, \"paging\":false, \"searching\":false, \"info\":false});\n",
              "      $('.pandas_table_short_ordered').removeClass(\"pandas_table_short_ordered\");\n",
              "\n",
              "      $('.pandas_table_long_unordered').DataTable({\"autoWidth\": false, \"ordering\":false, \"paging\":true});\n",
              "      $('.pandas_table_long_unordered').removeClass(\"pandas_table_long_unordered\");\n",
              "      $('.pandas_table_short_unordered').DataTable({\"autoWidth\": false, \"paging\":false, \"searching\":false, \"info\":false, \"ordering\":false});\n",
              "      $('.pandas_table_short_unordered').removeClass(\"pandas_table_short_unordered\");\n",
              "  } );\n",
              "  </script>\n",
              "  "
            ],
            "text/plain": [
              "<IPython.core.display.HTML object>"
            ]
          },
          "metadata": {
            "tags": []
          }
        }
      ]
    },
    {
      "cell_type": "markdown",
      "metadata": {
        "id": "WdcD84KS0Frz"
      },
      "source": [
        "##Problem 5."
      ]
    },
    {
      "cell_type": "markdown",
      "metadata": {
        "id": "7pzApH_iI1-R"
      },
      "source": [
        "**Problem:**\n",
        "Create a DateTimeIndex consisting of the third Thursday in each month for the years 2018 and 2019.\n",
        "\n"
      ]
    },
    {
      "cell_type": "code",
      "metadata": {
        "id": "ukuqI7K90Frz"
      },
      "source": [
        "import numpy as np\n",
        "import pandas as pd\n",
        "\n",
        "# Enter your code here"
      ],
      "execution_count": null,
      "outputs": []
    },
    {
      "cell_type": "code",
      "metadata": {
        "id": "urg_tD-h0Fr0",
        "cellView": "form",
        "colab": {
          "base_uri": "https://localhost:8080/",
          "height": 136
        },
        "outputId": "a2f9ea3b-aa16-428a-9f01-2bfbdbc3f6ee"
      },
      "source": [
        "#@title Solution (double-click to open)\n",
        "\n",
        "import numpy as np\n",
        "import pandas as pd\n",
        "\n",
        "# Solution\n",
        "pd.date_range('2018-01-01', '2019-12-31', freq='WOM-3THU')"
      ],
      "execution_count": null,
      "outputs": [
        {
          "output_type": "execute_result",
          "data": {
            "text/plain": [
              "DatetimeIndex(['2018-01-18', '2018-02-15', '2018-03-15', '2018-04-19',\n",
              "               '2018-05-17', '2018-06-21', '2018-07-19', '2018-08-16',\n",
              "               '2018-09-20', '2018-10-18', '2018-11-15', '2018-12-20',\n",
              "               '2019-01-17', '2019-02-21', '2019-03-21', '2019-04-18',\n",
              "               '2019-05-16', '2019-06-20', '2019-07-18', '2019-08-15',\n",
              "               '2019-09-19', '2019-10-17', '2019-11-21', '2019-12-19'],\n",
              "              dtype='datetime64[ns]', freq='WOM-3THU')"
            ]
          },
          "metadata": {
            "tags": []
          },
          "execution_count": 8
        }
      ]
    },
    {
      "cell_type": "markdown",
      "metadata": {
        "id": "0oz0yTYL0Fr1"
      },
      "source": [
        "# Cleaning Data\n",
        "\n",
        "Difficulty:**easy to medium**"
      ]
    },
    {
      "cell_type": "code",
      "metadata": {
        "cellView": "form",
        "id": "B8kqCQZhBv1S",
        "colab": {
          "base_uri": "https://localhost:8080/",
          "height": 51
        },
        "outputId": "1e3ff8fb-fa69-406d-d90a-d549d3e083a0"
      },
      "source": [
        "#@title Difficulty:\n",
        "%%html\n",
        "\n",
        "<svg width=\"25mm\" height=\"8mm\" version=\"1.1\" viewBox=\"0 0 38.506 12.662\" xmlns=\"http://www.w3.org/2000/svg\">\n",
        " <g transform=\"translate(-13.418 -11.061)\">\n",
        "  <rect x=\"13.418\" y=\"11.061\" width=\"38.506\" height=\"12.662\" rx=\"2.3559\" fill=\"#ffa512\"/>\n",
        "  <text x=\"17.290049\" y=\"20.13888\" fill=\"#ffffff\" font-family=\"Verdana\" font-size=\"8.531px\" letter-spacing=\"0px\" stroke-width=\".26458\" word-spacing=\"0px\" style=\"line-height:1.25\" xml:space=\"preserve\"><tspan x=\"17.290049\" y=\"20.13888\" fill=\"#ffffff\" font-family=\"'Courier New'\" font-size=\"8.531px\" font-weight=\"bold\" stroke-width=\".26458\" style=\"font-feature-settings:normal;font-variant-caps:normal;font-variant-ligatures:normal;font-variant-numeric:normal\">MEDIUM</tspan></text>\n",
        " </g>\n",
        "</svg>\n",
        "\n"
      ],
      "execution_count": null,
      "outputs": [
        {
          "output_type": "display_data",
          "data": {
            "text/html": [
              "\n",
              "<svg width=\"25mm\" height=\"8mm\" version=\"1.1\" viewBox=\"0 0 38.506 12.662\" xmlns=\"http://www.w3.org/2000/svg\">\n",
              " <g transform=\"translate(-13.418 -11.061)\">\n",
              "  <rect x=\"13.418\" y=\"11.061\" width=\"38.506\" height=\"12.662\" rx=\"2.3559\" fill=\"#ffa512\"/>\n",
              "  <text x=\"17.290049\" y=\"20.13888\" fill=\"#ffffff\" font-family=\"Verdana\" font-size=\"8.531px\" letter-spacing=\"0px\" stroke-width=\".26458\" word-spacing=\"0px\" style=\"line-height:1.25\" xml:space=\"preserve\"><tspan x=\"17.290049\" y=\"20.13888\" fill=\"#ffffff\" font-family=\"'Courier New'\" font-size=\"8.531px\" font-weight=\"bold\" stroke-width=\".26458\" style=\"font-feature-settings:normal;font-variant-caps:normal;font-variant-ligatures:normal;font-variant-numeric:normal\">MEDIUM</tspan></text>\n",
              " </g>\n",
              "</svg>\n"
            ],
            "text/plain": [
              "<IPython.core.display.HTML object>"
            ]
          },
          "metadata": {
            "tags": []
          }
        }
      ]
    },
    {
      "cell_type": "markdown",
      "metadata": {
        "id": "5v-CMT3-0Fr2"
      },
      "source": [
        "##Problem 1."
      ]
    },
    {
      "cell_type": "markdown",
      "metadata": {
        "id": "kNMC6yF8Ngse"
      },
      "source": [
        "**Problem:**\n",
        "Some values in the the FlightNumber column are missing.\n",
        "These numbers are meant to increase by 10 with each row so 10055 and 10075 need to be put in place.\n",
        "Fill in these missing numbers and make the column an integer column (instead of a float column).\n",
        "\n"
      ]
    },
    {
      "cell_type": "code",
      "metadata": {
        "id": "jG5RY_Pw0Fr2"
      },
      "source": [
        "import numpy as np\n",
        "import pandas as pd\n",
        "\n",
        "# Input\n",
        "df = pd.DataFrame({\n",
        "     'From_To': ['LoNDon_paris', 'MAdrid_miLAN', 'londON_StockhOlm', 'Budapest_PaRis', 'Brussels_londOn'],\n",
        "'FlightNumber': [10045, np.nan, 10065, np.nan, 10085],\n",
        "'RecentDelays': [[23, 47], [], [24, 43, 87], [13], [67, 32]],\n",
        "     'Airline': ['KLM(!)', '<Air France>(12)', '(British Airways. )', '12. Air France', '\"Swiss Air\"']\n",
        "})\n",
        "\n",
        "# Enter your code here\n",
        "\n",
        "# Visualize\n",
        "display_pandas(df)"
      ],
      "execution_count": null,
      "outputs": []
    },
    {
      "cell_type": "code",
      "metadata": {
        "id": "TqHrVKMn0Fr3",
        "cellView": "form",
        "colab": {
          "base_uri": "https://localhost:8080/",
          "height": 225
        },
        "outputId": "44169e57-f7ba-4bff-a31f-2bdced74637d"
      },
      "source": [
        "#@title Solution (double-click to open)\n",
        "\n",
        "import numpy as np\n",
        "import pandas as pd\n",
        "\n",
        "# Input\n",
        "df = pd.DataFrame({\n",
        "     'From_To': ['LoNDon_paris', 'MAdrid_miLAN', 'londON_StockhOlm', 'Budapest_PaRis', 'Brussels_londOn'],\n",
        "'FlightNumber': [10045, np.nan, 10065, np.nan, 10085],\n",
        "'RecentDelays': [[23, 47], [], [24, 43, 87], [13], [67, 32]],\n",
        "     'Airline': ['KLM(!)', '<Air France>(12)', '(British Airways. )', '12. Air France', '\"Swiss Air\"']\n",
        "})\n",
        "\n",
        "# Solution\n",
        "df['FlightNumber'] = df['FlightNumber'].interpolate().astype(int)\n",
        "\n",
        "# Visualize\n",
        "display_pandas(df)"
      ],
      "execution_count": null,
      "outputs": [
        {
          "output_type": "display_data",
          "data": {
            "text/html": [
              "\n",
              "  <script src=\"https://ajax.googleapis.com/ajax/libs/jquery/3.5.1/jquery.min.js\"></script>\n",
              "  <link rel=\"stylesheet\" type=\"text/css\" href=\"https://cdn.datatables.net/1.10.21/css/jquery.dataTables.css\">\n",
              "  <script type=\"text/javascript\" charset=\"utf8\" src=\"https://cdn.datatables.net/1.10.21/js/jquery.dataTables.js\"></script>\n",
              "  <table border=\"1\" class=\"dataframe pandas_table_short_unordered cell-border\">\n",
              "  <thead>\n",
              "    <tr style=\"text-align: right;\">\n",
              "      <th></th>\n",
              "      <th>From_To</th>\n",
              "      <th>FlightNumber</th>\n",
              "      <th>RecentDelays</th>\n",
              "      <th>Airline</th>\n",
              "    </tr>\n",
              "  </thead>\n",
              "  <tbody>\n",
              "    <tr>\n",
              "      <th>0</th>\n",
              "      <td>LoNDon_paris</td>\n",
              "      <td>10045</td>\n",
              "      <td>[23, 47]</td>\n",
              "      <td>KLM(!)</td>\n",
              "    </tr>\n",
              "    <tr>\n",
              "      <th>1</th>\n",
              "      <td>MAdrid_miLAN</td>\n",
              "      <td>10055</td>\n",
              "      <td>[]</td>\n",
              "      <td>&lt;Air France&gt;(12)</td>\n",
              "    </tr>\n",
              "    <tr>\n",
              "      <th>2</th>\n",
              "      <td>londON_StockhOlm</td>\n",
              "      <td>10065</td>\n",
              "      <td>[24, 43, 87]</td>\n",
              "      <td>(British Airways. )</td>\n",
              "    </tr>\n",
              "    <tr>\n",
              "      <th>3</th>\n",
              "      <td>Budapest_PaRis</td>\n",
              "      <td>10075</td>\n",
              "      <td>[13]</td>\n",
              "      <td>12. Air France</td>\n",
              "    </tr>\n",
              "    <tr>\n",
              "      <th>4</th>\n",
              "      <td>Brussels_londOn</td>\n",
              "      <td>10085</td>\n",
              "      <td>[67, 32]</td>\n",
              "      <td>\"Swiss Air\"</td>\n",
              "    </tr>\n",
              "  </tbody>\n",
              "</table>\n",
              "  <script>\n",
              "  $(document).ready( function () {\n",
              "      $('.pandas_table_long_ordered').DataTable({\"autoWidth\": false});\n",
              "      $('.pandas_table_long_ordered').removeClass(\"pandas_table_long_ordered\");\n",
              "      $('.pandas_table_short_ordered').DataTable({\"autoWidth\": false, \"paging\":false, \"searching\":false, \"info\":false});\n",
              "      $('.pandas_table_short_ordered').removeClass(\"pandas_table_short_ordered\");\n",
              "\n",
              "      $('.pandas_table_long_unordered').DataTable({\"autoWidth\": false, \"ordering\":false, \"paging\":true});\n",
              "      $('.pandas_table_long_unordered').removeClass(\"pandas_table_long_unordered\");\n",
              "      $('.pandas_table_short_unordered').DataTable({\"autoWidth\": false, \"paging\":false, \"searching\":false, \"info\":false, \"ordering\":false});\n",
              "      $('.pandas_table_short_unordered').removeClass(\"pandas_table_short_unordered\");\n",
              "  } );\n",
              "  </script>\n",
              "  "
            ],
            "text/plain": [
              "<IPython.core.display.HTML object>"
            ]
          },
          "metadata": {
            "tags": []
          }
        }
      ]
    },
    {
      "cell_type": "markdown",
      "metadata": {
        "id": "6Xw2c2dY0Fr4"
      },
      "source": [
        "##Problem 2."
      ]
    },
    {
      "cell_type": "markdown",
      "metadata": {
        "id": "eQq2S_ImSZoa"
      },
      "source": [
        "**Problem:**\n",
        "The From\\_To column would be better as two separate columns.\n",
        "Split each string on the underscore delimiter `_` to give a new temporary DataFrame with the correct values.\n",
        "Assign the correct column names to this temporary DataFrame.\n",
        "\n"
      ]
    },
    {
      "cell_type": "code",
      "metadata": {
        "id": "RCDbPVWb0Fr4"
      },
      "source": [
        "import numpy as np\n",
        "import pandas as pd\n",
        "\n",
        "# Input\n",
        "df = pd.DataFrame({\n",
        "     'From_To': ['LoNDon_paris', 'MAdrid_miLAN', 'londON_StockhOlm', 'Budapest_PaRis', 'Brussels_londOn'],\n",
        "'FlightNumber': [10045, 1055, 10065, 1075, 10085],\n",
        "'RecentDelays': [[23, 47], [], [24, 43, 87], [13], [67, 32]],\n",
        "     'Airline': ['KLM(!)', '<Air France>(12)', '(British Airways. )', '12. Air France', '\"Swiss Air\"']\n",
        "})\n",
        "\n",
        "# Enter your code here\n",
        "temp =\n",
        "\n",
        "# Visualize\n",
        "display_pandas(temp)"
      ],
      "execution_count": null,
      "outputs": []
    },
    {
      "cell_type": "code",
      "metadata": {
        "id": "vFbJyruV0Fr5",
        "cellView": "form",
        "colab": {
          "base_uri": "https://localhost:8080/",
          "height": 225
        },
        "outputId": "e0152dc3-7f1a-42e3-be2f-9fc7e4c4260c"
      },
      "source": [
        "#@title Solution (double-click to open)\n",
        "\n",
        "import numpy as np\n",
        "import pandas as pd\n",
        "\n",
        "# Input\n",
        "df = pd.DataFrame({\n",
        "     'From_To': ['LoNDon_paris', 'MAdrid_miLAN', 'londON_StockhOlm', 'Budapest_PaRis', 'Brussels_londOn'],\n",
        "'FlightNumber': [10045, 1055, 10065, 1075, 10085],\n",
        "'RecentDelays': [[23, 47], [], [24, 43, 87], [13], [67, 32]],\n",
        "     'Airline': ['KLM(!)', '<Air France>(12)', '(British Airways. )', '12. Air France', '\"Swiss Air\"']\n",
        "})\n",
        "\n",
        "# Solution\n",
        "temp = df.From_To.str.split('_', expand=True)\n",
        "temp.columns = ['From', 'To']\n",
        "\n",
        "# Visualize\n",
        "display_pandas(temp)"
      ],
      "execution_count": null,
      "outputs": [
        {
          "output_type": "display_data",
          "data": {
            "text/html": [
              "\n",
              "  <script src=\"https://ajax.googleapis.com/ajax/libs/jquery/3.5.1/jquery.min.js\"></script>\n",
              "  <link rel=\"stylesheet\" type=\"text/css\" href=\"https://cdn.datatables.net/1.10.21/css/jquery.dataTables.css\">\n",
              "  <script type=\"text/javascript\" charset=\"utf8\" src=\"https://cdn.datatables.net/1.10.21/js/jquery.dataTables.js\"></script>\n",
              "  <table border=\"1\" class=\"dataframe pandas_table_short_unordered cell-border\">\n",
              "  <thead>\n",
              "    <tr style=\"text-align: right;\">\n",
              "      <th></th>\n",
              "      <th>From</th>\n",
              "      <th>To</th>\n",
              "    </tr>\n",
              "  </thead>\n",
              "  <tbody>\n",
              "    <tr>\n",
              "      <th>0</th>\n",
              "      <td>LoNDon</td>\n",
              "      <td>paris</td>\n",
              "    </tr>\n",
              "    <tr>\n",
              "      <th>1</th>\n",
              "      <td>MAdrid</td>\n",
              "      <td>miLAN</td>\n",
              "    </tr>\n",
              "    <tr>\n",
              "      <th>2</th>\n",
              "      <td>londON</td>\n",
              "      <td>StockhOlm</td>\n",
              "    </tr>\n",
              "    <tr>\n",
              "      <th>3</th>\n",
              "      <td>Budapest</td>\n",
              "      <td>PaRis</td>\n",
              "    </tr>\n",
              "    <tr>\n",
              "      <th>4</th>\n",
              "      <td>Brussels</td>\n",
              "      <td>londOn</td>\n",
              "    </tr>\n",
              "  </tbody>\n",
              "</table>\n",
              "  <script>\n",
              "  $(document).ready( function () {\n",
              "      $('.pandas_table_long_ordered').DataTable({\"autoWidth\": false});\n",
              "      $('.pandas_table_long_ordered').removeClass(\"pandas_table_long_ordered\");\n",
              "      $('.pandas_table_short_ordered').DataTable({\"autoWidth\": false, \"paging\":false, \"searching\":false, \"info\":false});\n",
              "      $('.pandas_table_short_ordered').removeClass(\"pandas_table_short_ordered\");\n",
              "\n",
              "      $('.pandas_table_long_unordered').DataTable({\"autoWidth\": false, \"ordering\":false, \"paging\":true});\n",
              "      $('.pandas_table_long_unordered').removeClass(\"pandas_table_long_unordered\");\n",
              "      $('.pandas_table_short_unordered').DataTable({\"autoWidth\": false, \"paging\":false, \"searching\":false, \"info\":false, \"ordering\":false});\n",
              "      $('.pandas_table_short_unordered').removeClass(\"pandas_table_short_unordered\");\n",
              "  } );\n",
              "  </script>\n",
              "  "
            ],
            "text/plain": [
              "<IPython.core.display.HTML object>"
            ]
          },
          "metadata": {
            "tags": []
          }
        }
      ]
    },
    {
      "cell_type": "markdown",
      "metadata": {
        "id": "mFkWT9mu0Fr5"
      },
      "source": [
        "##Problem 3."
      ]
    },
    {
      "cell_type": "markdown",
      "metadata": {
        "id": "_Tg9kchRS-R3"
      },
      "source": [
        "**Problem:**\n",
        "A dataframe with city names is given.\n",
        "The problem is, capitalization is mixed within the dataframe.\n",
        "Standardise the strings so that only the first letter is uppercase (e.g. \"londON\" should become \"London\").\n",
        "\n"
      ]
    },
    {
      "cell_type": "code",
      "metadata": {
        "id": "kWV4mFp90Fr5"
      },
      "source": [
        "import numpy as np\n",
        "import pandas as pd\n",
        "\n",
        "# Input\n",
        "temp = pd.DataFrame({\n",
        "    'From': ['LoNDon', 'MAdrid', 'londON', 'Budapest', 'Brussels'],\n",
        "    'To'  : ['paris', 'miLAN', 'StockhOlm', 'PaRis', 'londOn']\n",
        "  })\n",
        "\n",
        "# Enter your code here\n",
        "\n",
        "# Visualize\n",
        "display_pandas(temp)"
      ],
      "execution_count": null,
      "outputs": []
    },
    {
      "cell_type": "code",
      "metadata": {
        "id": "vRySqc0s0Fr6",
        "cellView": "form",
        "colab": {
          "base_uri": "https://localhost:8080/",
          "height": 225
        },
        "outputId": "e7e75d20-e271-4d82-ae80-78c510ad7d48"
      },
      "source": [
        "#@title Solution (double-click to open)\n",
        "\n",
        "import numpy as np\n",
        "import pandas as pd\n",
        "\n",
        "# Input\n",
        "temp = pd.DataFrame({\n",
        "    'From': ['LoNDon', 'MAdrid', 'londON', 'Budapest', 'Brussels'],\n",
        "    'To'  : ['paris', 'miLAN', 'StockhOlm', 'PaRis', 'londOn']\n",
        "  })\n",
        "\n",
        "# Solution\n",
        "temp['From'] = temp['From'].str.capitalize()\n",
        "temp['To'] = temp['To'].str.capitalize()\n",
        "\n",
        "# Visualize\n",
        "display_pandas(temp)"
      ],
      "execution_count": null,
      "outputs": [
        {
          "output_type": "display_data",
          "data": {
            "text/html": [
              "\n",
              "  <script src=\"https://ajax.googleapis.com/ajax/libs/jquery/3.5.1/jquery.min.js\"></script>\n",
              "  <link rel=\"stylesheet\" type=\"text/css\" href=\"https://cdn.datatables.net/1.10.21/css/jquery.dataTables.css\">\n",
              "  <script type=\"text/javascript\" charset=\"utf8\" src=\"https://cdn.datatables.net/1.10.21/js/jquery.dataTables.js\"></script>\n",
              "  <table border=\"1\" class=\"dataframe pandas_table_short_unordered cell-border\">\n",
              "  <thead>\n",
              "    <tr style=\"text-align: right;\">\n",
              "      <th></th>\n",
              "      <th>From</th>\n",
              "      <th>To</th>\n",
              "    </tr>\n",
              "  </thead>\n",
              "  <tbody>\n",
              "    <tr>\n",
              "      <th>0</th>\n",
              "      <td>London</td>\n",
              "      <td>Paris</td>\n",
              "    </tr>\n",
              "    <tr>\n",
              "      <th>1</th>\n",
              "      <td>Madrid</td>\n",
              "      <td>Milan</td>\n",
              "    </tr>\n",
              "    <tr>\n",
              "      <th>2</th>\n",
              "      <td>London</td>\n",
              "      <td>Stockholm</td>\n",
              "    </tr>\n",
              "    <tr>\n",
              "      <th>3</th>\n",
              "      <td>Budapest</td>\n",
              "      <td>Paris</td>\n",
              "    </tr>\n",
              "    <tr>\n",
              "      <th>4</th>\n",
              "      <td>Brussels</td>\n",
              "      <td>London</td>\n",
              "    </tr>\n",
              "  </tbody>\n",
              "</table>\n",
              "  <script>\n",
              "  $(document).ready( function () {\n",
              "      $('.pandas_table_long_ordered').DataTable({\"autoWidth\": false});\n",
              "      $('.pandas_table_long_ordered').removeClass(\"pandas_table_long_ordered\");\n",
              "      $('.pandas_table_short_ordered').DataTable({\"autoWidth\": false, \"paging\":false, \"searching\":false, \"info\":false});\n",
              "      $('.pandas_table_short_ordered').removeClass(\"pandas_table_short_ordered\");\n",
              "\n",
              "      $('.pandas_table_long_unordered').DataTable({\"autoWidth\": false, \"ordering\":false, \"paging\":true});\n",
              "      $('.pandas_table_long_unordered').removeClass(\"pandas_table_long_unordered\");\n",
              "      $('.pandas_table_short_unordered').DataTable({\"autoWidth\": false, \"paging\":false, \"searching\":false, \"info\":false, \"ordering\":false});\n",
              "      $('.pandas_table_short_unordered').removeClass(\"pandas_table_short_unordered\");\n",
              "  } );\n",
              "  </script>\n",
              "  "
            ],
            "text/plain": [
              "<IPython.core.display.HTML object>"
            ]
          },
          "metadata": {
            "tags": []
          }
        }
      ]
    },
    {
      "cell_type": "markdown",
      "metadata": {
        "id": "6_E9u7Nc0Fr7"
      },
      "source": [
        "##Problem 4."
      ]
    },
    {
      "cell_type": "markdown",
      "metadata": {
        "id": "GYG_1vKCUT5W"
      },
      "source": [
        "**Problem:**\n",
        "Two dataframes, `df` and `temp` are given.\n",
        "Delete the From_To column from `df` and attach the `temp` DataFrame to it.\n"
      ]
    },
    {
      "cell_type": "code",
      "metadata": {
        "id": "bATrAnwg0Fr7"
      },
      "source": [
        "import numpy as np\n",
        "import pandas as pd\n",
        "\n",
        "# Input\n",
        "df = pd.DataFrame({\n",
        "     'From_To': ['LoNDon_paris', 'MAdrid_miLAN', 'londON_StockhOlm', 'Budapest_PaRis', 'Brussels_londOn'],\n",
        "'FlightNumber': [10045, 1055, 10065, 1075, 10085],\n",
        "'RecentDelays': [[23, 47], [], [24, 43, 87], [13], [67, 32]],\n",
        "     'Airline': ['KLM(!)', '<Air France>(12)', '(British Airways. )', '12. Air France', '\"Swiss Air\"']\n",
        "})\n",
        "temp = pd.DataFrame({\n",
        "    'From': ['London', 'Madrid', 'London', 'Budapest', 'Brussels'],\n",
        "    'To'  : ['Paris', 'Milan', 'Stockholm', 'Paris', 'London']\n",
        "})\n",
        "\n",
        "\n",
        "# Enter your code here\n",
        "\n",
        "# Visualize\n",
        "display_pandas(df)"
      ],
      "execution_count": null,
      "outputs": []
    },
    {
      "cell_type": "code",
      "metadata": {
        "id": "9hnDUTDn0Fr9",
        "cellView": "form",
        "colab": {
          "base_uri": "https://localhost:8080/",
          "height": 225
        },
        "outputId": "8a22e183-9790-49a7-8b83-9c9c0c6a6146"
      },
      "source": [
        "#@title Solution (double-click to open)\n",
        "\n",
        "import numpy as np\n",
        "import pandas as pd\n",
        "\n",
        "# Input\n",
        "df = pd.DataFrame({\n",
        "     'From_To': ['LoNDon_paris', 'MAdrid_miLAN', 'londON_StockhOlm', 'Budapest_PaRis', 'Brussels_londOn'],\n",
        "'FlightNumber': [10045, 1055, 10065, 1075, 10085],\n",
        "'RecentDelays': [[23, 47], [], [24, 43, 87], [13], [67, 32]],\n",
        "     'Airline': ['KLM(!)', '<Air France>(12)', '(British Airways. )', '12. Air France', '\"Swiss Air\"']\n",
        "})\n",
        "temp = pd.DataFrame({\n",
        "    'From': ['London', 'Madrid', 'London', 'Budapest', 'Brussels'],\n",
        "    'To'  : ['Paris', 'Milan', 'Stockholm', 'Paris', 'London']\n",
        "})\n",
        "\n",
        "# Solution\n",
        "df = df.drop('From_To', axis=1).join(temp)\n",
        "\n",
        "# Visualize\n",
        "display_pandas(df)"
      ],
      "execution_count": null,
      "outputs": [
        {
          "output_type": "display_data",
          "data": {
            "text/html": [
              "\n",
              "  <script src=\"https://ajax.googleapis.com/ajax/libs/jquery/3.5.1/jquery.min.js\"></script>\n",
              "  <link rel=\"stylesheet\" type=\"text/css\" href=\"https://cdn.datatables.net/1.10.21/css/jquery.dataTables.css\">\n",
              "  <script type=\"text/javascript\" charset=\"utf8\" src=\"https://cdn.datatables.net/1.10.21/js/jquery.dataTables.js\"></script>\n",
              "  <table border=\"1\" class=\"dataframe pandas_table_short_unordered cell-border\">\n",
              "  <thead>\n",
              "    <tr style=\"text-align: right;\">\n",
              "      <th></th>\n",
              "      <th>FlightNumber</th>\n",
              "      <th>RecentDelays</th>\n",
              "      <th>Airline</th>\n",
              "      <th>From</th>\n",
              "      <th>To</th>\n",
              "    </tr>\n",
              "  </thead>\n",
              "  <tbody>\n",
              "    <tr>\n",
              "      <th>0</th>\n",
              "      <td>10045</td>\n",
              "      <td>[23, 47]</td>\n",
              "      <td>KLM(!)</td>\n",
              "      <td>London</td>\n",
              "      <td>Paris</td>\n",
              "    </tr>\n",
              "    <tr>\n",
              "      <th>1</th>\n",
              "      <td>1055</td>\n",
              "      <td>[]</td>\n",
              "      <td>&lt;Air France&gt;(12)</td>\n",
              "      <td>Madrid</td>\n",
              "      <td>Milan</td>\n",
              "    </tr>\n",
              "    <tr>\n",
              "      <th>2</th>\n",
              "      <td>10065</td>\n",
              "      <td>[24, 43, 87]</td>\n",
              "      <td>(British Airways. )</td>\n",
              "      <td>London</td>\n",
              "      <td>Stockholm</td>\n",
              "    </tr>\n",
              "    <tr>\n",
              "      <th>3</th>\n",
              "      <td>1075</td>\n",
              "      <td>[13]</td>\n",
              "      <td>12. Air France</td>\n",
              "      <td>Budapest</td>\n",
              "      <td>Paris</td>\n",
              "    </tr>\n",
              "    <tr>\n",
              "      <th>4</th>\n",
              "      <td>10085</td>\n",
              "      <td>[67, 32]</td>\n",
              "      <td>\"Swiss Air\"</td>\n",
              "      <td>Brussels</td>\n",
              "      <td>London</td>\n",
              "    </tr>\n",
              "  </tbody>\n",
              "</table>\n",
              "  <script>\n",
              "  $(document).ready( function () {\n",
              "      $('.pandas_table_long_ordered').DataTable({\"autoWidth\": false});\n",
              "      $('.pandas_table_long_ordered').removeClass(\"pandas_table_long_ordered\");\n",
              "      $('.pandas_table_short_ordered').DataTable({\"autoWidth\": false, \"paging\":false, \"searching\":false, \"info\":false});\n",
              "      $('.pandas_table_short_ordered').removeClass(\"pandas_table_short_ordered\");\n",
              "\n",
              "      $('.pandas_table_long_unordered').DataTable({\"autoWidth\": false, \"ordering\":false, \"paging\":true});\n",
              "      $('.pandas_table_long_unordered').removeClass(\"pandas_table_long_unordered\");\n",
              "      $('.pandas_table_short_unordered').DataTable({\"autoWidth\": false, \"paging\":false, \"searching\":false, \"info\":false, \"ordering\":false});\n",
              "      $('.pandas_table_short_unordered').removeClass(\"pandas_table_short_unordered\");\n",
              "  } );\n",
              "  </script>\n",
              "  "
            ],
            "text/plain": [
              "<IPython.core.display.HTML object>"
            ]
          },
          "metadata": {
            "tags": []
          }
        }
      ]
    },
    {
      "cell_type": "markdown",
      "metadata": {
        "id": "rcj74fum0Fr-"
      },
      "source": [
        "##Problem 5."
      ]
    },
    {
      "cell_type": "markdown",
      "metadata": {
        "id": "1LmAV-1oXc1c"
      },
      "source": [
        "**Problem:**\n",
        "In the Airline column of the dataframe given, you can see some extra puctuation and symbols around the airline names.\n",
        "Pull out just the airline name. E.g. `'(British Airways. )'` should become `'British Airways'`.\n",
        "\n"
      ]
    },
    {
      "cell_type": "code",
      "metadata": {
        "id": "X_FnnR4H0Fr-"
      },
      "source": [
        "import numpy as np\n",
        "import pandas as pd\n",
        "\n",
        "# Input\n",
        "df = pd.DataFrame({\n",
        "'FlightNumber': [10045, 1055, 10065, 1075, 10085],\n",
        "'RecentDelays': [[23, 47], [], [24, 43, 87], [13], [67, 32]],\n",
        "     'Airline': ['KLM(!)', '<Air France>(12)', '(British Airways. )', '12. Air France', '\"Swiss Air\"'],\n",
        "        'From': ['London', 'Madrid', 'London', 'Budapest', 'Brussels'],\n",
        "        'To'  : ['Paris', 'Milan', 'Stockholm', 'Paris', 'London']\n",
        "})\n",
        "\n",
        "# Enter your code here\n",
        "\n",
        "# Visualize\n",
        "display_pandas(df)"
      ],
      "execution_count": null,
      "outputs": []
    },
    {
      "cell_type": "code",
      "metadata": {
        "id": "bSSCnUcS0FsA",
        "cellView": "form",
        "colab": {
          "base_uri": "https://localhost:8080/",
          "height": 225
        },
        "outputId": "ad77b98b-bb75-4983-e1d3-6c85825eb448"
      },
      "source": [
        "#@title Solution (double-click to open)\n",
        "\n",
        "import numpy as np\n",
        "import pandas as pd\n",
        "\n",
        "# Input\n",
        "df = pd.DataFrame({\n",
        "'FlightNumber': [10045, 1055, 10065, 1075, 10085],\n",
        "'RecentDelays': [[23, 47], [], [24, 43, 87], [13], [67, 32]],\n",
        "     'Airline': ['KLM(!)', '<Air France>(12)', '(British Airways. )', '12. Air France', '\"Swiss Air\"'],\n",
        "        'From': ['London', 'Madrid', 'London', 'Budapest', 'Brussels'],\n",
        "        'To'  : ['Paris', 'Milan', 'Stockholm', 'Paris', 'London']\n",
        "})\n",
        "\n",
        "# Solution\n",
        "df['Airline'] = df['Airline'].str.extract('([a-zA-Z\\s]+)', expand=False).str.strip()\n",
        "\n",
        "# Visualize\n",
        "display_pandas(df)"
      ],
      "execution_count": null,
      "outputs": [
        {
          "output_type": "display_data",
          "data": {
            "text/html": [
              "\n",
              "  <script src=\"https://ajax.googleapis.com/ajax/libs/jquery/3.5.1/jquery.min.js\"></script>\n",
              "  <link rel=\"stylesheet\" type=\"text/css\" href=\"https://cdn.datatables.net/1.10.21/css/jquery.dataTables.css\">\n",
              "  <script type=\"text/javascript\" charset=\"utf8\" src=\"https://cdn.datatables.net/1.10.21/js/jquery.dataTables.js\"></script>\n",
              "  <table border=\"1\" class=\"dataframe pandas_table_short_unordered cell-border\">\n",
              "  <thead>\n",
              "    <tr style=\"text-align: right;\">\n",
              "      <th></th>\n",
              "      <th>FlightNumber</th>\n",
              "      <th>RecentDelays</th>\n",
              "      <th>Airline</th>\n",
              "      <th>From</th>\n",
              "      <th>To</th>\n",
              "    </tr>\n",
              "  </thead>\n",
              "  <tbody>\n",
              "    <tr>\n",
              "      <th>0</th>\n",
              "      <td>10045</td>\n",
              "      <td>[23, 47]</td>\n",
              "      <td>KLM</td>\n",
              "      <td>London</td>\n",
              "      <td>Paris</td>\n",
              "    </tr>\n",
              "    <tr>\n",
              "      <th>1</th>\n",
              "      <td>1055</td>\n",
              "      <td>[]</td>\n",
              "      <td>Air France</td>\n",
              "      <td>Madrid</td>\n",
              "      <td>Milan</td>\n",
              "    </tr>\n",
              "    <tr>\n",
              "      <th>2</th>\n",
              "      <td>10065</td>\n",
              "      <td>[24, 43, 87]</td>\n",
              "      <td>British Airways</td>\n",
              "      <td>London</td>\n",
              "      <td>Stockholm</td>\n",
              "    </tr>\n",
              "    <tr>\n",
              "      <th>3</th>\n",
              "      <td>1075</td>\n",
              "      <td>[13]</td>\n",
              "      <td>Air France</td>\n",
              "      <td>Budapest</td>\n",
              "      <td>Paris</td>\n",
              "    </tr>\n",
              "    <tr>\n",
              "      <th>4</th>\n",
              "      <td>10085</td>\n",
              "      <td>[67, 32]</td>\n",
              "      <td>Swiss Air</td>\n",
              "      <td>Brussels</td>\n",
              "      <td>London</td>\n",
              "    </tr>\n",
              "  </tbody>\n",
              "</table>\n",
              "  <script>\n",
              "  $(document).ready( function () {\n",
              "      $('.pandas_table_long_ordered').DataTable({\"autoWidth\": false});\n",
              "      $('.pandas_table_long_ordered').removeClass(\"pandas_table_long_ordered\");\n",
              "      $('.pandas_table_short_ordered').DataTable({\"autoWidth\": false, \"paging\":false, \"searching\":false, \"info\":false});\n",
              "      $('.pandas_table_short_ordered').removeClass(\"pandas_table_short_ordered\");\n",
              "\n",
              "      $('.pandas_table_long_unordered').DataTable({\"autoWidth\": false, \"ordering\":false, \"paging\":true});\n",
              "      $('.pandas_table_long_unordered').removeClass(\"pandas_table_long_unordered\");\n",
              "      $('.pandas_table_short_unordered').DataTable({\"autoWidth\": false, \"paging\":false, \"searching\":false, \"info\":false, \"ordering\":false});\n",
              "      $('.pandas_table_short_unordered').removeClass(\"pandas_table_short_unordered\");\n",
              "  } );\n",
              "  </script>\n",
              "  "
            ],
            "text/plain": [
              "<IPython.core.display.HTML object>"
            ]
          },
          "metadata": {
            "tags": []
          }
        }
      ]
    },
    {
      "cell_type": "markdown",
      "metadata": {
        "id": "DPm3fyUz0FsA"
      },
      "source": [
        "##Problem 6."
      ]
    },
    {
      "cell_type": "markdown",
      "metadata": {
        "id": "LSpX2JsKZDI5"
      },
      "source": [
        "**Problem:**\n",
        "A dataframe with flight information is given.\n",
        "In the `RecentDelays` column, the values have been entered into the\n",
        "DataFrame as a list.\n",
        "Expand list to different columns, i.e. first value of every list should be in its own column, second value in its own, and so on.\n",
        "If there isn't an Nth value, put NaN as entry into the appropriae column.\n",
        "Name these new columns as `delay_1`, `delay_2`, etc.\n",
        "Remove the original column with lists.\n",
        "\n",
        "\n"
      ]
    },
    {
      "cell_type": "code",
      "metadata": {
        "id": "xYGbybBC0FsB"
      },
      "source": [
        "import numpy as np\n",
        "import pandas as pd\n",
        "\n",
        "# Input\n",
        "df = pd.DataFrame({\n",
        "'FlightNumber': [10045, 1055, 10065, 1075, 10085],\n",
        "'RecentDelays': [[23, 47], [], [24, 43, 87], [13], [67, 32]],\n",
        "     'Airline': ['KLM', 'Air France', 'British Airways', 'Air France', 'Swiss Air'],\n",
        "        'From': ['London', 'Madrid', 'London', 'Budapest', 'Brussels'],\n",
        "        'To'  : ['Paris', 'Milan', 'Stockholm', 'Paris', 'London']\n",
        "})\n",
        "\n",
        "# Enter your code here\n",
        "\n",
        "# Visualize\n",
        "display_pandas(df)"
      ],
      "execution_count": null,
      "outputs": []
    },
    {
      "cell_type": "code",
      "metadata": {
        "id": "2h4IiFRF0FsC",
        "cellView": "form",
        "colab": {
          "base_uri": "https://localhost:8080/",
          "height": 225
        },
        "outputId": "29388c93-83d6-4e02-9daf-00ad80d6683a"
      },
      "source": [
        "#@title Solution (double-click to open)\n",
        "\n",
        "import numpy as np\n",
        "import pandas as pd\n",
        "\n",
        "# Input\n",
        "df = pd.DataFrame({\n",
        "'FlightNumber': [10045, 1055, 10065, 1075, 10085],\n",
        "'RecentDelays': [[23, 47], [], [24, 43, 87], [13], [67, 32]],\n",
        "     'Airline': ['KLM', 'Air France', 'British Airways', 'Air France', 'Swiss Air'],\n",
        "        'From': ['London', 'Madrid', 'London', 'Budapest', 'Brussels'],\n",
        "        'To'  : ['Paris', 'Milan', 'Stockholm', 'Paris', 'London']\n",
        "})\n",
        "\n",
        "# Solution\n",
        "delays = df['RecentDelays'].apply(pd.Series)\n",
        "delays.columns = ['delay_{}'.format(n) for n in range(1, len(delays.columns)+1)]\n",
        "df = df.drop('RecentDelays', axis=1).join(delays)\n",
        "\n",
        "# Visualize\n",
        "display_pandas(df)"
      ],
      "execution_count": null,
      "outputs": [
        {
          "output_type": "display_data",
          "data": {
            "text/html": [
              "\n",
              "  <script src=\"https://ajax.googleapis.com/ajax/libs/jquery/3.5.1/jquery.min.js\"></script>\n",
              "  <link rel=\"stylesheet\" type=\"text/css\" href=\"https://cdn.datatables.net/1.10.21/css/jquery.dataTables.css\">\n",
              "  <script type=\"text/javascript\" charset=\"utf8\" src=\"https://cdn.datatables.net/1.10.21/js/jquery.dataTables.js\"></script>\n",
              "  <table border=\"1\" class=\"dataframe pandas_table_short_unordered cell-border\">\n",
              "  <thead>\n",
              "    <tr style=\"text-align: right;\">\n",
              "      <th></th>\n",
              "      <th>FlightNumber</th>\n",
              "      <th>Airline</th>\n",
              "      <th>From</th>\n",
              "      <th>To</th>\n",
              "      <th>delay_1</th>\n",
              "      <th>delay_2</th>\n",
              "      <th>delay_3</th>\n",
              "    </tr>\n",
              "  </thead>\n",
              "  <tbody>\n",
              "    <tr>\n",
              "      <th>0</th>\n",
              "      <td>10045</td>\n",
              "      <td>KLM</td>\n",
              "      <td>London</td>\n",
              "      <td>Paris</td>\n",
              "      <td>23.0</td>\n",
              "      <td>47.0</td>\n",
              "      <td>NaN</td>\n",
              "    </tr>\n",
              "    <tr>\n",
              "      <th>1</th>\n",
              "      <td>1055</td>\n",
              "      <td>Air France</td>\n",
              "      <td>Madrid</td>\n",
              "      <td>Milan</td>\n",
              "      <td>NaN</td>\n",
              "      <td>NaN</td>\n",
              "      <td>NaN</td>\n",
              "    </tr>\n",
              "    <tr>\n",
              "      <th>2</th>\n",
              "      <td>10065</td>\n",
              "      <td>British Airways</td>\n",
              "      <td>London</td>\n",
              "      <td>Stockholm</td>\n",
              "      <td>24.0</td>\n",
              "      <td>43.0</td>\n",
              "      <td>87.0</td>\n",
              "    </tr>\n",
              "    <tr>\n",
              "      <th>3</th>\n",
              "      <td>1075</td>\n",
              "      <td>Air France</td>\n",
              "      <td>Budapest</td>\n",
              "      <td>Paris</td>\n",
              "      <td>13.0</td>\n",
              "      <td>NaN</td>\n",
              "      <td>NaN</td>\n",
              "    </tr>\n",
              "    <tr>\n",
              "      <th>4</th>\n",
              "      <td>10085</td>\n",
              "      <td>Swiss Air</td>\n",
              "      <td>Brussels</td>\n",
              "      <td>London</td>\n",
              "      <td>67.0</td>\n",
              "      <td>32.0</td>\n",
              "      <td>NaN</td>\n",
              "    </tr>\n",
              "  </tbody>\n",
              "</table>\n",
              "  <script>\n",
              "  $(document).ready( function () {\n",
              "      $('.pandas_table_long_ordered').DataTable({\"autoWidth\": false});\n",
              "      $('.pandas_table_long_ordered').removeClass(\"pandas_table_long_ordered\");\n",
              "      $('.pandas_table_short_ordered').DataTable({\"autoWidth\": false, \"paging\":false, \"searching\":false, \"info\":false});\n",
              "      $('.pandas_table_short_ordered').removeClass(\"pandas_table_short_ordered\");\n",
              "\n",
              "      $('.pandas_table_long_unordered').DataTable({\"autoWidth\": false, \"ordering\":false, \"paging\":true});\n",
              "      $('.pandas_table_long_unordered').removeClass(\"pandas_table_long_unordered\");\n",
              "      $('.pandas_table_short_unordered').DataTable({\"autoWidth\": false, \"paging\":false, \"searching\":false, \"info\":false, \"ordering\":false});\n",
              "      $('.pandas_table_short_unordered').removeClass(\"pandas_table_short_unordered\");\n",
              "  } );\n",
              "  </script>\n",
              "  "
            ],
            "text/plain": [
              "<IPython.core.display.HTML object>"
            ]
          },
          "metadata": {
            "tags": []
          }
        }
      ]
    },
    {
      "cell_type": "markdown",
      "metadata": {
        "id": "RxCt2o0K0FsC"
      },
      "source": [
        "# Using MultiIndexes\n",
        "\n",
        "Difficulty: **medium**"
      ]
    },
    {
      "cell_type": "code",
      "metadata": {
        "cellView": "form",
        "id": "vi2INbFmByG0",
        "colab": {
          "base_uri": "https://localhost:8080/",
          "height": 51
        },
        "outputId": "1e3ff8fb-fa69-406d-d90a-d549d3e083a0"
      },
      "source": [
        "#@title Difficulty:\n",
        "%%html\n",
        "\n",
        "<svg width=\"25mm\" height=\"8mm\" version=\"1.1\" viewBox=\"0 0 38.506 12.662\" xmlns=\"http://www.w3.org/2000/svg\">\n",
        " <g transform=\"translate(-13.418 -11.061)\">\n",
        "  <rect x=\"13.418\" y=\"11.061\" width=\"38.506\" height=\"12.662\" rx=\"2.3559\" fill=\"#ffa512\"/>\n",
        "  <text x=\"17.290049\" y=\"20.13888\" fill=\"#ffffff\" font-family=\"Verdana\" font-size=\"8.531px\" letter-spacing=\"0px\" stroke-width=\".26458\" word-spacing=\"0px\" style=\"line-height:1.25\" xml:space=\"preserve\"><tspan x=\"17.290049\" y=\"20.13888\" fill=\"#ffffff\" font-family=\"'Courier New'\" font-size=\"8.531px\" font-weight=\"bold\" stroke-width=\".26458\" style=\"font-feature-settings:normal;font-variant-caps:normal;font-variant-ligatures:normal;font-variant-numeric:normal\">MEDIUM</tspan></text>\n",
        " </g>\n",
        "</svg>\n",
        "\n"
      ],
      "execution_count": null,
      "outputs": [
        {
          "output_type": "display_data",
          "data": {
            "text/html": [
              "\n",
              "<svg width=\"25mm\" height=\"8mm\" version=\"1.1\" viewBox=\"0 0 38.506 12.662\" xmlns=\"http://www.w3.org/2000/svg\">\n",
              " <g transform=\"translate(-13.418 -11.061)\">\n",
              "  <rect x=\"13.418\" y=\"11.061\" width=\"38.506\" height=\"12.662\" rx=\"2.3559\" fill=\"#ffa512\"/>\n",
              "  <text x=\"17.290049\" y=\"20.13888\" fill=\"#ffffff\" font-family=\"Verdana\" font-size=\"8.531px\" letter-spacing=\"0px\" stroke-width=\".26458\" word-spacing=\"0px\" style=\"line-height:1.25\" xml:space=\"preserve\"><tspan x=\"17.290049\" y=\"20.13888\" fill=\"#ffffff\" font-family=\"'Courier New'\" font-size=\"8.531px\" font-weight=\"bold\" stroke-width=\".26458\" style=\"font-feature-settings:normal;font-variant-caps:normal;font-variant-ligatures:normal;font-variant-numeric:normal\">MEDIUM</tspan></text>\n",
              " </g>\n",
              "</svg>\n"
            ],
            "text/plain": [
              "<IPython.core.display.HTML object>"
            ]
          },
          "metadata": {
            "tags": []
          }
        }
      ]
    },
    {
      "cell_type": "markdown",
      "metadata": {
        "id": "Gm-IyzDeftI4"
      },
      "source": [
        "##Problem 1."
      ]
    },
    {
      "cell_type": "markdown",
      "metadata": {
        "id": "RdiLfAQSfwqH"
      },
      "source": [
        "**Problem:**\n",
        "Given the lists `letters = ['A', 'B', 'C']` and `numbers =\n",
        "list(range(4))`, construct a MultiIndex object from the cartesian product of the two lists.\n",
        "Use it to index a Series of consequent numbers `list(range(12))`.\n",
        "\n"
      ]
    },
    {
      "cell_type": "code",
      "metadata": {
        "id": "Pxz9X0_D0FsD"
      },
      "source": [
        "import numpy as np\n",
        "import pandas as pd\n",
        "\n",
        "# Input\n",
        "letters = ['A', 'B', 'C']\n",
        "numbers = list(range(4))\n",
        "entries = list(range(12))\n",
        "\n",
        "# Enter your code here\n",
        "series =\n",
        "\n",
        "# Visualize\n",
        "display_pandas(series)"
      ],
      "execution_count": null,
      "outputs": []
    },
    {
      "cell_type": "code",
      "metadata": {
        "id": "lWn4LV5W0FsK",
        "cellView": "form",
        "colab": {
          "base_uri": "https://localhost:8080/",
          "height": 446
        },
        "outputId": "423d1cfa-3678-4d73-b7da-6e423ee4e4d8"
      },
      "source": [
        "#@title Solution (double-click to open)\n",
        "\n",
        "import numpy as np\n",
        "import pandas as pd\n",
        "\n",
        "# Input\n",
        "letters = ['A', 'B', 'C']\n",
        "numbers = list(range(4))\n",
        "entries = list(range(12))\n",
        "\n",
        "# Solution\n",
        "mi = pd.MultiIndex.from_product([letters, numbers])\n",
        "series = pd.Series(entries, index=mi)\n",
        "\n",
        "# Visualize\n",
        "display_pandas(series)"
      ],
      "execution_count": null,
      "outputs": [
        {
          "output_type": "display_data",
          "data": {
            "text/html": [
              "\n",
              "  <script src=\"https://ajax.googleapis.com/ajax/libs/jquery/3.5.1/jquery.min.js\"></script>\n",
              "  <link rel=\"stylesheet\" type=\"text/css\" href=\"https://cdn.datatables.net/1.10.21/css/jquery.dataTables.css\">\n",
              "  <script type=\"text/javascript\" charset=\"utf8\" src=\"https://cdn.datatables.net/1.10.21/js/jquery.dataTables.js\"></script>\n",
              "  <table border=\"1\" class=\"dataframe pandas_table_long_unordered cell-border\">\n",
              "  <thead>\n",
              "    <tr style=\"text-align: right;\">\n",
              "      <th></th>\n",
              "      <th></th>\n",
              "      <th></th>\n",
              "    </tr>\n",
              "  </thead>\n",
              "  <tbody>\n",
              "    <tr>\n",
              "      <th rowspan=\"4\" valign=\"top\">A</th>\n",
              "      <th>0</th>\n",
              "      <td>0</td>\n",
              "    </tr>\n",
              "    <tr>\n",
              "      <th>1</th>\n",
              "      <td>1</td>\n",
              "    </tr>\n",
              "    <tr>\n",
              "      <th>2</th>\n",
              "      <td>2</td>\n",
              "    </tr>\n",
              "    <tr>\n",
              "      <th>3</th>\n",
              "      <td>3</td>\n",
              "    </tr>\n",
              "    <tr>\n",
              "      <th rowspan=\"4\" valign=\"top\">B</th>\n",
              "      <th>0</th>\n",
              "      <td>4</td>\n",
              "    </tr>\n",
              "    <tr>\n",
              "      <th>1</th>\n",
              "      <td>5</td>\n",
              "    </tr>\n",
              "    <tr>\n",
              "      <th>2</th>\n",
              "      <td>6</td>\n",
              "    </tr>\n",
              "    <tr>\n",
              "      <th>3</th>\n",
              "      <td>7</td>\n",
              "    </tr>\n",
              "    <tr>\n",
              "      <th rowspan=\"4\" valign=\"top\">C</th>\n",
              "      <th>0</th>\n",
              "      <td>8</td>\n",
              "    </tr>\n",
              "    <tr>\n",
              "      <th>1</th>\n",
              "      <td>9</td>\n",
              "    </tr>\n",
              "    <tr>\n",
              "      <th>2</th>\n",
              "      <td>10</td>\n",
              "    </tr>\n",
              "    <tr>\n",
              "      <th>3</th>\n",
              "      <td>11</td>\n",
              "    </tr>\n",
              "  </tbody>\n",
              "</table>\n",
              "  <script>\n",
              "  $(document).ready( function () {\n",
              "      $('.pandas_table_long_ordered').DataTable({\"autoWidth\": false});\n",
              "      $('.pandas_table_long_ordered').removeClass(\"pandas_table_long_ordered\");\n",
              "      $('.pandas_table_short_ordered').DataTable({\"autoWidth\": false, \"paging\":false, \"searching\":false, \"info\":false});\n",
              "      $('.pandas_table_short_ordered').removeClass(\"pandas_table_short_ordered\");\n",
              "\n",
              "      $('.pandas_table_long_unordered').DataTable({\"autoWidth\": false, \"ordering\":false, \"paging\":true});\n",
              "      $('.pandas_table_long_unordered').removeClass(\"pandas_table_long_unordered\");\n",
              "      $('.pandas_table_short_unordered').DataTable({\"autoWidth\": false, \"paging\":false, \"searching\":false, \"info\":false, \"ordering\":false});\n",
              "      $('.pandas_table_short_unordered').removeClass(\"pandas_table_short_unordered\");\n",
              "  } );\n",
              "  </script>\n",
              "  "
            ],
            "text/plain": [
              "<IPython.core.display.HTML object>"
            ]
          },
          "metadata": {
            "tags": []
          }
        }
      ]
    },
    {
      "cell_type": "markdown",
      "metadata": {
        "id": "-V4Cv_m_0FsM"
      },
      "source": [
        "##Problem 2."
      ]
    },
    {
      "cell_type": "markdown",
      "metadata": {
        "id": "Vt4RzjKagrhv"
      },
      "source": [
        "**Problem:**\n",
        "Given the multiindexed series, check that it is lexicographically sorted (this is a necessary property for indexing to work correctly with a MultiIndex).\n",
        "\n",
        "\n"
      ]
    },
    {
      "cell_type": "code",
      "metadata": {
        "id": "21vV5GEm0FsM"
      },
      "source": [
        "import numpy as np\n",
        "import pandas as pd\n",
        "\n",
        "# Input\n",
        "mi = pd.MultiIndex.from_product([['A', 'B', 'C'], [1, 2, 3, 4]])\n",
        "s  = pd.Series([1, 2, 3, 4, 5, 6, 7, 8, 9, 10, 11, 12], index=mi)\n",
        "\n",
        "# Enter your code here"
      ],
      "execution_count": null,
      "outputs": []
    },
    {
      "cell_type": "code",
      "metadata": {
        "id": "nyG3PjWd0FsO",
        "cellView": "form",
        "colab": {
          "base_uri": "https://localhost:8080/",
          "height": 34
        },
        "outputId": "c80c88d1-a5fb-4f5f-f589-ba7bf901975b"
      },
      "source": [
        "#@title Solution A (double-click to open)\n",
        "\n",
        "import numpy as np\n",
        "import pandas as pd\n",
        "\n",
        "# Input\n",
        "mi = pd.MultiIndex.from_product([['A', 'B', 'C'], [1, 2, 3, 4]])\n",
        "s  = pd.Series([1, 2, 3, 4, 5, 6, 7, 8, 9, 10, 11, 12], index=mi)\n",
        "\n",
        "# Solution\n",
        "s.index.is_lexsorted()"
      ],
      "execution_count": null,
      "outputs": [
        {
          "output_type": "execute_result",
          "data": {
            "text/plain": [
              "True"
            ]
          },
          "metadata": {
            "tags": []
          },
          "execution_count": 9
        }
      ]
    },
    {
      "cell_type": "code",
      "metadata": {
        "id": "8pZnS85ThH9i",
        "cellView": "form",
        "colab": {
          "base_uri": "https://localhost:8080/",
          "height": 34
        },
        "outputId": "3bc49ccd-4a5d-4b1c-9dd8-ce05f2a0b488"
      },
      "source": [
        "#@title Solution B (double-click to open)\n",
        "\n",
        "import numpy as np\n",
        "import pandas as pd\n",
        "\n",
        "# Input\n",
        "mi = pd.MultiIndex.from_product([['A', 'B', 'C'], [1, 2, 3, 4]])\n",
        "s  = pd.Series([1, 2, 3, 4, 5, 6, 7, 8, 9, 10, 11, 12], index=mi)\n",
        "\n",
        "# Solution\n",
        "s.index.lexsort_depth == s.index.nlevels"
      ],
      "execution_count": null,
      "outputs": [
        {
          "output_type": "execute_result",
          "data": {
            "text/plain": [
              "True"
            ]
          },
          "metadata": {
            "tags": []
          },
          "execution_count": 10
        }
      ]
    },
    {
      "cell_type": "markdown",
      "metadata": {
        "id": "AjHEXaTK0FsO"
      },
      "source": [
        "##Problem 3."
      ]
    },
    {
      "cell_type": "markdown",
      "metadata": {
        "id": "QV2Q275fjvk7"
      },
      "source": [
        "**Problem:**\n",
        "Given multiindexed series, select the labels `1` and `3` from the second level.\n",
        "\n"
      ]
    },
    {
      "cell_type": "code",
      "metadata": {
        "id": "NhWM19A40FsO"
      },
      "source": [
        "import numpy as np\n",
        "import pandas as pd\n",
        "\n",
        "# Input\n",
        "mi = pd.MultiIndex.from_product([['A', 'B', 'C'], [1, 2, 3, 4]])\n",
        "s  = pd.Series([1, 2, 3, 4, 5, 6, 7, 8, 9, 10, 11, 12], index=mi)\n",
        "\n",
        "# Enter your code here\n",
        "select =\n",
        "\n",
        "# Visualize\n",
        "display_pandas(select)"
      ],
      "execution_count": null,
      "outputs": []
    },
    {
      "cell_type": "code",
      "metadata": {
        "id": "Sr2A69nA0FsQ",
        "cellView": "form",
        "colab": {
          "base_uri": "https://localhost:8080/",
          "height": 242
        },
        "outputId": "e7914268-cacd-4079-9422-f5f779597b8a"
      },
      "source": [
        "#@title Solution (double-click to open)\n",
        "\n",
        "import numpy as np\n",
        "import pandas as pd\n",
        "\n",
        "# Input\n",
        "mi = pd.MultiIndex.from_product([['A', 'B', 'C'], [1, 2, 3, 4]])\n",
        "s  = pd.Series([1, 2, 3, 4, 5, 6, 7, 8, 9, 10, 11, 12], index=mi)\n",
        "\n",
        "# Solution\n",
        "select = s.loc[:, [1, 3]]\n",
        "\n",
        "# Visualize\n",
        "display_pandas(select)"
      ],
      "execution_count": null,
      "outputs": [
        {
          "output_type": "display_data",
          "data": {
            "text/html": [
              "\n",
              "  <script src=\"https://ajax.googleapis.com/ajax/libs/jquery/3.5.1/jquery.min.js\"></script>\n",
              "  <link rel=\"stylesheet\" type=\"text/css\" href=\"https://cdn.datatables.net/1.10.21/css/jquery.dataTables.css\">\n",
              "  <script type=\"text/javascript\" charset=\"utf8\" src=\"https://cdn.datatables.net/1.10.21/js/jquery.dataTables.js\"></script>\n",
              "  <table border=\"1\" class=\"dataframe pandas_table_short_unordered cell-border\">\n",
              "  <thead>\n",
              "    <tr style=\"text-align: right;\">\n",
              "      <th></th>\n",
              "      <th></th>\n",
              "      <th></th>\n",
              "    </tr>\n",
              "  </thead>\n",
              "  <tbody>\n",
              "    <tr>\n",
              "      <th rowspan=\"2\" valign=\"top\">A</th>\n",
              "      <th>1</th>\n",
              "      <td>1</td>\n",
              "    </tr>\n",
              "    <tr>\n",
              "      <th>3</th>\n",
              "      <td>3</td>\n",
              "    </tr>\n",
              "    <tr>\n",
              "      <th rowspan=\"2\" valign=\"top\">B</th>\n",
              "      <th>1</th>\n",
              "      <td>5</td>\n",
              "    </tr>\n",
              "    <tr>\n",
              "      <th>3</th>\n",
              "      <td>7</td>\n",
              "    </tr>\n",
              "    <tr>\n",
              "      <th rowspan=\"2\" valign=\"top\">C</th>\n",
              "      <th>1</th>\n",
              "      <td>9</td>\n",
              "    </tr>\n",
              "    <tr>\n",
              "      <th>3</th>\n",
              "      <td>11</td>\n",
              "    </tr>\n",
              "  </tbody>\n",
              "</table>\n",
              "  <script>\n",
              "  $(document).ready( function () {\n",
              "      $('.pandas_table_long_ordered').DataTable({\"autoWidth\": false});\n",
              "      $('.pandas_table_long_ordered').removeClass(\"pandas_table_long_ordered\");\n",
              "      $('.pandas_table_short_ordered').DataTable({\"autoWidth\": false, \"paging\":false, \"searching\":false, \"info\":false});\n",
              "      $('.pandas_table_short_ordered').removeClass(\"pandas_table_short_ordered\");\n",
              "\n",
              "      $('.pandas_table_long_unordered').DataTable({\"autoWidth\": false, \"ordering\":false, \"paging\":true});\n",
              "      $('.pandas_table_long_unordered').removeClass(\"pandas_table_long_unordered\");\n",
              "      $('.pandas_table_short_unordered').DataTable({\"autoWidth\": false, \"paging\":false, \"searching\":false, \"info\":false, \"ordering\":false});\n",
              "      $('.pandas_table_short_unordered').removeClass(\"pandas_table_short_unordered\");\n",
              "  } );\n",
              "  </script>\n",
              "  "
            ],
            "text/plain": [
              "<IPython.core.display.HTML object>"
            ]
          },
          "metadata": {
            "tags": []
          }
        }
      ]
    },
    {
      "cell_type": "markdown",
      "metadata": {
        "id": "I2w372e50FsQ"
      },
      "source": [
        "##Problem 4."
      ]
    },
    {
      "cell_type": "markdown",
      "metadata": {
        "id": "9_uunM3Qmt-9"
      },
      "source": [
        "**Problem:**\n",
        "Given multiindexed series, slice it up to label 'B' for the first indexing level and from the label 2 onwards for the second level.\n",
        "\n"
      ]
    },
    {
      "cell_type": "code",
      "metadata": {
        "id": "BmRHSp7R0FsQ"
      },
      "source": [
        "import numpy as np\n",
        "import pandas as pd\n",
        "\n",
        "# Input\n",
        "mi = pd.MultiIndex.from_product([['A', 'B', 'C'], [1, 2, 3, 4]])\n",
        "s  = pd.Series([1, 2, 3, 4, 5, 6, 7, 8, 9, 10, 11, 12], index=mi)\n",
        "\n",
        "# Enter your code here\n",
        "select =\n",
        "\n",
        "# Visualize\n",
        "display_pandas(select)"
      ],
      "execution_count": null,
      "outputs": []
    },
    {
      "cell_type": "code",
      "metadata": {
        "id": "A-yaWMbE0FsR",
        "cellView": "form",
        "colab": {
          "base_uri": "https://localhost:8080/",
          "height": 242
        },
        "outputId": "97c78e5d-b727-4841-87e8-c3ca86635f92"
      },
      "source": [
        "#@title Solution A (double-click to open)\n",
        "\n",
        "import numpy as np\n",
        "import pandas as pd\n",
        "\n",
        "# Input\n",
        "mi = pd.MultiIndex.from_product([['A', 'B', 'C'], [1, 2, 3, 4]])\n",
        "s  = pd.Series([1, 2, 3, 4, 5, 6, 7, 8, 9, 10, 11, 12], index=mi)\n",
        "\n",
        "# Solution\n",
        "select = s.loc[pd.IndexSlice[:'B', 2:]]\n",
        "\n",
        "# Visualize\n",
        "display_pandas(select)"
      ],
      "execution_count": null,
      "outputs": [
        {
          "output_type": "display_data",
          "data": {
            "text/html": [
              "\n",
              "  <script src=\"https://ajax.googleapis.com/ajax/libs/jquery/3.5.1/jquery.min.js\"></script>\n",
              "  <link rel=\"stylesheet\" type=\"text/css\" href=\"https://cdn.datatables.net/1.10.21/css/jquery.dataTables.css\">\n",
              "  <script type=\"text/javascript\" charset=\"utf8\" src=\"https://cdn.datatables.net/1.10.21/js/jquery.dataTables.js\"></script>\n",
              "  <table border=\"1\" class=\"dataframe pandas_table_short_unordered cell-border\">\n",
              "  <thead>\n",
              "    <tr style=\"text-align: right;\">\n",
              "      <th></th>\n",
              "      <th></th>\n",
              "      <th></th>\n",
              "    </tr>\n",
              "  </thead>\n",
              "  <tbody>\n",
              "    <tr>\n",
              "      <th rowspan=\"3\" valign=\"top\">A</th>\n",
              "      <th>2</th>\n",
              "      <td>2</td>\n",
              "    </tr>\n",
              "    <tr>\n",
              "      <th>3</th>\n",
              "      <td>3</td>\n",
              "    </tr>\n",
              "    <tr>\n",
              "      <th>4</th>\n",
              "      <td>4</td>\n",
              "    </tr>\n",
              "    <tr>\n",
              "      <th rowspan=\"3\" valign=\"top\">B</th>\n",
              "      <th>2</th>\n",
              "      <td>6</td>\n",
              "    </tr>\n",
              "    <tr>\n",
              "      <th>3</th>\n",
              "      <td>7</td>\n",
              "    </tr>\n",
              "    <tr>\n",
              "      <th>4</th>\n",
              "      <td>8</td>\n",
              "    </tr>\n",
              "  </tbody>\n",
              "</table>\n",
              "  <script>\n",
              "  $(document).ready( function () {\n",
              "      $('.pandas_table_long_ordered').DataTable({\"autoWidth\": false});\n",
              "      $('.pandas_table_long_ordered').removeClass(\"pandas_table_long_ordered\");\n",
              "      $('.pandas_table_short_ordered').DataTable({\"autoWidth\": false, \"paging\":false, \"searching\":false, \"info\":false});\n",
              "      $('.pandas_table_short_ordered').removeClass(\"pandas_table_short_ordered\");\n",
              "\n",
              "      $('.pandas_table_long_unordered').DataTable({\"autoWidth\": false, \"ordering\":false, \"paging\":true});\n",
              "      $('.pandas_table_long_unordered').removeClass(\"pandas_table_long_unordered\");\n",
              "      $('.pandas_table_short_unordered').DataTable({\"autoWidth\": false, \"paging\":false, \"searching\":false, \"info\":false, \"ordering\":false});\n",
              "      $('.pandas_table_short_unordered').removeClass(\"pandas_table_short_unordered\");\n",
              "  } );\n",
              "  </script>\n",
              "  "
            ],
            "text/plain": [
              "<IPython.core.display.HTML object>"
            ]
          },
          "metadata": {
            "tags": []
          }
        }
      ]
    },
    {
      "cell_type": "code",
      "metadata": {
        "id": "7zzAqUFkmjet",
        "cellView": "form",
        "colab": {
          "base_uri": "https://localhost:8080/",
          "height": 242
        },
        "outputId": "f1101bf5-06e3-4998-881a-587793dfcf9e"
      },
      "source": [
        "#@title Solution B (double-click to open)\n",
        "\n",
        "import numpy as np\n",
        "import pandas as pd\n",
        "\n",
        "# Input\n",
        "mi = pd.MultiIndex.from_product([['A', 'B', 'C'], [1, 2, 3, 4]])\n",
        "s  = pd.Series([1, 2, 3, 4, 5, 6, 7, 8, 9, 10, 11, 12], index=mi)\n",
        "\n",
        "# Solution\n",
        "select = s.loc[slice(None, 'B'), slice(2, None)]\n",
        "\n",
        "# Visualize\n",
        "display_pandas(select)"
      ],
      "execution_count": null,
      "outputs": [
        {
          "output_type": "display_data",
          "data": {
            "text/html": [
              "\n",
              "  <script src=\"https://ajax.googleapis.com/ajax/libs/jquery/3.5.1/jquery.min.js\"></script>\n",
              "  <link rel=\"stylesheet\" type=\"text/css\" href=\"https://cdn.datatables.net/1.10.21/css/jquery.dataTables.css\">\n",
              "  <script type=\"text/javascript\" charset=\"utf8\" src=\"https://cdn.datatables.net/1.10.21/js/jquery.dataTables.js\"></script>\n",
              "  <table border=\"1\" class=\"dataframe pandas_table_short_unordered cell-border\">\n",
              "  <thead>\n",
              "    <tr style=\"text-align: right;\">\n",
              "      <th></th>\n",
              "      <th></th>\n",
              "      <th></th>\n",
              "    </tr>\n",
              "  </thead>\n",
              "  <tbody>\n",
              "    <tr>\n",
              "      <th rowspan=\"3\" valign=\"top\">A</th>\n",
              "      <th>2</th>\n",
              "      <td>2</td>\n",
              "    </tr>\n",
              "    <tr>\n",
              "      <th>3</th>\n",
              "      <td>3</td>\n",
              "    </tr>\n",
              "    <tr>\n",
              "      <th>4</th>\n",
              "      <td>4</td>\n",
              "    </tr>\n",
              "    <tr>\n",
              "      <th rowspan=\"3\" valign=\"top\">B</th>\n",
              "      <th>2</th>\n",
              "      <td>6</td>\n",
              "    </tr>\n",
              "    <tr>\n",
              "      <th>3</th>\n",
              "      <td>7</td>\n",
              "    </tr>\n",
              "    <tr>\n",
              "      <th>4</th>\n",
              "      <td>8</td>\n",
              "    </tr>\n",
              "  </tbody>\n",
              "</table>\n",
              "  <script>\n",
              "  $(document).ready( function () {\n",
              "      $('.pandas_table_long_ordered').DataTable({\"autoWidth\": false});\n",
              "      $('.pandas_table_long_ordered').removeClass(\"pandas_table_long_ordered\");\n",
              "      $('.pandas_table_short_ordered').DataTable({\"autoWidth\": false, \"paging\":false, \"searching\":false, \"info\":false});\n",
              "      $('.pandas_table_short_ordered').removeClass(\"pandas_table_short_ordered\");\n",
              "\n",
              "      $('.pandas_table_long_unordered').DataTable({\"autoWidth\": false, \"ordering\":false, \"paging\":true});\n",
              "      $('.pandas_table_long_unordered').removeClass(\"pandas_table_long_unordered\");\n",
              "      $('.pandas_table_short_unordered').DataTable({\"autoWidth\": false, \"paging\":false, \"searching\":false, \"info\":false, \"ordering\":false});\n",
              "      $('.pandas_table_short_unordered').removeClass(\"pandas_table_short_unordered\");\n",
              "  } );\n",
              "  </script>\n",
              "  "
            ],
            "text/plain": [
              "<IPython.core.display.HTML object>"
            ]
          },
          "metadata": {
            "tags": []
          }
        }
      ]
    },
    {
      "cell_type": "markdown",
      "metadata": {
        "id": "A4mFOYju0FsS"
      },
      "source": [
        "##Problem 5."
      ]
    },
    {
      "cell_type": "markdown",
      "metadata": {
        "id": "_hJVfQ1YpxCm"
      },
      "source": [
        "**Problem:**\n",
        "Given multiindexed dataframe, sum the values for each label in the first level of indexing.\n",
        "\n"
      ]
    },
    {
      "cell_type": "code",
      "metadata": {
        "id": "awa15Clw0FsS"
      },
      "source": [
        "import numpy as np\n",
        "import pandas as pd\n",
        "\n",
        "# Input\n",
        "mi = pd.MultiIndex.from_product([['A', 'B', 'C'], [1, 2, 3, 4]])\n",
        "s  = pd.Series([1, 2, 3, 4, 5, 6, 7, 8, 9, 10, 11, 12], index=mi)\n",
        "\n",
        "# Enter your code here\n",
        "sum =\n",
        "\n",
        "# Visualize\n",
        "display_pandas(sum)"
      ],
      "execution_count": null,
      "outputs": []
    },
    {
      "cell_type": "code",
      "metadata": {
        "id": "jNZja_Sa0FsT",
        "cellView": "form",
        "colab": {
          "base_uri": "https://localhost:8080/",
          "height": 140
        },
        "outputId": "d539e42e-69fc-43e8-a5a8-33de1bea01d6"
      },
      "source": [
        "#@title Solution (double-click to open)\n",
        "\n",
        "import numpy as np\n",
        "import pandas as pd\n",
        "\n",
        "# Input\n",
        "mi = pd.MultiIndex.from_product([['A', 'B', 'C'], [1, 2, 3, 4]])\n",
        "s  = pd.Series([1, 2, 3, 4, 5, 6, 7, 8, 9, 10, 11, 12], index=mi)\n",
        "\n",
        "# Solution\n",
        "sum = s.sum(level=0)\n",
        "\n",
        "# Visualize\n",
        "display_pandas(sum)"
      ],
      "execution_count": null,
      "outputs": [
        {
          "output_type": "display_data",
          "data": {
            "text/html": [
              "\n",
              "  <script src=\"https://ajax.googleapis.com/ajax/libs/jquery/3.5.1/jquery.min.js\"></script>\n",
              "  <link rel=\"stylesheet\" type=\"text/css\" href=\"https://cdn.datatables.net/1.10.21/css/jquery.dataTables.css\">\n",
              "  <script type=\"text/javascript\" charset=\"utf8\" src=\"https://cdn.datatables.net/1.10.21/js/jquery.dataTables.js\"></script>\n",
              "  <table border=\"1\" class=\"dataframe pandas_table_short_unordered cell-border\">\n",
              "  <thead>\n",
              "    <tr style=\"text-align: right;\">\n",
              "      <th></th>\n",
              "      <th></th>\n",
              "    </tr>\n",
              "  </thead>\n",
              "  <tbody>\n",
              "    <tr>\n",
              "      <th>A</th>\n",
              "      <td>10</td>\n",
              "    </tr>\n",
              "    <tr>\n",
              "      <th>B</th>\n",
              "      <td>26</td>\n",
              "    </tr>\n",
              "    <tr>\n",
              "      <th>C</th>\n",
              "      <td>42</td>\n",
              "    </tr>\n",
              "  </tbody>\n",
              "</table>\n",
              "  <script>\n",
              "  $(document).ready( function () {\n",
              "      $('.pandas_table_long_ordered').DataTable({\"autoWidth\": false});\n",
              "      $('.pandas_table_long_ordered').removeClass(\"pandas_table_long_ordered\");\n",
              "      $('.pandas_table_short_ordered').DataTable({\"autoWidth\": false, \"paging\":false, \"searching\":false, \"info\":false});\n",
              "      $('.pandas_table_short_ordered').removeClass(\"pandas_table_short_ordered\");\n",
              "\n",
              "      $('.pandas_table_long_unordered').DataTable({\"autoWidth\": false, \"ordering\":false, \"paging\":true});\n",
              "      $('.pandas_table_long_unordered').removeClass(\"pandas_table_long_unordered\");\n",
              "      $('.pandas_table_short_unordered').DataTable({\"autoWidth\": false, \"paging\":false, \"searching\":false, \"info\":false, \"ordering\":false});\n",
              "      $('.pandas_table_short_unordered').removeClass(\"pandas_table_short_unordered\");\n",
              "  } );\n",
              "  </script>\n",
              "  "
            ],
            "text/plain": [
              "<IPython.core.display.HTML object>"
            ]
          },
          "metadata": {
            "tags": []
          }
        }
      ]
    },
    {
      "cell_type": "markdown",
      "metadata": {
        "id": "l_khSpOR0FsU"
      },
      "source": [
        "##Problem 6."
      ]
    },
    {
      "cell_type": "markdown",
      "metadata": {
        "id": "mIYKIEz8qysn"
      },
      "source": [
        "**Problem:**\n",
        "In the previous problem you used `sum(level=0)`.\n",
        "Suppose, the `level` property is inaccessible.\n",
        "Suggest any workaround to calculate `sum(level=0)`.\n",
        "\n"
      ]
    },
    {
      "cell_type": "code",
      "metadata": {
        "id": "0-78He7W0FsU"
      },
      "source": [
        "import numpy as np\n",
        "import pandas as pd\n",
        "\n",
        "# Input\n",
        "mi = pd.MultiIndex.from_product([['A', 'B', 'C'], [1, 2, 3, 4]])\n",
        "s  = pd.Series([1, 2, 3, 4, 5, 6, 7, 8, 9, 10, 11, 12], index=mi)\n",
        "\n",
        "# Enter your code here\n",
        "sum =\n",
        "\n",
        "# Visualize\n",
        "display_pandas(sum)"
      ],
      "execution_count": null,
      "outputs": []
    },
    {
      "cell_type": "code",
      "metadata": {
        "id": "Boj2OttI0FsV",
        "cellView": "form",
        "colab": {
          "base_uri": "https://localhost:8080/",
          "height": 140
        },
        "outputId": "54f7c118-1f49-4c2c-ece4-e2bb3b430239"
      },
      "source": [
        "#@title Solution (double-click to open)\n",
        "\n",
        "import numpy as np\n",
        "import pandas as pd\n",
        "\n",
        "# Input\n",
        "mi = pd.MultiIndex.from_product([['A', 'B', 'C'], [1, 2, 3, 4]])\n",
        "s  = pd.Series([1, 2, 3, 4, 5, 6, 7, 8, 9, 10, 11, 12], index=mi)\n",
        "\n",
        "# Solution\n",
        "sum = s.unstack().sum(axis=1)\n",
        "\n",
        "# Visualize\n",
        "display_pandas(sum)"
      ],
      "execution_count": null,
      "outputs": [
        {
          "output_type": "display_data",
          "data": {
            "text/html": [
              "\n",
              "  <script src=\"https://ajax.googleapis.com/ajax/libs/jquery/3.5.1/jquery.min.js\"></script>\n",
              "  <link rel=\"stylesheet\" type=\"text/css\" href=\"https://cdn.datatables.net/1.10.21/css/jquery.dataTables.css\">\n",
              "  <script type=\"text/javascript\" charset=\"utf8\" src=\"https://cdn.datatables.net/1.10.21/js/jquery.dataTables.js\"></script>\n",
              "  <table border=\"1\" class=\"dataframe pandas_table_short_unordered cell-border\">\n",
              "  <thead>\n",
              "    <tr style=\"text-align: right;\">\n",
              "      <th></th>\n",
              "      <th></th>\n",
              "    </tr>\n",
              "  </thead>\n",
              "  <tbody>\n",
              "    <tr>\n",
              "      <th>A</th>\n",
              "      <td>10</td>\n",
              "    </tr>\n",
              "    <tr>\n",
              "      <th>B</th>\n",
              "      <td>26</td>\n",
              "    </tr>\n",
              "    <tr>\n",
              "      <th>C</th>\n",
              "      <td>42</td>\n",
              "    </tr>\n",
              "  </tbody>\n",
              "</table>\n",
              "  <script>\n",
              "  $(document).ready( function () {\n",
              "      $('.pandas_table_long_ordered').DataTable({\"autoWidth\": false});\n",
              "      $('.pandas_table_long_ordered').removeClass(\"pandas_table_long_ordered\");\n",
              "      $('.pandas_table_short_ordered').DataTable({\"autoWidth\": false, \"paging\":false, \"searching\":false, \"info\":false});\n",
              "      $('.pandas_table_short_ordered').removeClass(\"pandas_table_short_ordered\");\n",
              "\n",
              "      $('.pandas_table_long_unordered').DataTable({\"autoWidth\": false, \"ordering\":false, \"paging\":true});\n",
              "      $('.pandas_table_long_unordered').removeClass(\"pandas_table_long_unordered\");\n",
              "      $('.pandas_table_short_unordered').DataTable({\"autoWidth\": false, \"paging\":false, \"searching\":false, \"info\":false, \"ordering\":false});\n",
              "      $('.pandas_table_short_unordered').removeClass(\"pandas_table_short_unordered\");\n",
              "  } );\n",
              "  </script>\n",
              "  "
            ],
            "text/plain": [
              "<IPython.core.display.HTML object>"
            ]
          },
          "metadata": {
            "tags": []
          }
        }
      ]
    },
    {
      "cell_type": "markdown",
      "metadata": {
        "id": "ScmeDUTj0FsW"
      },
      "source": [
        "##Problem 7."
      ]
    },
    {
      "cell_type": "markdown",
      "metadata": {
        "id": "jlKfAc6prvDQ"
      },
      "source": [
        "**Problem:**\n",
        "Given double-indexed series, swap the indices.\n",
        "Check the lexicographical order after swapping and sort if needed.\n"
      ]
    },
    {
      "cell_type": "code",
      "metadata": {
        "id": "3AK0O7Sq0FsW"
      },
      "source": [
        "import numpy as np\n",
        "import pandas as pd\n",
        "\n",
        "# Input\n",
        "mi = pd.MultiIndex.from_product([['A', 'B', 'C'], [1, 2, 3, 4]])\n",
        "s  = pd.Series([1, 2, 3, 4, 5, 6, 7, 8, 9, 10, 11, 12], index=mi)\n",
        "\n",
        "# Enter your code here\n",
        "swapped =\n",
        "\n",
        "# Visualize\n",
        "display_pandas(swapped)"
      ],
      "execution_count": null,
      "outputs": []
    },
    {
      "cell_type": "code",
      "metadata": {
        "id": "6djsscnM0FsX",
        "cellView": "form",
        "colab": {
          "base_uri": "https://localhost:8080/",
          "height": 446
        },
        "outputId": "d1d67722-0094-4aa3-a4ad-27adeea48979"
      },
      "source": [
        "#@title Solution (double-click to open)\n",
        "\n",
        "import numpy as np\n",
        "import pandas as pd\n",
        "\n",
        "# Input\n",
        "mi = pd.MultiIndex.from_product([['A', 'B', 'C'], [1, 2, 3, 4]])\n",
        "s  = pd.Series([1, 2, 3, 4, 5, 6, 7, 8, 9, 10, 11, 12], index=mi)\n",
        "\n",
        "# Solution\n",
        "swapped = s.swaplevel(0, 1)\n",
        "if not swapped.index.is_lexsorted():\n",
        "  swapped = swapped.sort_index()\n",
        "\n",
        "# Visualize\n",
        "display_pandas(swapped)"
      ],
      "execution_count": null,
      "outputs": [
        {
          "output_type": "display_data",
          "data": {
            "text/html": [
              "\n",
              "  <script src=\"https://ajax.googleapis.com/ajax/libs/jquery/3.5.1/jquery.min.js\"></script>\n",
              "  <link rel=\"stylesheet\" type=\"text/css\" href=\"https://cdn.datatables.net/1.10.21/css/jquery.dataTables.css\">\n",
              "  <script type=\"text/javascript\" charset=\"utf8\" src=\"https://cdn.datatables.net/1.10.21/js/jquery.dataTables.js\"></script>\n",
              "  <table border=\"1\" class=\"dataframe pandas_table_long_unordered cell-border\">\n",
              "  <thead>\n",
              "    <tr style=\"text-align: right;\">\n",
              "      <th></th>\n",
              "      <th></th>\n",
              "      <th></th>\n",
              "    </tr>\n",
              "  </thead>\n",
              "  <tbody>\n",
              "    <tr>\n",
              "      <th rowspan=\"3\" valign=\"top\">1</th>\n",
              "      <th>A</th>\n",
              "      <td>1</td>\n",
              "    </tr>\n",
              "    <tr>\n",
              "      <th>B</th>\n",
              "      <td>5</td>\n",
              "    </tr>\n",
              "    <tr>\n",
              "      <th>C</th>\n",
              "      <td>9</td>\n",
              "    </tr>\n",
              "    <tr>\n",
              "      <th rowspan=\"3\" valign=\"top\">2</th>\n",
              "      <th>A</th>\n",
              "      <td>2</td>\n",
              "    </tr>\n",
              "    <tr>\n",
              "      <th>B</th>\n",
              "      <td>6</td>\n",
              "    </tr>\n",
              "    <tr>\n",
              "      <th>C</th>\n",
              "      <td>10</td>\n",
              "    </tr>\n",
              "    <tr>\n",
              "      <th rowspan=\"3\" valign=\"top\">3</th>\n",
              "      <th>A</th>\n",
              "      <td>3</td>\n",
              "    </tr>\n",
              "    <tr>\n",
              "      <th>B</th>\n",
              "      <td>7</td>\n",
              "    </tr>\n",
              "    <tr>\n",
              "      <th>C</th>\n",
              "      <td>11</td>\n",
              "    </tr>\n",
              "    <tr>\n",
              "      <th rowspan=\"3\" valign=\"top\">4</th>\n",
              "      <th>A</th>\n",
              "      <td>4</td>\n",
              "    </tr>\n",
              "    <tr>\n",
              "      <th>B</th>\n",
              "      <td>8</td>\n",
              "    </tr>\n",
              "    <tr>\n",
              "      <th>C</th>\n",
              "      <td>12</td>\n",
              "    </tr>\n",
              "  </tbody>\n",
              "</table>\n",
              "  <script>\n",
              "  $(document).ready( function () {\n",
              "      $('.pandas_table_long_ordered').DataTable({\"autoWidth\": false});\n",
              "      $('.pandas_table_long_ordered').removeClass(\"pandas_table_long_ordered\");\n",
              "      $('.pandas_table_short_ordered').DataTable({\"autoWidth\": false, \"paging\":false, \"searching\":false, \"info\":false});\n",
              "      $('.pandas_table_short_ordered').removeClass(\"pandas_table_short_ordered\");\n",
              "\n",
              "      $('.pandas_table_long_unordered').DataTable({\"autoWidth\": false, \"ordering\":false, \"paging\":true});\n",
              "      $('.pandas_table_long_unordered').removeClass(\"pandas_table_long_unordered\");\n",
              "      $('.pandas_table_short_unordered').DataTable({\"autoWidth\": false, \"paging\":false, \"searching\":false, \"info\":false, \"ordering\":false});\n",
              "      $('.pandas_table_short_unordered').removeClass(\"pandas_table_short_unordered\");\n",
              "  } );\n",
              "  </script>\n",
              "  "
            ],
            "text/plain": [
              "<IPython.core.display.HTML object>"
            ]
          },
          "metadata": {
            "tags": []
          }
        }
      ]
    },
    {
      "cell_type": "markdown",
      "metadata": {
        "id": "ZsLOt4YOUwc4"
      },
      "source": [
        "# Expert"
      ]
    },
    {
      "cell_type": "code",
      "metadata": {
        "cellView": "form",
        "id": "x0HI-JOzB6Js",
        "colab": {
          "base_uri": "https://localhost:8080/",
          "height": 51
        },
        "outputId": "00564ef7-aec6-4342-e721-1b411dda96ad"
      },
      "source": [
        "#@title Difficulty:\n",
        "%%html\n",
        "\n",
        "<svg width=\"25mm\" height=\"8mm\" version=\"1.1\" viewBox=\"0 0 38.506 12.662\" xmlns=\"http://www.w3.org/2000/svg\">\n",
        " <g transform=\"translate(-13.418 -11.061)\">\n",
        "  <rect x=\"13.418\" y=\"11.061\" width=\"38.506\" height=\"12.662\" rx=\"2.3559\" fill=\"#d30000\"/>\n",
        "  <text x=\"23.045841\" y=\"20.127415\" fill=\"#ffffff\" font-family=\"Verdana\" font-size=\"8.531px\" letter-spacing=\"0px\" stroke-width=\".26458\" word-spacing=\"0px\" style=\"line-height:1.25\" xml:space=\"preserve\"><tspan x=\"23.045841\" y=\"20.127415\" fill=\"#ffffff\" font-family=\"'Courier New'\" font-size=\"8.531px\" font-weight=\"bold\" stroke-width=\".26458\" style=\"font-feature-settings:normal;font-variant-caps:normal;font-variant-ligatures:normal;font-variant-numeric:normal\">HARD</tspan></text>\n",
        " </g>\n",
        "</svg>\n"
      ],
      "execution_count": null,
      "outputs": [
        {
          "output_type": "display_data",
          "data": {
            "text/html": [
              "\n",
              "<svg width=\"25mm\" height=\"8mm\" version=\"1.1\" viewBox=\"0 0 38.506 12.662\" xmlns=\"http://www.w3.org/2000/svg\">\n",
              " <g transform=\"translate(-13.418 -11.061)\">\n",
              "  <rect x=\"13.418\" y=\"11.061\" width=\"38.506\" height=\"12.662\" rx=\"2.3559\" fill=\"#d30000\"/>\n",
              "  <text x=\"23.045841\" y=\"20.127415\" fill=\"#ffffff\" font-family=\"Verdana\" font-size=\"8.531px\" letter-spacing=\"0px\" stroke-width=\".26458\" word-spacing=\"0px\" style=\"line-height:1.25\" xml:space=\"preserve\"><tspan x=\"23.045841\" y=\"20.127415\" fill=\"#ffffff\" font-family=\"'Courier New'\" font-size=\"8.531px\" font-weight=\"bold\" stroke-width=\".26458\" style=\"font-feature-settings:normal;font-variant-caps:normal;font-variant-ligatures:normal;font-variant-numeric:normal\">HARD</tspan></text>\n",
              " </g>\n",
              "</svg>"
            ],
            "text/plain": [
              "<IPython.core.display.HTML object>"
            ]
          },
          "metadata": {
            "tags": []
          }
        }
      ]
    },
    {
      "cell_type": "markdown",
      "metadata": {
        "id": "EXdxpcp70FsY"
      },
      "source": [
        "## Minesweeper again"
      ]
    },
    {
      "cell_type": "markdown",
      "metadata": {
        "id": "J22JempO0FsZ"
      },
      "source": [
        "* Complete the `generate_mines(field_width, field_height, prob)` function.\n",
        "The function should return a multiindexed dataframe that contains randomly distributed zeros and ones.\n",
        "Multiindex should be a cartesian product of indices `0`,...,`field_width-1` named `x` and indices `0`,...,`field_height-1` named `y`.\n",
        "Column with data should be called `mines`.\n",
        "Ensure that the probability of finding 1 in the column is equal to given `prob`.\n",
        "\n",
        "\n"
      ]
    },
    {
      "cell_type": "code",
      "metadata": {
        "id": "kaiminRL0Fsa"
      },
      "source": [
        "import numpy as np\n",
        "import pandas as pd\n",
        "\n",
        "def generate_mines(field_width, field_height, prob):\n",
        "  # Enter your code here\n",
        "\n",
        "result = generate_mines(5, 5, 0.4)\n",
        "\n",
        "# Output\n",
        "display_pandas(result.unstack())"
      ],
      "execution_count": null,
      "outputs": []
    },
    {
      "cell_type": "code",
      "metadata": {
        "id": "tGttK1BI0Fsa",
        "cellView": "form"
      },
      "source": [
        "#@title Solution (double-click to see the code)\n",
        "\n",
        "import numpy as np\n",
        "import pandas as pd\n",
        "\n",
        "# Solution\n",
        "def generate_mines(field_width, field_height, prob):\n",
        "  mi = pd.MultiIndex.from_product([range(field_width), range(field_height)], names=['x', 'y'])\n",
        "  return pd.DataFrame({'mine': np.random.binomial(1, prob, field_width * field_height)}, index=mi)\n",
        "\n",
        "result = generate_mines(5, 5, 0.4)\n",
        "\n",
        "# Output\n",
        "display_pandas(result.unstack())"
      ],
      "execution_count": null,
      "outputs": []
    },
    {
      "cell_type": "markdown",
      "metadata": {
        "id": "zLLgCAbrdXHE"
      },
      "source": [
        "* Complete the function `add_adjacent(data_frame)`.\n",
        "You should create a new column `adjacent` in `data_frame` and fill it with number of mines found on adjacent squares of the grid.\n",
        "\n",
        "**Note:**\n",
        "You can either create solution from scratch or use a helper function.\n",
        "Provided helper function performs convolution with kernel\n",
        "```\n",
        "1 1 1\n",
        "1 1 1\n",
        "1 1 1\n",
        "```\n",
        "that immediately yields the correct number of adjacents.\n",
        "Your work is to pivot the table so that the function can work on it."
      ]
    },
    {
      "cell_type": "code",
      "metadata": {
        "id": "Eb01N2QV0Fsd"
      },
      "source": [
        "import numpy as np\n",
        "import pandas as pd\n",
        "\n",
        "# Input\n",
        "field = generate_mines(5, 5, 0.1)\n",
        "\n",
        "# Helper function, you are free to use it or not\n",
        "def get_adjacents(grid):\n",
        "  from scipy.signal import convolve2d\n",
        "  kernel = np.ones((3, 3))\n",
        "  grd = grid.astype(complex)\n",
        "  return convolve2d(grd, kernel, mode='same').real.astype(int).flatten('F')\n",
        "\n",
        "\n",
        "def add_adjacent(data_frame):\n",
        "  # Enter your code here\n",
        "\n",
        "\n",
        "add_adjacent(field)\n",
        "\n",
        "# Output\n",
        "display_pandas(field.unstack())"
      ],
      "execution_count": null,
      "outputs": []
    },
    {
      "cell_type": "code",
      "metadata": {
        "id": "YetpEW8f0Fse",
        "cellView": "form"
      },
      "source": [
        "#@title Solution (double-click to see the code)\n",
        "\n",
        "import numpy as np\n",
        "import pandas as pd\n",
        "\n",
        "# Input\n",
        "field = generate_mines(5, 5, 0.1)\n",
        "\n",
        "# Helper function, you are free to use it or not\n",
        "def get_adjacents(grid):\n",
        "  from scipy.signal import convolve2d\n",
        "  kernel = np.ones((3, 3))\n",
        "  grd = grid.astype(complex)\n",
        "  return convolve2d(grd, kernel, mode='same').real.astype(int).flatten('F')\n",
        "\n",
        "# Solution\n",
        "def add_adjacent(data_frame):\n",
        "  mine_grid = data_frame.pivot_table(columns='x', index='y', values='mine')\n",
        "  data_frame['adjacent'] = get_adjacents(mine_grid)\n",
        "\n",
        "add_adjacent(field)\n",
        "\n",
        "# Output\n",
        "display_pandas(field.unstack())"
      ],
      "execution_count": null,
      "outputs": []
    },
    {
      "cell_type": "markdown",
      "metadata": {
        "id": "_vOf6ZIbfTY6"
      },
      "source": [
        "* Complete the function `nanify(data_frame)`.\n",
        "For rows of the data_frame that have `1` in column `mine` set the value in the `adjacent` column to `np.nan`.\n",
        "\n"
      ]
    },
    {
      "cell_type": "code",
      "metadata": {
        "id": "G0Di_Jtr0Fse"
      },
      "source": [
        "import numpy as np\n",
        "import pandas as pd\n",
        "\n",
        "# Input\n",
        "field = generate_mines(5, 5, 0.4)\n",
        "add_adjacent(field)\n",
        "\n",
        "# Solution\n",
        "def nanify(data_frame):\n",
        "  # Enter your code here\n",
        "\n",
        "nanify(field)\n",
        "\n",
        "# Output\n",
        "display_pandas(field.unstack())"
      ],
      "execution_count": null,
      "outputs": []
    },
    {
      "cell_type": "code",
      "metadata": {
        "id": "vkBty1-Y0Fsf",
        "cellView": "form"
      },
      "source": [
        "#@title Solution (double-click to see the code)\n",
        "\n",
        "import numpy as np\n",
        "import pandas as pd\n",
        "\n",
        "# Input\n",
        "field = generate_mines(5, 5, 0.4)\n",
        "add_adjacent(field)\n",
        "\n",
        "# Solution\n",
        "def nanify(data_frame):\n",
        "  data_frame.loc[data_frame['mine'] == 1, 'adjacent'] = np.nan\n",
        "\n",
        "nanify(field)\n",
        "\n",
        "# Output\n",
        "display_pandas(field.unstack())"
      ],
      "execution_count": null,
      "outputs": []
    },
    {
      "cell_type": "markdown",
      "metadata": {
        "id": "-IYJRgzajNiB"
      },
      "source": [
        "* Complete the function `clean_up(data_frame)` that returns a new cleaned DataFrame.\n",
        "You should remove the `mine` column and convert the DataFrame given to the grid of the adjacent mine counts -- columns should correspond to the `x` coordinate, while rows to the `y`.\n"
      ]
    },
    {
      "cell_type": "code",
      "metadata": {
        "id": "UWKWoGmy0Fsg"
      },
      "source": [
        "import numpy as np\n",
        "import pandas as pd\n",
        "\n",
        "# Input\n",
        "field = generate_mines(5, 5, 0.4)\n",
        "add_adjacent(field)\n",
        "nanify(field)\n",
        "\n",
        "# Solution\n",
        "def clean_up(data_frame):\n",
        "  # Enter your code here\n",
        "\n",
        "field = clean_up(field)\n",
        "\n",
        "# Output\n",
        "display_pandas(field)"
      ],
      "execution_count": null,
      "outputs": []
    },
    {
      "cell_type": "code",
      "metadata": {
        "id": "rb92mdJZ0Fsg",
        "cellView": "form"
      },
      "source": [
        "#@title Solution (double-click to see the code)\n",
        "\n",
        "import numpy as np\n",
        "import pandas as pd\n",
        "\n",
        "# Input\n",
        "field = generate_mines(5, 5, 0.4)\n",
        "add_adjacent(field)\n",
        "nanify(field)\n",
        "\n",
        "# Solution\n",
        "def clean_up(data_frame):\n",
        "  cleaned = data_frame.drop('mine', axis=1)\n",
        "  cleaned.index = cleaned.index.reorder_levels(['y', 'x'])\n",
        "  return cleaned.unstack()\n",
        "\n",
        "field = clean_up(field)\n",
        "\n",
        "# Output\n",
        "display_pandas(field)"
      ],
      "execution_count": null,
      "outputs": []
    },
    {
      "cell_type": "markdown",
      "metadata": {
        "id": "hGD16c21piXi"
      },
      "source": [
        "* Run visualization to see your code working.\n",
        "It uses the functions written in previous problems so be sure to complete them or run provided solutions."
      ]
    },
    {
      "cell_type": "code",
      "metadata": {
        "id": "zoRJ_ryLC5lQ",
        "cellView": "form"
      },
      "source": [
        "#@title Visualization\n",
        "\n",
        "import numpy as np\n",
        "import pandas as pd\n",
        "\n",
        "field_width = 5 #@param\n",
        "field_height = 3 #@param\n",
        "prob = 0.1 #@param\n",
        "\n",
        "field = generate_mines(field_width, field_height, prob)\n",
        "add_adjacent(field)\n",
        "nanify(field)\n",
        "field = clean_up(field)\n",
        "\n",
        "arr = field.to_numpy()\n",
        "arr[np.isnan(arr)] = -1\n",
        "field = arr.astype(int)\n",
        "\n",
        "main_str = '''\n",
        "<style>\n",
        "  td {\n",
        "  border: 3px solid #666666;\n",
        "  min-width:30px;\n",
        "  height: 30px;\n",
        "  position: relative;\n",
        "  text-align:center;\n",
        "  color: #474747;\n",
        "  font-size:20px;\n",
        "  font-weight: bolder;\n",
        "  padding: 19px;\n",
        "  background-color: navy;\n",
        "}\n",
        "</style>\n",
        "\n",
        "<script>\n",
        "\n",
        "var data = ''' + field.tolist().__str__() + ''';\n",
        "\n",
        "var field_objs = [];\n",
        "\n",
        "function loose()\n",
        "{\n",
        "  document.getElementById(\"message\").innerHTML = 'You loose';\n",
        "  field_objs = [];\n",
        "}\n",
        "\n",
        "function check_win()\n",
        "{\n",
        "  var flag = false;\n",
        "  for (var y = 0; y < data.length; y++)\n",
        "     for (var x = 0; x < data[0].length; x++)\n",
        "         if (data[y][x] > 0)\n",
        "            flag = true;\n",
        "\n",
        "  if (!flag)\n",
        "  {\n",
        "    document.getElementById(\"message\").innerHTML = 'WINNER';\n",
        "    field_objs = [];\n",
        "  }\n",
        "}\n",
        "\n",
        "function process(x, y)\n",
        "{\n",
        "  obj = field_objs[y][x];\n",
        "  obj.style.backgroundColor = 'white';\n",
        "  if (data[y][x] != 0)\n",
        "  {\n",
        "    if (data[y][x] > 0)\n",
        "    {\n",
        "      obj.innerHTML = data[y][x];\n",
        "      data[y][x] = -5;\n",
        "      check_win();\n",
        "    }\n",
        "    if (data[y][x] == -1)\n",
        "    {\n",
        "      obj.innerHTML = '<img width=50 src=\"https://upload.wikimedia.org/wikipedia/commons/thumb/e/e0/Explosion.svg/200px-Explosion.svg.png\"></img>';\n",
        "      loose();\n",
        "    }\n",
        "  } else {\n",
        "      data[y][x] = -5;\n",
        "      if (x + 1 < data[0].length)\n",
        "          process(x + 1, y);\n",
        "      if (x - 1 >= 0)\n",
        "          process(x - 1, y);\n",
        "      if (y + 1 < data.length)\n",
        "          process(x, y + 1);\n",
        "      if (y - 1 >= 0)\n",
        "          process(x, y - 1);\n",
        "  }\n",
        "}\n",
        "</script>\n",
        "\n",
        "<div id=\"message\" style=\"font-size:50px;\"></div>\n",
        "<table id=\"field\">\n",
        "'''\n",
        "for y in range(field_height):\n",
        "  main_str += '<tr>\\n\\t'\n",
        "  for x in range(field_width):\n",
        "    main_str += '<td onclick=\"process(' + str(x) + ', ' + str(y) + ')\"></td>\\n\\t'\n",
        "  main_str += '</tr>'\n",
        "main_str += '''\n",
        "</table>\n",
        "\n",
        "<script>\n",
        "var table = document.getElementById(\"field\");\n",
        "var rows = table.getElementsByTagName(\"tr\");\n",
        "for (var i = 0; i < rows.length; i++)\n",
        "{\n",
        "    var cells = rows[i].getElementsByTagName(\"td\");\n",
        "    field_objs.push(cells);\n",
        "}\n",
        "</script>\n",
        "'''\n",
        "\n",
        "\n",
        "import IPython\n",
        "display(IPython.display.HTML(main_str))\n",
        "field"
      ],
      "execution_count": null,
      "outputs": []
    },
    {
      "cell_type": "markdown",
      "metadata": {
        "id": "7H_gtv7l79kV"
      },
      "source": [
        "##US States Data"
      ]
    },
    {
      "cell_type": "markdown",
      "metadata": {
        "id": "zKXN834x5QeA"
      },
      "source": [
        "* Run the following code to download datasets."
      ]
    },
    {
      "cell_type": "code",
      "metadata": {
        "id": "QYefuLiF7seE",
        "colab": {
          "base_uri": "https://localhost:8080/",
          "height": 170
        },
        "outputId": "8fe6a8b8-a0e2-437b-dda5-43dd55b5d648"
      },
      "source": [
        "!curl -O https://raw.githubusercontent.com/jakevdp/data-USstates/master/state-population.csv\n",
        "!curl -O https://raw.githubusercontent.com/jakevdp/data-USstates/master/state-areas.csv\n",
        "!curl -O https://raw.githubusercontent.com/jakevdp/data-USstates/master/state-abbrevs.csv"
      ],
      "execution_count": null,
      "outputs": [
        {
          "output_type": "stream",
          "text": [
            "  % Total    % Received % Xferd  Average Speed   Time    Time     Time  Current\n",
            "                                 Dload  Upload   Total   Spent    Left  Speed\n",
            "100 57935  100 57935    0     0   256k      0 --:--:-- --:--:-- --:--:--  256k\n",
            "  % Total    % Received % Xferd  Average Speed   Time    Time     Time  Current\n",
            "                                 Dload  Upload   Total   Spent    Left  Speed\n",
            "100   835  100   835    0     0   6007      0 --:--:-- --:--:-- --:--:--  5964\n",
            "  % Total    % Received % Xferd  Average Speed   Time    Time     Time  Current\n",
            "                                 Dload  Upload   Total   Spent    Left  Speed\n",
            "100   872  100   872    0     0   5317      0 --:--:-- --:--:-- --:--:--  5317\n"
          ],
          "name": "stdout"
        }
      ]
    },
    {
      "cell_type": "markdown",
      "metadata": {
        "id": "bZwlOjHO5dS3"
      },
      "source": [
        "* Load files as DataFrames (consider `read_csv` function). Filenames are 'state-population.csv', 'state-areas.csv', and 'state-abbrevs.csv'\n",
        "* See visualization to understand the structure of datasets"
      ]
    },
    {
      "cell_type": "code",
      "metadata": {
        "id": "o-DOxigO8ZJT"
      },
      "source": [
        "import pandas as pd\n",
        "\n",
        "# Enter your code here\n",
        "pop =\n",
        "areas =\n",
        "abbrevs =\n",
        "\n",
        "# Visualization\n",
        "draw_tbl([[pandas_to_html(pop), pandas_to_html(areas), pandas_to_html(abbrevs)]])"
      ],
      "execution_count": null,
      "outputs": []
    },
    {
      "cell_type": "code",
      "metadata": {
        "id": "Y12Rwhz_8Yoj",
        "cellView": "form"
      },
      "source": [
        "#@title Solution (double-click to see the code)\n",
        "import pandas as pd\n",
        "\n",
        "pop = pd.read_csv('state-population.csv')\n",
        "areas = pd.read_csv('state-areas.csv')\n",
        "abbrevs = pd.read_csv('state-abbrevs.csv')\n",
        "\n",
        "# Visualization\n",
        "draw_tbl([[pandas_to_html(pop), pandas_to_html(areas), pandas_to_html(abbrevs)]])"
      ],
      "execution_count": null,
      "outputs": []
    },
    {
      "cell_type": "markdown",
      "metadata": {
        "id": "5Wuer-l0Ejkf"
      },
      "source": [
        "* First let's clean the original tables. Check if they contain undefined values (`isnull` may be helpful)."
      ]
    },
    {
      "cell_type": "code",
      "metadata": {
        "id": "7gun1xsrHUe1"
      },
      "source": [
        "# Enter your code here\n",
        "summary_pop =\n",
        "summary_abbrevs =\n",
        "summary_areas =\n",
        "\n",
        "# Visualization\n",
        "draw_tbl([[pandas_to_html(summary_pop), pandas_to_html(summary_abbrevs), pandas_to_html(summary_areas)]])"
      ],
      "execution_count": null,
      "outputs": []
    },
    {
      "cell_type": "code",
      "metadata": {
        "id": "n-0OO-KJE0ax",
        "cellView": "form"
      },
      "source": [
        "#@title Solution (double-click to see the code)\n",
        "\n",
        "summary_pop = pop.isnull().any()\n",
        "summary_abbrevs = abbrevs.isnull().any()\n",
        "summary_areas = areas.isnull().any()\n",
        "\n",
        "# Visualization\n",
        "draw_tbl([[pandas_to_html(summary_pop), pandas_to_html(summary_abbrevs), pandas_to_html(summary_areas)]])"
      ],
      "execution_count": null,
      "outputs": []
    },
    {
      "cell_type": "markdown",
      "metadata": {
        "id": "T5O-eJkAGsNH"
      },
      "source": [
        "* You see that some data on population is missing. It is doubtful, we will be able to calculate missing data on our own, so let's go the easy way and drop rows with missing data. Recheck that now everything is well-defined."
      ]
    },
    {
      "cell_type": "code",
      "metadata": {
        "id": "LBBdxM1lKNRJ"
      },
      "source": [
        "# Enter your code here"
      ],
      "execution_count": null,
      "outputs": []
    },
    {
      "cell_type": "code",
      "metadata": {
        "id": "ZUvvsZWkHSjG",
        "cellView": "form"
      },
      "source": [
        "#@title Solution (double-click to see the code)\n",
        "\n",
        "pop = pop.dropna()\n",
        "pop.isnull().any()"
      ],
      "execution_count": null,
      "outputs": []
    },
    {
      "cell_type": "markdown",
      "metadata": {
        "id": "uaiBQ3758vyA"
      },
      "source": [
        "* We cannot merge population and area tables directly -- they have no common column. But we may expect that merging abbreviations into one of these will give us such opportunity (consider structure of tables from the previous visualization). But first let's check whether all values in 'state/region' column of the population table can be found in abbreviations table. If any is missing -- print it (functions `unique` and `setdiff1d` may be helpful)."
      ]
    },
    {
      "cell_type": "code",
      "metadata": {
        "id": "L816_jcPKUkA"
      },
      "source": [
        "# Enter your code here"
      ],
      "execution_count": null,
      "outputs": []
    },
    {
      "cell_type": "code",
      "metadata": {
        "id": "KU8x0Sq3Dx_k",
        "cellView": "form"
      },
      "source": [
        "#@title Solution (double-click to see the code)\n",
        "\n",
        "import numpy as np\n",
        "np.setdiff1d(pop['state/region'].unique(), abbrevs['abbreviation'].unique())"
      ],
      "execution_count": null,
      "outputs": []
    },
    {
      "cell_type": "markdown",
      "metadata": {
        "id": "n0tNZazRJxCZ"
      },
      "source": [
        "* Now you should see the problem: Puerto Rico (PR) and the United States as a whole (USA) do not appear in the state abbreviation key. Add appropriate rows to the table of abbreviations and merge the two tables. Check that no undefined values were generated."
      ]
    },
    {
      "cell_type": "code",
      "metadata": {
        "id": "4Qbr0oj8_Ugq"
      },
      "source": [
        "# Enter your code here\n",
        "merged =\n",
        "\n",
        "# Visualization\n",
        "display_pandas(merged)\n",
        "merged.isnull().any()"
      ],
      "execution_count": null,
      "outputs": []
    },
    {
      "cell_type": "code",
      "metadata": {
        "id": "l-djawIb8waz",
        "cellView": "form"
      },
      "source": [
        "#@title Solution (double-click to see the code)\n",
        "\n",
        "# many-to-one merge that will give us the full state name within the population DataFrame\n",
        "abbrevs = abbrevs.append({'abbreviation':'PR', 'state':'Puerto Rico'}, ignore_index=True)\n",
        "abbrevs = abbrevs.append({'abbreviation':'USA', 'state':'United States'}, ignore_index=True)\n",
        "merged = pd.merge(pop, abbrevs, how='outer', left_on='state/region', right_on='abbreviation')\n",
        "merged = merged.drop('abbreviation', 1) # drop duplicate info\n",
        "\n",
        "# Visualization\n",
        "display_pandas(merged)\n",
        "merged.isnull().any()"
      ],
      "execution_count": null,
      "outputs": []
    },
    {
      "cell_type": "markdown",
      "metadata": {
        "id": "k8kbzzwsA2ZR"
      },
      "source": [
        "* Now we want to merge areas into our new table. But before, check that all states listed in our merged table are in the table with areas."
      ]
    },
    {
      "cell_type": "code",
      "metadata": {
        "id": "GzwtwuHYOfcT"
      },
      "source": [
        "# Enter your code here"
      ],
      "execution_count": null,
      "outputs": []
    },
    {
      "cell_type": "code",
      "metadata": {
        "id": "ufmJbXJNOV-Q",
        "cellView": "form"
      },
      "source": [
        "#@title Solution (double-click to see the code)\n",
        "\n",
        "np.setdiff1d(merged['state'].unique(), areas['state'].unique())"
      ],
      "execution_count": null,
      "outputs": []
    },
    {
      "cell_type": "markdown",
      "metadata": {
        "id": "qAzn-pVJOhg1"
      },
      "source": [
        "* You see that the total area of the United States is missing. Since its area is the sum of all areas of states, find this sum and append appropriate row into area table.\n",
        "\n",
        "* When you have all areas and population, you are able to calculate the density. Add to the final table a new column density that will contain an average number of people per square mile."
      ]
    },
    {
      "cell_type": "code",
      "metadata": {
        "id": "hWivjdrpIxPN"
      },
      "source": [
        "# Enter your code here\n",
        "final =\n",
        "\n",
        "# Visualization\n",
        "display_pandas(final)"
      ],
      "execution_count": null,
      "outputs": []
    },
    {
      "cell_type": "code",
      "metadata": {
        "id": "ivzlYTMVO_DK",
        "cellView": "form"
      },
      "source": [
        "#@title Solution (double-click to see the code)\n",
        "\n",
        "total_usa = areas.sum()['area (sq. mi)']\n",
        "areas = areas.append({'area (sq. mi)':total_usa, 'state':'United States'}, ignore_index=True)\n",
        "final = pd.merge(merged, areas, on='state', how='left')\n",
        "final['density'] = final['population'] / final['area (sq. mi)']\n",
        "\n",
        "# Visualization\n",
        "display_pandas(final)\n",
        "final.isnull().any()"
      ],
      "execution_count": null,
      "outputs": []
    },
    {
      "cell_type": "markdown",
      "metadata": {
        "id": "DN9omkf0Z2UQ"
      },
      "source": [
        "* The final step: implement two functions that will help the visualization\n",
        "   - `list_years` should return a Python list that contains years present in the `final` table.\n",
        "   - `get_density` should return a Pandas DataFrame that contains columns \"state\" and \"density\" only (remove anything else). The dataframe should be indexed by \"state\" column (use `set_index` if needed)."
      ]
    },
    {
      "cell_type": "code",
      "metadata": {
        "id": "dvoAWT3wZm2m"
      },
      "source": [
        "def list_years():\n",
        "  return # Enter your code here\n",
        "\n",
        "def get_density(year):\n",
        "  return # Enter your code here\n",
        "\n",
        "# Visualization\n",
        "def draw(year):\n",
        "  import matplotlib.pyplot as plt\n",
        "  plt.figure(figsize=(10,10))\n",
        "  df = get_density(year)\n",
        "  df.plot(kind='bar')\n",
        "  plt.legend();\n",
        "\n",
        "interact(draw, year=list_years());"
      ],
      "execution_count": null,
      "outputs": []
    },
    {
      "cell_type": "code",
      "metadata": {
        "id": "94HZewLgJr7l",
        "cellView": "form"
      },
      "source": [
        "#@title Solution (double-click to see the code)\n",
        "\n",
        "def list_years():\n",
        "  return final['year'].unique()\n",
        "\n",
        "def get_density(year):\n",
        "  query = final.query(\"year == \" + str(year) + \" & ages == 'total'\")\n",
        "  query = query.set_index('state')\n",
        "  query = query['density']\n",
        "  return query\n",
        "\n",
        "def draw(year):\n",
        "  import matplotlib.pyplot as plt\n",
        "  plt.figure(figsize=(10,10))\n",
        "  df = get_density(year)\n",
        "  df.plot(kind='bar')\n",
        "  plt.legend();\n",
        "\n",
        "interact(draw, year=list_years());"
      ],
      "execution_count": null,
      "outputs": []
    },
    {
      "cell_type": "markdown",
      "metadata": {
        "id": "kDX36EkIPs2C"
      },
      "source": [
        "##Planets"
      ]
    },
    {
      "cell_type": "markdown",
      "metadata": {
        "id": "pv16ZDJadeqC"
      },
      "source": [
        "* Run the following code to load the 'planets' dataset and visualize its structure."
      ]
    },
    {
      "cell_type": "code",
      "metadata": {
        "id": "ojwEh5s0daNw"
      },
      "source": [
        "import seaborn as sns\n",
        "import pandas as pd\n",
        "\n",
        "planets = sns.load_dataset('planets')\n",
        "display_pandas(planets)"
      ],
      "execution_count": null,
      "outputs": []
    },
    {
      "cell_type": "markdown",
      "metadata": {
        "id": "W9nXi5xsdtix"
      },
      "source": [
        "* You see in the table the column 'method' that indicates how the planet was discovered. Suppose we are interested in how different methods advanced. Generate a new table whose columns are labeled by decades (e.g. '1980s', '1990s', etc), rows by methods (e.g. 'Astrometry', 'Microlensing', etc.), and cells contain number of planets discovered by certain method during certain decade (see the output of 'Solution' if this explanation is confusing)."
      ]
    },
    {
      "cell_type": "code",
      "metadata": {
        "id": "hVja97Z5exTF"
      },
      "source": [
        "# Enter your code here\n",
        "summary =\n",
        "\n",
        "# Visualization\n",
        "display_pandas(summary)"
      ],
      "execution_count": null,
      "outputs": []
    },
    {
      "cell_type": "code",
      "metadata": {
        "id": "O7gU0VS90LF2",
        "cellView": "form"
      },
      "source": [
        "#@title Solution (double-click to see the code)\n",
        "\n",
        "decade = 10 * (planets['year'] // 10)\n",
        "decade = decade.astype(str) + 's'\n",
        "decade.name = 'decade'\n",
        "summary = planets.groupby(['method', decade])['number'].sum().unstack().fillna(0)\n",
        "\n",
        "# Visualization\n",
        "display_pandas(summary)"
      ],
      "execution_count": null,
      "outputs": []
    },
    {
      "cell_type": "markdown",
      "metadata": {
        "id": "nkz1_-zEfFT1"
      },
      "source": [
        "##US Birthrate Data"
      ]
    },
    {
      "cell_type": "markdown",
      "metadata": {
        "id": "9WEHWsJMukoY"
      },
      "source": [
        "* Run the following code to download the dataset and display its structure"
      ]
    },
    {
      "cell_type": "code",
      "metadata": {
        "id": "_PVOPqm3fGrm"
      },
      "source": [
        "!curl -O https://raw.githubusercontent.com/jakevdp/data-CDCbirths/master/births.csv\n",
        "\n",
        "import pandas as pd\n",
        "births = pd.read_csv('births.csv')\n",
        "display_pandas(births)"
      ],
      "execution_count": null,
      "outputs": []
    },
    {
      "cell_type": "markdown",
      "metadata": {
        "id": "AETpN6n631n6"
      },
      "source": [
        "* Create a pivot table that is indexed by `year` column and contains two more columns `F` and `M`. Numbers in cells should represent the total number of females and males born that year. No other columns should be present."
      ]
    },
    {
      "cell_type": "code",
      "metadata": {
        "id": "edBZUXHE50k_"
      },
      "source": [
        "# Enter your code here\n",
        "yearly_stats =\n",
        "\n",
        "# Visualization\n",
        "display_pandas(yearly_stats)"
      ],
      "execution_count": null,
      "outputs": []
    },
    {
      "cell_type": "code",
      "metadata": {
        "id": "NM3VL2t24Edk",
        "cellView": "form"
      },
      "source": [
        "#@title Solution (double-click to see the code)\n",
        "\n",
        "yearly_stats = births.pivot_table('births', index='year', columns='gender', aggfunc='sum')\n",
        "\n",
        "# Visualization\n",
        "display_pandas(yearly_stats)"
      ],
      "execution_count": null,
      "outputs": []
    },
    {
      "cell_type": "markdown",
      "metadata": {
        "id": "gZ8q1H-q6HV6"
      },
      "source": [
        "* Run the following code to see the plot. Do you spot any peaks? If you feel confident in US history, can you make assumptions why this peaks are at the points they are?"
      ]
    },
    {
      "cell_type": "code",
      "metadata": {
        "id": "XJQNPXvpguIp"
      },
      "source": [
        "import matplotlib.pyplot as plt\n",
        "import seaborn as sns\n",
        "sns.set();\n",
        "yearly_stats.plot()\n",
        "plt.ylabel('total births per year');"
      ],
      "execution_count": null,
      "outputs": []
    },
    {
      "cell_type": "markdown",
      "metadata": {
        "id": "C54cXfyHCtlN"
      },
      "source": [
        "* Now prepare data for statistics aggregation\n",
        "    - Add the `weekday` column that contains the day of week as a number (0 = Monday, ... , 6 = Sunday). You can use the helper function `date_to_weekday` I have provided or do it by any other means. **Note:** for whatever reason dataset contains some days numbered `99.0` -- date-time functions may fail on these (I took care of it by using `try`...`except` mechanism).\n",
        "    - Add the `decade` column\n",
        "    - Remove all rows containig `Nan`"
      ]
    },
    {
      "cell_type": "code",
      "metadata": {
        "id": "yQkfK8D7Lb-m"
      },
      "source": [
        "def date_to_weekday(year, month, day):\n",
        "  import datetime\n",
        "  try:\n",
        "    dt = datetime.date(int(year), int(month), int(day))\n",
        "    wd = dt.weekday()\n",
        "  except:\n",
        "    return None\n",
        "  return wd\n",
        "\n",
        "# Enter your code here\n",
        "\n",
        "# Visualization\n",
        "display_pandas(births)"
      ],
      "execution_count": null,
      "outputs": []
    },
    {
      "cell_type": "code",
      "metadata": {
        "id": "083-lVBbC3om",
        "cellView": "form"
      },
      "source": [
        "#@title Solution (double-click to see the code)\n",
        "\n",
        "def date_to_weekday(year, month, day):\n",
        "  import datetime\n",
        "  try:\n",
        "    dt = datetime.date(int(year), int(month), int(day))\n",
        "    wd = dt.weekday()\n",
        "  except:\n",
        "    return None\n",
        "  return wd\n",
        "\n",
        "# add weekday column\n",
        "births['weekday'] = births.apply(lambda row : date_to_weekday(row['year'], row['month'], row['day']), axis = 1)\n",
        "\n",
        "# add decade column\n",
        "births['decade'] = 10 * (births['year'] // 10)\n",
        "\n",
        "# drop missing\n",
        "births = births.dropna()\n",
        "\n",
        "display_pandas(births)"
      ],
      "execution_count": null,
      "outputs": []
    },
    {
      "cell_type": "markdown",
      "metadata": {
        "id": "SZ1Yht5MKpwZ"
      },
      "source": [
        "* Create a table that is indexed by `weekday` and contains the mean number of births at that day of week for every `decade`. Do you see any pattern? Can you make any assumptions why the plot looks this way? Does this trend change with decade?"
      ]
    },
    {
      "cell_type": "code",
      "metadata": {
        "id": "0K79bjshL5H4"
      },
      "source": [
        "# Enter your code here\n",
        "births_by_weekday =\n",
        "\n",
        "# Visualize\n",
        "births_by_weekday.plot()\n",
        "plt.gca().set_xticklabels(['Mon', 'Tues', 'Wed', 'Thurs', 'Fri', 'Sat', 'Sun'])\n",
        "plt.ylabel('mean births by day');"
      ],
      "execution_count": null,
      "outputs": []
    },
    {
      "cell_type": "code",
      "metadata": {
        "id": "DLSkrKTEJe8h",
        "cellView": "form"
      },
      "source": [
        "#@title Solution (double-click to see the code)\n",
        "\n",
        "births_by_weekday = births.pivot_table('births', index='weekday', columns='decade', aggfunc='mean')\n",
        "\n",
        "# Visualize\n",
        "births_by_weekday.plot()\n",
        "plt.gca().set_xticklabels(['Mon', 'Tues', 'Wed', 'Thurs', 'Fri', 'Sat', 'Sun'])\n",
        "plt.ylabel('mean births by day');"
      ],
      "execution_count": null,
      "outputs": []
    },
    {
      "cell_type": "markdown",
      "metadata": {
        "id": "CikWNuo9V-m-"
      },
      "source": [
        "* Create a table that is \"double-indexed\", first by `month` then by `day`, and contains the mean number of births at that day of year. Do you see any outliers? Can you make any assumptions what are these days? Do you have any guess why are these outliers there?"
      ]
    },
    {
      "cell_type": "code",
      "metadata": {
        "id": "d4ryRqL8WrTR"
      },
      "source": [
        "# Enter your code here\n",
        "births_by_day =\n",
        "\n",
        "# Visualize\n",
        "births_by_day.plot()\n",
        "plt.xticks([0, 30, 59, 90, 120, 151, 181, 212, 243, 273, 304, 334, 366],\n",
        "           ['Jan', 'Feb', 'Mar', 'Apr', 'May', 'Jun', 'Jul', 'Aug', 'Sep', 'Oct', 'Nov', 'Dec', 'Jan']);"
      ],
      "execution_count": null,
      "outputs": []
    },
    {
      "cell_type": "code",
      "metadata": {
        "id": "3hNECc_dTCLc",
        "cellView": "form"
      },
      "source": [
        "#@title Solution (double-click to see the code)\n",
        "\n",
        "births_by_day = births.pivot_table('births', index=['month', 'day'], aggfunc='mean')\n",
        "\n",
        "# Visualize\n",
        "births_by_day.plot()\n",
        "plt.xticks([0, 30, 59, 90, 120, 151, 181, 212, 243, 273, 304, 334, 366],\n",
        "           ['Jan', 'Feb', 'Mar', 'Apr', 'May', 'Jun', 'Jul', 'Aug', 'Sep', 'Oct', 'Nov', 'Dec', 'Jan']);"
      ],
      "execution_count": null,
      "outputs": []
    },
    {
      "cell_type": "markdown",
      "metadata": {
        "id": "QPujSK22NtQ1"
      },
      "source": [
        "##Visualizing Seattle Bicycle Counts"
      ]
    },
    {
      "cell_type": "markdown",
      "metadata": {
        "id": "FznhJ0UbdKO8"
      },
      "source": [
        "* See the photo of the Fremont Bridge. We will deal with dataset that contains counts of bicyclists crossing the bridge."
      ]
    },
    {
      "cell_type": "markdown",
      "metadata": {
        "id": "ttEHtif2xeEK"
      },
      "source": [
        "Fremont on a map | the bridge\n",
        "---|---\n",
        "![fremont](https://raw.githubusercontent.com/fbeilstein/machine_learning/master/lecture_04_pandas/map_fremont.png) | ![fremont bridge](https://raw.githubusercontent.com/fbeilstein/machine_learning/master/lecture_09_linear_regression/fremont_bridge.jpg)\n",
        "\n",
        "\n",
        "* Run the following code to download a dataset and see its structure"
      ]
    },
    {
      "cell_type": "code",
      "metadata": {
        "id": "1H997wEYNugG",
        "colab": {
          "base_uri": "https://localhost:8080/",
          "height": 235
        },
        "outputId": "5f95a700-66f2-4e0a-d14f-5db751ead948"
      },
      "source": [
        "![[ -f \"FremontBridge.csv\" ]] || curl -o FremontBridge.csv https://data.seattle.gov/api/views/65db-xm6k/rows.csv?accessType=DOWNLOAD\n",
        "\n",
        "import pandas as pd\n",
        "data = pd.read_csv('FremontBridge.csv', index_col='Date', parse_dates=True)\n",
        "data.head()"
      ],
      "execution_count": null,
      "outputs": [
        {
          "output_type": "execute_result",
          "data": {
            "text/html": [
              "<div>\n",
              "<style scoped>\n",
              "    .dataframe tbody tr th:only-of-type {\n",
              "        vertical-align: middle;\n",
              "    }\n",
              "\n",
              "    .dataframe tbody tr th {\n",
              "        vertical-align: top;\n",
              "    }\n",
              "\n",
              "    .dataframe thead th {\n",
              "        text-align: right;\n",
              "    }\n",
              "</style>\n",
              "<table border=\"1\" class=\"dataframe\">\n",
              "  <thead>\n",
              "    <tr style=\"text-align: right;\">\n",
              "      <th></th>\n",
              "      <th>Fremont Bridge Total</th>\n",
              "      <th>Fremont Bridge East Sidewalk</th>\n",
              "      <th>Fremont Bridge West Sidewalk</th>\n",
              "    </tr>\n",
              "    <tr>\n",
              "      <th>Date</th>\n",
              "      <th></th>\n",
              "      <th></th>\n",
              "      <th></th>\n",
              "    </tr>\n",
              "  </thead>\n",
              "  <tbody>\n",
              "    <tr>\n",
              "      <th>2012-10-03 00:00:00</th>\n",
              "      <td>13.0</td>\n",
              "      <td>4.0</td>\n",
              "      <td>9.0</td>\n",
              "    </tr>\n",
              "    <tr>\n",
              "      <th>2012-10-03 01:00:00</th>\n",
              "      <td>10.0</td>\n",
              "      <td>4.0</td>\n",
              "      <td>6.0</td>\n",
              "    </tr>\n",
              "    <tr>\n",
              "      <th>2012-10-03 02:00:00</th>\n",
              "      <td>2.0</td>\n",
              "      <td>1.0</td>\n",
              "      <td>1.0</td>\n",
              "    </tr>\n",
              "    <tr>\n",
              "      <th>2012-10-03 03:00:00</th>\n",
              "      <td>5.0</td>\n",
              "      <td>2.0</td>\n",
              "      <td>3.0</td>\n",
              "    </tr>\n",
              "    <tr>\n",
              "      <th>2012-10-03 04:00:00</th>\n",
              "      <td>7.0</td>\n",
              "      <td>6.0</td>\n",
              "      <td>1.0</td>\n",
              "    </tr>\n",
              "  </tbody>\n",
              "</table>\n",
              "</div>"
            ],
            "text/plain": [
              "                     Fremont Bridge Total  ...  Fremont Bridge West Sidewalk\n",
              "Date                                       ...                              \n",
              "2012-10-03 00:00:00                  13.0  ...                           9.0\n",
              "2012-10-03 01:00:00                  10.0  ...                           6.0\n",
              "2012-10-03 02:00:00                   2.0  ...                           1.0\n",
              "2012-10-03 03:00:00                   5.0  ...                           3.0\n",
              "2012-10-03 04:00:00                   7.0  ...                           1.0\n",
              "\n",
              "[5 rows x 3 columns]"
            ]
          },
          "metadata": {
            "tags": []
          },
          "execution_count": 50
        }
      ]
    },
    {
      "cell_type": "markdown",
      "metadata": {
        "id": "wqz884qnjkUQ"
      },
      "source": [
        "* Name columns 'Total', 'East', and 'West'\n",
        "* Drop all rows that contain undefined values (`Nan`, `null`, etc)"
      ]
    },
    {
      "cell_type": "code",
      "metadata": {
        "id": "Ojuy4LUnUd6P"
      },
      "source": [
        "# Enter your code here"
      ],
      "execution_count": null,
      "outputs": []
    },
    {
      "cell_type": "code",
      "metadata": {
        "id": "XOP5yAJSN9XY",
        "cellView": "form"
      },
      "source": [
        "#@title Solution (double-click to see the code)\n",
        "\n",
        "data.columns = ['Total', 'East', 'West']\n",
        "data = data.dropna()"
      ],
      "execution_count": null,
      "outputs": []
    },
    {
      "cell_type": "markdown",
      "metadata": {
        "id": "6xnVN0H6Nt86"
      },
      "source": [
        "* Create a new dataframe with rows corresponding to hours (00:00, 01:00, ..., 23:00) with cells containing the mean number of people passing the bridge. Columns shoud remain 'Total', 'East', and 'West'"
      ]
    },
    {
      "cell_type": "code",
      "metadata": {
        "id": "JwF41ZrhUlEz"
      },
      "source": [
        "# Enter your code here\n",
        "by_time =\n",
        "\n",
        "# Visualization\n",
        "display_pandas(by_time)"
      ],
      "execution_count": null,
      "outputs": []
    },
    {
      "cell_type": "code",
      "metadata": {
        "id": "xZfTf-mmN3aM",
        "cellView": "form"
      },
      "source": [
        "#@title Solution (double-click to see the code)\n",
        "\n",
        "# Solution\n",
        "by_time = data.groupby(data.index.time).mean()\n",
        "\n",
        "# Visualization\n",
        "display_pandas(by_time)"
      ],
      "execution_count": null,
      "outputs": []
    },
    {
      "cell_type": "markdown",
      "metadata": {
        "id": "oRVK2zqUOiQI"
      },
      "source": [
        "* See the visualization. Where do all these people work, on the east side or on the west side? Why do you think so?"
      ]
    },
    {
      "cell_type": "code",
      "metadata": {
        "id": "eHtmjySAO6Yw",
        "cellView": "form"
      },
      "source": [
        "#@title Visualization\n",
        "\n",
        "import matplotlib.pyplot as plt\n",
        "import numpy as np\n",
        "\n",
        "hourly_ticks = 4 * 60 * 60 * np.arange(6)\n",
        "by_time.plot(xticks=hourly_ticks, style=[':', '--', '-']);"
      ],
      "execution_count": null,
      "outputs": []
    },
    {
      "cell_type": "markdown",
      "metadata": {
        "id": "5i9TzjW9PSC1"
      },
      "source": [
        "* Create a new dataframe with rows corresponding to weekdays (Monday, ..., Sunday) with cells containing the mean number of people passing the bridge. Columns shoud remain 'Total', 'East', and 'West'"
      ]
    },
    {
      "cell_type": "code",
      "metadata": {
        "id": "tJBjBZCwVihf"
      },
      "source": [
        "# Enter your code here\n",
        "by_weekday =\n",
        "\n",
        "# Visualization\n",
        "display_pandas(by_weekday)"
      ],
      "execution_count": null,
      "outputs": []
    },
    {
      "cell_type": "code",
      "metadata": {
        "id": "zp26vJG3O766",
        "cellView": "form"
      },
      "source": [
        "#@title Solution (double-click to see the code)\n",
        "\n",
        "# Solution\n",
        "by_weekday = data.groupby(data.index.dayofweek).mean()\n",
        "\n",
        "# Visualization\n",
        "display_pandas(by_weekday)"
      ],
      "execution_count": null,
      "outputs": []
    },
    {
      "cell_type": "markdown",
      "metadata": {
        "id": "N0PTwRlwRZAt"
      },
      "source": [
        "* See the visualization. Do people prefer to use bicycle for recreation or to get to work? Why do you think so?"
      ]
    },
    {
      "cell_type": "code",
      "metadata": {
        "id": "Mh80OFIrPflg",
        "cellView": "form"
      },
      "source": [
        "#@title Visualization\n",
        "\n",
        "import matplotlib.pyplot as plt\n",
        "import numpy as np\n",
        "\n",
        "by_weekday.index = ['Mon', 'Tues', 'Wed', 'Thurs', 'Fri', 'Sat', 'Sun']\n",
        "by_weekday.plot(style=[':', '--', '-']);"
      ],
      "execution_count": null,
      "outputs": []
    },
    {
      "cell_type": "markdown",
      "metadata": {
        "id": "Lqs0orlPR8kX"
      },
      "source": [
        "* Create two dataframes with rows corresponding to hours (00:00, 01:00, ..., 23:00) with cells containing the mean number of people passing the bridge\n",
        "  - on Saturday or Sunday for the `weekend` dataframe\n",
        "  - any other day for `weekday` dataframe\n",
        "\n",
        "Columns shoud remain 'Total', 'East', and 'West'"
      ]
    },
    {
      "cell_type": "code",
      "metadata": {
        "id": "grLkjZmUV5M3"
      },
      "source": [
        "# Enter your code here\n",
        "weekday =\n",
        "weekend =\n",
        "\n",
        "# Visualization\n",
        "draw_tbl([[pandas_to_html(weekday), pandas_to_html(weekend)]])"
      ],
      "execution_count": null,
      "outputs": []
    },
    {
      "cell_type": "code",
      "metadata": {
        "id": "xBh6LbDKO-NP",
        "cellView": "form"
      },
      "source": [
        "#@title Solution (double-click to see the code)\n",
        "\n",
        "# Solution\n",
        "w_idx = np.where(data.index.weekday < 5, 'Weekday', 'Weekend')\n",
        "by_time = data.groupby([w_idx, data.index.time]).mean()\n",
        "weekday = by_time.loc['Weekday']\n",
        "weekend = by_time.loc['Weekend']\n",
        "\n",
        "# Visualization\n",
        "draw_tbl([[pandas_to_html(weekday), pandas_to_html(weekend)]])"
      ],
      "execution_count": null,
      "outputs": []
    },
    {
      "cell_type": "markdown",
      "metadata": {
        "id": "g3Jb362MT9uh"
      },
      "source": [
        "* See the visualization. Are there any differences between weekend and other days of week? Can you predict what day is it basing on the bicycle data? How would you test if there is another bridge nearby?"
      ]
    },
    {
      "cell_type": "code",
      "metadata": {
        "id": "TqbCilUIPIDz",
        "cellView": "form"
      },
      "source": [
        "#@title Visualization\n",
        "import matplotlib.pyplot as plt\n",
        "fig, ax = plt.subplots(1, 2, figsize=(14, 5))\n",
        "by_time.loc['Weekday'].plot(ax=ax[0], title='Weekdays', xticks=hourly_ticks, style=[':', '--', '-']);\n",
        "by_time.loc['Weekend'].plot(ax=ax[1], title='Weekends', xticks=hourly_ticks, style=[':', '--', '-']);"
      ],
      "execution_count": null,
      "outputs": []
    },
    {
      "cell_type": "markdown",
      "metadata": {
        "id": "5CuAEIV80Dng"
      },
      "source": [
        "##Ukrainian cities"
      ]
    },
    {
      "cell_type": "markdown",
      "metadata": {
        "id": "1KvPR0rWekU_"
      },
      "source": [
        "* Run the following code to download the data. This data was originally copy-pasted from two different websites."
      ]
    },
    {
      "cell_type": "code",
      "metadata": {
        "id": "0jl0k9zk0DFE"
      },
      "source": [
        "# originally copypasted from Wikipedia\n",
        "# https://uk.wikipedia.org/wiki/%D0%9C%D1%96%D1%81%D1%82%D0%B0_%D0%A3%D0%BA%D1%80%D0%B0%D1%97%D0%BD%D0%B8_(%D0%B7%D0%B0_%D0%B0%D0%BB%D1%84%D0%B0%D0%B2%D1%96%D1%82%D0%BE%D0%BC)\n",
        "![[ -f \"cities.csv\" ]] || curl -O https://raw.githubusercontent.com/fbeilstein/machine_learning/master/datasets/cities.csv\n",
        "# originally copypasted from here\n",
        "# https://simplemaps.com/data/ua-cities\n",
        "![[ -f \"coordinates.csv\" ]] || curl -O https://raw.githubusercontent.com/fbeilstein/machine_learning/master/datasets/coordinates.csv\n",
        "\n",
        "# using sed\n",
        "# TABs were changed to commas (to get proper csv)\n",
        "# ' and \" were removed (not used in proper transliteration)\n",
        "# \\[.*\\] were removed (citations in Wikipedia)\n",
        "\n",
        "import pandas as pd\n",
        "\n",
        "cities = pd.read_csv('cities.csv')\n",
        "display_pandas(cities)\n",
        "coords = pd.read_csv('coordinates.csv')\n",
        "display_pandas(coords)"
      ],
      "execution_count": null,
      "outputs": []
    },
    {
      "cell_type": "markdown",
      "metadata": {
        "id": "RNHx_dnzgmoA"
      },
      "source": [
        "* Let's start with a simple clean-up and remove columns we are not interested in. Remove all columns except\n",
        "   - `city`, `population`, `foundation`, `area_km` in `cities`\n",
        "   - `city`, `lat`, `lng` in `coords`\n",
        "* Remove rows missing some data"
      ]
    },
    {
      "cell_type": "code",
      "metadata": {
        "id": "CFlAW0XDcdai"
      },
      "source": [
        "# Enter your code here\n",
        "\n",
        "# Visualization\n",
        "draw_tbl([['cities', 'coords'],[pandas_to_html(cities, ordering=True), pandas_to_html(coords, ordering=True)]])"
      ],
      "execution_count": null,
      "outputs": []
    },
    {
      "cell_type": "code",
      "metadata": {
        "id": "_jqAlT_GhQ_X",
        "cellView": "form"
      },
      "source": [
        "#@title Solution (double-click to see the code)\n",
        "\n",
        "cities = cities.drop(labels=['symbol','administrative'], axis=1)\n",
        "coords = coords.drop(['country', 'iso2', 'admin', 'capital', 'population_proper','population'], axis=1)\n",
        "cities = cities.dropna()\n",
        "coords = coords.dropna()\n",
        "\n",
        "# Visualization\n",
        "draw_tbl([['cities', 'coords'],[pandas_to_html(cities, ordering=True), pandas_to_html(coords, ordering=True)]])"
      ],
      "execution_count": null,
      "outputs": []
    },
    {
      "cell_type": "markdown",
      "metadata": {
        "id": "uzNbB4sTHBIv"
      },
      "source": [
        "* Both tables contain duplicates. Let's explore them -- create two tables containing all duplicates."
      ]
    },
    {
      "cell_type": "code",
      "metadata": {
        "id": "cUSBPQcjdvY-"
      },
      "source": [
        "# Enter your code here\n",
        "cities_dup =\n",
        "coords_dup =\n",
        "\n",
        "# Visualization\n",
        "draw_tbl([['cities_dup', 'coords_dup'],[pandas_to_html(cities_dup, ordering=True), pandas_to_html(coords_dup, ordering=True)]])"
      ],
      "execution_count": null,
      "outputs": []
    },
    {
      "cell_type": "code",
      "metadata": {
        "id": "sq9JL2bUFcnC",
        "cellView": "form"
      },
      "source": [
        "#@title Solution (double-click to see the code)\n",
        "\n",
        "cities_dup = cities[cities.duplicated(['city'], keep=False)]\n",
        "coords_dup = coords[coords.duplicated(['city'], keep=False)]\n",
        "\n",
        "draw_tbl([['cities_dup', 'coords_dup'],[pandas_to_html(cities_dup, ordering=True), pandas_to_html(coords_dup, ordering=True)]])"
      ],
      "execution_count": null,
      "outputs": []
    },
    {
      "cell_type": "markdown",
      "metadata": {
        "id": "7e0W4kqaJrE2"
      },
      "source": [
        "* There are not so many duplicates thus let's remove them 'by hands'. Drop redundant rows. If two different cities have the same name -- keep the one with bigger population. If these are duplicates of the same city -- keep any entry."
      ]
    },
    {
      "cell_type": "code",
      "metadata": {
        "id": "kAYUwYZeeGkl"
      },
      "source": [
        "# Enter your code here\n",
        "\n",
        "# Visualization\n",
        "cities.city.is_unique, coords.city.is_unique"
      ],
      "execution_count": null,
      "outputs": []
    },
    {
      "cell_type": "code",
      "metadata": {
        "id": "2uVOHWjdIAU8",
        "cellView": "form"
      },
      "source": [
        "#@title Solution (double-click to see the code)\n",
        "\n",
        "cities = cities.drop([109, 247, 299])\n",
        "coords = coords.drop([309, 479, 352, 120, 430, 397, 310, 357, 166, 371, 212])\n",
        "\n",
        "# Visualization\n",
        "cities.city.is_unique, coords.city.is_unique"
      ],
      "execution_count": null,
      "outputs": []
    },
    {
      "cell_type": "markdown",
      "metadata": {
        "id": "t8xcxqbth9pV"
      },
      "source": [
        "* Now you see the problem -- there is no single column we can merge these two tables. Let's fix this problem. Create a `city_trlit` column in `cities` table. Use [Official guide for Ukrainian language transliteration](https://www.kmu.gov.ua/npas/243262567). To make your life simpler I have encoded lists of symbols for you."
      ]
    },
    {
      "cell_type": "code",
      "metadata": {
        "id": "giI8hD8IeNYm"
      },
      "source": [
        "# Should be replaced anuwhere you meet this symbols\n",
        "ukr_1 = ['а','б','в','г','ґ','д','е','ж', 'з','и','і','к','л','м','н','о','п','р','с','т','у','ф', 'х', 'ц', 'ч', 'ш',   'щ','ь', \"'\"]\n",
        "tr_1  = ['a','b','v','h','g','d','e','zh','z','y','i','k','l','m','n','o','p','r','s','t','u','f','kh','ts','ch','sh','shch', '', '' ]\n",
        "# Should be replaced at the _beginning_ of the word\n",
        "ukr_2 = [ 'я', 'ю,','й', 'ї', 'є']\n",
        "tr_2  = ['ya','yu','y','yi','ye']\n",
        "# Should be replaced if _not_ at the _beginning_ of the word\n",
        "ukr_3 = [ 'я', 'ю','й','ї', 'є']\n",
        "tr_3  = ['ia','iu','i','i','ie']\n",
        "\n",
        "# Enter your code here\n",
        "\n",
        "# Visualization\n",
        "display_pandas(cities, ordering=True)"
      ],
      "execution_count": null,
      "outputs": []
    },
    {
      "cell_type": "code",
      "metadata": {
        "id": "HsvdVkSxjf-f",
        "cellView": "form"
      },
      "source": [
        "#@title Solution (double-click to see the code)\n",
        "\n",
        "# Should be replaced anuwhere you meet this symbols\n",
        "ukr_1 = ['а','б','в','г','ґ','д','е','ж', 'з','и','і','к','л','м','н','о','п','р','с','т','у','ф', 'х', 'ц', 'ч', 'ш',   'щ','ь', \"'\"]\n",
        "tr_1  = ['a','b','v','h','g','d','e','zh','z','y','i','k','l','m','n','o','p','r','s','t','u','f','kh','ts','ch','sh','shch', '', '' ]\n",
        "# Should be replaced at the _beginning_ of the word\n",
        "ukr_2 = [ 'я', 'ю,','й', 'ї', 'є']\n",
        "tr_2  = ['ya','yu','y','yi','ye']\n",
        "# Should be replaced if _not_ at the _beginning_ of the word\n",
        "ukr_3 = [ 'я', 'ю','й','ї', 'є']\n",
        "tr_3  = ['ia','iu','i','i','ie']\n",
        "\n",
        "l_from = ukr_1 + [s.upper() for s in ukr_1] + [s.upper() for s in ukr_2] + ukr_3\n",
        "l_to = tr_1 + tr_1 + tr_2 + tr_2\n",
        "cities['city_trlit'] = cities.city.replace(regex=l_from, value=l_to)\n",
        "\n",
        "display_pandas(cities, ordering=True)"
      ],
      "execution_count": null,
      "outputs": []
    },
    {
      "cell_type": "markdown",
      "metadata": {
        "id": "Owq1ee4vmnpI"
      },
      "source": [
        "* Now you have a transliterated column but that does no solve all the problems. The second table does not follow official guidlines, istead uses some obscure rules like transliteration 'kiev' instead of 'kyyiv'. The good news -- other cities are mostly transliterated correctly, thus fixing Kyiv and converting everything to lowercase will be enough."
      ]
    },
    {
      "cell_type": "code",
      "metadata": {
        "id": "EiDoAL53ev2U"
      },
      "source": [
        "# Enter your code here\n",
        "\n",
        "# Visualization\n",
        "display_pandas(coords)"
      ],
      "execution_count": null,
      "outputs": []
    },
    {
      "cell_type": "code",
      "metadata": {
        "id": "mGKhbVqBy5JI",
        "cellView": "form"
      },
      "source": [
        "#@title Solution (double-click to see the code)\n",
        "\n",
        "coords.city = coords.city.str.lower()\n",
        "coords.loc[coords['city'] == 'kiev', 'city'] = 'kyyiv'\n",
        "\n",
        "# Visualization\n",
        "display_pandas(coords)"
      ],
      "execution_count": null,
      "outputs": []
    },
    {
      "cell_type": "markdown",
      "metadata": {
        "id": "zN2Al7901JRz"
      },
      "source": [
        "* Merge tables into new `city_data` by `city` and `city_trlit` columns. Use inner join merging type.\n",
        "* Remove redundant columns with transliterations.\n",
        "* Make sure that column with ukrainian city names is designated `city`"
      ]
    },
    {
      "cell_type": "code",
      "metadata": {
        "id": "-SUKI2w3fJi7"
      },
      "source": [
        "# Enter your code here\n",
        "city_data =\n",
        "\n",
        "display_pandas(city_data)"
      ],
      "execution_count": null,
      "outputs": []
    },
    {
      "cell_type": "code",
      "metadata": {
        "id": "6ldsqTPxz2MG",
        "cellView": "form"
      },
      "source": [
        "#@title Solution (double-click to see the code)\n",
        "\n",
        "city_data = pd.merge(cities, coords, how='inner', left_on=\"city_trlit\", right_on=\"city\")\n",
        "city_data = city_data.drop(labels=['city_trlit','city_y'], axis=1)\n",
        "city_data = city_data.rename(columns={'city_x': 'city'})\n",
        "\n",
        "display_pandas(city_data)"
      ],
      "execution_count": null,
      "outputs": []
    },
    {
      "cell_type": "markdown",
      "metadata": {
        "id": "qciAmNDF3OvK"
      },
      "source": [
        "* If you did everything correct, here is a treat for you. Let's do a nice visualization. First, we need the `basemap` library. Run the following code to install it"
      ]
    },
    {
      "cell_type": "code",
      "metadata": {
        "id": "HLYQaOt820Sv",
        "colab": {
          "base_uri": "https://localhost:8080/"
        },
        "outputId": "aefb9342-a5b2-4884-b925-1c1e161c6226"
      },
      "source": [
        "!dpkg -l libgeos-dev  &>/dev/null || sudo apt-get install libgeos-dev\n",
        "try:\n",
        "  from mpl_toolkits.basemap import Basemap\n",
        "except:\n",
        "  !sudo pip3 install -U git+https://github.com/matplotlib/basemap.git\n",
        "  from mpl_toolkits.basemap import Basemap\n",
        "finally:\n",
        "  del Basemap\n",
        "from IPython.display import clear_output\n",
        "clear_output()\n",
        "print(\"INSTALLED\")"
      ],
      "execution_count": null,
      "outputs": [
        {
          "output_type": "stream",
          "name": "stdout",
          "text": [
            "INSTALLED\n"
          ]
        }
      ]
    },
    {
      "cell_type": "markdown",
      "metadata": {
        "id": "BwwTlMgN3hDb"
      },
      "source": [
        "* If installation successfully passed -- run the following code to see the result."
      ]
    },
    {
      "cell_type": "code",
      "metadata": {
        "id": "TWkjnKmh3FMK",
        "cellView": "form"
      },
      "source": [
        "#@title Nice visualization\n",
        "\n",
        "import numpy as np\n",
        "import matplotlib.pyplot as plt\n",
        "from mpl_toolkits.basemap import Basemap\n",
        "import pandas as pd\n",
        "\n",
        "# Extract the data we're interested in\n",
        "name = city_data['city'].values\n",
        "lat = city_data['lat'].values\n",
        "lon = city_data['lng'].values\n",
        "population = city_data['population'].str.replace(' ', '').values\n",
        "population = population.astype(float)\n",
        "area = city_data['area_km2'].values\n",
        "\n",
        "# Split to big and small cities\n",
        "big_idx = np.argwhere(population > 300000)\n",
        "small_idx = np.argwhere(population <= 300000)\n",
        "\n",
        "# 1. Draw the map background\n",
        "fig = plt.figure(figsize=(15, 8))\n",
        "m = Basemap(projection='lcc', resolution='h', lat_0=48.350664, lon_0=31.250373, width=1.5E6, height=1.E6)\n",
        "m.etopo()\n",
        "#m.shadedrelief()\n",
        "m.drawcoastlines(color='gray')\n",
        "m.drawcountries(color='black',linewidth=2)\n",
        "m.drawstates(color='gray')\n",
        "\n",
        "# 2. scatter city data, with color reflecting population\n",
        "# and size reflecting area\n",
        "m.scatter(lon, lat, latlon=True,\n",
        "          c=np.log10(population), s=area,\n",
        "          cmap='Reds', alpha=0.5)\n",
        "for ln, lt, n in zip(lon[big_idx], lat[big_idx], name[big_idx]):\n",
        "  x, y = m(ln, lt)\n",
        "  plt.annotate(n[0], xy=(x, y),  xycoords='data',\n",
        "              xytext=(x, y), textcoords='data')\n",
        "\n",
        "# 3. create colorbar and legend\n",
        "plt.colorbar(label=r'$\\log_{10}({\\rm population})$')\n",
        "plt.clim(3, 7)\n",
        "\n",
        "# make legend with dummy points\n",
        "for a in [100, 300, 500]:\n",
        "  plt.scatter([], [], c='b', alpha=0.5, s=a, label=str(a) + ' km$^2$')\n",
        "  plt.legend(scatterpoints=1, frameon=False, labelspacing=1, loc='lower left');"
      ],
      "execution_count": null,
      "outputs": []
    }
  ]
}
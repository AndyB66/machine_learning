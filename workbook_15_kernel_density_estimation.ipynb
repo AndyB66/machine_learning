{
  "nbformat": 4,
  "nbformat_minor": 0,
  "metadata": {
    "colab": {
      "name": "workbook_15_kernel_density_estimation.ipynb",
      "provenance": [],
      "include_colab_link": true
    },
    "kernelspec": {
      "name": "python3",
      "display_name": "Python 3"
    },
    "widgets": {
      "application/vnd.jupyter.widget-state+json": {
        "66a20a388d3845a68c858ce24894b033": {
          "model_module": "@jupyter-widgets/controls",
          "model_name": "HBoxModel",
          "state": {
            "_view_name": "HBoxView",
            "_dom_classes": [],
            "_model_name": "HBoxModel",
            "_view_module": "@jupyter-widgets/controls",
            "_model_module_version": "1.5.0",
            "_view_count": null,
            "_view_module_version": "1.5.0",
            "box_style": "",
            "layout": "IPY_MODEL_1e08e8035f874306930df4a6a7bb600d",
            "_model_module": "@jupyter-widgets/controls",
            "children": [
              "IPY_MODEL_11871a86c71a4b349df594f20e84261b",
              "IPY_MODEL_61e71d6fca964011ae68ce5d983003af",
              "IPY_MODEL_018ae4307f2d4ec2ae0ed4e8e306f66d",
              "IPY_MODEL_5a41977f86ab426db53d844d52fff158"
            ]
          }
        },
        "1e08e8035f874306930df4a6a7bb600d": {
          "model_module": "@jupyter-widgets/base",
          "model_name": "LayoutModel",
          "state": {
            "_view_name": "LayoutView",
            "grid_template_rows": null,
            "right": null,
            "justify_content": null,
            "_view_module": "@jupyter-widgets/base",
            "overflow": null,
            "_model_module_version": "1.2.0",
            "_view_count": null,
            "flex_flow": null,
            "width": null,
            "min_width": null,
            "border": null,
            "align_items": null,
            "bottom": null,
            "_model_module": "@jupyter-widgets/base",
            "top": null,
            "grid_column": null,
            "overflow_y": null,
            "overflow_x": null,
            "grid_auto_flow": null,
            "grid_area": null,
            "grid_template_columns": null,
            "flex": null,
            "_model_name": "LayoutModel",
            "justify_items": null,
            "grid_row": null,
            "max_height": null,
            "align_content": null,
            "visibility": null,
            "align_self": null,
            "height": null,
            "min_height": null,
            "padding": null,
            "grid_auto_rows": null,
            "grid_gap": null,
            "max_width": null,
            "order": null,
            "_view_module_version": "1.2.0",
            "grid_template_areas": null,
            "object_position": null,
            "object_fit": null,
            "grid_auto_columns": null,
            "margin": null,
            "display": null,
            "left": null
          }
        },
        "11871a86c71a4b349df594f20e84261b": {
          "model_module": "@jupyter-widgets/controls",
          "model_name": "VBoxModel",
          "state": {
            "_view_name": "VBoxView",
            "_dom_classes": [],
            "_model_name": "VBoxModel",
            "_view_module": "@jupyter-widgets/controls",
            "_model_module_version": "1.5.0",
            "_view_count": null,
            "_view_module_version": "1.5.0",
            "box_style": "",
            "layout": "IPY_MODEL_42dd053d95d94d31b38e3b0563a37c03",
            "_model_module": "@jupyter-widgets/controls",
            "children": [
              "IPY_MODEL_cc491a5b834543d6aaeb961c35917ff3"
            ]
          }
        },
        "61e71d6fca964011ae68ce5d983003af": {
          "model_module": "@jupyter-widgets/controls",
          "model_name": "VBoxModel",
          "state": {
            "_view_name": "VBoxView",
            "_dom_classes": [],
            "_model_name": "VBoxModel",
            "_view_module": "@jupyter-widgets/controls",
            "_model_module_version": "1.5.0",
            "_view_count": null,
            "_view_module_version": "1.5.0",
            "box_style": "",
            "layout": "IPY_MODEL_a3c7c1c3a19f4e90901963d79ce6d75d",
            "_model_module": "@jupyter-widgets/controls",
            "children": [
              "IPY_MODEL_f4e29514ee644def9dc628f4136c410d",
              "IPY_MODEL_35c75543095545ed83d2676a6e1e9e8a"
            ]
          }
        },
        "018ae4307f2d4ec2ae0ed4e8e306f66d": {
          "model_module": "@jupyter-widgets/controls",
          "model_name": "VBoxModel",
          "state": {
            "_view_name": "VBoxView",
            "_dom_classes": [],
            "_model_name": "VBoxModel",
            "_view_module": "@jupyter-widgets/controls",
            "_model_module_version": "1.5.0",
            "_view_count": null,
            "_view_module_version": "1.5.0",
            "box_style": "",
            "layout": "IPY_MODEL_cf50dcb786644f5fb5be682c4020b135",
            "_model_module": "@jupyter-widgets/controls",
            "children": [
              "IPY_MODEL_7aa38ba7ba4c4419b1c2a67add10491b",
              "IPY_MODEL_4be3e48e6b6f4cf4a5a2e1b92658fd2e"
            ]
          }
        },
        "5a41977f86ab426db53d844d52fff158": {
          "model_module": "@jupyter-widgets/controls",
          "model_name": "VBoxModel",
          "state": {
            "_view_name": "VBoxView",
            "_dom_classes": [],
            "_model_name": "VBoxModel",
            "_view_module": "@jupyter-widgets/controls",
            "_model_module_version": "1.5.0",
            "_view_count": null,
            "_view_module_version": "1.5.0",
            "box_style": "",
            "layout": "IPY_MODEL_c217825afec34668b3519b2b48f13fff",
            "_model_module": "@jupyter-widgets/controls",
            "children": [
              "IPY_MODEL_6e8bf725614247fd99c93ccd6af5e028",
              "IPY_MODEL_975af774fba1403594dde3d53824c4cd"
            ]
          }
        },
        "42dd053d95d94d31b38e3b0563a37c03": {
          "model_module": "@jupyter-widgets/base",
          "model_name": "LayoutModel",
          "state": {
            "_view_name": "LayoutView",
            "grid_template_rows": null,
            "right": null,
            "justify_content": null,
            "_view_module": "@jupyter-widgets/base",
            "overflow": null,
            "_model_module_version": "1.2.0",
            "_view_count": null,
            "flex_flow": null,
            "width": null,
            "min_width": null,
            "border": null,
            "align_items": null,
            "bottom": null,
            "_model_module": "@jupyter-widgets/base",
            "top": null,
            "grid_column": null,
            "overflow_y": null,
            "overflow_x": null,
            "grid_auto_flow": null,
            "grid_area": null,
            "grid_template_columns": null,
            "flex": null,
            "_model_name": "LayoutModel",
            "justify_items": null,
            "grid_row": null,
            "max_height": null,
            "align_content": null,
            "visibility": null,
            "align_self": null,
            "height": null,
            "min_height": null,
            "padding": null,
            "grid_auto_rows": null,
            "grid_gap": null,
            "max_width": null,
            "order": null,
            "_view_module_version": "1.2.0",
            "grid_template_areas": null,
            "object_position": null,
            "object_fit": null,
            "grid_auto_columns": null,
            "margin": null,
            "display": null,
            "left": null
          }
        },
        "cc491a5b834543d6aaeb961c35917ff3": {
          "model_module": "@jupyter-widgets/controls",
          "model_name": "FloatRangeSliderModel",
          "state": {
            "_view_name": "FloatRangeSliderView",
            "style": "IPY_MODEL_ca3a558f3afa4d0fb19ce9b6a13a0088",
            "_dom_classes": [],
            "description": "pi(1,2,3)",
            "step": 0.1,
            "_model_name": "FloatRangeSliderModel",
            "orientation": "horizontal",
            "max": 1,
            "_view_module": "@jupyter-widgets/controls",
            "_model_module_version": "1.5.0",
            "value": [
              0.3,
              0.6
            ],
            "_view_count": null,
            "disabled": false,
            "_view_module_version": "1.5.0",
            "min": 0,
            "continuous_update": true,
            "readout_format": ".2f",
            "description_tooltip": null,
            "readout": true,
            "_model_module": "@jupyter-widgets/controls",
            "layout": "IPY_MODEL_302751e3944d429ab057912a05632f31"
          }
        },
        "a3c7c1c3a19f4e90901963d79ce6d75d": {
          "model_module": "@jupyter-widgets/base",
          "model_name": "LayoutModel",
          "state": {
            "_view_name": "LayoutView",
            "grid_template_rows": null,
            "right": null,
            "justify_content": null,
            "_view_module": "@jupyter-widgets/base",
            "overflow": null,
            "_model_module_version": "1.2.0",
            "_view_count": null,
            "flex_flow": null,
            "width": null,
            "min_width": null,
            "border": null,
            "align_items": null,
            "bottom": null,
            "_model_module": "@jupyter-widgets/base",
            "top": null,
            "grid_column": null,
            "overflow_y": null,
            "overflow_x": null,
            "grid_auto_flow": null,
            "grid_area": null,
            "grid_template_columns": null,
            "flex": null,
            "_model_name": "LayoutModel",
            "justify_items": null,
            "grid_row": null,
            "max_height": null,
            "align_content": null,
            "visibility": null,
            "align_self": null,
            "height": null,
            "min_height": null,
            "padding": null,
            "grid_auto_rows": null,
            "grid_gap": null,
            "max_width": null,
            "order": null,
            "_view_module_version": "1.2.0",
            "grid_template_areas": null,
            "object_position": null,
            "object_fit": null,
            "grid_auto_columns": null,
            "margin": null,
            "display": null,
            "left": null
          }
        },
        "f4e29514ee644def9dc628f4136c410d": {
          "model_module": "@jupyter-widgets/controls",
          "model_name": "FloatSliderModel",
          "state": {
            "_view_name": "FloatSliderView",
            "style": "IPY_MODEL_797071998b594cb18c3fe9c50437fa9b",
            "_dom_classes": [],
            "description": "mu_1",
            "step": 0.1,
            "_model_name": "FloatSliderModel",
            "orientation": "horizontal",
            "max": 100,
            "_view_module": "@jupyter-widgets/controls",
            "_model_module_version": "1.5.0",
            "value": 10.00001,
            "_view_count": null,
            "disabled": false,
            "_view_module_version": "1.5.0",
            "min": 0,
            "continuous_update": true,
            "readout_format": ".2f",
            "description_tooltip": null,
            "readout": true,
            "_model_module": "@jupyter-widgets/controls",
            "layout": "IPY_MODEL_66bb7dca9b7b48798737a89f5ce9132c"
          }
        },
        "35c75543095545ed83d2676a6e1e9e8a": {
          "model_module": "@jupyter-widgets/controls",
          "model_name": "FloatSliderModel",
          "state": {
            "_view_name": "FloatSliderView",
            "style": "IPY_MODEL_18e709a0bc4044b8a0aaca5f0c6be216",
            "_dom_classes": [],
            "description": "sigma_1",
            "step": 0.1,
            "_model_name": "FloatSliderModel",
            "orientation": "horizontal",
            "max": 10,
            "_view_module": "@jupyter-widgets/controls",
            "_model_module_version": "1.5.0",
            "value": 10,
            "_view_count": null,
            "disabled": false,
            "_view_module_version": "1.5.0",
            "min": 1,
            "continuous_update": true,
            "readout_format": ".2f",
            "description_tooltip": null,
            "readout": true,
            "_model_module": "@jupyter-widgets/controls",
            "layout": "IPY_MODEL_29750339921649f1a2534873295137be"
          }
        },
        "cf50dcb786644f5fb5be682c4020b135": {
          "model_module": "@jupyter-widgets/base",
          "model_name": "LayoutModel",
          "state": {
            "_view_name": "LayoutView",
            "grid_template_rows": null,
            "right": null,
            "justify_content": null,
            "_view_module": "@jupyter-widgets/base",
            "overflow": null,
            "_model_module_version": "1.2.0",
            "_view_count": null,
            "flex_flow": null,
            "width": null,
            "min_width": null,
            "border": null,
            "align_items": null,
            "bottom": null,
            "_model_module": "@jupyter-widgets/base",
            "top": null,
            "grid_column": null,
            "overflow_y": null,
            "overflow_x": null,
            "grid_auto_flow": null,
            "grid_area": null,
            "grid_template_columns": null,
            "flex": null,
            "_model_name": "LayoutModel",
            "justify_items": null,
            "grid_row": null,
            "max_height": null,
            "align_content": null,
            "visibility": null,
            "align_self": null,
            "height": null,
            "min_height": null,
            "padding": null,
            "grid_auto_rows": null,
            "grid_gap": null,
            "max_width": null,
            "order": null,
            "_view_module_version": "1.2.0",
            "grid_template_areas": null,
            "object_position": null,
            "object_fit": null,
            "grid_auto_columns": null,
            "margin": null,
            "display": null,
            "left": null
          }
        },
        "7aa38ba7ba4c4419b1c2a67add10491b": {
          "model_module": "@jupyter-widgets/controls",
          "model_name": "FloatSliderModel",
          "state": {
            "_view_name": "FloatSliderView",
            "style": "IPY_MODEL_9cdef23175404c2cb6b2417a55baa523",
            "_dom_classes": [],
            "description": "mu_2",
            "step": 0.1,
            "_model_name": "FloatSliderModel",
            "orientation": "horizontal",
            "max": 100,
            "_view_module": "@jupyter-widgets/controls",
            "_model_module_version": "1.5.0",
            "value": 50,
            "_view_count": null,
            "disabled": false,
            "_view_module_version": "1.5.0",
            "min": 0,
            "continuous_update": true,
            "readout_format": ".2f",
            "description_tooltip": null,
            "readout": true,
            "_model_module": "@jupyter-widgets/controls",
            "layout": "IPY_MODEL_0b54e8123e6d499e9785d15ef7317415"
          }
        },
        "4be3e48e6b6f4cf4a5a2e1b92658fd2e": {
          "model_module": "@jupyter-widgets/controls",
          "model_name": "FloatSliderModel",
          "state": {
            "_view_name": "FloatSliderView",
            "style": "IPY_MODEL_6f9d2a3a68fc43598ee38f0750bcfff3",
            "_dom_classes": [],
            "description": "sigma_2",
            "step": 0.1,
            "_model_name": "FloatSliderModel",
            "orientation": "horizontal",
            "max": 10,
            "_view_module": "@jupyter-widgets/controls",
            "_model_module_version": "1.5.0",
            "value": 10,
            "_view_count": null,
            "disabled": false,
            "_view_module_version": "1.5.0",
            "min": 1,
            "continuous_update": true,
            "readout_format": ".2f",
            "description_tooltip": null,
            "readout": true,
            "_model_module": "@jupyter-widgets/controls",
            "layout": "IPY_MODEL_3ce4b84eb15847939bc462e010ab02df"
          }
        },
        "c217825afec34668b3519b2b48f13fff": {
          "model_module": "@jupyter-widgets/base",
          "model_name": "LayoutModel",
          "state": {
            "_view_name": "LayoutView",
            "grid_template_rows": null,
            "right": null,
            "justify_content": null,
            "_view_module": "@jupyter-widgets/base",
            "overflow": null,
            "_model_module_version": "1.2.0",
            "_view_count": null,
            "flex_flow": null,
            "width": null,
            "min_width": null,
            "border": null,
            "align_items": null,
            "bottom": null,
            "_model_module": "@jupyter-widgets/base",
            "top": null,
            "grid_column": null,
            "overflow_y": null,
            "overflow_x": null,
            "grid_auto_flow": null,
            "grid_area": null,
            "grid_template_columns": null,
            "flex": null,
            "_model_name": "LayoutModel",
            "justify_items": null,
            "grid_row": null,
            "max_height": null,
            "align_content": null,
            "visibility": null,
            "align_self": null,
            "height": null,
            "min_height": null,
            "padding": null,
            "grid_auto_rows": null,
            "grid_gap": null,
            "max_width": null,
            "order": null,
            "_view_module_version": "1.2.0",
            "grid_template_areas": null,
            "object_position": null,
            "object_fit": null,
            "grid_auto_columns": null,
            "margin": null,
            "display": null,
            "left": null
          }
        },
        "6e8bf725614247fd99c93ccd6af5e028": {
          "model_module": "@jupyter-widgets/controls",
          "model_name": "FloatSliderModel",
          "state": {
            "_view_name": "FloatSliderView",
            "style": "IPY_MODEL_575c8297e00848f0878b8bad72ddbb55",
            "_dom_classes": [],
            "description": "mu_3",
            "step": 0.1,
            "_model_name": "FloatSliderModel",
            "orientation": "horizontal",
            "max": 100,
            "_view_module": "@jupyter-widgets/controls",
            "_model_module_version": "1.5.0",
            "value": 90,
            "_view_count": null,
            "disabled": false,
            "_view_module_version": "1.5.0",
            "min": 0,
            "continuous_update": true,
            "readout_format": ".2f",
            "description_tooltip": null,
            "readout": true,
            "_model_module": "@jupyter-widgets/controls",
            "layout": "IPY_MODEL_f22d0dff0a414957b72b4dda10b76758"
          }
        },
        "975af774fba1403594dde3d53824c4cd": {
          "model_module": "@jupyter-widgets/controls",
          "model_name": "FloatSliderModel",
          "state": {
            "_view_name": "FloatSliderView",
            "style": "IPY_MODEL_a287e33a673d49d8b869d73069ee61a0",
            "_dom_classes": [],
            "description": "sigma_3",
            "step": 0.1,
            "_model_name": "FloatSliderModel",
            "orientation": "horizontal",
            "max": 10,
            "_view_module": "@jupyter-widgets/controls",
            "_model_module_version": "1.5.0",
            "value": 10,
            "_view_count": null,
            "disabled": false,
            "_view_module_version": "1.5.0",
            "min": 1,
            "continuous_update": true,
            "readout_format": ".2f",
            "description_tooltip": null,
            "readout": true,
            "_model_module": "@jupyter-widgets/controls",
            "layout": "IPY_MODEL_2bdf408a797547f7aaed527bc5750b29"
          }
        },
        "ca3a558f3afa4d0fb19ce9b6a13a0088": {
          "model_module": "@jupyter-widgets/controls",
          "model_name": "SliderStyleModel",
          "state": {
            "_view_name": "StyleView",
            "handle_color": null,
            "_model_name": "SliderStyleModel",
            "description_width": "",
            "_view_module": "@jupyter-widgets/base",
            "_model_module_version": "1.5.0",
            "_view_count": null,
            "_view_module_version": "1.2.0",
            "_model_module": "@jupyter-widgets/controls"
          }
        },
        "302751e3944d429ab057912a05632f31": {
          "model_module": "@jupyter-widgets/base",
          "model_name": "LayoutModel",
          "state": {
            "_view_name": "LayoutView",
            "grid_template_rows": null,
            "right": null,
            "justify_content": null,
            "_view_module": "@jupyter-widgets/base",
            "overflow": null,
            "_model_module_version": "1.2.0",
            "_view_count": null,
            "flex_flow": null,
            "width": null,
            "min_width": null,
            "border": null,
            "align_items": null,
            "bottom": null,
            "_model_module": "@jupyter-widgets/base",
            "top": null,
            "grid_column": null,
            "overflow_y": null,
            "overflow_x": null,
            "grid_auto_flow": null,
            "grid_area": null,
            "grid_template_columns": null,
            "flex": null,
            "_model_name": "LayoutModel",
            "justify_items": null,
            "grid_row": null,
            "max_height": null,
            "align_content": null,
            "visibility": null,
            "align_self": null,
            "height": null,
            "min_height": null,
            "padding": null,
            "grid_auto_rows": null,
            "grid_gap": null,
            "max_width": null,
            "order": null,
            "_view_module_version": "1.2.0",
            "grid_template_areas": null,
            "object_position": null,
            "object_fit": null,
            "grid_auto_columns": null,
            "margin": null,
            "display": null,
            "left": null
          }
        },
        "797071998b594cb18c3fe9c50437fa9b": {
          "model_module": "@jupyter-widgets/controls",
          "model_name": "SliderStyleModel",
          "state": {
            "_view_name": "StyleView",
            "handle_color": null,
            "_model_name": "SliderStyleModel",
            "description_width": "",
            "_view_module": "@jupyter-widgets/base",
            "_model_module_version": "1.5.0",
            "_view_count": null,
            "_view_module_version": "1.2.0",
            "_model_module": "@jupyter-widgets/controls"
          }
        },
        "66bb7dca9b7b48798737a89f5ce9132c": {
          "model_module": "@jupyter-widgets/base",
          "model_name": "LayoutModel",
          "state": {
            "_view_name": "LayoutView",
            "grid_template_rows": null,
            "right": null,
            "justify_content": null,
            "_view_module": "@jupyter-widgets/base",
            "overflow": null,
            "_model_module_version": "1.2.0",
            "_view_count": null,
            "flex_flow": null,
            "width": null,
            "min_width": null,
            "border": null,
            "align_items": null,
            "bottom": null,
            "_model_module": "@jupyter-widgets/base",
            "top": null,
            "grid_column": null,
            "overflow_y": null,
            "overflow_x": null,
            "grid_auto_flow": null,
            "grid_area": null,
            "grid_template_columns": null,
            "flex": null,
            "_model_name": "LayoutModel",
            "justify_items": null,
            "grid_row": null,
            "max_height": null,
            "align_content": null,
            "visibility": null,
            "align_self": null,
            "height": null,
            "min_height": null,
            "padding": null,
            "grid_auto_rows": null,
            "grid_gap": null,
            "max_width": null,
            "order": null,
            "_view_module_version": "1.2.0",
            "grid_template_areas": null,
            "object_position": null,
            "object_fit": null,
            "grid_auto_columns": null,
            "margin": null,
            "display": null,
            "left": null
          }
        },
        "18e709a0bc4044b8a0aaca5f0c6be216": {
          "model_module": "@jupyter-widgets/controls",
          "model_name": "SliderStyleModel",
          "state": {
            "_view_name": "StyleView",
            "handle_color": null,
            "_model_name": "SliderStyleModel",
            "description_width": "",
            "_view_module": "@jupyter-widgets/base",
            "_model_module_version": "1.5.0",
            "_view_count": null,
            "_view_module_version": "1.2.0",
            "_model_module": "@jupyter-widgets/controls"
          }
        },
        "29750339921649f1a2534873295137be": {
          "model_module": "@jupyter-widgets/base",
          "model_name": "LayoutModel",
          "state": {
            "_view_name": "LayoutView",
            "grid_template_rows": null,
            "right": null,
            "justify_content": null,
            "_view_module": "@jupyter-widgets/base",
            "overflow": null,
            "_model_module_version": "1.2.0",
            "_view_count": null,
            "flex_flow": null,
            "width": null,
            "min_width": null,
            "border": null,
            "align_items": null,
            "bottom": null,
            "_model_module": "@jupyter-widgets/base",
            "top": null,
            "grid_column": null,
            "overflow_y": null,
            "overflow_x": null,
            "grid_auto_flow": null,
            "grid_area": null,
            "grid_template_columns": null,
            "flex": null,
            "_model_name": "LayoutModel",
            "justify_items": null,
            "grid_row": null,
            "max_height": null,
            "align_content": null,
            "visibility": null,
            "align_self": null,
            "height": null,
            "min_height": null,
            "padding": null,
            "grid_auto_rows": null,
            "grid_gap": null,
            "max_width": null,
            "order": null,
            "_view_module_version": "1.2.0",
            "grid_template_areas": null,
            "object_position": null,
            "object_fit": null,
            "grid_auto_columns": null,
            "margin": null,
            "display": null,
            "left": null
          }
        },
        "9cdef23175404c2cb6b2417a55baa523": {
          "model_module": "@jupyter-widgets/controls",
          "model_name": "SliderStyleModel",
          "state": {
            "_view_name": "StyleView",
            "handle_color": null,
            "_model_name": "SliderStyleModel",
            "description_width": "",
            "_view_module": "@jupyter-widgets/base",
            "_model_module_version": "1.5.0",
            "_view_count": null,
            "_view_module_version": "1.2.0",
            "_model_module": "@jupyter-widgets/controls"
          }
        },
        "0b54e8123e6d499e9785d15ef7317415": {
          "model_module": "@jupyter-widgets/base",
          "model_name": "LayoutModel",
          "state": {
            "_view_name": "LayoutView",
            "grid_template_rows": null,
            "right": null,
            "justify_content": null,
            "_view_module": "@jupyter-widgets/base",
            "overflow": null,
            "_model_module_version": "1.2.0",
            "_view_count": null,
            "flex_flow": null,
            "width": null,
            "min_width": null,
            "border": null,
            "align_items": null,
            "bottom": null,
            "_model_module": "@jupyter-widgets/base",
            "top": null,
            "grid_column": null,
            "overflow_y": null,
            "overflow_x": null,
            "grid_auto_flow": null,
            "grid_area": null,
            "grid_template_columns": null,
            "flex": null,
            "_model_name": "LayoutModel",
            "justify_items": null,
            "grid_row": null,
            "max_height": null,
            "align_content": null,
            "visibility": null,
            "align_self": null,
            "height": null,
            "min_height": null,
            "padding": null,
            "grid_auto_rows": null,
            "grid_gap": null,
            "max_width": null,
            "order": null,
            "_view_module_version": "1.2.0",
            "grid_template_areas": null,
            "object_position": null,
            "object_fit": null,
            "grid_auto_columns": null,
            "margin": null,
            "display": null,
            "left": null
          }
        },
        "6f9d2a3a68fc43598ee38f0750bcfff3": {
          "model_module": "@jupyter-widgets/controls",
          "model_name": "SliderStyleModel",
          "state": {
            "_view_name": "StyleView",
            "handle_color": null,
            "_model_name": "SliderStyleModel",
            "description_width": "",
            "_view_module": "@jupyter-widgets/base",
            "_model_module_version": "1.5.0",
            "_view_count": null,
            "_view_module_version": "1.2.0",
            "_model_module": "@jupyter-widgets/controls"
          }
        },
        "3ce4b84eb15847939bc462e010ab02df": {
          "model_module": "@jupyter-widgets/base",
          "model_name": "LayoutModel",
          "state": {
            "_view_name": "LayoutView",
            "grid_template_rows": null,
            "right": null,
            "justify_content": null,
            "_view_module": "@jupyter-widgets/base",
            "overflow": null,
            "_model_module_version": "1.2.0",
            "_view_count": null,
            "flex_flow": null,
            "width": null,
            "min_width": null,
            "border": null,
            "align_items": null,
            "bottom": null,
            "_model_module": "@jupyter-widgets/base",
            "top": null,
            "grid_column": null,
            "overflow_y": null,
            "overflow_x": null,
            "grid_auto_flow": null,
            "grid_area": null,
            "grid_template_columns": null,
            "flex": null,
            "_model_name": "LayoutModel",
            "justify_items": null,
            "grid_row": null,
            "max_height": null,
            "align_content": null,
            "visibility": null,
            "align_self": null,
            "height": null,
            "min_height": null,
            "padding": null,
            "grid_auto_rows": null,
            "grid_gap": null,
            "max_width": null,
            "order": null,
            "_view_module_version": "1.2.0",
            "grid_template_areas": null,
            "object_position": null,
            "object_fit": null,
            "grid_auto_columns": null,
            "margin": null,
            "display": null,
            "left": null
          }
        },
        "575c8297e00848f0878b8bad72ddbb55": {
          "model_module": "@jupyter-widgets/controls",
          "model_name": "SliderStyleModel",
          "state": {
            "_view_name": "StyleView",
            "handle_color": null,
            "_model_name": "SliderStyleModel",
            "description_width": "",
            "_view_module": "@jupyter-widgets/base",
            "_model_module_version": "1.5.0",
            "_view_count": null,
            "_view_module_version": "1.2.0",
            "_model_module": "@jupyter-widgets/controls"
          }
        },
        "f22d0dff0a414957b72b4dda10b76758": {
          "model_module": "@jupyter-widgets/base",
          "model_name": "LayoutModel",
          "state": {
            "_view_name": "LayoutView",
            "grid_template_rows": null,
            "right": null,
            "justify_content": null,
            "_view_module": "@jupyter-widgets/base",
            "overflow": null,
            "_model_module_version": "1.2.0",
            "_view_count": null,
            "flex_flow": null,
            "width": null,
            "min_width": null,
            "border": null,
            "align_items": null,
            "bottom": null,
            "_model_module": "@jupyter-widgets/base",
            "top": null,
            "grid_column": null,
            "overflow_y": null,
            "overflow_x": null,
            "grid_auto_flow": null,
            "grid_area": null,
            "grid_template_columns": null,
            "flex": null,
            "_model_name": "LayoutModel",
            "justify_items": null,
            "grid_row": null,
            "max_height": null,
            "align_content": null,
            "visibility": null,
            "align_self": null,
            "height": null,
            "min_height": null,
            "padding": null,
            "grid_auto_rows": null,
            "grid_gap": null,
            "max_width": null,
            "order": null,
            "_view_module_version": "1.2.0",
            "grid_template_areas": null,
            "object_position": null,
            "object_fit": null,
            "grid_auto_columns": null,
            "margin": null,
            "display": null,
            "left": null
          }
        },
        "a287e33a673d49d8b869d73069ee61a0": {
          "model_module": "@jupyter-widgets/controls",
          "model_name": "SliderStyleModel",
          "state": {
            "_view_name": "StyleView",
            "handle_color": null,
            "_model_name": "SliderStyleModel",
            "description_width": "",
            "_view_module": "@jupyter-widgets/base",
            "_model_module_version": "1.5.0",
            "_view_count": null,
            "_view_module_version": "1.2.0",
            "_model_module": "@jupyter-widgets/controls"
          }
        },
        "2bdf408a797547f7aaed527bc5750b29": {
          "model_module": "@jupyter-widgets/base",
          "model_name": "LayoutModel",
          "state": {
            "_view_name": "LayoutView",
            "grid_template_rows": null,
            "right": null,
            "justify_content": null,
            "_view_module": "@jupyter-widgets/base",
            "overflow": null,
            "_model_module_version": "1.2.0",
            "_view_count": null,
            "flex_flow": null,
            "width": null,
            "min_width": null,
            "border": null,
            "align_items": null,
            "bottom": null,
            "_model_module": "@jupyter-widgets/base",
            "top": null,
            "grid_column": null,
            "overflow_y": null,
            "overflow_x": null,
            "grid_auto_flow": null,
            "grid_area": null,
            "grid_template_columns": null,
            "flex": null,
            "_model_name": "LayoutModel",
            "justify_items": null,
            "grid_row": null,
            "max_height": null,
            "align_content": null,
            "visibility": null,
            "align_self": null,
            "height": null,
            "min_height": null,
            "padding": null,
            "grid_auto_rows": null,
            "grid_gap": null,
            "max_width": null,
            "order": null,
            "_view_module_version": "1.2.0",
            "grid_template_areas": null,
            "object_position": null,
            "object_fit": null,
            "grid_auto_columns": null,
            "margin": null,
            "display": null,
            "left": null
          }
        },
        "9d7efaabbcc94fca9fc83c788678da9a": {
          "model_module": "@jupyter-widgets/output",
          "model_name": "OutputModel",
          "state": {
            "_view_name": "OutputView",
            "msg_id": "",
            "_dom_classes": [],
            "_model_name": "OutputModel",
            "outputs": [
              {
                "output_type": "display_data",
                "metadata": {
                  "tags": []
                },
                "image/png": "iVBORw0KGgoAAAANSUhEUgAAAnUAAAH4CAYAAAAsMRvPAAAABHNCSVQICAgIfAhkiAAAAAlwSFlz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\nAAAAAElFTkSuQmCC\n",
                "text/plain": "<Figure size 720x576 with 1 Axes>"
              }
            ],
            "_view_module": "@jupyter-widgets/output",
            "_model_module_version": "1.0.0",
            "_view_count": null,
            "_view_module_version": "1.0.0",
            "layout": "IPY_MODEL_e3dd371b917a415cbbf569840f2fd8fe",
            "_model_module": "@jupyter-widgets/output"
          }
        },
        "8228883aa92c48bda37807b3b46638de": {
          "model_module": "@jupyter-widgets/controls",
          "model_name": "HBoxModel",
          "state": {
            "_view_name": "HBoxView",
            "_dom_classes": [],
            "_model_name": "HBoxModel",
            "_view_module": "@jupyter-widgets/controls",
            "_model_module_version": "1.5.0",
            "_view_count": null,
            "_view_module_version": "1.5.0",
            "box_style": "",
            "layout": "IPY_MODEL_15593f13d61344788c6704a11b0c4e91",
            "_model_module": "@jupyter-widgets/controls",
            "children": [
              "IPY_MODEL_628fd72cb957443eac5fa5f7343632b7",
              "IPY_MODEL_889dd41f97dc43788e0263270b0b18e0"
            ]
          }
        },
        "15593f13d61344788c6704a11b0c4e91": {
          "model_module": "@jupyter-widgets/base",
          "model_name": "LayoutModel",
          "state": {
            "_view_name": "LayoutView",
            "grid_template_rows": null,
            "right": null,
            "justify_content": null,
            "_view_module": "@jupyter-widgets/base",
            "overflow": null,
            "_model_module_version": "1.2.0",
            "_view_count": null,
            "flex_flow": null,
            "width": null,
            "min_width": null,
            "border": null,
            "align_items": null,
            "bottom": null,
            "_model_module": "@jupyter-widgets/base",
            "top": null,
            "grid_column": null,
            "overflow_y": null,
            "overflow_x": null,
            "grid_auto_flow": null,
            "grid_area": null,
            "grid_template_columns": null,
            "flex": null,
            "_model_name": "LayoutModel",
            "justify_items": null,
            "grid_row": null,
            "max_height": null,
            "align_content": null,
            "visibility": null,
            "align_self": null,
            "height": null,
            "min_height": null,
            "padding": null,
            "grid_auto_rows": null,
            "grid_gap": null,
            "max_width": null,
            "order": null,
            "_view_module_version": "1.2.0",
            "grid_template_areas": null,
            "object_position": null,
            "object_fit": null,
            "grid_auto_columns": null,
            "margin": null,
            "display": null,
            "left": null
          }
        },
        "628fd72cb957443eac5fa5f7343632b7": {
          "model_module": "@jupyter-widgets/controls",
          "model_name": "DropdownModel",
          "state": {
            "_options_labels": [
              "gaussian",
              "tophat",
              "epanechnikov",
              "exponential",
              "linear",
              "cosine"
            ],
            "_view_name": "DropdownView",
            "style": "IPY_MODEL_64e6ae31734b47909c1c9724de8d244b",
            "_dom_classes": [],
            "description": "Kernel:",
            "_model_name": "DropdownModel",
            "index": 0,
            "_view_module": "@jupyter-widgets/controls",
            "_model_module_version": "1.5.0",
            "_view_count": null,
            "disabled": false,
            "_view_module_version": "1.5.0",
            "description_tooltip": null,
            "_model_module": "@jupyter-widgets/controls",
            "layout": "IPY_MODEL_c0da5ec80cb14906940c11d9f02bd47f"
          }
        },
        "889dd41f97dc43788e0263270b0b18e0": {
          "model_module": "@jupyter-widgets/controls",
          "model_name": "VBoxModel",
          "state": {
            "_view_name": "VBoxView",
            "_dom_classes": [],
            "_model_name": "VBoxModel",
            "_view_module": "@jupyter-widgets/controls",
            "_model_module_version": "1.5.0",
            "_view_count": null,
            "_view_module_version": "1.5.0",
            "box_style": "",
            "layout": "IPY_MODEL_5eb46453655b459c90320c5670da75af",
            "_model_module": "@jupyter-widgets/controls",
            "children": [
              "IPY_MODEL_53a89810a50148e29c301e721d76d6c6",
              "IPY_MODEL_9a48437956684141b1d02a5debcfbb27"
            ]
          }
        },
        "64e6ae31734b47909c1c9724de8d244b": {
          "model_module": "@jupyter-widgets/controls",
          "model_name": "DescriptionStyleModel",
          "state": {
            "_view_name": "StyleView",
            "_model_name": "DescriptionStyleModel",
            "description_width": "",
            "_view_module": "@jupyter-widgets/base",
            "_model_module_version": "1.5.0",
            "_view_count": null,
            "_view_module_version": "1.2.0",
            "_model_module": "@jupyter-widgets/controls"
          }
        },
        "c0da5ec80cb14906940c11d9f02bd47f": {
          "model_module": "@jupyter-widgets/base",
          "model_name": "LayoutModel",
          "state": {
            "_view_name": "LayoutView",
            "grid_template_rows": null,
            "right": null,
            "justify_content": null,
            "_view_module": "@jupyter-widgets/base",
            "overflow": null,
            "_model_module_version": "1.2.0",
            "_view_count": null,
            "flex_flow": null,
            "width": null,
            "min_width": null,
            "border": null,
            "align_items": null,
            "bottom": null,
            "_model_module": "@jupyter-widgets/base",
            "top": null,
            "grid_column": null,
            "overflow_y": null,
            "overflow_x": null,
            "grid_auto_flow": null,
            "grid_area": null,
            "grid_template_columns": null,
            "flex": null,
            "_model_name": "LayoutModel",
            "justify_items": null,
            "grid_row": null,
            "max_height": null,
            "align_content": null,
            "visibility": null,
            "align_self": null,
            "height": null,
            "min_height": null,
            "padding": null,
            "grid_auto_rows": null,
            "grid_gap": null,
            "max_width": null,
            "order": null,
            "_view_module_version": "1.2.0",
            "grid_template_areas": null,
            "object_position": null,
            "object_fit": null,
            "grid_auto_columns": null,
            "margin": null,
            "display": null,
            "left": null
          }
        },
        "5eb46453655b459c90320c5670da75af": {
          "model_module": "@jupyter-widgets/base",
          "model_name": "LayoutModel",
          "state": {
            "_view_name": "LayoutView",
            "grid_template_rows": null,
            "right": null,
            "justify_content": null,
            "_view_module": "@jupyter-widgets/base",
            "overflow": null,
            "_model_module_version": "1.2.0",
            "_view_count": null,
            "flex_flow": null,
            "width": null,
            "min_width": null,
            "border": null,
            "align_items": null,
            "bottom": null,
            "_model_module": "@jupyter-widgets/base",
            "top": null,
            "grid_column": null,
            "overflow_y": null,
            "overflow_x": null,
            "grid_auto_flow": null,
            "grid_area": null,
            "grid_template_columns": null,
            "flex": null,
            "_model_name": "LayoutModel",
            "justify_items": null,
            "grid_row": null,
            "max_height": null,
            "align_content": null,
            "visibility": null,
            "align_self": null,
            "height": null,
            "min_height": null,
            "padding": null,
            "grid_auto_rows": null,
            "grid_gap": null,
            "max_width": null,
            "order": null,
            "_view_module_version": "1.2.0",
            "grid_template_areas": null,
            "object_position": null,
            "object_fit": null,
            "grid_auto_columns": null,
            "margin": null,
            "display": null,
            "left": null
          }
        },
        "53a89810a50148e29c301e721d76d6c6": {
          "model_module": "@jupyter-widgets/controls",
          "model_name": "FloatSliderModel",
          "state": {
            "_view_name": "FloatSliderView",
            "style": "IPY_MODEL_e3a57bbc312d4d59bdda23dd4ed598ec",
            "_dom_classes": [],
            "description": "bandwidth",
            "step": 0.1,
            "_model_name": "FloatSliderModel",
            "orientation": "horizontal",
            "max": 50,
            "_view_module": "@jupyter-widgets/controls",
            "_model_module_version": "1.5.0",
            "value": 15.0001,
            "_view_count": null,
            "disabled": false,
            "_view_module_version": "1.5.0",
            "min": 1,
            "continuous_update": true,
            "readout_format": ".2f",
            "description_tooltip": null,
            "readout": true,
            "_model_module": "@jupyter-widgets/controls",
            "layout": "IPY_MODEL_d05527c6592a498585272cdb5132f48b"
          }
        },
        "9a48437956684141b1d02a5debcfbb27": {
          "model_module": "@jupyter-widgets/controls",
          "model_name": "HBoxModel",
          "state": {
            "_view_name": "HBoxView",
            "_dom_classes": [],
            "_model_name": "HBoxModel",
            "_view_module": "@jupyter-widgets/controls",
            "_model_module_version": "1.5.0",
            "_view_count": null,
            "_view_module_version": "1.5.0",
            "box_style": "",
            "layout": "IPY_MODEL_f5079473b8eb4063a529f3830288eca1",
            "_model_module": "@jupyter-widgets/controls",
            "children": [
              "IPY_MODEL_d382995540e04dbeb07adf9fb27c6928",
              "IPY_MODEL_4f3dbdcd190944ea964800774f8091c0",
              "IPY_MODEL_b2f702ffc4514c9ab825363e8cf9fe6b"
            ]
          }
        },
        "e3a57bbc312d4d59bdda23dd4ed598ec": {
          "model_module": "@jupyter-widgets/controls",
          "model_name": "SliderStyleModel",
          "state": {
            "_view_name": "StyleView",
            "handle_color": null,
            "_model_name": "SliderStyleModel",
            "description_width": "",
            "_view_module": "@jupyter-widgets/base",
            "_model_module_version": "1.5.0",
            "_view_count": null,
            "_view_module_version": "1.2.0",
            "_model_module": "@jupyter-widgets/controls"
          }
        },
        "d05527c6592a498585272cdb5132f48b": {
          "model_module": "@jupyter-widgets/base",
          "model_name": "LayoutModel",
          "state": {
            "_view_name": "LayoutView",
            "grid_template_rows": null,
            "right": null,
            "justify_content": null,
            "_view_module": "@jupyter-widgets/base",
            "overflow": null,
            "_model_module_version": "1.2.0",
            "_view_count": null,
            "flex_flow": null,
            "width": null,
            "min_width": null,
            "border": null,
            "align_items": null,
            "bottom": null,
            "_model_module": "@jupyter-widgets/base",
            "top": null,
            "grid_column": null,
            "overflow_y": null,
            "overflow_x": null,
            "grid_auto_flow": null,
            "grid_area": null,
            "grid_template_columns": null,
            "flex": null,
            "_model_name": "LayoutModel",
            "justify_items": null,
            "grid_row": null,
            "max_height": null,
            "align_content": null,
            "visibility": null,
            "align_self": null,
            "height": null,
            "min_height": null,
            "padding": null,
            "grid_auto_rows": null,
            "grid_gap": null,
            "max_width": null,
            "order": null,
            "_view_module_version": "1.2.0",
            "grid_template_areas": null,
            "object_position": null,
            "object_fit": null,
            "grid_auto_columns": null,
            "margin": null,
            "display": null,
            "left": null
          }
        },
        "f5079473b8eb4063a529f3830288eca1": {
          "model_module": "@jupyter-widgets/base",
          "model_name": "LayoutModel",
          "state": {
            "_view_name": "LayoutView",
            "grid_template_rows": null,
            "right": null,
            "justify_content": null,
            "_view_module": "@jupyter-widgets/base",
            "overflow": null,
            "_model_module_version": "1.2.0",
            "_view_count": null,
            "flex_flow": null,
            "width": null,
            "min_width": null,
            "border": null,
            "align_items": null,
            "bottom": null,
            "_model_module": "@jupyter-widgets/base",
            "top": null,
            "grid_column": null,
            "overflow_y": null,
            "overflow_x": null,
            "grid_auto_flow": null,
            "grid_area": null,
            "grid_template_columns": null,
            "flex": null,
            "_model_name": "LayoutModel",
            "justify_items": null,
            "grid_row": null,
            "max_height": null,
            "align_content": null,
            "visibility": null,
            "align_self": null,
            "height": null,
            "min_height": null,
            "padding": null,
            "grid_auto_rows": null,
            "grid_gap": null,
            "max_width": null,
            "order": null,
            "_view_module_version": "1.2.0",
            "grid_template_areas": null,
            "object_position": null,
            "object_fit": null,
            "grid_auto_columns": null,
            "margin": null,
            "display": null,
            "left": null
          }
        },
        "d382995540e04dbeb07adf9fb27c6928": {
          "model_module": "@jupyter-widgets/controls",
          "model_name": "ButtonModel",
          "state": {
            "_view_name": "ButtonView",
            "style": "IPY_MODEL_e991736567c940a8bcf8873ebfffab10",
            "_dom_classes": [],
            "description": "Silverman",
            "_model_name": "ButtonModel",
            "button_style": "",
            "_view_module": "@jupyter-widgets/controls",
            "_model_module_version": "1.5.0",
            "tooltip": "",
            "_view_count": null,
            "disabled": false,
            "_view_module_version": "1.5.0",
            "layout": "IPY_MODEL_92e38e152bfc4ca781d5173ef3ae2dd9",
            "_model_module": "@jupyter-widgets/controls",
            "icon": ""
          }
        },
        "4f3dbdcd190944ea964800774f8091c0": {
          "model_module": "@jupyter-widgets/controls",
          "model_name": "ButtonModel",
          "state": {
            "_view_name": "ButtonView",
            "style": "IPY_MODEL_232ce04d848b4f35af0a33330b816776",
            "_dom_classes": [],
            "description": "ISJ",
            "_model_name": "ButtonModel",
            "button_style": "",
            "_view_module": "@jupyter-widgets/controls",
            "_model_module_version": "1.5.0",
            "tooltip": "",
            "_view_count": null,
            "disabled": false,
            "_view_module_version": "1.5.0",
            "layout": "IPY_MODEL_48b5c7b0dec64fb1818b75eb6ab805e6",
            "_model_module": "@jupyter-widgets/controls",
            "icon": ""
          }
        },
        "b2f702ffc4514c9ab825363e8cf9fe6b": {
          "model_module": "@jupyter-widgets/controls",
          "model_name": "ButtonModel",
          "state": {
            "_view_name": "ButtonView",
            "style": "IPY_MODEL_3a944aa931844ba68e59a5b53b3aaf3c",
            "_dom_classes": [],
            "description": "Cross Validation",
            "_model_name": "ButtonModel",
            "button_style": "",
            "_view_module": "@jupyter-widgets/controls",
            "_model_module_version": "1.5.0",
            "tooltip": "",
            "_view_count": null,
            "disabled": false,
            "_view_module_version": "1.5.0",
            "layout": "IPY_MODEL_02766f14195643aabe09a791f893c385",
            "_model_module": "@jupyter-widgets/controls",
            "icon": ""
          }
        },
        "e991736567c940a8bcf8873ebfffab10": {
          "model_module": "@jupyter-widgets/controls",
          "model_name": "ButtonStyleModel",
          "state": {
            "_view_name": "StyleView",
            "_model_name": "ButtonStyleModel",
            "_view_module": "@jupyter-widgets/base",
            "_model_module_version": "1.5.0",
            "_view_count": null,
            "button_color": null,
            "font_weight": "",
            "_view_module_version": "1.2.0",
            "_model_module": "@jupyter-widgets/controls"
          }
        },
        "92e38e152bfc4ca781d5173ef3ae2dd9": {
          "model_module": "@jupyter-widgets/base",
          "model_name": "LayoutModel",
          "state": {
            "_view_name": "LayoutView",
            "grid_template_rows": null,
            "right": null,
            "justify_content": null,
            "_view_module": "@jupyter-widgets/base",
            "overflow": null,
            "_model_module_version": "1.2.0",
            "_view_count": null,
            "flex_flow": null,
            "width": null,
            "min_width": null,
            "border": null,
            "align_items": null,
            "bottom": null,
            "_model_module": "@jupyter-widgets/base",
            "top": null,
            "grid_column": null,
            "overflow_y": null,
            "overflow_x": null,
            "grid_auto_flow": null,
            "grid_area": null,
            "grid_template_columns": null,
            "flex": null,
            "_model_name": "LayoutModel",
            "justify_items": null,
            "grid_row": null,
            "max_height": null,
            "align_content": null,
            "visibility": null,
            "align_self": null,
            "height": null,
            "min_height": null,
            "padding": null,
            "grid_auto_rows": null,
            "grid_gap": null,
            "max_width": null,
            "order": null,
            "_view_module_version": "1.2.0",
            "grid_template_areas": null,
            "object_position": null,
            "object_fit": null,
            "grid_auto_columns": null,
            "margin": null,
            "display": null,
            "left": null
          }
        },
        "232ce04d848b4f35af0a33330b816776": {
          "model_module": "@jupyter-widgets/controls",
          "model_name": "ButtonStyleModel",
          "state": {
            "_view_name": "StyleView",
            "_model_name": "ButtonStyleModel",
            "_view_module": "@jupyter-widgets/base",
            "_model_module_version": "1.5.0",
            "_view_count": null,
            "button_color": null,
            "font_weight": "",
            "_view_module_version": "1.2.0",
            "_model_module": "@jupyter-widgets/controls"
          }
        },
        "48b5c7b0dec64fb1818b75eb6ab805e6": {
          "model_module": "@jupyter-widgets/base",
          "model_name": "LayoutModel",
          "state": {
            "_view_name": "LayoutView",
            "grid_template_rows": null,
            "right": null,
            "justify_content": null,
            "_view_module": "@jupyter-widgets/base",
            "overflow": null,
            "_model_module_version": "1.2.0",
            "_view_count": null,
            "flex_flow": null,
            "width": null,
            "min_width": null,
            "border": null,
            "align_items": null,
            "bottom": null,
            "_model_module": "@jupyter-widgets/base",
            "top": null,
            "grid_column": null,
            "overflow_y": null,
            "overflow_x": null,
            "grid_auto_flow": null,
            "grid_area": null,
            "grid_template_columns": null,
            "flex": null,
            "_model_name": "LayoutModel",
            "justify_items": null,
            "grid_row": null,
            "max_height": null,
            "align_content": null,
            "visibility": null,
            "align_self": null,
            "height": null,
            "min_height": null,
            "padding": null,
            "grid_auto_rows": null,
            "grid_gap": null,
            "max_width": null,
            "order": null,
            "_view_module_version": "1.2.0",
            "grid_template_areas": null,
            "object_position": null,
            "object_fit": null,
            "grid_auto_columns": null,
            "margin": null,
            "display": null,
            "left": null
          }
        },
        "3a944aa931844ba68e59a5b53b3aaf3c": {
          "model_module": "@jupyter-widgets/controls",
          "model_name": "ButtonStyleModel",
          "state": {
            "_view_name": "StyleView",
            "_model_name": "ButtonStyleModel",
            "_view_module": "@jupyter-widgets/base",
            "_model_module_version": "1.5.0",
            "_view_count": null,
            "button_color": null,
            "font_weight": "",
            "_view_module_version": "1.2.0",
            "_model_module": "@jupyter-widgets/controls"
          }
        },
        "02766f14195643aabe09a791f893c385": {
          "model_module": "@jupyter-widgets/base",
          "model_name": "LayoutModel",
          "state": {
            "_view_name": "LayoutView",
            "grid_template_rows": null,
            "right": null,
            "justify_content": null,
            "_view_module": "@jupyter-widgets/base",
            "overflow": null,
            "_model_module_version": "1.2.0",
            "_view_count": null,
            "flex_flow": null,
            "width": null,
            "min_width": null,
            "border": null,
            "align_items": null,
            "bottom": null,
            "_model_module": "@jupyter-widgets/base",
            "top": null,
            "grid_column": null,
            "overflow_y": null,
            "overflow_x": null,
            "grid_auto_flow": null,
            "grid_area": null,
            "grid_template_columns": null,
            "flex": null,
            "_model_name": "LayoutModel",
            "justify_items": null,
            "grid_row": null,
            "max_height": null,
            "align_content": null,
            "visibility": null,
            "align_self": null,
            "height": null,
            "min_height": null,
            "padding": null,
            "grid_auto_rows": null,
            "grid_gap": null,
            "max_width": null,
            "order": null,
            "_view_module_version": "1.2.0",
            "grid_template_areas": null,
            "object_position": null,
            "object_fit": null,
            "grid_auto_columns": null,
            "margin": null,
            "display": null,
            "left": null
          }
        },
        "fe1f4328ecbd41a39c7eca3f5fa67567": {
          "model_module": "@jupyter-widgets/output",
          "model_name": "OutputModel",
          "state": {
            "_view_name": "OutputView",
            "msg_id": "",
            "_dom_classes": [],
            "_model_name": "OutputModel",
            "outputs": [
              {
                "output_type": "display_data",
                "metadata": {
                  "tags": []
                },
                "image/png": "iVBORw0KGgoAAAANSUhEUgAAAnUAAAH4CAYAAAAsMRvPAAAABHNCSVQICAgIfAhkiAAAAAlwSFlz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\nd1NPXwzvBQAAAABJRU5ErkJggg==\n",
                "text/plain": "<Figure size 720x576 with 1 Axes>"
              }
            ],
            "_view_module": "@jupyter-widgets/output",
            "_model_module_version": "1.0.0",
            "_view_count": null,
            "_view_module_version": "1.0.0",
            "layout": "IPY_MODEL_178c3b5efa744be1bd8c92b1c4211e58",
            "_model_module": "@jupyter-widgets/output"
          }
        },
        "2bc82c8e62ad43098c72a46096cc8c60": {
          "model_module": "@jupyter-widgets/controls",
          "model_name": "HBoxModel",
          "state": {
            "_view_name": "HBoxView",
            "_dom_classes": [],
            "_model_name": "HBoxModel",
            "_view_module": "@jupyter-widgets/controls",
            "_model_module_version": "1.5.0",
            "_view_count": null,
            "_view_module_version": "1.5.0",
            "box_style": "",
            "layout": "IPY_MODEL_2732698739c1464498fc60675ca42e3d",
            "_model_module": "@jupyter-widgets/controls",
            "children": [
              "IPY_MODEL_a00941f223724af1b86e7d52ed1daeb8",
              "IPY_MODEL_697194645b684491b86974148241b851"
            ]
          }
        },
        "2732698739c1464498fc60675ca42e3d": {
          "model_module": "@jupyter-widgets/base",
          "model_name": "LayoutModel",
          "state": {
            "_view_name": "LayoutView",
            "grid_template_rows": null,
            "right": null,
            "justify_content": null,
            "_view_module": "@jupyter-widgets/base",
            "overflow": null,
            "_model_module_version": "1.2.0",
            "_view_count": null,
            "flex_flow": null,
            "width": null,
            "min_width": null,
            "border": null,
            "align_items": null,
            "bottom": null,
            "_model_module": "@jupyter-widgets/base",
            "top": null,
            "grid_column": null,
            "overflow_y": null,
            "overflow_x": null,
            "grid_auto_flow": null,
            "grid_area": null,
            "grid_template_columns": null,
            "flex": null,
            "_model_name": "LayoutModel",
            "justify_items": null,
            "grid_row": null,
            "max_height": null,
            "align_content": null,
            "visibility": null,
            "align_self": null,
            "height": null,
            "min_height": null,
            "padding": null,
            "grid_auto_rows": null,
            "grid_gap": null,
            "max_width": null,
            "order": null,
            "_view_module_version": "1.2.0",
            "grid_template_areas": null,
            "object_position": null,
            "object_fit": null,
            "grid_auto_columns": null,
            "margin": null,
            "display": null,
            "left": null
          }
        },
        "a00941f223724af1b86e7d52ed1daeb8": {
          "model_module": "@jupyter-widgets/controls",
          "model_name": "DropdownModel",
          "state": {
            "_options_labels": [
              "gaussian",
              "tophat",
              "epanechnikov",
              "exponential",
              "linear",
              "cosine"
            ],
            "_view_name": "DropdownView",
            "style": "IPY_MODEL_4331459952aa4dcba5def9293eb4ba67",
            "_dom_classes": [],
            "description": "Kernel:",
            "_model_name": "DropdownModel",
            "index": 0,
            "_view_module": "@jupyter-widgets/controls",
            "_model_module_version": "1.5.0",
            "_view_count": null,
            "disabled": false,
            "_view_module_version": "1.5.0",
            "description_tooltip": null,
            "_model_module": "@jupyter-widgets/controls",
            "layout": "IPY_MODEL_d3315b83c649407a900881c2817f4f7e"
          }
        },
        "697194645b684491b86974148241b851": {
          "model_module": "@jupyter-widgets/controls",
          "model_name": "VBoxModel",
          "state": {
            "_view_name": "VBoxView",
            "_dom_classes": [],
            "_model_name": "VBoxModel",
            "_view_module": "@jupyter-widgets/controls",
            "_model_module_version": "1.5.0",
            "_view_count": null,
            "_view_module_version": "1.5.0",
            "box_style": "",
            "layout": "IPY_MODEL_cd7220637e82419cb83b7060ee3de9e6",
            "_model_module": "@jupyter-widgets/controls",
            "children": [
              "IPY_MODEL_42dfdc8419fd42708603611c686bbe4d",
              "IPY_MODEL_9405f1a47eeb4718a64a6b0b83c71d60"
            ]
          }
        },
        "4331459952aa4dcba5def9293eb4ba67": {
          "model_module": "@jupyter-widgets/controls",
          "model_name": "DescriptionStyleModel",
          "state": {
            "_view_name": "StyleView",
            "_model_name": "DescriptionStyleModel",
            "description_width": "",
            "_view_module": "@jupyter-widgets/base",
            "_model_module_version": "1.5.0",
            "_view_count": null,
            "_view_module_version": "1.2.0",
            "_model_module": "@jupyter-widgets/controls"
          }
        },
        "d3315b83c649407a900881c2817f4f7e": {
          "model_module": "@jupyter-widgets/base",
          "model_name": "LayoutModel",
          "state": {
            "_view_name": "LayoutView",
            "grid_template_rows": null,
            "right": null,
            "justify_content": null,
            "_view_module": "@jupyter-widgets/base",
            "overflow": null,
            "_model_module_version": "1.2.0",
            "_view_count": null,
            "flex_flow": null,
            "width": null,
            "min_width": null,
            "border": null,
            "align_items": null,
            "bottom": null,
            "_model_module": "@jupyter-widgets/base",
            "top": null,
            "grid_column": null,
            "overflow_y": null,
            "overflow_x": null,
            "grid_auto_flow": null,
            "grid_area": null,
            "grid_template_columns": null,
            "flex": null,
            "_model_name": "LayoutModel",
            "justify_items": null,
            "grid_row": null,
            "max_height": null,
            "align_content": null,
            "visibility": null,
            "align_self": null,
            "height": null,
            "min_height": null,
            "padding": null,
            "grid_auto_rows": null,
            "grid_gap": null,
            "max_width": null,
            "order": null,
            "_view_module_version": "1.2.0",
            "grid_template_areas": null,
            "object_position": null,
            "object_fit": null,
            "grid_auto_columns": null,
            "margin": null,
            "display": null,
            "left": null
          }
        },
        "cd7220637e82419cb83b7060ee3de9e6": {
          "model_module": "@jupyter-widgets/base",
          "model_name": "LayoutModel",
          "state": {
            "_view_name": "LayoutView",
            "grid_template_rows": null,
            "right": null,
            "justify_content": null,
            "_view_module": "@jupyter-widgets/base",
            "overflow": null,
            "_model_module_version": "1.2.0",
            "_view_count": null,
            "flex_flow": null,
            "width": null,
            "min_width": null,
            "border": null,
            "align_items": null,
            "bottom": null,
            "_model_module": "@jupyter-widgets/base",
            "top": null,
            "grid_column": null,
            "overflow_y": null,
            "overflow_x": null,
            "grid_auto_flow": null,
            "grid_area": null,
            "grid_template_columns": null,
            "flex": null,
            "_model_name": "LayoutModel",
            "justify_items": null,
            "grid_row": null,
            "max_height": null,
            "align_content": null,
            "visibility": null,
            "align_self": null,
            "height": null,
            "min_height": null,
            "padding": null,
            "grid_auto_rows": null,
            "grid_gap": null,
            "max_width": null,
            "order": null,
            "_view_module_version": "1.2.0",
            "grid_template_areas": null,
            "object_position": null,
            "object_fit": null,
            "grid_auto_columns": null,
            "margin": null,
            "display": null,
            "left": null
          }
        },
        "42dfdc8419fd42708603611c686bbe4d": {
          "model_module": "@jupyter-widgets/controls",
          "model_name": "FloatSliderModel",
          "state": {
            "_view_name": "FloatSliderView",
            "style": "IPY_MODEL_219479c3c82e46e788181428aa15c4dd",
            "_dom_classes": [],
            "description": "bandwidth",
            "step": 0.1,
            "_model_name": "FloatSliderModel",
            "orientation": "horizontal",
            "max": 50,
            "_view_module": "@jupyter-widgets/controls",
            "_model_module_version": "1.5.0",
            "value": 15.0001,
            "_view_count": null,
            "disabled": false,
            "_view_module_version": "1.5.0",
            "min": 1,
            "continuous_update": true,
            "readout_format": ".2f",
            "description_tooltip": null,
            "readout": true,
            "_model_module": "@jupyter-widgets/controls",
            "layout": "IPY_MODEL_725deaa4258149188f13702d83303346"
          }
        },
        "9405f1a47eeb4718a64a6b0b83c71d60": {
          "model_module": "@jupyter-widgets/controls",
          "model_name": "HBoxModel",
          "state": {
            "_view_name": "HBoxView",
            "_dom_classes": [],
            "_model_name": "HBoxModel",
            "_view_module": "@jupyter-widgets/controls",
            "_model_module_version": "1.5.0",
            "_view_count": null,
            "_view_module_version": "1.5.0",
            "box_style": "",
            "layout": "IPY_MODEL_1fb8c9cee1b841ed88d5e1b7fa19c12a",
            "_model_module": "@jupyter-widgets/controls",
            "children": [
              "IPY_MODEL_945fdf83ffc74acbb409028d445ac34b",
              "IPY_MODEL_548d3c6eb7634d74941745b5b092319e",
              "IPY_MODEL_0e44aae635634340ba798d639964d19e"
            ]
          }
        },
        "219479c3c82e46e788181428aa15c4dd": {
          "model_module": "@jupyter-widgets/controls",
          "model_name": "SliderStyleModel",
          "state": {
            "_view_name": "StyleView",
            "handle_color": null,
            "_model_name": "SliderStyleModel",
            "description_width": "",
            "_view_module": "@jupyter-widgets/base",
            "_model_module_version": "1.5.0",
            "_view_count": null,
            "_view_module_version": "1.2.0",
            "_model_module": "@jupyter-widgets/controls"
          }
        },
        "725deaa4258149188f13702d83303346": {
          "model_module": "@jupyter-widgets/base",
          "model_name": "LayoutModel",
          "state": {
            "_view_name": "LayoutView",
            "grid_template_rows": null,
            "right": null,
            "justify_content": null,
            "_view_module": "@jupyter-widgets/base",
            "overflow": null,
            "_model_module_version": "1.2.0",
            "_view_count": null,
            "flex_flow": null,
            "width": null,
            "min_width": null,
            "border": null,
            "align_items": null,
            "bottom": null,
            "_model_module": "@jupyter-widgets/base",
            "top": null,
            "grid_column": null,
            "overflow_y": null,
            "overflow_x": null,
            "grid_auto_flow": null,
            "grid_area": null,
            "grid_template_columns": null,
            "flex": null,
            "_model_name": "LayoutModel",
            "justify_items": null,
            "grid_row": null,
            "max_height": null,
            "align_content": null,
            "visibility": null,
            "align_self": null,
            "height": null,
            "min_height": null,
            "padding": null,
            "grid_auto_rows": null,
            "grid_gap": null,
            "max_width": null,
            "order": null,
            "_view_module_version": "1.2.0",
            "grid_template_areas": null,
            "object_position": null,
            "object_fit": null,
            "grid_auto_columns": null,
            "margin": null,
            "display": null,
            "left": null
          }
        },
        "1fb8c9cee1b841ed88d5e1b7fa19c12a": {
          "model_module": "@jupyter-widgets/base",
          "model_name": "LayoutModel",
          "state": {
            "_view_name": "LayoutView",
            "grid_template_rows": null,
            "right": null,
            "justify_content": null,
            "_view_module": "@jupyter-widgets/base",
            "overflow": null,
            "_model_module_version": "1.2.0",
            "_view_count": null,
            "flex_flow": null,
            "width": null,
            "min_width": null,
            "border": null,
            "align_items": null,
            "bottom": null,
            "_model_module": "@jupyter-widgets/base",
            "top": null,
            "grid_column": null,
            "overflow_y": null,
            "overflow_x": null,
            "grid_auto_flow": null,
            "grid_area": null,
            "grid_template_columns": null,
            "flex": null,
            "_model_name": "LayoutModel",
            "justify_items": null,
            "grid_row": null,
            "max_height": null,
            "align_content": null,
            "visibility": null,
            "align_self": null,
            "height": null,
            "min_height": null,
            "padding": null,
            "grid_auto_rows": null,
            "grid_gap": null,
            "max_width": null,
            "order": null,
            "_view_module_version": "1.2.0",
            "grid_template_areas": null,
            "object_position": null,
            "object_fit": null,
            "grid_auto_columns": null,
            "margin": null,
            "display": null,
            "left": null
          }
        },
        "945fdf83ffc74acbb409028d445ac34b": {
          "model_module": "@jupyter-widgets/controls",
          "model_name": "ButtonModel",
          "state": {
            "_view_name": "ButtonView",
            "style": "IPY_MODEL_071784b934104dacabfc493f0059bd33",
            "_dom_classes": [],
            "description": "Silverman",
            "_model_name": "ButtonModel",
            "button_style": "",
            "_view_module": "@jupyter-widgets/controls",
            "_model_module_version": "1.5.0",
            "tooltip": "",
            "_view_count": null,
            "disabled": false,
            "_view_module_version": "1.5.0",
            "layout": "IPY_MODEL_3c17f4480dd94342ae12023e521e9ef1",
            "_model_module": "@jupyter-widgets/controls",
            "icon": ""
          }
        },
        "548d3c6eb7634d74941745b5b092319e": {
          "model_module": "@jupyter-widgets/controls",
          "model_name": "ButtonModel",
          "state": {
            "_view_name": "ButtonView",
            "style": "IPY_MODEL_2b65ee5c19674fe29e216189599c65be",
            "_dom_classes": [],
            "description": "ISJ",
            "_model_name": "ButtonModel",
            "button_style": "",
            "_view_module": "@jupyter-widgets/controls",
            "_model_module_version": "1.5.0",
            "tooltip": "",
            "_view_count": null,
            "disabled": false,
            "_view_module_version": "1.5.0",
            "layout": "IPY_MODEL_df5b3a74461b4fdaaac12115ab218941",
            "_model_module": "@jupyter-widgets/controls",
            "icon": ""
          }
        },
        "0e44aae635634340ba798d639964d19e": {
          "model_module": "@jupyter-widgets/controls",
          "model_name": "ButtonModel",
          "state": {
            "_view_name": "ButtonView",
            "style": "IPY_MODEL_f412815460994f279ab8910700fc459d",
            "_dom_classes": [],
            "description": "Cross Validation",
            "_model_name": "ButtonModel",
            "button_style": "",
            "_view_module": "@jupyter-widgets/controls",
            "_model_module_version": "1.5.0",
            "tooltip": "",
            "_view_count": null,
            "disabled": false,
            "_view_module_version": "1.5.0",
            "layout": "IPY_MODEL_52cb445b9e894bb884e3d1044a1f621e",
            "_model_module": "@jupyter-widgets/controls",
            "icon": ""
          }
        },
        "071784b934104dacabfc493f0059bd33": {
          "model_module": "@jupyter-widgets/controls",
          "model_name": "ButtonStyleModel",
          "state": {
            "_view_name": "StyleView",
            "_model_name": "ButtonStyleModel",
            "_view_module": "@jupyter-widgets/base",
            "_model_module_version": "1.5.0",
            "_view_count": null,
            "button_color": null,
            "font_weight": "",
            "_view_module_version": "1.2.0",
            "_model_module": "@jupyter-widgets/controls"
          }
        },
        "3c17f4480dd94342ae12023e521e9ef1": {
          "model_module": "@jupyter-widgets/base",
          "model_name": "LayoutModel",
          "state": {
            "_view_name": "LayoutView",
            "grid_template_rows": null,
            "right": null,
            "justify_content": null,
            "_view_module": "@jupyter-widgets/base",
            "overflow": null,
            "_model_module_version": "1.2.0",
            "_view_count": null,
            "flex_flow": null,
            "width": null,
            "min_width": null,
            "border": null,
            "align_items": null,
            "bottom": null,
            "_model_module": "@jupyter-widgets/base",
            "top": null,
            "grid_column": null,
            "overflow_y": null,
            "overflow_x": null,
            "grid_auto_flow": null,
            "grid_area": null,
            "grid_template_columns": null,
            "flex": null,
            "_model_name": "LayoutModel",
            "justify_items": null,
            "grid_row": null,
            "max_height": null,
            "align_content": null,
            "visibility": null,
            "align_self": null,
            "height": null,
            "min_height": null,
            "padding": null,
            "grid_auto_rows": null,
            "grid_gap": null,
            "max_width": null,
            "order": null,
            "_view_module_version": "1.2.0",
            "grid_template_areas": null,
            "object_position": null,
            "object_fit": null,
            "grid_auto_columns": null,
            "margin": null,
            "display": null,
            "left": null
          }
        },
        "2b65ee5c19674fe29e216189599c65be": {
          "model_module": "@jupyter-widgets/controls",
          "model_name": "ButtonStyleModel",
          "state": {
            "_view_name": "StyleView",
            "_model_name": "ButtonStyleModel",
            "_view_module": "@jupyter-widgets/base",
            "_model_module_version": "1.5.0",
            "_view_count": null,
            "button_color": null,
            "font_weight": "",
            "_view_module_version": "1.2.0",
            "_model_module": "@jupyter-widgets/controls"
          }
        },
        "df5b3a74461b4fdaaac12115ab218941": {
          "model_module": "@jupyter-widgets/base",
          "model_name": "LayoutModel",
          "state": {
            "_view_name": "LayoutView",
            "grid_template_rows": null,
            "right": null,
            "justify_content": null,
            "_view_module": "@jupyter-widgets/base",
            "overflow": null,
            "_model_module_version": "1.2.0",
            "_view_count": null,
            "flex_flow": null,
            "width": null,
            "min_width": null,
            "border": null,
            "align_items": null,
            "bottom": null,
            "_model_module": "@jupyter-widgets/base",
            "top": null,
            "grid_column": null,
            "overflow_y": null,
            "overflow_x": null,
            "grid_auto_flow": null,
            "grid_area": null,
            "grid_template_columns": null,
            "flex": null,
            "_model_name": "LayoutModel",
            "justify_items": null,
            "grid_row": null,
            "max_height": null,
            "align_content": null,
            "visibility": null,
            "align_self": null,
            "height": null,
            "min_height": null,
            "padding": null,
            "grid_auto_rows": null,
            "grid_gap": null,
            "max_width": null,
            "order": null,
            "_view_module_version": "1.2.0",
            "grid_template_areas": null,
            "object_position": null,
            "object_fit": null,
            "grid_auto_columns": null,
            "margin": null,
            "display": null,
            "left": null
          }
        },
        "f412815460994f279ab8910700fc459d": {
          "model_module": "@jupyter-widgets/controls",
          "model_name": "ButtonStyleModel",
          "state": {
            "_view_name": "StyleView",
            "_model_name": "ButtonStyleModel",
            "_view_module": "@jupyter-widgets/base",
            "_model_module_version": "1.5.0",
            "_view_count": null,
            "button_color": null,
            "font_weight": "",
            "_view_module_version": "1.2.0",
            "_model_module": "@jupyter-widgets/controls"
          }
        },
        "52cb445b9e894bb884e3d1044a1f621e": {
          "model_module": "@jupyter-widgets/base",
          "model_name": "LayoutModel",
          "state": {
            "_view_name": "LayoutView",
            "grid_template_rows": null,
            "right": null,
            "justify_content": null,
            "_view_module": "@jupyter-widgets/base",
            "overflow": null,
            "_model_module_version": "1.2.0",
            "_view_count": null,
            "flex_flow": null,
            "width": null,
            "min_width": null,
            "border": null,
            "align_items": null,
            "bottom": null,
            "_model_module": "@jupyter-widgets/base",
            "top": null,
            "grid_column": null,
            "overflow_y": null,
            "overflow_x": null,
            "grid_auto_flow": null,
            "grid_area": null,
            "grid_template_columns": null,
            "flex": null,
            "_model_name": "LayoutModel",
            "justify_items": null,
            "grid_row": null,
            "max_height": null,
            "align_content": null,
            "visibility": null,
            "align_self": null,
            "height": null,
            "min_height": null,
            "padding": null,
            "grid_auto_rows": null,
            "grid_gap": null,
            "max_width": null,
            "order": null,
            "_view_module_version": "1.2.0",
            "grid_template_areas": null,
            "object_position": null,
            "object_fit": null,
            "grid_auto_columns": null,
            "margin": null,
            "display": null,
            "left": null
          }
        },
        "5cbfe727c5c94688b2444cbe30bdf8dc": {
          "model_module": "@jupyter-widgets/output",
          "model_name": "OutputModel",
          "state": {
            "_view_name": "OutputView",
            "msg_id": "",
            "_dom_classes": [],
            "_model_name": "OutputModel",
            "outputs": [
              {
                "output_type": "stream",
                "metadata": {
                  "tags": []
                },
                "text": "[0.3333333333333333, 0.3333333333333333, 0.3333333333333333]\n",
                "stream": "stdout"
              }
            ],
            "_view_module": "@jupyter-widgets/output",
            "_model_module_version": "1.0.0",
            "_view_count": null,
            "_view_module_version": "1.0.0",
            "layout": "IPY_MODEL_d232320869564c5ab0c4c124f5ab745a",
            "_model_module": "@jupyter-widgets/output"
          }
        },
        "d232320869564c5ab0c4c124f5ab745a": {
          "model_module": "@jupyter-widgets/base",
          "model_name": "LayoutModel",
          "state": {
            "_view_name": "LayoutView",
            "grid_template_rows": null,
            "right": null,
            "justify_content": null,
            "_view_module": "@jupyter-widgets/base",
            "overflow": null,
            "_model_module_version": "1.2.0",
            "_view_count": null,
            "flex_flow": null,
            "width": null,
            "min_width": null,
            "border": null,
            "align_items": null,
            "bottom": null,
            "_model_module": "@jupyter-widgets/base",
            "top": null,
            "grid_column": null,
            "overflow_y": null,
            "overflow_x": null,
            "grid_auto_flow": null,
            "grid_area": null,
            "grid_template_columns": null,
            "flex": null,
            "_model_name": "LayoutModel",
            "justify_items": null,
            "grid_row": null,
            "max_height": null,
            "align_content": null,
            "visibility": null,
            "align_self": null,
            "height": null,
            "min_height": null,
            "padding": null,
            "grid_auto_rows": null,
            "grid_gap": null,
            "max_width": null,
            "order": null,
            "_view_module_version": "1.2.0",
            "grid_template_areas": null,
            "object_position": null,
            "object_fit": null,
            "grid_auto_columns": null,
            "margin": null,
            "display": null,
            "left": null
          }
        }
      }
    }
  },
  "cells": [
    {
      "cell_type": "markdown",
      "metadata": {
        "id": "view-in-github",
        "colab_type": "text"
      },
      "source": [
        "<a href=\"https://colab.research.google.com/github/fbeilstein/machine_learning/blob/master/workbook_15_kernel_density_estimation.ipynb\" target=\"_parent\"><img src=\"https://colab.research.google.com/assets/colab-badge.svg\" alt=\"Open In Colab\"/></a>"
      ]
    },
    {
      "cell_type": "markdown",
      "metadata": {
        "id": "-kqkuvkFAFll",
        "colab_type": "text"
      },
      "source": [
        "#Bandwidth and kernel influence on 1D KDE"
      ]
    },
    {
      "cell_type": "markdown",
      "metadata": {
        "id": "DBOKZhb7oGvY",
        "colab_type": "text"
      },
      "source": [
        "The following demo uses KDEpy library for Silverman's and ISJ bandwidth estimation methods.\n",
        "Start this code to install it:"
      ]
    },
    {
      "cell_type": "code",
      "metadata": {
        "id": "8UvovqjzWjFO",
        "colab_type": "code",
        "colab": {
          "base_uri": "https://localhost:8080/",
          "height": 258
        },
        "outputId": "c1300660-8ffd-4c05-f547-79666ac43bf0"
      },
      "source": [
        "# install KDEpy library before starting the following demo\n",
        "!pip install KDEpy"
      ],
      "execution_count": 1,
      "outputs": [
        {
          "output_type": "stream",
          "text": [
            "Collecting KDEpy\n",
            "\u001b[?25l  Downloading https://files.pythonhosted.org/packages/d5/a2/8c07773c71ef2e6de288fd274cc874f876764ef834849e0418fa375e0123/KDEpy-1.0.5-cp36-cp36m-manylinux2010_x86_64.whl (396kB)\n",
            "\r\u001b[K     |▉                               | 10kB 17.3MB/s eta 0:00:01\r\u001b[K     |█▋                              | 20kB 2.1MB/s eta 0:00:01\r\u001b[K     |██▌                             | 30kB 2.5MB/s eta 0:00:01\r\u001b[K     |███▎                            | 40kB 2.8MB/s eta 0:00:01\r\u001b[K     |████▏                           | 51kB 2.4MB/s eta 0:00:01\r\u001b[K     |█████                           | 61kB 2.7MB/s eta 0:00:01\r\u001b[K     |█████▉                          | 71kB 3.0MB/s eta 0:00:01\r\u001b[K     |██████▋                         | 81kB 3.3MB/s eta 0:00:01\r\u001b[K     |███████▍                        | 92kB 3.5MB/s eta 0:00:01\r\u001b[K     |████████▎                       | 102kB 3.4MB/s eta 0:00:01\r\u001b[K     |█████████                       | 112kB 3.4MB/s eta 0:00:01\r\u001b[K     |██████████                      | 122kB 3.4MB/s eta 0:00:01\r\u001b[K     |██████████▊                     | 133kB 3.4MB/s eta 0:00:01\r\u001b[K     |███████████▋                    | 143kB 3.4MB/s eta 0:00:01\r\u001b[K     |████████████▍                   | 153kB 3.4MB/s eta 0:00:01\r\u001b[K     |█████████████▎                  | 163kB 3.4MB/s eta 0:00:01\r\u001b[K     |██████████████                  | 174kB 3.4MB/s eta 0:00:01\r\u001b[K     |██████████████▉                 | 184kB 3.4MB/s eta 0:00:01\r\u001b[K     |███████████████▊                | 194kB 3.4MB/s eta 0:00:01\r\u001b[K     |████████████████▌               | 204kB 3.4MB/s eta 0:00:01\r\u001b[K     |█████████████████▍              | 215kB 3.4MB/s eta 0:00:01\r\u001b[K     |██████████████████▏             | 225kB 3.4MB/s eta 0:00:01\r\u001b[K     |███████████████████             | 235kB 3.4MB/s eta 0:00:01\r\u001b[K     |███████████████████▉            | 245kB 3.4MB/s eta 0:00:01\r\u001b[K     |████████████████████▋           | 256kB 3.4MB/s eta 0:00:01\r\u001b[K     |█████████████████████▌          | 266kB 3.4MB/s eta 0:00:01\r\u001b[K     |██████████████████████▎         | 276kB 3.4MB/s eta 0:00:01\r\u001b[K     |███████████████████████▏        | 286kB 3.4MB/s eta 0:00:01\r\u001b[K     |████████████████████████        | 296kB 3.4MB/s eta 0:00:01\r\u001b[K     |████████████████████████▉       | 307kB 3.4MB/s eta 0:00:01\r\u001b[K     |█████████████████████████▋      | 317kB 3.4MB/s eta 0:00:01\r\u001b[K     |██████████████████████████▌     | 327kB 3.4MB/s eta 0:00:01\r\u001b[K     |███████████████████████████▎    | 337kB 3.4MB/s eta 0:00:01\r\u001b[K     |████████████████████████████    | 348kB 3.4MB/s eta 0:00:01\r\u001b[K     |█████████████████████████████   | 358kB 3.4MB/s eta 0:00:01\r\u001b[K     |█████████████████████████████▊  | 368kB 3.4MB/s eta 0:00:01\r\u001b[K     |██████████████████████████████▋ | 378kB 3.4MB/s eta 0:00:01\r\u001b[K     |███████████████████████████████▍| 389kB 3.4MB/s eta 0:00:01\r\u001b[K     |████████████████████████████████| 399kB 3.4MB/s \n",
            "\u001b[?25hRequirement already satisfied: scipy>=1.0.1 in /usr/local/lib/python3.6/dist-packages (from KDEpy) (1.4.1)\n",
            "Requirement already satisfied: matplotlib>=2.2.0 in /usr/local/lib/python3.6/dist-packages (from KDEpy) (3.2.2)\n",
            "Requirement already satisfied: numpy>=1.14.2 in /usr/local/lib/python3.6/dist-packages (from KDEpy) (1.18.5)\n",
            "Requirement already satisfied: pyparsing!=2.0.4,!=2.1.2,!=2.1.6,>=2.0.1 in /usr/local/lib/python3.6/dist-packages (from matplotlib>=2.2.0->KDEpy) (2.4.7)\n",
            "Requirement already satisfied: cycler>=0.10 in /usr/local/lib/python3.6/dist-packages (from matplotlib>=2.2.0->KDEpy) (0.10.0)\n",
            "Requirement already satisfied: python-dateutil>=2.1 in /usr/local/lib/python3.6/dist-packages (from matplotlib>=2.2.0->KDEpy) (2.8.1)\n",
            "Requirement already satisfied: kiwisolver>=1.0.1 in /usr/local/lib/python3.6/dist-packages (from matplotlib>=2.2.0->KDEpy) (1.2.0)\n",
            "Requirement already satisfied: six in /usr/local/lib/python3.6/dist-packages (from cycler>=0.10->matplotlib>=2.2.0->KDEpy) (1.15.0)\n",
            "Installing collected packages: KDEpy\n",
            "Successfully installed KDEpy-1.0.5\n"
          ],
          "name": "stdout"
        }
      ]
    },
    {
      "cell_type": "markdown",
      "metadata": {
        "id": "2DTeu9JloX_n",
        "colab_type": "text"
      },
      "source": [
        "Use the following demo to get the intuition on \n",
        "* How one-dimensional KDE works\n",
        "* How bandwidth influences the result\n",
        "* How good different methods (Silverman, ISJ, Cross validation) estimate the bandwidth"
      ]
    },
    {
      "cell_type": "code",
      "metadata": {
        "id": "bbkM8uul3yK9",
        "colab_type": "code",
        "cellView": "form",
        "colab": {
          "resources": {
            "http://localhost:8080/nbextensions/google.colab/tabbar.css": {
              "data": "Lmdvb2ctdGFie3Bvc2l0aW9uOnJlbGF0aXZlO3BhZGRpbmc6NHB4IDhweDtjb2xvcjojMDBjO3RleHQtZGVjb3JhdGlvbjp1bmRlcmxpbmU7Y3Vyc29yOmRlZmF1bHR9Lmdvb2ctdGFiLWJhci10b3AgLmdvb2ctdGFie21hcmdpbjoxcHggNHB4IDAgMDtib3JkZXItYm90dG9tOjA7ZmxvYXQ6bGVmdH0uZ29vZy10YWItYmFyLXRvcDphZnRlciwuZ29vZy10YWItYmFyLWJvdHRvbTphZnRlcntjb250ZW50OiIgIjtkaXNwbGF5OmJsb2NrO2hlaWdodDowO2NsZWFyOmJvdGg7dmlzaWJpbGl0eTpoaWRkZW59Lmdvb2ctdGFiLWJhci1ib3R0b20gLmdvb2ctdGFie21hcmdpbjowIDRweCAxcHggMDtib3JkZXItdG9wOjA7ZmxvYXQ6bGVmdH0uZ29vZy10YWItYmFyLXN0YXJ0IC5nb29nLXRhYnttYXJnaW46MCAwIDRweCAxcHg7Ym9yZGVyLXJpZ2h0OjB9Lmdvb2ctdGFiLWJhci1lbmQgLmdvb2ctdGFie21hcmdpbjowIDFweCA0cHggMDtib3JkZXItbGVmdDowfS5nb29nLXRhYi1ob3ZlcntiYWNrZ3JvdW5kOiNlZWV9Lmdvb2ctdGFiLWRpc2FibGVke2NvbG9yOiM2NjZ9Lmdvb2ctdGFiLXNlbGVjdGVke2NvbG9yOiMwMDA7YmFja2dyb3VuZDojZmZmO3RleHQtZGVjb3JhdGlvbjpub25lO2ZvbnQtd2VpZ2h0OmJvbGQ7Ym9yZGVyOjFweCBzb2xpZCAjNmI5MGRhfS5nb29nLXRhYi1iYXItdG9we3BhZGRpbmctdG9wOjVweCFpbXBvcnRhbnQ7cGFkZGluZy1sZWZ0OjVweCFpbXBvcnRhbnQ7Ym9yZGVyLWJvdHRvbToxcHggc29saWQgIzZiOTBkYSFpbXBvcnRhbnR9Lmdvb2ctdGFiLWJhci10b3AgLmdvb2ctdGFiLXNlbGVjdGVke3RvcDoxcHg7bWFyZ2luLXRvcDowO3BhZGRpbmctYm90dG9tOjVweH0uZ29vZy10YWItYmFyLWJvdHRvbSAuZ29vZy10YWItc2VsZWN0ZWR7dG9wOi0xcHg7bWFyZ2luLWJvdHRvbTowO3BhZGRpbmctdG9wOjVweH0uZ29vZy10YWItYmFyLXN0YXJ0IC5nb29nLXRhYi1zZWxlY3RlZHtsZWZ0OjFweDttYXJnaW4tbGVmdDowO3BhZGRpbmctcmlnaHQ6OXB4fS5nb29nLXRhYi1iYXItZW5kIC5nb29nLXRhYi1zZWxlY3RlZHtsZWZ0Oi0xcHg7bWFyZ2luLXJpZ2h0OjA7cGFkZGluZy1sZWZ0OjlweH0uZ29vZy10YWItYmFye21hcmdpbjowO2JvcmRlcjowO3BhZGRpbmc6MDtsaXN0LXN0eWxlOm5vbmU7Y3Vyc29yOmRlZmF1bHQ7b3V0bGluZTpub25lO2JhY2tncm91bmQ6I2ViZWZmOX0uZ29vZy10YWItYmFyLWNsZWFye2NsZWFyOmJvdGg7aGVpZ2h0OjA7b3ZlcmZsb3c6aGlkZGVufS5nb29nLXRhYi1iYXItc3RhcnR7ZmxvYXQ6bGVmdH0uZ29vZy10YWItYmFyLWVuZHtmbG9hdDpyaWdodH0qIGh0bWwgLmdvb2ctdGFiLWJhci1zdGFydHttYXJnaW4tcmlnaHQ6LTNweH0qIGh0bWwgLmdvb2ctdGFiLWJhci1lbmR7bWFyZ2luLWxlZnQ6LTNweH0=",
              "ok": true,
              "headers": [
                [
                  "content-type",
                  "text/css"
                ]
              ],
              "status": 200,
              "status_text": ""
            },
            "http://localhost:8080/nbextensions/google.colab/tabbar_main.min.js": {
              "data": "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",
              "ok": true,
              "headers": [
                [
                  "content-type",
                  "application/javascript"
                ]
              ],
              "status": 200,
              "status_text": ""
            }
          },
          "base_uri": "https://localhost:8080/",
          "height": 625,
          "referenced_widgets": [
            "66a20a388d3845a68c858ce24894b033",
            "1e08e8035f874306930df4a6a7bb600d",
            "11871a86c71a4b349df594f20e84261b",
            "61e71d6fca964011ae68ce5d983003af",
            "018ae4307f2d4ec2ae0ed4e8e306f66d",
            "5a41977f86ab426db53d844d52fff158",
            "42dd053d95d94d31b38e3b0563a37c03",
            "cc491a5b834543d6aaeb961c35917ff3",
            "a3c7c1c3a19f4e90901963d79ce6d75d",
            "f4e29514ee644def9dc628f4136c410d",
            "35c75543095545ed83d2676a6e1e9e8a",
            "cf50dcb786644f5fb5be682c4020b135",
            "7aa38ba7ba4c4419b1c2a67add10491b",
            "4be3e48e6b6f4cf4a5a2e1b92658fd2e",
            "c217825afec34668b3519b2b48f13fff",
            "6e8bf725614247fd99c93ccd6af5e028",
            "975af774fba1403594dde3d53824c4cd",
            "ca3a558f3afa4d0fb19ce9b6a13a0088",
            "302751e3944d429ab057912a05632f31",
            "797071998b594cb18c3fe9c50437fa9b",
            "66bb7dca9b7b48798737a89f5ce9132c",
            "18e709a0bc4044b8a0aaca5f0c6be216",
            "29750339921649f1a2534873295137be",
            "9cdef23175404c2cb6b2417a55baa523",
            "0b54e8123e6d499e9785d15ef7317415",
            "6f9d2a3a68fc43598ee38f0750bcfff3",
            "3ce4b84eb15847939bc462e010ab02df",
            "575c8297e00848f0878b8bad72ddbb55",
            "f22d0dff0a414957b72b4dda10b76758",
            "a287e33a673d49d8b869d73069ee61a0",
            "2bdf408a797547f7aaed527bc5750b29",
            "9d7efaabbcc94fca9fc83c788678da9a",
            "8228883aa92c48bda37807b3b46638de",
            "15593f13d61344788c6704a11b0c4e91",
            "628fd72cb957443eac5fa5f7343632b7",
            "889dd41f97dc43788e0263270b0b18e0",
            "64e6ae31734b47909c1c9724de8d244b",
            "c0da5ec80cb14906940c11d9f02bd47f",
            "5eb46453655b459c90320c5670da75af",
            "53a89810a50148e29c301e721d76d6c6",
            "9a48437956684141b1d02a5debcfbb27",
            "e3a57bbc312d4d59bdda23dd4ed598ec",
            "d05527c6592a498585272cdb5132f48b",
            "f5079473b8eb4063a529f3830288eca1",
            "d382995540e04dbeb07adf9fb27c6928",
            "4f3dbdcd190944ea964800774f8091c0",
            "b2f702ffc4514c9ab825363e8cf9fe6b",
            "e991736567c940a8bcf8873ebfffab10",
            "92e38e152bfc4ca781d5173ef3ae2dd9",
            "232ce04d848b4f35af0a33330b816776",
            "48b5c7b0dec64fb1818b75eb6ab805e6",
            "3a944aa931844ba68e59a5b53b3aaf3c",
            "02766f14195643aabe09a791f893c385",
            "fe1f4328ecbd41a39c7eca3f5fa67567",
            "e3dd371b917a415cbbf569840f2fd8fe",
            "178c3b5efa744be1bd8c92b1c4211e58"
          ]
        },
        "outputId": "c24d6c07-5146-4aac-eecf-944b7f8c3662"
      },
      "source": [
        "#@title Bandwidth and kernel in KDE\n",
        "from google.colab import widgets\n",
        "import ipywidgets\n",
        "import numpy as np\n",
        "import matplotlib.pyplot as plt\n",
        "import scipy\n",
        "from sklearn.neighbors import KernelDensity\n",
        "from sklearn.model_selection import learning_curve, GridSearchCV\n",
        "from sklearn.model_selection import LeaveOneOut #train_test_split\n",
        "from KDEpy import FFTKDE\n",
        "\n",
        "\n",
        "params = []\n",
        "X = []\n",
        "b_w = ipywidgets.FloatSlider(description='bandwidth', min=1, max=50.0, value=15.0)\n",
        "ker_type = ipywidgets.Dropdown(\n",
        "  options=['gaussian', 'tophat', 'epanechnikov', 'exponential','linear','cosine'],\n",
        "  value='gaussian',\n",
        "  description='Kernel:',\n",
        "  disabled=False)\n",
        "\n",
        "def set_slider(x):\n",
        "  bandwidths = np.linspace(b_w.min, b_w.max, 100)\n",
        "  loo = LeaveOneOut()\n",
        "  grid = GridSearchCV(KernelDensity(kernel=ker_type.value), {'bandwidth': bandwidths}, cv=loo)\n",
        "  grid.fit(np.array(X)[:, None]);\n",
        "  b_w.value = grid.best_params_['bandwidth']\n",
        "\n",
        "def set_slider2(x):\n",
        "  ker = {'gaussian':'gaussian', 'cosine':'cosine', \n",
        "         'tophat':'box', 'epanechnikov':'epa', \n",
        "         'exponential':'exponential', 'linear':'tri'}\n",
        "  kde = FFTKDE(bw='ISJ', kernel=ker[ker_type.value])\n",
        "  kde.fit(X)(None)\n",
        "  b_w.value = kde.bw\n",
        "\n",
        "def set_slider1(x):\n",
        "  #std = np.sqrt(np.var(X, axis=0))\n",
        "  #silverman = ((4/(3* len(np.array(X)[:, None])))*std**5)**(1/5)\n",
        "  #b_w.value = silverman\n",
        "\n",
        "  ker = {'gaussian':'gaussian', 'cosine':'cosine', \n",
        "         'tophat':'box', 'epanechnikov':'epa', \n",
        "         'exponential':'exponential', 'linear':'tri'}\n",
        "  kde = FFTKDE(bw='silverman', kernel=ker[ker_type.value])\n",
        "  kde.fit(X)(None)\n",
        "  b_w.value = kde.bw\n",
        "\n",
        "def plot_pdf(plot_separate, k_d = None):\n",
        "  global params\n",
        "  global X\n",
        "  if not params:\n",
        "    return\n",
        "\n",
        "  pi1, pi2, pi3, mu1, sig1, mu2, sig2, mu3, sig3 = params\n",
        "  x = np.linspace(np.min(X), np.max(X), 1001)\n",
        "  fig = plt.figure(figsize=(10, 8))\n",
        "  P_sum = np.zeros(x.shape)\n",
        "  for mu, sig, c, pi, i in [[mu1, sig1, 'r', pi1, 1], [mu2, sig2, 'g', pi2, 2], [mu3, sig3, 'b', pi3, 3]]:\n",
        "    P = scipy.stats.norm.pdf(x, mu, sig)\n",
        "    P_sum += P * pi\n",
        "    if plot_separate:\n",
        "      plt.plot(x, P, c, linewidth=2.0, label=\"{}\".format(i), alpha=np.clip(pi, 0.0, 1.0))\n",
        "  \n",
        "  plt.plot(x, P_sum, 'k', linewidth=3.0, label=\"mixture\")\n",
        "  plt.plot(np.array(X), np.full_like(np.array(X), 0.0), '|k', markeredgewidth=1)\n",
        "  plt.title('True pdf / pdf estimate')\n",
        "  plt.xlabel('x', fontsize=18)\n",
        "  plt.ylabel('pdf', fontsize=18)\n",
        "  plt.legend()\n",
        "  #plt.show()\n",
        "\n",
        "def set_and_plot(pi, mu1, sig1, mu2, sig2, mu3, sig3):\n",
        "  pi1, pi2 = pi; pi2 -= pi1; pi3 = 1.0 - pi2 - pi1;\n",
        "  global params\n",
        "  global X\n",
        "  X = []\n",
        "  params = [pi1, pi2, pi3, mu1, sig1, mu2, sig2, mu3, sig3]\n",
        "  N = 200\n",
        "  for mu, sig, pi in [[mu1, sig1, pi1], [mu2, sig2, pi2], [mu3, sig3, pi3]]:\n",
        "    X = X + np.random.normal(mu, sig, int(N * pi)).tolist()\n",
        "  plot_pdf(True)\n",
        "\n",
        "\n",
        "def ker_plot(b_w, k_t):\n",
        "  kde = KernelDensity(bandwidth=b_w, kernel=k_t)\n",
        "  global X\n",
        "  kde.fit(np.array(X)[:, None])\n",
        "  x_d = np.linspace(np.min(X), np.max(X), 1001)\n",
        "  logprob = kde.score_samples(x_d[:, None])\n",
        "  plot_pdf(False)\n",
        "  plt.fill_between(x_d, np.exp(logprob), alpha=0.5, color='r')\n",
        "\n",
        "tb = widgets.TabBar(['mix distribution', 'find KDE'], location='top')\n",
        "with tb.output_to(0):\n",
        "  words = ['mu_1', 'sigma_1', 'mu_2', 'sigma_2', 'mu_3', 'sigma_3']\n",
        "  mins  = [0.0, 1.0, 0.0, 1.0, 0.0, 1.0]\n",
        "  maxes = [100.0, 10.0, 100.0, 10.0, 100.0, 10.0]\n",
        "  vals  = [10.0, 10.0, 50.0, 10.0, 90.0, 10.0]\n",
        "  sliders = [ipywidgets.FloatSlider(description=w, min=n, max=x, value=v) for w,x,n,v in zip(words, maxes, mins, vals)]\n",
        "  pi_slider = ipywidgets.FloatRangeSlider(value=[0.3, 0.6], min=0.0, max=1.0, description='pi(1,2,3)')\n",
        "  boxes = [ipywidgets.VBox([pi_slider])]\n",
        "  for slider1, slider2 in zip(sliders[::2], sliders[1::2]):\n",
        "    boxes.append(ipywidgets.VBox([slider1, slider2]))\n",
        "  out = ipywidgets.interactive_output(set_and_plot, {\n",
        "    \"pi\": pi_slider,\n",
        "    \"mu1\": sliders[0], \"sig1\": sliders[1],\n",
        "    \"mu2\": sliders[2], \"sig2\": sliders[3],\n",
        "    \"mu3\": sliders[4], \"sig3\": sliders[5]})\n",
        "  display(ipywidgets.HBox(boxes), out)\n",
        "  sliders[0].value += 0.00001\n",
        "with tb.output_to(1):\n",
        "  btn = ipywidgets.Button(\n",
        "    description='Cross Validation',\n",
        "    disabled=False,\n",
        "    button_style='')\n",
        "  btn1 = ipywidgets.Button(\n",
        "    description='Silverman',\n",
        "    disabled=False,\n",
        "    button_style='')\n",
        "  btn2 = ipywidgets.Button(\n",
        "    description='ISJ',\n",
        "    disabled=False,\n",
        "    button_style='')\n",
        "  out = ipywidgets.interactive_output(ker_plot, {\"b_w\": b_w, \"k_t\": ker_type})\n",
        "  display(ipywidgets.HBox([ker_type, ipywidgets.VBox([b_w, ipywidgets.HBox([btn1, btn2, btn])])]), out)\n",
        "  btn.on_click(set_slider)\n",
        "  btn1.on_click(set_slider1)\n",
        "  btn2.on_click(set_slider2)\n",
        "  b_w.value += 0.0001"
      ],
      "execution_count": null,
      "outputs": [
        {
          "output_type": "display_data",
          "data": {
            "text/html": [
              "<link rel=stylesheet type=text/css href='/nbextensions/google.colab/tabbar.css'></link>"
            ],
            "text/plain": [
              "<IPython.core.display.HTML object>"
            ]
          },
          "metadata": {
            "tags": [
              "outputarea_id5"
            ]
          }
        },
        {
          "output_type": "display_data",
          "data": {
            "text/html": [
              "<script src='/nbextensions/google.colab/tabbar_main.min.js'></script>"
            ],
            "text/plain": [
              "<IPython.core.display.HTML object>"
            ]
          },
          "metadata": {
            "tags": [
              "outputarea_id5"
            ]
          }
        },
        {
          "output_type": "display_data",
          "data": {
            "text/html": [
              "<div id=\"id5\"></div>"
            ],
            "text/plain": [
              "<IPython.core.display.HTML object>"
            ]
          },
          "metadata": {
            "tags": [
              "outputarea_id5"
            ]
          }
        },
        {
          "output_type": "display_data",
          "data": {
            "application/javascript": [
              "window[\"fc6aea88-27fd-11ea-8a84-0242ac1c0002\"] = colab_lib.createTabBar({\"location\": \"top\", \"elementId\": \"id5\", \"tabNames\": [\"mix distribution\", \"find KDE\"], \"initialSelection\": 0, \"contentBorder\": [\"0px\"], \"contentHeight\": [\"initial\"], \"borderColor\": [\"#a7a7a7\"]});\n",
              "//# sourceURL=js_c22e8e2d03"
            ],
            "text/plain": [
              "<IPython.core.display.Javascript object>"
            ]
          },
          "metadata": {
            "tags": [
              "outputarea_id5"
            ]
          }
        },
        {
          "output_type": "display_data",
          "data": {
            "application/javascript": [
              "window[\"fc6b23d6-27fd-11ea-8a84-0242ac1c0002\"] = window[\"id5\"].setSelectedTabIndex(0);\n",
              "//# sourceURL=js_91da6b328f"
            ],
            "text/plain": [
              "<IPython.core.display.Javascript object>"
            ]
          },
          "metadata": {
            "tags": [
              "outputarea_id5"
            ]
          }
        },
        {
          "output_type": "display_data",
          "data": {
            "application/javascript": [
              "window[\"fc6c4482-27fd-11ea-8a84-0242ac1c0002\"] = google.colab.output.getActiveOutputArea();\n",
              "//# sourceURL=js_28128d548e"
            ],
            "text/plain": [
              "<IPython.core.display.Javascript object>"
            ]
          },
          "metadata": {
            "tags": [
              "id5_content_0",
              "outputarea_id5"
            ]
          }
        },
        {
          "output_type": "display_data",
          "data": {
            "application/javascript": [
              "window[\"fc6c85fa-27fd-11ea-8a84-0242ac1c0002\"] = document.querySelector(\"#id5_content_0\");\n",
              "//# sourceURL=js_2d242ce509"
            ],
            "text/plain": [
              "<IPython.core.display.Javascript object>"
            ]
          },
          "metadata": {
            "tags": [
              "id5_content_0",
              "outputarea_id5"
            ]
          }
        },
        {
          "output_type": "display_data",
          "data": {
            "application/javascript": [
              "window[\"fc6cc4f2-27fd-11ea-8a84-0242ac1c0002\"] = google.colab.output.setActiveOutputArea(window[\"fc6c85fa-27fd-11ea-8a84-0242ac1c0002\"]);\n",
              "//# sourceURL=js_d243662b98"
            ],
            "text/plain": [
              "<IPython.core.display.Javascript object>"
            ]
          },
          "metadata": {
            "tags": [
              "id5_content_0",
              "outputarea_id5"
            ]
          }
        },
        {
          "output_type": "display_data",
          "data": {
            "application/javascript": [
              "window[\"fc6d0322-27fd-11ea-8a84-0242ac1c0002\"] = window[\"id5\"].setSelectedTabIndex(0);\n",
              "//# sourceURL=js_5526f55a17"
            ],
            "text/plain": [
              "<IPython.core.display.Javascript object>"
            ]
          },
          "metadata": {
            "tags": [
              "id5_content_0",
              "outputarea_id5"
            ]
          }
        },
        {
          "output_type": "display_data",
          "data": {
            "application/vnd.jupyter.widget-view+json": {
              "model_id": "66a20a388d3845a68c858ce24894b033",
              "version_minor": 0,
              "version_major": 2
            },
            "text/plain": [
              "HBox(children=(VBox(children=(FloatRangeSlider(value=(0.3, 0.6), description='pi(1,2,3)', max=1.0),)), VBox(ch…"
            ]
          },
          "metadata": {
            "tags": [
              "id5_content_0",
              "outputarea_id5",
              "user_output"
            ]
          }
        },
        {
          "output_type": "display_data",
          "data": {
            "application/vnd.jupyter.widget-view+json": {
              "model_id": "9d7efaabbcc94fca9fc83c788678da9a",
              "version_minor": 0,
              "version_major": 2
            },
            "text/plain": [
              "Output()"
            ]
          },
          "metadata": {
            "tags": [
              "id5_content_0",
              "outputarea_id5",
              "user_output"
            ]
          }
        },
        {
          "output_type": "display_data",
          "data": {
            "application/javascript": [
              "window[\"fcdd378c-27fd-11ea-8a84-0242ac1c0002\"] = google.colab.output.setActiveOutputArea(window[\"fc6c4482-27fd-11ea-8a84-0242ac1c0002\"]);\n",
              "//# sourceURL=js_7993a0c0ab"
            ],
            "text/plain": [
              "<IPython.core.display.Javascript object>"
            ]
          },
          "metadata": {
            "tags": [
              "id5_content_0",
              "outputarea_id5"
            ]
          }
        },
        {
          "output_type": "display_data",
          "data": {
            "application/javascript": [
              "window[\"fcdf3848-27fd-11ea-8a84-0242ac1c0002\"] = google.colab.output.getActiveOutputArea();\n",
              "//# sourceURL=js_1942f53708"
            ],
            "text/plain": [
              "<IPython.core.display.Javascript object>"
            ]
          },
          "metadata": {
            "tags": [
              "id5_content_1",
              "outputarea_id5"
            ]
          }
        },
        {
          "output_type": "display_data",
          "data": {
            "application/javascript": [
              "window[\"fcdf9946-27fd-11ea-8a84-0242ac1c0002\"] = document.querySelector(\"#id5_content_1\");\n",
              "//# sourceURL=js_dab18b2c67"
            ],
            "text/plain": [
              "<IPython.core.display.Javascript object>"
            ]
          },
          "metadata": {
            "tags": [
              "id5_content_1",
              "outputarea_id5"
            ]
          }
        },
        {
          "output_type": "display_data",
          "data": {
            "application/javascript": [
              "window[\"fcdfe6d0-27fd-11ea-8a84-0242ac1c0002\"] = google.colab.output.setActiveOutputArea(window[\"fcdf9946-27fd-11ea-8a84-0242ac1c0002\"]);\n",
              "//# sourceURL=js_d05ae83239"
            ],
            "text/plain": [
              "<IPython.core.display.Javascript object>"
            ]
          },
          "metadata": {
            "tags": [
              "id5_content_1",
              "outputarea_id5"
            ]
          }
        },
        {
          "output_type": "display_data",
          "data": {
            "application/javascript": [
              "window[\"fce0302c-27fd-11ea-8a84-0242ac1c0002\"] = window[\"id5\"].setSelectedTabIndex(1);\n",
              "//# sourceURL=js_1e5dd712bd"
            ],
            "text/plain": [
              "<IPython.core.display.Javascript object>"
            ]
          },
          "metadata": {
            "tags": [
              "id5_content_1",
              "outputarea_id5"
            ]
          }
        },
        {
          "output_type": "display_data",
          "data": {
            "application/vnd.jupyter.widget-view+json": {
              "model_id": "8228883aa92c48bda37807b3b46638de",
              "version_minor": 0,
              "version_major": 2
            },
            "text/plain": [
              "HBox(children=(Dropdown(description='Kernel:', options=('gaussian', 'tophat', 'epanechnikov', 'exponential', '…"
            ]
          },
          "metadata": {
            "tags": [
              "id5_content_1",
              "outputarea_id5",
              "user_output"
            ]
          }
        },
        {
          "output_type": "display_data",
          "data": {
            "application/vnd.jupyter.widget-view+json": {
              "model_id": "fe1f4328ecbd41a39c7eca3f5fa67567",
              "version_minor": 0,
              "version_major": 2
            },
            "text/plain": [
              "Output()"
            ]
          },
          "metadata": {
            "tags": [
              "id5_content_1",
              "outputarea_id5",
              "user_output"
            ]
          }
        },
        {
          "output_type": "display_data",
          "data": {
            "application/javascript": [
              "window[\"fd4478b6-27fd-11ea-8a84-0242ac1c0002\"] = google.colab.output.setActiveOutputArea(window[\"fcdf3848-27fd-11ea-8a84-0242ac1c0002\"]);\n",
              "//# sourceURL=js_628b00166c"
            ],
            "text/plain": [
              "<IPython.core.display.Javascript object>"
            ]
          },
          "metadata": {
            "tags": [
              "id5_content_1",
              "outputarea_id5"
            ]
          }
        }
      ]
    },
    {
      "cell_type": "code",
      "metadata": {
        "id": "Duqitq4pDd-J",
        "colab_type": "code",
        "colab": {
          "resources": {
            "http://localhost:8080/nbextensions/google.colab/tabbar.css": {
              "data": "Lmdvb2ctdGFie3Bvc2l0aW9uOnJlbGF0aXZlO3BhZGRpbmc6NHB4IDhweDtjb2xvcjojMDBjO3RleHQtZGVjb3JhdGlvbjp1bmRlcmxpbmU7Y3Vyc29yOmRlZmF1bHR9Lmdvb2ctdGFiLWJhci10b3AgLmdvb2ctdGFie21hcmdpbjoxcHggNHB4IDAgMDtib3JkZXItYm90dG9tOjA7ZmxvYXQ6bGVmdH0uZ29vZy10YWItYmFyLXRvcDphZnRlciwuZ29vZy10YWItYmFyLWJvdHRvbTphZnRlcntjb250ZW50OiIgIjtkaXNwbGF5OmJsb2NrO2hlaWdodDowO2NsZWFyOmJvdGg7dmlzaWJpbGl0eTpoaWRkZW59Lmdvb2ctdGFiLWJhci1ib3R0b20gLmdvb2ctdGFie21hcmdpbjowIDRweCAxcHggMDtib3JkZXItdG9wOjA7ZmxvYXQ6bGVmdH0uZ29vZy10YWItYmFyLXN0YXJ0IC5nb29nLXRhYnttYXJnaW46MCAwIDRweCAxcHg7Ym9yZGVyLXJpZ2h0OjB9Lmdvb2ctdGFiLWJhci1lbmQgLmdvb2ctdGFie21hcmdpbjowIDFweCA0cHggMDtib3JkZXItbGVmdDowfS5nb29nLXRhYi1ob3ZlcntiYWNrZ3JvdW5kOiNlZWV9Lmdvb2ctdGFiLWRpc2FibGVke2NvbG9yOiM2NjZ9Lmdvb2ctdGFiLXNlbGVjdGVke2NvbG9yOiMwMDA7YmFja2dyb3VuZDojZmZmO3RleHQtZGVjb3JhdGlvbjpub25lO2ZvbnQtd2VpZ2h0OmJvbGQ7Ym9yZGVyOjFweCBzb2xpZCAjNmI5MGRhfS5nb29nLXRhYi1iYXItdG9we3BhZGRpbmctdG9wOjVweCFpbXBvcnRhbnQ7cGFkZGluZy1sZWZ0OjVweCFpbXBvcnRhbnQ7Ym9yZGVyLWJvdHRvbToxcHggc29saWQgIzZiOTBkYSFpbXBvcnRhbnR9Lmdvb2ctdGFiLWJhci10b3AgLmdvb2ctdGFiLXNlbGVjdGVke3RvcDoxcHg7bWFyZ2luLXRvcDowO3BhZGRpbmctYm90dG9tOjVweH0uZ29vZy10YWItYmFyLWJvdHRvbSAuZ29vZy10YWItc2VsZWN0ZWR7dG9wOi0xcHg7bWFyZ2luLWJvdHRvbTowO3BhZGRpbmctdG9wOjVweH0uZ29vZy10YWItYmFyLXN0YXJ0IC5nb29nLXRhYi1zZWxlY3RlZHtsZWZ0OjFweDttYXJnaW4tbGVmdDowO3BhZGRpbmctcmlnaHQ6OXB4fS5nb29nLXRhYi1iYXItZW5kIC5nb29nLXRhYi1zZWxlY3RlZHtsZWZ0Oi0xcHg7bWFyZ2luLXJpZ2h0OjA7cGFkZGluZy1sZWZ0OjlweH0uZ29vZy10YWItYmFye21hcmdpbjowO2JvcmRlcjowO3BhZGRpbmc6MDtsaXN0LXN0eWxlOm5vbmU7Y3Vyc29yOmRlZmF1bHQ7b3V0bGluZTpub25lO2JhY2tncm91bmQ6I2ViZWZmOX0uZ29vZy10YWItYmFyLWNsZWFye2NsZWFyOmJvdGg7aGVpZ2h0OjA7b3ZlcmZsb3c6aGlkZGVufS5nb29nLXRhYi1iYXItc3RhcnR7ZmxvYXQ6bGVmdH0uZ29vZy10YWItYmFyLWVuZHtmbG9hdDpyaWdodH0qIGh0bWwgLmdvb2ctdGFiLWJhci1zdGFydHttYXJnaW4tcmlnaHQ6LTNweH0qIGh0bWwgLmdvb2ctdGFiLWJhci1lbmR7bWFyZ2luLWxlZnQ6LTNweH0=",
              "ok": true,
              "headers": [
                [
                  "content-type",
                  "text/css"
                ]
              ],
              "status": 200,
              "status_text": ""
            },
            "http://localhost:8080/nbextensions/google.colab/tabbar_main.min.js": {
              "data": "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",
              "ok": true,
              "headers": [
                [
                  "content-type",
                  "application/javascript"
                ]
              ],
              "status": 200,
              "status_text": ""
            }
          },
          "base_uri": "https://localhost:8080/",
          "height": 674,
          "referenced_widgets": [
            "2bc82c8e62ad43098c72a46096cc8c60",
            "2732698739c1464498fc60675ca42e3d",
            "a00941f223724af1b86e7d52ed1daeb8",
            "697194645b684491b86974148241b851",
            "4331459952aa4dcba5def9293eb4ba67",
            "d3315b83c649407a900881c2817f4f7e",
            "cd7220637e82419cb83b7060ee3de9e6",
            "42dfdc8419fd42708603611c686bbe4d",
            "9405f1a47eeb4718a64a6b0b83c71d60",
            "219479c3c82e46e788181428aa15c4dd",
            "725deaa4258149188f13702d83303346",
            "1fb8c9cee1b841ed88d5e1b7fa19c12a",
            "945fdf83ffc74acbb409028d445ac34b",
            "548d3c6eb7634d74941745b5b092319e",
            "0e44aae635634340ba798d639964d19e",
            "071784b934104dacabfc493f0059bd33",
            "3c17f4480dd94342ae12023e521e9ef1",
            "2b65ee5c19674fe29e216189599c65be",
            "df5b3a74461b4fdaaac12115ab218941",
            "f412815460994f279ab8910700fc459d",
            "52cb445b9e894bb884e3d1044a1f621e",
            "5cbfe727c5c94688b2444cbe30bdf8dc",
            "d232320869564c5ab0c4c124f5ab745a"
          ]
        },
        "cellView": "form",
        "outputId": "a37833ae-a108-4be9-bf59-84022df61833"
      },
      "source": [
        "#@title Bandwidth and kernel in KDE\n",
        "from google.colab import widgets\n",
        "import ipywidgets\n",
        "import numpy as np\n",
        "import matplotlib.pyplot as plt\n",
        "import scipy\n",
        "from sklearn.neighbors import KernelDensity\n",
        "from sklearn.model_selection import learning_curve, GridSearchCV\n",
        "from sklearn.model_selection import LeaveOneOut #train_test_split\n",
        "from KDEpy import FFTKDE\n",
        "import IPython\n",
        "from google.colab import output\n",
        "\n",
        "\n",
        "main_str = '''\n",
        "<html>\n",
        "\n",
        "<head>\n",
        "  <script src=\"https://cdn.plot.ly/plotly-latest.min.js\"></script> \n",
        "\n",
        "  <script type=\"application/javascript\">\n",
        "    var xs = [];\n",
        "    var ys = [];\n",
        "    var x_min = -5.0;\n",
        "    var y_min =  0.0;\n",
        "    var x_max = +5.0;\n",
        "    var y_max = +0.8;\n",
        "    for (var x = x_min; x <= x_max; x += 0.01)\n",
        "      xs.push(x);\n",
        "    for (var y = y_min; y <= y_max; y += 0.1)\n",
        "      ys.push(y);\n",
        "    var colors = ['blue', 'green', 'red'];\n",
        "    var coefs = [1.0/3.0, 1.0/3.0, 1.0/3.0];\n",
        "    var rand_pts = [];\n",
        "\n",
        "   function random_point(mu, sigma) {\n",
        "     var z = Math.sqrt(-2.0 * Math.log(Math.random())) * Math.cos(2.0 * Math.PI * Math.random());\n",
        "     return z * sigma + mu;\n",
        "   }\n",
        "\n",
        "    function loss_function_2d() {\n",
        "      var canvas = document.getElementById(\"paint\");\n",
        "      var w = canvas.width;\n",
        "      var h = canvas.height;\n",
        "\n",
        "      //var size = adjust_canvas();\n",
        "      //var w = size[0];\n",
        "      //var h = size[1];\n",
        "\n",
        "      mu = [];\n",
        "      sigma = [];\n",
        "      C = Math.sqrt(2 * Math.PI);\n",
        "      for (var i = 0; i < pts.length; ++i) {\n",
        "          var x = pts[i][0] / w * (x_max - x_min) + x_min;\n",
        "        var y = (1.0 - pts[i][1] / h) * (y_max - y_min) + y_min;\n",
        "          mu.push(x);\n",
        "          sigma.push(1.0 / (y * C));\n",
        "      }\n",
        "\n",
        "      data = [];\n",
        "      for (var trace_idx = 0; trace_idx < pts.length; ++trace_idx) {\n",
        "          var trace = [];\n",
        "          for (var i = 0; i < xs.length; ++i) {\n",
        "              var delta = (xs[i] - mu[trace_idx]) / sigma[trace_idx]; \n",
        "              trace.push(Math.exp(-delta*delta / 2.0) / sigma[trace_idx] / C);\n",
        "          }\n",
        "          data.push({\n",
        "            x: xs,\n",
        "            y: trace,\n",
        "            showscale: false, \n",
        "            opacity: coefs[trace_idx], \n",
        "            type: 'scatter',\n",
        "            mode: 'line',\n",
        "            name: 'gaussian ' + trace_idx,\n",
        "            line: {\n",
        "              width: 2,\n",
        "              color: colors[trace_idx]\n",
        "            },\n",
        "          });\n",
        "      }\n",
        "\n",
        "      var sum_trace = [];\n",
        "      for (var i = 0; i < xs.length; ++i) {\n",
        "          var sum = 0.0;\n",
        "          for (var trace_idx = 0; trace_idx < pts.length; ++trace_idx) {\n",
        "              var delta = (xs[i] - mu[trace_idx]) / sigma[trace_idx]; \n",
        "              sum += coefs[trace_idx] * Math.exp(-delta*delta / 2.0) / sigma[trace_idx] / C;\n",
        "          }\n",
        "          sum_trace.push(sum);\n",
        "      }\n",
        "      data.push({\n",
        "            x: xs,\n",
        "            y: sum_trace,\n",
        "            showscale: false, \n",
        "            opacity: coefs[trace_idx], \n",
        "            type: 'scatter',\n",
        "            mode: 'line',\n",
        "            name: 'sum',\n",
        "            line: {\n",
        "              width: 2,\n",
        "              color: 'black'\n",
        "            },\n",
        "          });\n",
        "\n",
        "      var N_points = 200;\n",
        "      rand_pts = [];\n",
        "      var ys = [];\n",
        "      for (var i = 0; i < N_points; ++i) {\n",
        "        active_gaussian = 0;\n",
        "        var rnd = Math.random();\n",
        "        if (rnd > coefs[0])\n",
        "            active_gaussian = 1;\n",
        "        if (rnd > coefs[0] + coefs[1])\n",
        "            active_gaussian = 2;\n",
        "        //active_gaussian = Math.floor(Math.random() * Math.floor(3));\n",
        "        rand_pts.push(random_point(mu[active_gaussian], sigma[active_gaussian]));\n",
        "        ys.push(0.0);\n",
        "      }\n",
        "      data.push({\n",
        "            x: rand_pts,\n",
        "            y: ys,\n",
        "            showscale: false, \n",
        "            opacity: 1.0, \n",
        "            type: 'scatter',\n",
        "            mode: 'markers',\n",
        "            name: 'random datapoints',\n",
        "            marker: {\n",
        "              symbol: 'line-ns',\n",
        "              size: 20,\n",
        "              line :{\n",
        "                width: 1,\n",
        "                color: 'black'\n",
        "              }\n",
        "            }\n",
        "          });\n",
        "\n",
        "      var cell_for_plot = document.getElementById(\"for_right_plot\");\n",
        "      var layout = {\n",
        "          //title: 'Error Function',\n",
        "          xaxis: {'range': [x_min, x_max], 'domain': [0.0, 1.0], 'fixedrange': true},\n",
        "          yaxis: {'range': [y_min, y_max], 'domain': [0.0, 1.0], 'fixedrange': true},\n",
        "          width: 800,\n",
        "          height: 500,\n",
        "          autosize: false,\n",
        "          showlegend: true,\n",
        "          margin: {\n",
        "            l: 50,\n",
        "            r: 50,\n",
        "            b: 50,\n",
        "            t: 50\n",
        "          }\n",
        "        };\n",
        "      Plotly.newPlot(cell_for_plot, data, layout);\n",
        "    }\n",
        "\n",
        "    var pts = [[100, 300], [300, 300], [500, 300]];\n",
        "    var active_idx = -1;\n",
        "\n",
        "    function mdown_handle(event) {\n",
        "      //console.log('down');\n",
        "      event.stopPropagation();\n",
        "      x = event.offsetX;\n",
        "      y = event.offsetY;\n",
        "      for (var i = 0; i < pts.length; ++i)\n",
        "        if ((x - pts[i][0])*(x - pts[i][0]) + (y - pts[i][1])*(y - pts[i][1]) < 500)\n",
        "            active_idx = i;\n",
        "      console.log('ACTIVE', active_idx);\n",
        "    }\n",
        "\n",
        "    function mmove_handle(event) {\n",
        "      event.stopPropagation();\n",
        "      //console.log('move');\n",
        "      if (active_idx < 0)\n",
        "          return;\n",
        "      pts[active_idx] = [event.offsetX, event.offsetY];\n",
        "      loss_function_2d();\n",
        "    }\n",
        "\n",
        "    function mup_handle(event) {\n",
        "      active_idx = -1;\n",
        "    }\n",
        "\n",
        "    function adjust_canvas() {\n",
        "      var plt_div = document.getElementById('for_right_plot');\n",
        "      var el = plt_div.getElementsByClassName('xy')[0];\n",
        "      if (!el)\n",
        "          return [600, 600];\n",
        "      var rect = el.getBoundingClientRect();\n",
        "      var canvas = document.getElementById(\"paint\");\n",
        "      //console.log(rect);\n",
        "      canvas.style.cssText = \"position:absolute; top:\" + parseInt(rect.top)\n",
        "                          + \"px; left: \" + parseInt(rect.left)\n",
        "                          + \"px; width:\" + parseInt(rect.width)\n",
        "                          + \"px; height:\" + parseInt(rect.height)\n",
        "                          + \"px; z-index:1000;\";\n",
        "      canvas.width = rect.width;\n",
        "      canvas.height = rect.height;\n",
        "      var ctx = canvas.getContext('2d');\n",
        "      ctx.clearRect(0, 0, canvas.width, canvas.height);\n",
        "       \n",
        "      if (canvas.offsetParent === null)\n",
        "        console.log('hidden!');\n",
        "\n",
        "      //loss_function_2d();\n",
        "      return [canvas.width, canvas.height];\n",
        "    }\n",
        "\n",
        "    function draw_slider() {\n",
        "        var canvas = document.getElementById(\"slider\");\n",
        "        var ctx = canvas.getContext('2d');\n",
        "        var h = canvas.height;\n",
        "        var w = canvas.width;\n",
        "        var cur_start = 0;\n",
        "        ctx.clearRect(0, 0, canvas.width, canvas.height);\n",
        "        for (var i = 0; i < pts.length; ++i) {\n",
        "            ctx.fillStyle = colors[i];\n",
        "            ctx.fillRect(0, cur_start, w, h*coefs[i]);\n",
        "            cur_start += h*coefs[i];\n",
        "        }\n",
        "        \n",
        "    }\n",
        "\n",
        "    var active_coef = -1;\n",
        "    function mdown(event) {\n",
        "    //console.log('ddd');\n",
        "      event.stopPropagation();\n",
        "      x = event.offsetX;\n",
        "      y = event.offsetY;\n",
        "      var canvas = document.getElementById(\"slider\");\n",
        "      var h = canvas.height;\n",
        "      var H = 0;\n",
        "      for (var i = 0; i < coefs.length - 1; ++i) {\n",
        "        H += coefs[i] * h;\n",
        "        if (y > H - 10 && y < H +1)\n",
        "            active_coef = i;\n",
        "      }\n",
        "      //console.log(active_coef, coefs);\n",
        "    }\n",
        "\n",
        "    function mmove(event) { // for double-slider only\n",
        "      event.stopPropagation();\n",
        "      if (active_coef < 0)\n",
        "        return;\n",
        "      x = event.offsetX;\n",
        "      y = event.offsetY;\n",
        "      var canvas = document.getElementById(\"slider\");\n",
        "      var h = canvas.height;\n",
        "      var new_sum = y / h;\n",
        "      if (active_coef == 0) {\n",
        "        if (coefs[0] + coefs[1] < new_sum)\n",
        "            coefs[1] = 0.0;\n",
        "        else\n",
        "            coefs[1] = coefs[0] + coefs[1] - new_sum;\n",
        "        coefs[0] = new_sum;\n",
        "        coefs[2] = 1.0 - coefs[0] - coefs[1];\n",
        "      }\n",
        "      if (active_coef == 1) {\n",
        "        if (coefs[0] > new_sum)\n",
        "            coefs[0] = new_sum;\n",
        "        coefs[1] = new_sum - coefs[0];\n",
        "        coefs[2] = 1.0 - coefs[0] - coefs[1];\n",
        "      }\n",
        "      draw_slider();\n",
        "      loss_function_2d();\n",
        "    }\n",
        "\n",
        "    function mup(event) {\n",
        "      active_coef = -1;\n",
        "    }\n",
        "\n",
        "\n",
        "  </script>\n",
        "</head>\n",
        "\n",
        "<body>\n",
        "\n",
        "<canvas id=\"paint\" width=600 height=600\n",
        "    onmousedown=\"mdown_handle(event)\"\n",
        "    onmousemove=\"mmove_handle(event)\"\n",
        "    onmouseup=\"mup_handle(event)\">\n",
        "</canvas>\n",
        "\n",
        "<canvas id=\"slider\" width=40 height=250\n",
        "    onmousedown=\"mdown(event)\"\n",
        "    onmousemove=\"mmove(event)\"\n",
        "    onmouseup=\"mup(event)\"\n",
        "    style=\"position:absolute;left:700px;top:250px;width:40px;height:250px;z-index:1000;\">\n",
        "</canvas>\n",
        "\n",
        "\n",
        "<div id=\"everything\" style=\"height:600px; width:600px;\">\n",
        "  <div id=\"for_right_plot\">\n",
        "  </div>\n",
        "</div>\n",
        "\n",
        "\n",
        "\n",
        "\n",
        "</body>\n",
        "\n",
        "<script>\n",
        "function init()\n",
        "{\n",
        "  loss_function_2d();\n",
        "  adjust_canvas();\n",
        "  loss_function_2d();\n",
        "  setInterval(adjust_canvas, 1000);\n",
        "  draw_slider();\n",
        "}\n",
        "init();\n",
        "</script>\n",
        "\n",
        "</html>\n",
        "'''\n",
        "\n",
        "params = []\n",
        "X = []\n",
        "b_w = ipywidgets.FloatSlider(description='bandwidth', min=1, max=50.0, value=15.0)\n",
        "ker_type = ipywidgets.Dropdown(\n",
        "  options=['gaussian', 'tophat', 'epanechnikov', 'exponential','linear','cosine'],\n",
        "  value='gaussian',\n",
        "  description='Kernel:',\n",
        "  disabled=False)\n",
        "\n",
        "def set_slider(x):\n",
        "  bandwidths = np.linspace(b_w.min, b_w.max, 100)\n",
        "  loo = LeaveOneOut()\n",
        "  grid = GridSearchCV(KernelDensity(kernel=ker_type.value), {'bandwidth': bandwidths}, cv=loo)\n",
        "  grid.fit(np.array(X)[:, None]);\n",
        "  b_w.value = grid.best_params_['bandwidth']\n",
        "\n",
        "def set_slider2(x):\n",
        "  ker = {'gaussian':'gaussian', 'cosine':'cosine', \n",
        "         'tophat':'box', 'epanechnikov':'epa', \n",
        "         'exponential':'exponential', 'linear':'tri'}\n",
        "  kde = FFTKDE(bw='ISJ', kernel=ker[ker_type.value])\n",
        "  kde.fit(X)(None)\n",
        "  b_w.value = kde.bw\n",
        "\n",
        "def set_slider1(x):\n",
        "  #std = np.sqrt(np.var(X, axis=0))\n",
        "  #silverman = ((4/(3* len(np.array(X)[:, None])))*std**5)**(1/5)\n",
        "  #b_w.value = silverman\n",
        "\n",
        "  ker = {'gaussian':'gaussian', 'cosine':'cosine', \n",
        "         'tophat':'box', 'epanechnikov':'epa', \n",
        "         'exponential':'exponential', 'linear':'tri'}\n",
        "  kde = FFTKDE(bw='silverman', kernel=ker[ker_type.value])\n",
        "  kde.fit(X)(None)\n",
        "  b_w.value = kde.bw\n",
        "\n",
        "def plot_pdf(plot_separate, k_d = None):\n",
        "  return\n",
        "  global params\n",
        "  global X\n",
        "  if not params:\n",
        "    return\n",
        "\n",
        "  pi1, pi2, pi3, mu1, sig1, mu2, sig2, mu3, sig3 = params\n",
        "  x = np.linspace(np.min(X), np.max(X), 1001)\n",
        "  fig = plt.figure(figsize=(10, 8))\n",
        "  P_sum = np.zeros(x.shape)\n",
        "  for mu, sig, c, pi, i in [[mu1, sig1, 'r', pi1, 1], [mu2, sig2, 'g', pi2, 2], [mu3, sig3, 'b', pi3, 3]]:\n",
        "    P = scipy.stats.norm.pdf(x, mu, sig)\n",
        "    P_sum += P * pi\n",
        "    if plot_separate:\n",
        "      plt.plot(x, P, c, linewidth=2.0, label=\"{}\".format(i), alpha=np.clip(pi, 0.0, 1.0))\n",
        "  \n",
        "  plt.plot(x, P_sum, 'k', linewidth=3.0, label=\"mixture\")\n",
        "  plt.plot(np.array(X), np.full_like(np.array(X), 0.0), '|k', markeredgewidth=1)\n",
        "  plt.title('True pdf / pdf estimate')\n",
        "  plt.xlabel('x', fontsize=18)\n",
        "  plt.ylabel('pdf', fontsize=18)\n",
        "  plt.legend()\n",
        "  #plt.show()\n",
        "\n",
        "def set_and_plot(pi, mu1, sig1, mu2, sig2, mu3, sig3):\n",
        "  pi1, pi2 = pi; pi2 -= pi1; pi3 = 1.0 - pi2 - pi1;\n",
        "  global params\n",
        "  global X\n",
        "  X = []\n",
        "  params = [pi1, pi2, pi3, mu1, sig1, mu2, sig2, mu3, sig3]\n",
        "  N = 200\n",
        "  for mu, sig, pi in [[mu1, sig1, pi1], [mu2, sig2, pi2], [mu3, sig3, pi3]]:\n",
        "    X = X + np.random.normal(mu, sig, int(N * pi)).tolist()\n",
        "  plot_pdf(True)\n",
        "\n",
        "\n",
        "def ker_plot(b_w, k_t):\n",
        "  value = output.eval_js('coefs');\n",
        "  print(value)\n",
        "  return\n",
        "  kde = KernelDensity(bandwidth=b_w, kernel=k_t)\n",
        "  global X\n",
        "  kde.fit(np.array(X)[:, None])\n",
        "  x_d = np.linspace(np.min(X), np.max(X), 1001)\n",
        "  logprob = kde.score_samples(x_d[:, None])\n",
        "  plot_pdf(False)\n",
        "  plt.fill_between(x_d, np.exp(logprob), alpha=0.5, color='r')\n",
        "\n",
        "tb = widgets.TabBar(['mix distribution', 'find KDE'], location='top')\n",
        "with tb.output_to(0):\n",
        "  display(IPython.display.HTML(main_str))\n",
        "\n",
        "with tb.output_to(1):\n",
        "  btn = ipywidgets.Button(\n",
        "    description='Cross Validation',\n",
        "    disabled=False,\n",
        "    button_style='')\n",
        "  btn1 = ipywidgets.Button(\n",
        "    description='Silverman',\n",
        "    disabled=False,\n",
        "    button_style='')\n",
        "  btn2 = ipywidgets.Button(\n",
        "    description='ISJ',\n",
        "    disabled=False,\n",
        "    button_style='')\n",
        "  out = ipywidgets.interactive_output(ker_plot, {\"b_w\": b_w, \"k_t\": ker_type})\n",
        "  display(ipywidgets.HBox([ker_type, ipywidgets.VBox([b_w, ipywidgets.HBox([btn1, btn2, btn])])]), out)\n",
        "  btn.on_click(set_slider)\n",
        "  btn1.on_click(set_slider1)\n",
        "  btn2.on_click(set_slider2)\n",
        "  b_w.value += 0.0001\n",
        "\n",
        "\n"
      ],
      "execution_count": 13,
      "outputs": [
        {
          "output_type": "display_data",
          "data": {
            "text/html": [
              "<link rel=stylesheet type=text/css href='/nbextensions/google.colab/tabbar.css'></link>"
            ],
            "text/plain": [
              "<IPython.core.display.HTML object>"
            ]
          },
          "metadata": {
            "tags": [
              "outputarea_id12"
            ]
          }
        },
        {
          "output_type": "display_data",
          "data": {
            "text/html": [
              "<script src='/nbextensions/google.colab/tabbar_main.min.js'></script>"
            ],
            "text/plain": [
              "<IPython.core.display.HTML object>"
            ]
          },
          "metadata": {
            "tags": [
              "outputarea_id12"
            ]
          }
        },
        {
          "output_type": "display_data",
          "data": {
            "text/html": [
              "<div id=\"id12\"></div>"
            ],
            "text/plain": [
              "<IPython.core.display.HTML object>"
            ]
          },
          "metadata": {
            "tags": [
              "outputarea_id12"
            ]
          }
        },
        {
          "output_type": "display_data",
          "data": {
            "application/javascript": [
              "window[\"287fc74c-f760-11ea-8df0-0242ac1c0002\"] = colab_lib.createTabBar({\"location\": \"top\", \"elementId\": \"id12\", \"tabNames\": [\"mix distribution\", \"find KDE\"], \"initialSelection\": 0, \"contentBorder\": [\"0px\"], \"contentHeight\": [\"initial\"], \"borderColor\": [\"#a7a7a7\"]});\n",
              "//# sourceURL=js_3d86330b75"
            ],
            "text/plain": [
              "<IPython.core.display.Javascript object>"
            ]
          },
          "metadata": {
            "tags": [
              "outputarea_id12"
            ]
          }
        },
        {
          "output_type": "display_data",
          "data": {
            "application/javascript": [
              "window[\"288026ec-f760-11ea-8df0-0242ac1c0002\"] = window[\"id12\"].setSelectedTabIndex(0);\n",
              "//# sourceURL=js_5949a4b820"
            ],
            "text/plain": [
              "<IPython.core.display.Javascript object>"
            ]
          },
          "metadata": {
            "tags": [
              "outputarea_id12"
            ]
          }
        },
        {
          "output_type": "display_data",
          "data": {
            "application/javascript": [
              "window[\"2881c3ee-f760-11ea-8df0-0242ac1c0002\"] = google.colab.output.getActiveOutputArea();\n",
              "//# sourceURL=js_ba2fb79319"
            ],
            "text/plain": [
              "<IPython.core.display.Javascript object>"
            ]
          },
          "metadata": {
            "tags": [
              "id12_content_0",
              "outputarea_id12"
            ]
          }
        },
        {
          "output_type": "display_data",
          "data": {
            "application/javascript": [
              "window[\"28822e4c-f760-11ea-8df0-0242ac1c0002\"] = document.querySelector(\"#id12_content_0\");\n",
              "//# sourceURL=js_22f6caf956"
            ],
            "text/plain": [
              "<IPython.core.display.Javascript object>"
            ]
          },
          "metadata": {
            "tags": [
              "id12_content_0",
              "outputarea_id12"
            ]
          }
        },
        {
          "output_type": "display_data",
          "data": {
            "application/javascript": [
              "window[\"288285c2-f760-11ea-8df0-0242ac1c0002\"] = google.colab.output.setActiveOutputArea(window[\"28822e4c-f760-11ea-8df0-0242ac1c0002\"]);\n",
              "//# sourceURL=js_66b3aab5f0"
            ],
            "text/plain": [
              "<IPython.core.display.Javascript object>"
            ]
          },
          "metadata": {
            "tags": [
              "id12_content_0",
              "outputarea_id12"
            ]
          }
        },
        {
          "output_type": "display_data",
          "data": {
            "application/javascript": [
              "window[\"2882e21a-f760-11ea-8df0-0242ac1c0002\"] = window[\"id12\"].setSelectedTabIndex(0);\n",
              "//# sourceURL=js_af03f205ff"
            ],
            "text/plain": [
              "<IPython.core.display.Javascript object>"
            ]
          },
          "metadata": {
            "tags": [
              "id12_content_0",
              "outputarea_id12"
            ]
          }
        },
        {
          "output_type": "display_data",
          "data": {
            "text/html": [
              "\n",
              "<html>\n",
              "\n",
              "<head>\n",
              "  <script src=\"https://cdn.plot.ly/plotly-latest.min.js\"></script> \n",
              "\n",
              "  <script type=\"application/javascript\">\n",
              "    var xs = [];\n",
              "    var ys = [];\n",
              "    var x_min = -5.0;\n",
              "    var y_min =  0.0;\n",
              "    var x_max = +5.0;\n",
              "    var y_max = +0.8;\n",
              "    for (var x = x_min; x <= x_max; x += 0.01)\n",
              "      xs.push(x);\n",
              "    for (var y = y_min; y <= y_max; y += 0.1)\n",
              "      ys.push(y);\n",
              "    var colors = ['blue', 'green', 'red'];\n",
              "    var coefs = [1.0/3.0, 1.0/3.0, 1.0/3.0];\n",
              "    var rand_pts = [];\n",
              "\n",
              "   function random_point(mu, sigma) {\n",
              "     var z = Math.sqrt(-2.0 * Math.log(Math.random())) * Math.cos(2.0 * Math.PI * Math.random());\n",
              "     return z * sigma + mu;\n",
              "   }\n",
              "\n",
              "    function loss_function_2d() {\n",
              "      var canvas = document.getElementById(\"paint\");\n",
              "      var w = canvas.width;\n",
              "      var h = canvas.height;\n",
              "\n",
              "      //var size = adjust_canvas();\n",
              "      //var w = size[0];\n",
              "      //var h = size[1];\n",
              "\n",
              "      mu = [];\n",
              "      sigma = [];\n",
              "      C = Math.sqrt(2 * Math.PI);\n",
              "      for (var i = 0; i < pts.length; ++i) {\n",
              "          var x = pts[i][0] / w * (x_max - x_min) + x_min;\n",
              "        var y = (1.0 - pts[i][1] / h) * (y_max - y_min) + y_min;\n",
              "          mu.push(x);\n",
              "          sigma.push(1.0 / (y * C));\n",
              "      }\n",
              "\n",
              "      data = [];\n",
              "      for (var trace_idx = 0; trace_idx < pts.length; ++trace_idx) {\n",
              "          var trace = [];\n",
              "          for (var i = 0; i < xs.length; ++i) {\n",
              "              var delta = (xs[i] - mu[trace_idx]) / sigma[trace_idx]; \n",
              "              trace.push(Math.exp(-delta*delta / 2.0) / sigma[trace_idx] / C);\n",
              "          }\n",
              "          data.push({\n",
              "            x: xs,\n",
              "            y: trace,\n",
              "            showscale: false, \n",
              "            opacity: coefs[trace_idx], \n",
              "            type: 'scatter',\n",
              "            mode: 'line',\n",
              "            name: 'gaussian ' + trace_idx,\n",
              "            line: {\n",
              "              width: 2,\n",
              "              color: colors[trace_idx]\n",
              "            },\n",
              "          });\n",
              "      }\n",
              "\n",
              "      var sum_trace = [];\n",
              "      for (var i = 0; i < xs.length; ++i) {\n",
              "          var sum = 0.0;\n",
              "          for (var trace_idx = 0; trace_idx < pts.length; ++trace_idx) {\n",
              "              var delta = (xs[i] - mu[trace_idx]) / sigma[trace_idx]; \n",
              "              sum += coefs[trace_idx] * Math.exp(-delta*delta / 2.0) / sigma[trace_idx] / C;\n",
              "          }\n",
              "          sum_trace.push(sum);\n",
              "      }\n",
              "      data.push({\n",
              "            x: xs,\n",
              "            y: sum_trace,\n",
              "            showscale: false, \n",
              "            opacity: coefs[trace_idx], \n",
              "            type: 'scatter',\n",
              "            mode: 'line',\n",
              "            name: 'sum',\n",
              "            line: {\n",
              "              width: 2,\n",
              "              color: 'black'\n",
              "            },\n",
              "          });\n",
              "\n",
              "      var N_points = 200;\n",
              "      rand_pts = [];\n",
              "      var ys = [];\n",
              "      for (var i = 0; i < N_points; ++i) {\n",
              "        active_gaussian = 0;\n",
              "        var rnd = Math.random();\n",
              "        if (rnd > coefs[0])\n",
              "            active_gaussian = 1;\n",
              "        if (rnd > coefs[0] + coefs[1])\n",
              "            active_gaussian = 2;\n",
              "        //active_gaussian = Math.floor(Math.random() * Math.floor(3));\n",
              "        rand_pts.push(random_point(mu[active_gaussian], sigma[active_gaussian]));\n",
              "        ys.push(0.0);\n",
              "      }\n",
              "      data.push({\n",
              "            x: rand_pts,\n",
              "            y: ys,\n",
              "            showscale: false, \n",
              "            opacity: 1.0, \n",
              "            type: 'scatter',\n",
              "            mode: 'markers',\n",
              "            name: 'random datapoints',\n",
              "            marker: {\n",
              "              symbol: 'line-ns',\n",
              "              size: 20,\n",
              "              line :{\n",
              "                width: 1,\n",
              "                color: 'black'\n",
              "              }\n",
              "            }\n",
              "          });\n",
              "\n",
              "      var cell_for_plot = document.getElementById(\"for_right_plot\");\n",
              "      var layout = {\n",
              "          //title: 'Error Function',\n",
              "          xaxis: {'range': [x_min, x_max], 'domain': [0.0, 1.0], 'fixedrange': true},\n",
              "          yaxis: {'range': [y_min, y_max], 'domain': [0.0, 1.0], 'fixedrange': true},\n",
              "          width: 800,\n",
              "          height: 500,\n",
              "          autosize: false,\n",
              "          showlegend: true,\n",
              "          margin: {\n",
              "            l: 50,\n",
              "            r: 50,\n",
              "            b: 50,\n",
              "            t: 50\n",
              "          }\n",
              "        };\n",
              "      Plotly.newPlot(cell_for_plot, data, layout);\n",
              "    }\n",
              "\n",
              "    var pts = [[100, 300], [300, 300], [500, 300]];\n",
              "    var active_idx = -1;\n",
              "\n",
              "    function mdown_handle(event) {\n",
              "      //console.log('down');\n",
              "      event.stopPropagation();\n",
              "      x = event.offsetX;\n",
              "      y = event.offsetY;\n",
              "      for (var i = 0; i < pts.length; ++i)\n",
              "        if ((x - pts[i][0])*(x - pts[i][0]) + (y - pts[i][1])*(y - pts[i][1]) < 500)\n",
              "            active_idx = i;\n",
              "      console.log('ACTIVE', active_idx);\n",
              "    }\n",
              "\n",
              "    function mmove_handle(event) {\n",
              "      event.stopPropagation();\n",
              "      //console.log('move');\n",
              "      if (active_idx < 0)\n",
              "          return;\n",
              "      pts[active_idx] = [event.offsetX, event.offsetY];\n",
              "      loss_function_2d();\n",
              "    }\n",
              "\n",
              "    function mup_handle(event) {\n",
              "      active_idx = -1;\n",
              "    }\n",
              "\n",
              "    function adjust_canvas() {\n",
              "      var plt_div = document.getElementById('for_right_plot');\n",
              "      var el = plt_div.getElementsByClassName('xy')[0];\n",
              "      if (!el)\n",
              "          return [600, 600];\n",
              "      var rect = el.getBoundingClientRect();\n",
              "      var canvas = document.getElementById(\"paint\");\n",
              "      //console.log(rect);\n",
              "      canvas.style.cssText = \"position:absolute; top:\" + parseInt(rect.top)\n",
              "                          + \"px; left: \" + parseInt(rect.left)\n",
              "                          + \"px; width:\" + parseInt(rect.width)\n",
              "                          + \"px; height:\" + parseInt(rect.height)\n",
              "                          + \"px; z-index:1000;\";\n",
              "      canvas.width = rect.width;\n",
              "      canvas.height = rect.height;\n",
              "      var ctx = canvas.getContext('2d');\n",
              "      ctx.clearRect(0, 0, canvas.width, canvas.height);\n",
              "       \n",
              "      if (canvas.offsetParent === null)\n",
              "        console.log('hidden!');\n",
              "\n",
              "      //loss_function_2d();\n",
              "      return [canvas.width, canvas.height];\n",
              "    }\n",
              "\n",
              "    function draw_slider() {\n",
              "        var canvas = document.getElementById(\"slider\");\n",
              "        var ctx = canvas.getContext('2d');\n",
              "        var h = canvas.height;\n",
              "        var w = canvas.width;\n",
              "        var cur_start = 0;\n",
              "        ctx.clearRect(0, 0, canvas.width, canvas.height);\n",
              "        for (var i = 0; i < pts.length; ++i) {\n",
              "            ctx.fillStyle = colors[i];\n",
              "            ctx.fillRect(0, cur_start, w, h*coefs[i]);\n",
              "            cur_start += h*coefs[i];\n",
              "        }\n",
              "        \n",
              "    }\n",
              "\n",
              "    var active_coef = -1;\n",
              "    function mdown(event) {\n",
              "    //console.log('ddd');\n",
              "      event.stopPropagation();\n",
              "      x = event.offsetX;\n",
              "      y = event.offsetY;\n",
              "      var canvas = document.getElementById(\"slider\");\n",
              "      var h = canvas.height;\n",
              "      var H = 0;\n",
              "      for (var i = 0; i < coefs.length - 1; ++i) {\n",
              "        H += coefs[i] * h;\n",
              "        if (y > H - 10 && y < H +1)\n",
              "            active_coef = i;\n",
              "      }\n",
              "      //console.log(active_coef, coefs);\n",
              "    }\n",
              "\n",
              "    function mmove(event) { // for double-slider only\n",
              "      event.stopPropagation();\n",
              "      if (active_coef < 0)\n",
              "        return;\n",
              "      x = event.offsetX;\n",
              "      y = event.offsetY;\n",
              "      var canvas = document.getElementById(\"slider\");\n",
              "      var h = canvas.height;\n",
              "      var new_sum = y / h;\n",
              "      if (active_coef == 0) {\n",
              "        if (coefs[0] + coefs[1] < new_sum)\n",
              "            coefs[1] = 0.0;\n",
              "        else\n",
              "            coefs[1] = coefs[0] + coefs[1] - new_sum;\n",
              "        coefs[0] = new_sum;\n",
              "        coefs[2] = 1.0 - coefs[0] - coefs[1];\n",
              "      }\n",
              "      if (active_coef == 1) {\n",
              "        if (coefs[0] > new_sum)\n",
              "            coefs[0] = new_sum;\n",
              "        coefs[1] = new_sum - coefs[0];\n",
              "        coefs[2] = 1.0 - coefs[0] - coefs[1];\n",
              "      }\n",
              "      draw_slider();\n",
              "      loss_function_2d();\n",
              "    }\n",
              "\n",
              "    function mup(event) {\n",
              "      active_coef = -1;\n",
              "    }\n",
              "\n",
              "\n",
              "  </script>\n",
              "</head>\n",
              "\n",
              "<body>\n",
              "\n",
              "<canvas id=\"paint\" width=600 height=600\n",
              "    onmousedown=\"mdown_handle(event)\"\n",
              "    onmousemove=\"mmove_handle(event)\"\n",
              "    onmouseup=\"mup_handle(event)\">\n",
              "</canvas>\n",
              "\n",
              "<canvas id=\"slider\" width=40 height=250\n",
              "    onmousedown=\"mdown(event)\"\n",
              "    onmousemove=\"mmove(event)\"\n",
              "    onmouseup=\"mup(event)\"\n",
              "    style=\"position:absolute;left:700px;top:250px;width:40px;height:250px;z-index:1000;\">\n",
              "</canvas>\n",
              "\n",
              "\n",
              "<div id=\"everything\" style=\"height:600px; width:600px;\">\n",
              "  <div id=\"for_right_plot\">\n",
              "  </div>\n",
              "</div>\n",
              "\n",
              "\n",
              "\n",
              "\n",
              "</body>\n",
              "\n",
              "<script>\n",
              "function init()\n",
              "{\n",
              "  loss_function_2d();\n",
              "  adjust_canvas();\n",
              "  loss_function_2d();\n",
              "  setInterval(adjust_canvas, 1000);\n",
              "  draw_slider();\n",
              "}\n",
              "init();\n",
              "</script>\n",
              "\n",
              "</html>\n"
            ],
            "text/plain": [
              "<IPython.core.display.HTML object>"
            ]
          },
          "metadata": {
            "tags": [
              "id12_content_0",
              "outputarea_id12",
              "user_output"
            ]
          }
        },
        {
          "output_type": "display_data",
          "data": {
            "application/javascript": [
              "window[\"28845230-f760-11ea-8df0-0242ac1c0002\"] = google.colab.output.setActiveOutputArea(window[\"2881c3ee-f760-11ea-8df0-0242ac1c0002\"]);\n",
              "//# sourceURL=js_be3397e3fd"
            ],
            "text/plain": [
              "<IPython.core.display.Javascript object>"
            ]
          },
          "metadata": {
            "tags": [
              "id12_content_0",
              "outputarea_id12"
            ]
          }
        },
        {
          "output_type": "display_data",
          "data": {
            "application/javascript": [
              "window[\"28864b62-f760-11ea-8df0-0242ac1c0002\"] = google.colab.output.getActiveOutputArea();\n",
              "//# sourceURL=js_9978685788"
            ],
            "text/plain": [
              "<IPython.core.display.Javascript object>"
            ]
          },
          "metadata": {
            "tags": [
              "id12_content_1",
              "outputarea_id12"
            ]
          }
        },
        {
          "output_type": "display_data",
          "data": {
            "application/javascript": [
              "window[\"2886a1de-f760-11ea-8df0-0242ac1c0002\"] = document.querySelector(\"#id12_content_1\");\n",
              "//# sourceURL=js_41ece1289b"
            ],
            "text/plain": [
              "<IPython.core.display.Javascript object>"
            ]
          },
          "metadata": {
            "tags": [
              "id12_content_1",
              "outputarea_id12"
            ]
          }
        },
        {
          "output_type": "display_data",
          "data": {
            "application/javascript": [
              "window[\"288701ba-f760-11ea-8df0-0242ac1c0002\"] = google.colab.output.setActiveOutputArea(window[\"2886a1de-f760-11ea-8df0-0242ac1c0002\"]);\n",
              "//# sourceURL=js_8ad89ccfa3"
            ],
            "text/plain": [
              "<IPython.core.display.Javascript object>"
            ]
          },
          "metadata": {
            "tags": [
              "id12_content_1",
              "outputarea_id12"
            ]
          }
        },
        {
          "output_type": "display_data",
          "data": {
            "application/javascript": [
              "window[\"28875098-f760-11ea-8df0-0242ac1c0002\"] = window[\"id12\"].setSelectedTabIndex(1);\n",
              "//# sourceURL=js_ddce9a021c"
            ],
            "text/plain": [
              "<IPython.core.display.Javascript object>"
            ]
          },
          "metadata": {
            "tags": [
              "id12_content_1",
              "outputarea_id12"
            ]
          }
        },
        {
          "output_type": "display_data",
          "data": {
            "application/vnd.jupyter.widget-view+json": {
              "model_id": "2bc82c8e62ad43098c72a46096cc8c60",
              "version_minor": 0,
              "version_major": 2
            },
            "text/plain": [
              "HBox(children=(Dropdown(description='Kernel:', options=('gaussian', 'tophat', 'epanechnikov', 'exponential', '…"
            ]
          },
          "metadata": {
            "tags": [
              "id12_content_1",
              "outputarea_id12",
              "user_output"
            ]
          }
        },
        {
          "output_type": "display_data",
          "data": {
            "application/vnd.jupyter.widget-view+json": {
              "model_id": "5cbfe727c5c94688b2444cbe30bdf8dc",
              "version_minor": 0,
              "version_major": 2
            },
            "text/plain": [
              "Output()"
            ]
          },
          "metadata": {
            "tags": [
              "id12_content_1",
              "outputarea_id12",
              "user_output"
            ]
          }
        },
        {
          "output_type": "display_data",
          "data": {
            "application/javascript": [
              "window[\"2ab86cee-f760-11ea-8df0-0242ac1c0002\"] = google.colab.output.setActiveOutputArea(window[\"28864b62-f760-11ea-8df0-0242ac1c0002\"]);\n",
              "//# sourceURL=js_b608cbd79c"
            ],
            "text/plain": [
              "<IPython.core.display.Javascript object>"
            ]
          },
          "metadata": {
            "tags": [
              "id12_content_1",
              "outputarea_id12"
            ]
          }
        }
      ]
    },
    {
      "cell_type": "markdown",
      "metadata": {
        "id": "W3HS22uyAKfr",
        "colab_type": "text"
      },
      "source": [
        "#KDE in 2D (kernel, bandwidth, sample, metric)"
      ]
    },
    {
      "cell_type": "markdown",
      "metadata": {
        "id": "xPOkOFQVo_C-",
        "colab_type": "text"
      },
      "source": [
        "Use the following demo to get the intuition on \n",
        "* How two-dimensional KDE works\n",
        "* How bandwidth influences the result\n",
        "* How choice of the kernel influences the result\n",
        "* How metric influences the result"
      ]
    },
    {
      "cell_type": "code",
      "metadata": {
        "id": "npHUVDt94MAz",
        "colab_type": "code",
        "colab": {}
      },
      "source": [
        "from sklearn.neighbors import KernelDensity\n",
        "# instantiate and fit the KDE model\n",
        "kde = KernelDensity()\n",
        "\n",
        "def fit_distribution(X, bandwidth, ker_name, metric_name):\n",
        "  params = {'bandwidth': bandwidth, 'kernel': ker_name, 'metric': metric_name}\n",
        "  kde.set_params(**params)\n",
        "  kde.fit(X)\n",
        "\n",
        "def evaluate_distribution(X):\n",
        "  logprob = kde.score_samples(X)\n",
        "  return np.exp(logprob)"
      ],
      "execution_count": null,
      "outputs": []
    },
    {
      "cell_type": "code",
      "metadata": {
        "id": "R_BZreRX4P8t",
        "colab_type": "code",
        "cellView": "form",
        "colab": {
          "base_uri": "https://localhost:8080/",
          "height": 617
        },
        "outputId": "b0b17250-e6c6-48d2-f8e1-c8703bd905ff"
      },
      "source": [
        "#@title Interactive 2D KDE\n",
        "import numpy as np\n",
        "import matplotlib.pyplot as plt\n",
        "from matplotlib.colors import ListedColormap\n",
        "from matplotlib import cm\n",
        "import seaborn as sns\n",
        "        \n",
        "def plot_clusters(x_, y_, z_):\n",
        "  fig = plt.figure(figsize=(10,10))\n",
        "  ax = fig.gca()\n",
        "  #ax = sns.kdeplot(X[:,0], X[:,1], cmap=\"Blues\", shade=True, shade_lowest=False)\n",
        "  sns.set()\n",
        "  ax.contourf(x_, y_, z_, alpha=0.5, cmap=\"Blues\")\n",
        "  ax.tick_params(axis=\"y\",direction=\"in\", pad=-60)\n",
        "  ax.tick_params(axis=\"x\",direction=\"in\", pad=-30)\n",
        "  ax.set_xticks(np.arange(-.75, 1, .25))\n",
        "  ax.set_yticks(np.arange(-.75, 1, .25))\n",
        "  ax.set_xlim([-1, 1])\n",
        "  ax.set_ylim([-1, 1])\n",
        "\n",
        "  plt.close(fig)\n",
        "  return fig\n",
        "\n",
        "import base64\n",
        "import io\n",
        "\n",
        "def figure_to_base64(fig):\n",
        "  buf = io.BytesIO()\n",
        "  fig.savefig(buf, format='png', bbox_inches='tight', pad_inches=0);\n",
        "  image_base64 = base64.b64encode(buf.getvalue()).decode('utf-8').replace('\\n', '')\n",
        "  buf.close()\n",
        "  return image_base64\n",
        "\n",
        "\n",
        "\n",
        "import json\n",
        "from IPython.display import display, clear_output\n",
        "\n",
        "def invoke(pts, n, ker_name, metric_name):\n",
        "  data = np.array(pts).reshape((-1, 2))\n",
        "  X = data / 300.0 - 1.0\n",
        "  X[:, 1] *= -1.0\n",
        "  fit_distribution(X, float(n)/1000.0, ker_name, metric_name)\n",
        "  x_ = np.linspace(-1.0, +1.0, num=300)\n",
        "  y_ = np.linspace(-1.0, +1.0, num=300)\n",
        "  xx, yy = np.meshgrid(x_, y_)\n",
        "  x_vec = np.transpose(np.vstack([xx.ravel(), yy.ravel()]))\n",
        "  G  = evaluate_distribution(x_vec).reshape((x_.shape[0],y_.shape[0]))\n",
        "  figr = plot_clusters(x_, y_, G)\n",
        "  image_base64 = figure_to_base64(figr)\n",
        "\n",
        "  return IPython.display.JSON({'image': image_base64, \n",
        "                               'g_x': x_.tolist(), 'g_y': y_.tolist(), 'g_z': G.tolist(),\n",
        "                               's_x': X[:, 0].tolist(), 's_y': X[:, 1].tolist(), 's_z': [0]*len(X)})\n",
        "\n",
        "\n",
        "import IPython\n",
        "from google.colab import output\n",
        "\n",
        "main_str = '''\n",
        "  <script src=\"https://cdn.plot.ly/plotly-latest.min.js\"></script> \n",
        "  <script type=\"application/javascript\">\n",
        "  \n",
        "    var active_pt = null;\n",
        "    var all_pts = [];\n",
        "    var classAbtn = [650, 100];\n",
        "    var classBbtn = [650, 200];\n",
        "    var ptR = 10.0;\n",
        "    var params = null;\n",
        "    var debug_txt = \"\";\n",
        "    var bg_image = new Image();\n",
        "\n",
        "    function is_close(pt1, pt2) {\n",
        "      return   (pt1[0] - pt2[0])*(pt1[0] - pt2[0])\n",
        "            +  (pt1[1] - pt2[1])*(pt1[1] - pt2[1])\n",
        "            <= ptR*ptR;\n",
        "    }\n",
        "  \n",
        "    function circ(ctx, pos) {\n",
        "      ctx.beginPath();\n",
        "      ctx.arc(pos[0], pos[1], ptR, 0.0, 2.0 * Math.PI, 0);\n",
        "      ctx.fillStyle = 'rgba(255, 128, 0, 0.5)';\n",
        "      ctx.fill();\n",
        "    }\n",
        "    \n",
        "    \n",
        "    function draw() {\n",
        "      var canvas = document.getElementById('canvas');\n",
        "      if (canvas.getContext) {\n",
        "        var ctx = canvas.getContext('2d');\n",
        "        \n",
        "        ctx.clearRect(0, 0, canvas.width, canvas.height); // cleanup before start\n",
        "        ctx.drawImage(bg_image, 0, 0, 600, 600);\n",
        "        ctx.strokeRect(0, 0, 600, 600); // field\n",
        "        \n",
        "        ctx.font = '20px serif';\n",
        "        ctx.fillStyle = 'black';\n",
        "        ctx.fillText(debug_txt, 200, 200);\n",
        "        \n",
        "        if (active_pt) {\n",
        "          circ(ctx, [active_pt[0], active_pt[1]]);\n",
        "        }\n",
        "        all_pts.forEach(function (item, index) {\n",
        "          circ(ctx, [item[0], item[1]]);\n",
        "        });\n",
        "\n",
        "      }\n",
        "    }\n",
        "    \n",
        "    var timer\n",
        "\n",
        "    function get_state() {\n",
        "      var rates = document.getElementsByName('rate');\n",
        "      for(var i = 0; i < rates.length; i++)\n",
        "        if(rates[i].checked)\n",
        "          return rates[i].value;\n",
        "      return \"none\";\n",
        "    }\n",
        "\n",
        "    \n",
        "    function mdown_handle(evt) {\n",
        "      evt.stopPropagation();\n",
        "      x = evt.offsetX;\n",
        "      y = evt.offsetY;\n",
        "      state = get_state();\n",
        "      if (state == \"add\") {\n",
        "        if (x < 600)\n",
        "            all_pts.push([x, y]);\n",
        "        return;\n",
        "      }\n",
        "\n",
        "      idx = -1;\n",
        "      all_pts.forEach(function (item, index) {\n",
        "        if (is_close([x,y], [item[0], item[1]])) {\n",
        "          idx = index;\n",
        "        }\n",
        "      });\n",
        "      if (idx <= -1)\n",
        "          return;\n",
        "      if (state == \"move\") {\n",
        "        active_pt = all_pts[idx];\n",
        "        all_pts.splice(idx, 1);\n",
        "      }\n",
        "      if (state == \"del\")\n",
        "          all_pts.splice(idx, 1);\n",
        "    }\n",
        "    \n",
        "    function mmove_handle(evt) {\n",
        "      evt.stopPropagation();\n",
        "      if (get_state() != \"move\")\n",
        "          return;\n",
        "      x = evt.offsetX;\n",
        "      y = evt.offsetY;\n",
        "      if (active_pt) {\n",
        "        active_pt[0] = x;\n",
        "        active_pt[1] = y;\n",
        "      }\n",
        "    }\n",
        "    \n",
        "    function mup_handle(evt) {\n",
        "      evt.stopPropagation();\n",
        "      x = evt.offsetX;\n",
        "      y = evt.offsetY;\n",
        "      if (x >= 600) {\n",
        "        active_pt = null;\n",
        "      }\n",
        "      if (active_pt) {\n",
        "        all_pts.push(active_pt);\n",
        "        active_pt = null;\n",
        "      }\n",
        "    }\n",
        "    \n",
        "    function clear_field() {\n",
        "      active_pt = null;\n",
        "      all_pts = [];\n",
        "    }\n",
        "\n",
        "\n",
        "   function plot_3d(g_x, g_y, g_z)\n",
        "   {\n",
        "     cell_for_plot = document.getElementById('for_plotly_plot');\n",
        "     //Plotly.deleteTraces(cell_for_plot, [0, 1]);\n",
        "     var data = [{\n",
        "           x: g_x,\n",
        "           y: g_y,\n",
        "           z: g_z,\n",
        "           type: 'surface',\n",
        "           opacity: 0.9,\n",
        "           showscale: false,\n",
        "           colorscale: \"Viridis\"\n",
        "        }];\n",
        "  \n",
        "     var layout = {\n",
        "          title: 'pdf estimate',\n",
        "          autosize: false,\n",
        "          width: 600,\n",
        "          height: 600,\n",
        "          showlegend: false,\n",
        "          scene: {\n",
        "            camera: {\n",
        "              up: {x: 0, y: 1, z: 0},\n",
        "              center: {x: 0, y: 0, z: 0},\n",
        "              eye: {x: 0.0, y: -1.0, z: 1.4}\n",
        "            }\n",
        "          }\n",
        "        };\n",
        "     Plotly.newPlot(cell_for_plot, data, layout);\n",
        "   }\n",
        "\n",
        "   function plot_scatter(s_x, s_y, s_z)\n",
        "   {\n",
        "          \n",
        "     cell_for_plot = document.getElementById('for_plotly_plot');\n",
        "     var data = [{\n",
        "           x: s_x,\n",
        "           y: s_y,\n",
        "           z: s_z,\n",
        "           type: 'scatter3d',\n",
        "           mode: 'markers',\n",
        "           marker: {\n",
        "             size: 4,\n",
        "             colorscale: \"Viridis\",\n",
        "             line: {\n",
        "               width: 2,\n",
        "               color: 'rgba(0, 0, 0, 0.5)'\n",
        "             }\n",
        "           }\n",
        "        }];\n",
        "    Plotly.plot(cell_for_plot, data, {});\n",
        "   }\n",
        "\n",
        "\n",
        "    var cur_depth = 100;\n",
        "\n",
        "    async function calculate() {\n",
        "      if (!all_pts)\n",
        "        return;\n",
        "      var merged = [].concat.apply([], all_pts);\n",
        "      var e = document.getElementById(\"select_kernel\");\n",
        "      var ker_name = e.options[e.selectedIndex].value;\n",
        "      var e1 = document.getElementById(\"select_metric\");\n",
        "      var metric_name = e1.options[e1.selectedIndex].value;\n",
        "      const result = await google.colab.kernel.invokeFunction('notebook.InvSVM', [merged, cur_depth, ker_name, metric_name], {});\n",
        "      params = result.data['application/json'];\n",
        "            \n",
        "      bg_image.src = 'data:image/  png;base64,' + params.image;\n",
        "      cell_for_plot = document.getElementById('for_plotly_plot');\n",
        "      \n",
        "      plot_3d(params.g_x, params.g_y, params.g_z);\n",
        "      plot_scatter(params.s_x, params.s_y, params.s_z);\n",
        "      \n",
        "    }\n",
        "\n",
        "   function h_change(x) {\n",
        "    el = document.getElementById(\"slider_val\");\n",
        "    cur_depth = x;\n",
        "    el.innerHTML = x;\n",
        "  }\n",
        "\n",
        " </script>\n",
        "\n",
        "<div id=\"everything\" style=\"height:600px;\">\n",
        "<div id=\"for_plotly_plot\" style=\"position:absolute; top:0px; left:0px; height:600px; width:600px;\">\n",
        "</div>\n",
        "<div id=\"custom_controls\" style=\"position:absolute; top:0px; left:600px;\">\n",
        "  <canvas id=\"canvas\" width=\"800\" height=\"600\" \n",
        "    onmousedown=\"mdown_handle(event)\"\n",
        "    onmousemove=\"mmove_handle(event)\"\n",
        "    onmouseup=\"mup_handle(event)\"></canvas>\n",
        "  <div style=\"position:absolute; top:200px; left:625px;\">\n",
        "   <div style=\"border-style: solid;\">\n",
        "    <input type=\"radio\" id=\"r1\" name=\"rate\" value=\"add\" checked=\"checked\"> Add data point\n",
        "    <br>\n",
        "    <input type=\"radio\" id=\"r2\" name=\"rate\" value=\"move\"> Move data point\n",
        "    <br>\n",
        "    <input type=\"radio\" id=\"r3\" name=\"rate\" value=\"del\"> Delete data point\n",
        "    <br>\n",
        "    <button type=\"button\" onclick=\"clear_field();\">\n",
        "      Clear\n",
        "    </button>\n",
        "   </div>\n",
        "   <br><br>Bandwidth x 1000:<br>\n",
        "    <input type=\"range\" min=\"1\" max=\"200\" value=\"100\" oninput=\"h_change(this.value)\">\n",
        "    <br><div id=\"slider_val\">100</div>\n",
        "   <br>Kernel:<br>\n",
        "   <select id=\"select_kernel\">\n",
        "       <option value=\"gaussian\">gaussian</option>\n",
        "       <option value=\"tophat\">tophat</option>\n",
        "       <option value=\"epanechnikov\">epanechnikov</option>\n",
        "       <option value=\"exponential\">exponential</option>\n",
        "       <option value=\"linear\">linear</option>\n",
        "       <option value=\"cosine\">cosine</option>\n",
        "   </select>\n",
        "   <br>\n",
        "   Metric:\n",
        "   <br>\n",
        "   <select id=\"select_metric\">\n",
        "       <option value=\"euclidean\">euclidean</option>\n",
        "       <option value=\"manhattan\">manhattan</option>\n",
        "       <option value=\"infinity\">infinity</option>\n",
        "   </select>\n",
        "   <br><br>\n",
        "    <button type=\"button\" onclick=\"calculate();\">\n",
        "      KDE\n",
        "    </button>\n",
        "  </div>\n",
        "</div>\n",
        "<div>\n",
        "  \n",
        "<script>\n",
        "function init()\n",
        "{\n",
        "  timer = setInterval(draw, 10);\n",
        "}\n",
        "\n",
        "init();\n",
        "</script>\n",
        "'''\n",
        "\n",
        "display(IPython.display.HTML(main_str))\n",
        "output.register_callback('notebook.InvSVM', invoke)"
      ],
      "execution_count": null,
      "outputs": [
        {
          "output_type": "display_data",
          "data": {
            "text/html": [
              "\n",
              "  <script src=\"https://cdn.plot.ly/plotly-latest.min.js\"></script> \n",
              "  <script type=\"application/javascript\">\n",
              "  \n",
              "    var active_pt = null;\n",
              "    var all_pts = [];\n",
              "    var classAbtn = [650, 100];\n",
              "    var classBbtn = [650, 200];\n",
              "    var ptR = 10.0;\n",
              "    var params = null;\n",
              "    var debug_txt = \"\";\n",
              "    var bg_image = new Image();\n",
              "\n",
              "    function is_close(pt1, pt2) {\n",
              "      return   (pt1[0] - pt2[0])*(pt1[0] - pt2[0])\n",
              "            +  (pt1[1] - pt2[1])*(pt1[1] - pt2[1])\n",
              "            <= ptR*ptR;\n",
              "    }\n",
              "  \n",
              "    function circ(ctx, pos) {\n",
              "      ctx.beginPath();\n",
              "      ctx.arc(pos[0], pos[1], ptR, 0.0, 2.0 * Math.PI, 0);\n",
              "      ctx.fillStyle = 'rgba(255, 128, 0, 0.5)';\n",
              "      ctx.fill();\n",
              "    }\n",
              "    \n",
              "    \n",
              "    function draw() {\n",
              "      var canvas = document.getElementById('canvas');\n",
              "      if (canvas.getContext) {\n",
              "        var ctx = canvas.getContext('2d');\n",
              "        \n",
              "        ctx.clearRect(0, 0, canvas.width, canvas.height); // cleanup before start\n",
              "        ctx.drawImage(bg_image, 0, 0, 600, 600);\n",
              "        ctx.strokeRect(0, 0, 600, 600); // field\n",
              "        \n",
              "        ctx.font = '20px serif';\n",
              "        ctx.fillStyle = 'black';\n",
              "        ctx.fillText(debug_txt, 200, 200);\n",
              "        \n",
              "        if (active_pt) {\n",
              "          circ(ctx, [active_pt[0], active_pt[1]]);\n",
              "        }\n",
              "        all_pts.forEach(function (item, index) {\n",
              "          circ(ctx, [item[0], item[1]]);\n",
              "        });\n",
              "\n",
              "      }\n",
              "    }\n",
              "    \n",
              "    var timer\n",
              "\n",
              "    function get_state() {\n",
              "      var rates = document.getElementsByName('rate');\n",
              "      for(var i = 0; i < rates.length; i++)\n",
              "        if(rates[i].checked)\n",
              "          return rates[i].value;\n",
              "      return \"none\";\n",
              "    }\n",
              "\n",
              "    \n",
              "    function mdown_handle(evt) {\n",
              "      evt.stopPropagation();\n",
              "      x = evt.offsetX;\n",
              "      y = evt.offsetY;\n",
              "      state = get_state();\n",
              "      if (state == \"add\") {\n",
              "        if (x < 600)\n",
              "            all_pts.push([x, y]);\n",
              "        return;\n",
              "      }\n",
              "\n",
              "      idx = -1;\n",
              "      all_pts.forEach(function (item, index) {\n",
              "        if (is_close([x,y], [item[0], item[1]])) {\n",
              "          idx = index;\n",
              "        }\n",
              "      });\n",
              "      if (idx <= -1)\n",
              "          return;\n",
              "      if (state == \"move\") {\n",
              "        active_pt = all_pts[idx];\n",
              "        all_pts.splice(idx, 1);\n",
              "      }\n",
              "      if (state == \"del\")\n",
              "          all_pts.splice(idx, 1);\n",
              "    }\n",
              "    \n",
              "    function mmove_handle(evt) {\n",
              "      evt.stopPropagation();\n",
              "      if (get_state() != \"move\")\n",
              "          return;\n",
              "      x = evt.offsetX;\n",
              "      y = evt.offsetY;\n",
              "      if (active_pt) {\n",
              "        active_pt[0] = x;\n",
              "        active_pt[1] = y;\n",
              "      }\n",
              "    }\n",
              "    \n",
              "    function mup_handle(evt) {\n",
              "      evt.stopPropagation();\n",
              "      x = evt.offsetX;\n",
              "      y = evt.offsetY;\n",
              "      if (x >= 600) {\n",
              "        active_pt = null;\n",
              "      }\n",
              "      if (active_pt) {\n",
              "        all_pts.push(active_pt);\n",
              "        active_pt = null;\n",
              "      }\n",
              "    }\n",
              "    \n",
              "    function clear_field() {\n",
              "      active_pt = null;\n",
              "      all_pts = [];\n",
              "    }\n",
              "\n",
              "\n",
              "   function plot_3d(g_x, g_y, g_z)\n",
              "   {\n",
              "     cell_for_plot = document.getElementById('for_plotly_plot');\n",
              "     //Plotly.deleteTraces(cell_for_plot, [0, 1]);\n",
              "     var data = [{\n",
              "           x: g_x,\n",
              "           y: g_y,\n",
              "           z: g_z,\n",
              "           type: 'surface',\n",
              "           opacity: 0.9,\n",
              "           showscale: false,\n",
              "           colorscale: \"Viridis\"\n",
              "        }];\n",
              "  \n",
              "     var layout = {\n",
              "          title: 'pdf estimate',\n",
              "          autosize: false,\n",
              "          width: 600,\n",
              "          height: 600,\n",
              "          showlegend: false,\n",
              "          scene: {\n",
              "            camera: {\n",
              "              up: {x: 0, y: 1, z: 0},\n",
              "              center: {x: 0, y: 0, z: 0},\n",
              "              eye: {x: 0.0, y: -1.0, z: 1.4}\n",
              "            }\n",
              "          }\n",
              "        };\n",
              "     Plotly.newPlot(cell_for_plot, data, layout);\n",
              "   }\n",
              "\n",
              "   function plot_scatter(s_x, s_y, s_z)\n",
              "   {\n",
              "          \n",
              "     cell_for_plot = document.getElementById('for_plotly_plot');\n",
              "     var data = [{\n",
              "           x: s_x,\n",
              "           y: s_y,\n",
              "           z: s_z,\n",
              "           type: 'scatter3d',\n",
              "           mode: 'markers',\n",
              "           marker: {\n",
              "             size: 4,\n",
              "             colorscale: \"Viridis\",\n",
              "             line: {\n",
              "               width: 2,\n",
              "               color: 'rgba(0, 0, 0, 0.5)'\n",
              "             }\n",
              "           }\n",
              "        }];\n",
              "    Plotly.plot(cell_for_plot, data, {});\n",
              "   }\n",
              "\n",
              "\n",
              "    var cur_depth = 100;\n",
              "\n",
              "    async function calculate() {\n",
              "      if (!all_pts)\n",
              "        return;\n",
              "      var merged = [].concat.apply([], all_pts);\n",
              "      var e = document.getElementById(\"select_kernel\");\n",
              "      var ker_name = e.options[e.selectedIndex].value;\n",
              "      var e1 = document.getElementById(\"select_metric\");\n",
              "      var metric_name = e1.options[e1.selectedIndex].value;\n",
              "      const result = await google.colab.kernel.invokeFunction('notebook.InvSVM', [merged, cur_depth, ker_name, metric_name], {});\n",
              "      params = result.data['application/json'];\n",
              "            \n",
              "      bg_image.src = 'data:image/  png;base64,' + params.image;\n",
              "      cell_for_plot = document.getElementById('for_plotly_plot');\n",
              "      \n",
              "      plot_3d(params.g_x, params.g_y, params.g_z);\n",
              "      plot_scatter(params.s_x, params.s_y, params.s_z);\n",
              "      \n",
              "    }\n",
              "\n",
              "   function h_change(x) {\n",
              "    el = document.getElementById(\"slider_val\");\n",
              "    cur_depth = x;\n",
              "    el.innerHTML = x;\n",
              "  }\n",
              "\n",
              " </script>\n",
              "\n",
              "<div id=\"everything\" style=\"height:600px;\">\n",
              "<div id=\"for_plotly_plot\" style=\"position:absolute; top:0px; left:0px; height:600px; width:600px;\">\n",
              "</div>\n",
              "<div id=\"custom_controls\" style=\"position:absolute; top:0px; left:600px;\">\n",
              "  <canvas id=\"canvas\" width=\"800\" height=\"600\" \n",
              "    onmousedown=\"mdown_handle(event)\"\n",
              "    onmousemove=\"mmove_handle(event)\"\n",
              "    onmouseup=\"mup_handle(event)\"></canvas>\n",
              "  <div style=\"position:absolute; top:200px; left:625px;\">\n",
              "   <div style=\"border-style: solid;\">\n",
              "    <input type=\"radio\" id=\"r1\" name=\"rate\" value=\"add\" checked=\"checked\"> Add data point\n",
              "    <br>\n",
              "    <input type=\"radio\" id=\"r2\" name=\"rate\" value=\"move\"> Move data point\n",
              "    <br>\n",
              "    <input type=\"radio\" id=\"r3\" name=\"rate\" value=\"del\"> Delete data point\n",
              "    <br>\n",
              "    <button type=\"button\" onclick=\"clear_field();\">\n",
              "      Clear\n",
              "    </button>\n",
              "   </div>\n",
              "   <br><br>Bandwidth x 1000:<br>\n",
              "    <input type=\"range\" min=\"1\" max=\"200\" value=\"100\" oninput=\"h_change(this.value)\">\n",
              "    <br><div id=\"slider_val\">100</div>\n",
              "   <br>Kernel:<br>\n",
              "   <select id=\"select_kernel\">\n",
              "       <option value=\"gaussian\">gaussian</option>\n",
              "       <option value=\"tophat\">tophat</option>\n",
              "       <option value=\"epanechnikov\">epanechnikov</option>\n",
              "       <option value=\"exponential\">exponential</option>\n",
              "       <option value=\"linear\">linear</option>\n",
              "       <option value=\"cosine\">cosine</option>\n",
              "   </select>\n",
              "   <br>\n",
              "   Metric:\n",
              "   <br>\n",
              "   <select id=\"select_metric\">\n",
              "       <option value=\"euclidean\">euclidean</option>\n",
              "       <option value=\"manhattan\">manhattan</option>\n",
              "       <option value=\"infinity\">infinity</option>\n",
              "   </select>\n",
              "   <br><br>\n",
              "    <button type=\"button\" onclick=\"calculate();\">\n",
              "      KDE\n",
              "    </button>\n",
              "  </div>\n",
              "</div>\n",
              "<div>\n",
              "  \n",
              "<script>\n",
              "function init()\n",
              "{\n",
              "  timer = setInterval(draw, 10);\n",
              "}\n",
              "\n",
              "init();\n",
              "</script>\n"
            ],
            "text/plain": [
              "<IPython.core.display.HTML object>"
            ]
          },
          "metadata": {
            "tags": []
          }
        }
      ]
    },
    {
      "cell_type": "markdown",
      "metadata": {
        "id": "6RG1GigA-C6r",
        "colab_type": "text"
      },
      "source": [
        "#1849 Broad Street cholera outbreak visualization"
      ]
    },
    {
      "cell_type": "markdown",
      "metadata": {
        "id": "jJ3VwZ_fMwvo",
        "colab_type": "text"
      },
      "source": [
        "The Broad Street cholera outbreak was a severe outbreak of cholera that occurred in 1854 near Broad Street (now Broadwick Street) in the Soho district of the City of Westminster, London, England, and occurred during the 1846–1860 cholera pandemic happening worldwide. This outbreak, which killed 616 people, is best known for the physician John Snow's study of its causes and his hypothesis that germ-contaminated water was the source of cholera, rather than particles in the air.This discovery came to influence public health and the construction of improved sanitation facilities beginning in the mid-19th century."
      ]
    },
    {
      "cell_type": "markdown",
      "metadata": {
        "id": "4fXVGgGf-F5T",
        "colab_type": "text"
      },
      "source": [
        "\n",
        "![](https://raw.githubusercontent.com/fbeilstein/machine_learning/master/lecture_15_kernel_density_estimation/snows.png) \n",
        "\n",
        "On 31 August 1854, after several other outbreaks had occurred elsewhere in the city, a major outbreak of cholera occurred in Soho. Snow, the physician who eventually linked the outbreak to contaminated water, later called it \"the most terrible outbreak of cholera which ever occurred in this kingdom.\"\n",
        "\n",
        "Over the next three days, 127 people on or near Broad Street died. During the next week, three quarters of the residents had fled the area. By 10 September, 500 people had died and the mortality rate was 12.8 percent in some parts of the city. By the end of the outbreak, 616 people had died.\n",
        "\n",
        "Many of the victims were taken to the Middlesex Hospital, where their treatment was superintended by Florence Nightingale (we've talked about here in statistics lecture), who briefly joined the hospital in early September in order to help with the outbreak. \n",
        "\n",
        "By talking to local residents Snow identified the source of the outbreak as the public water pump on Broad Street. Although Snow's chemical and microscope examination of a sample of the water from this Broad Street pump water did not conclusively prove its danger, his facts about the patterns of illness and death among residents in Soho persuaded the St James parish authorities to disable the well pump by removing its handle.\n",
        "\n",
        "It's worth mentioning that the germ theory was not established at this point (Louis Pasteur did not propose it until 1861). Snow did not understand the mechanism by which disease was transmitted, but the evidence led him to believe that it was NOT due to breathing foul air. Based on the pattern of illness among residents, Snow hypothesized that cholera was spread by an agent in contaminated water. He first published his theory in 1849, in an essay titled \"On the Mode of Communication of Cholera\".\n",
        "\n",
        "<br>\n",
        "\n",
        "<img src=\"https://raw.githubusercontent.com/fbeilstein/machine_learning/master/lecture_15_kernel_density_estimation/snows_cholera_map.png\" width=\"650px\" />\n",
        "\n",
        " "
      ]
    },
    {
      "cell_type": "markdown",
      "metadata": {
        "id": "fSfWfk_LHhbe",
        "colab_type": "text"
      },
      "source": [
        "**Preparation**\n",
        "\n",
        "Download the dataset in a `csv` format from github.\n",
        "Following code should do the job."
      ]
    },
    {
      "cell_type": "code",
      "metadata": {
        "id": "B1KTWDE7Hde5",
        "colab_type": "code",
        "colab": {}
      },
      "source": [
        "# download the dataset\n",
        "!wget https://raw.githubusercontent.com/fbeilstein/machine_learning/master/datasets/pumps.csv\n",
        "!wget https://raw.githubusercontent.com/fbeilstein/machine_learning/master/datasets/deaths.csv\n",
        "!wget https://raw.githubusercontent.com/fbeilstein/machine_learning/master/datasets/cholera_map.jpg"
      ],
      "execution_count": null,
      "outputs": []
    },
    {
      "cell_type": "markdown",
      "metadata": {
        "id": "-OLCG1TUTkFl",
        "colab_type": "text"
      },
      "source": [
        "The files you have downloaded contain the following information\n",
        "* `pumps.csv` -- coordinates of pumps (sources of water), contains $2$ columns, namely `x` and `y`\n",
        "* `deaths.csv` -- coordinates of households, where anyone had died from cholera. Points can repeat if few deaths in one house were spotted.\n",
        "* `cholera_map.jpg` -- map of London. Coordinates in other files correspond to pixels in this image."
      ]
    },
    {
      "cell_type": "markdown",
      "metadata": {
        "id": "FOSvo-Njcnjc",
        "colab_type": "text"
      },
      "source": [
        "**Problem 1:**\n",
        "complete the `read_dataframe(filename)` function so that it takes name of the file and returns pandas.dataframe"
      ]
    },
    {
      "cell_type": "code",
      "metadata": {
        "id": "J2akMqyzaDwz",
        "colab_type": "code",
        "colab": {}
      },
      "source": [
        "import pandas as pd\n",
        "\n",
        "def read_dataframe(filename):\n",
        "  # ENTER YOUR CODE HERE"
      ],
      "execution_count": null,
      "outputs": []
    },
    {
      "cell_type": "markdown",
      "metadata": {
        "id": "5pZNH6Prc0xp",
        "colab_type": "text"
      },
      "source": [
        "Use the following code to visualize tables."
      ]
    },
    {
      "cell_type": "code",
      "metadata": {
        "id": "1LHzjTJGbggm",
        "colab_type": "code",
        "cellView": "form",
        "colab": {}
      },
      "source": [
        "#@title Visualize table\n",
        "from google.colab import data_table\n",
        "from google.colab import widgets\n",
        "\n",
        "tb = widgets.TabBar(['pumps.csv', 'deaths.csv'], location='top')\n",
        "with tb.output_to(0):\n",
        "  display(data_table.DataTable(read_dataframe('pumps.csv'), include_index=False, num_rows_per_page=10))\n",
        "with tb.output_to(1):\n",
        "  display(data_table.DataTable(read_dataframe('deaths.csv'), include_index=False, num_rows_per_page=10))\n"
      ],
      "execution_count": null,
      "outputs": []
    },
    {
      "cell_type": "markdown",
      "metadata": {
        "id": "F_Hkog6_edhH",
        "colab_type": "text"
      },
      "source": [
        "**Problem 2:**\n",
        "Visualize `cholera_map.jpg` with matplotlib.\n",
        "Complete the following function so that it plots the map.\n",
        "You can use `imread` and `imshow` functions."
      ]
    },
    {
      "cell_type": "code",
      "metadata": {
        "id": "u0s685vlfDuL",
        "colab_type": "code",
        "colab": {}
      },
      "source": [
        "import matplotlib.pyplot as plt\n",
        "\n",
        "def plot_map(filename):\n",
        "  # ENTER YOUR CODE HERE\n",
        "\n",
        "plt.figure(figsize=(15, 15));\n",
        "plot_map('cholera_map.jpg')"
      ],
      "execution_count": null,
      "outputs": []
    },
    {
      "cell_type": "markdown",
      "metadata": {
        "id": "exmVtE0LjbuP",
        "colab_type": "text"
      },
      "source": [
        "**Problem 3:**\n",
        "Visualize points from given dataframe as a scatter plot.\n",
        "Suppose that dataframe contains two columns `x` and `y`.\n",
        "Use parameter `color` to set the color of points."
      ]
    },
    {
      "cell_type": "code",
      "metadata": {
        "id": "meUNoFQ0jqDj",
        "colab_type": "code",
        "colab": {}
      },
      "source": [
        "def plot_points(dataframe, color):\n",
        "  # ENTER YOUR CODE HERE\n",
        "\n",
        "plt.figure(figsize=(15, 15));\n",
        "plot_map('cholera_map.jpg')\n",
        "plot_points(read_dataframe('deaths.csv'), 'b')\n",
        "plot_points(read_dataframe('pumps.csv'), 'r')"
      ],
      "execution_count": null,
      "outputs": []
    },
    {
      "cell_type": "markdown",
      "metadata": {
        "id": "_nEyVZ72k1Y2",
        "colab_type": "text"
      },
      "source": [
        "**Problem 4:**\n",
        "Visualize points from the dataframe given as a kernel density.\n",
        "For better visuals tune opacity (e.g. set `alpha=0.8`).\n",
        "You may suppose that dataframe contains columns `x` and `y`."
      ]
    },
    {
      "cell_type": "code",
      "metadata": {
        "id": "eIVZAg-SlJ8D",
        "colab_type": "code",
        "colab": {}
      },
      "source": [
        "import seaborn as sns\n",
        "\n",
        "def plot_kde(dataframe):\n",
        "  # ENTER YOUR CODE HERE\n",
        "\n",
        "plt.figure(figsize=(15, 15));\n",
        "plot_map('cholera_map.jpg')\n",
        "plot_kde(read_dataframe('deaths.csv'))\n",
        "plot_points(read_dataframe('pumps.csv'), 'r')"
      ],
      "execution_count": null,
      "outputs": []
    },
    {
      "cell_type": "code",
      "metadata": {
        "id": "gmtCPkI9lv75",
        "colab_type": "code",
        "cellView": "form",
        "colab": {}
      },
      "source": [
        "#@title Visualize both\n",
        "from google.colab import widgets\n",
        "\n",
        "tb = widgets.TabBar(['Scatter', 'KDE'], location='top')\n",
        "with tb.output_to(0):\n",
        "  plt.figure(figsize=(15, 15));\n",
        "  plot_map('cholera_map.jpg')\n",
        "  plot_points(read_dataframe('deaths.csv'), 'b')\n",
        "  plot_points(read_dataframe('pumps.csv'), 'r')\n",
        "  plt.ylabel('y')\n",
        "  plt.xlabel('x')\n",
        "with tb.output_to(1):\n",
        "  plt.figure(figsize=(15, 15));\n",
        "  plot_map('cholera_map.jpg')\n",
        "  plot_kde(read_dataframe('deaths.csv'))\n",
        "  plot_points(read_dataframe('pumps.csv'), 'r')\n",
        "  plt.ylabel('y')\n",
        "  plt.xlabel('x')"
      ],
      "execution_count": null,
      "outputs": []
    }
  ]
}
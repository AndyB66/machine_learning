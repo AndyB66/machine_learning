{
  "nbformat": 4,
  "nbformat_minor": 0,
  "metadata": {
    "colab": {
      "name": "lecture_07_naive_bayes.ipynb",
      "provenance": [],
      "toc_visible": true,
      "include_colab_link": true
    },
    "kernelspec": {
      "name": "python3",
      "display_name": "Python 3"
    }
  },
  "cells": [
    {
      "cell_type": "markdown",
      "metadata": {
        "id": "view-in-github",
        "colab_type": "text"
      },
      "source": [
        "<a href=\"https://colab.research.google.com/github/fbeilstein/machine_learning/blob/master/lecture_07_naive_bayes.ipynb\" target=\"_parent\"><img src=\"https://colab.research.google.com/assets/colab-badge.svg\" alt=\"Open In Colab\"/></a>"
      ]
    },
    {
      "cell_type": "markdown",
      "metadata": {
        "id": "kuo5QB1khKN_"
      },
      "source": [
        "#Discriminative vs. Generative Methods for Classification"
      ]
    },
    {
      "cell_type": "markdown",
      "metadata": {
        "id": "S0493wdxhQVJ"
      },
      "source": [
        "* **Discriminative model (conditional or backward model)**\n",
        "\n",
        "A discriminative method stablishes a model that maps a datapoint ${\\bf x}$ to $y$. Such a model is either a pure or traditional discriminative model if it is deterministic and aims to fit the training set in some optimall way, or a conditional model if it is probabilistic in nature, such as the conditional probability $p(y\\vert{\\bf x})$. The model parameters in ${\\bf\\theta}$ are obtained in some optimal way based on the training set. Then prediction can be made for any unlabeled ${\\bf x}$ in terms of the corresponding $y$. As a discriminative method aims at finding the decision boundaries between different classes based on the training set, only those data samples that are close to the boundaries play an important role, while all other samples farther away from the boundaries are mostly ignored.\n",
        "\n",
        "Typical discrimiative methods include:\n",
        "\n",
        "    - K-nearest neighbors algorithm\n",
        "    - Linear and logistic regressions\n",
        "    - Support vector machines\n",
        "    - Perceptrons and Neural networks\n",
        "    - Decision trees and random forests\n",
        "\n",
        "* **Generative model (forward model)**\n",
        "\n",
        "A generative method first assumes certain probabilistic model for the underlying structure of the observed data, such the joint probability $p({\\bf x},y\\vert{\\bf\\theta})$ based on all data samples available. It then estimates the parameter ${\\bf\\theta}$ of the model based on the training dataset, and obtains the conditional probability $p(y\\vert{\\bf x})$ (by Bayes' theorem) based on which a prediction can be made for any unlabeled ${\\bf x}$ to find the corresponding $y$. As in general the generative method is based on some probabilistic model of the data, it can be used for unsupervised learning as well as supervised.\n",
        "\n",
        "Typical generative methods include:\n",
        "\n",
        "    - Naive Bayes classifiers\n",
        "    - Gaussian mixture classifiers\n",
        "    - Hidden Markov model"
      ]
    },
    {
      "cell_type": "markdown",
      "metadata": {
        "id": "7QVSrYiAiNRM"
      },
      "source": [
        "**comparison**\n",
        "\n",
        "* The **discriminative** methods find the decision boundary in the feature space directly based on the data points in the training set, in general they\n",
        "  - are simpler than the generative approach requiring problem-specific knowledge for building models of the data,\n",
        "  - are effective in producing accurate result when the dataset is large\n",
        "  - provide no insight or interpretation regarding the data and no uncertainty estimate\n",
        "\n",
        "* The **generative** methods first establish a probabilistic model for the underlying structure of the data as an effort to explain how the data was generated, and then finds the decision boundary based the model. In general, they\n",
        "  - allow the use of problem-specific knowlege for building the model,\n",
        "  - can provide explanation and interpretation of the data,\n",
        "  - may be less prone to overfitting than a discriminative method,\n",
        "  - can provide uncertainty estimate\n",
        "  - may not be as accurate as the discriminative methods if the model does not fit the dataset well."
      ]
    },
    {
      "cell_type": "markdown",
      "metadata": {
        "id": "aDqiCnk_5kyM"
      },
      "source": [
        "#Concepts of probability theory we will need"
      ]
    },
    {
      "cell_type": "markdown",
      "metadata": {
        "id": "LJ53VfgJ8el8"
      },
      "source": [
        "<hr size=\"2\" noshade=\"noshade\" color=\"black\"/>\n",
        "\n",
        "<font face=\"helvetica\" color=\"black\" size=\"6\">\n",
        "key concepts of probability\n",
        "</font>\n",
        "\n",
        "<font face=\"helvetica\" color=\"black\" size=\"3\">\n",
        "\n",
        "* elementary outcome\n",
        "* probability\n",
        "  - conditional probability\n",
        "  - joint probability\n",
        "*probability distribution\n",
        "  \n",
        "</font>\n",
        "\n",
        "<hr size=\"2\" noshade=\"noshade\" color=\"black\"/>"
      ]
    },
    {
      "cell_type": "markdown",
      "metadata": {
        "id": "WpWxeTOT5Ihi"
      },
      "source": [
        "In this lecture we are in the realm of probability theory.\n",
        "Let me remind you its key concepts.\n",
        "\n",
        "The atoms of every probability theory problem are elementary outcomes.\n",
        "But the key concept is one of an event -- it's a complex outcome that can include multiple elementary outcomes.\n",
        "Formally it's a subset of the set of the elementary outcomes.\n",
        "\n",
        "In plain words elementary events are collection of outcomes that should be\n",
        "* mutually exclusive\n",
        "* collectively exhostive\n",
        "* at the right \"granularity\"\n",
        "\n",
        "\n",
        "\n",
        "\n",
        "\n",
        "\n",
        "\n"
      ]
    },
    {
      "cell_type": "code",
      "source": [
        "#@title Elementary outcomes & events\n",
        "%%html\n",
        "\n",
        "<img src='https://fbeilstein.github.io/machine_learning/lecture_07_naive_bayes/elementary_outcomes_and_events.svg'>\n",
        "</img>"
      ],
      "metadata": {
        "cellView": "form",
        "id": "HpSMbssmxrt_",
        "outputId": "493462cf-e98b-4676-cd2e-b3ccd644a6a4",
        "colab": {
          "base_uri": "https://localhost:8080/",
          "height": 399
        }
      },
      "execution_count": null,
      "outputs": [
        {
          "output_type": "display_data",
          "data": {
            "text/plain": [
              "<IPython.core.display.HTML object>"
            ],
            "text/html": [
              "\n",
              "<img src='https://fbeilstein.github.io/machine_learning/lecture_07_naive_bayes/elementary_outcomes_and_events.svg'>\n",
              "</img>\n"
            ]
          },
          "metadata": {}
        }
      ]
    },
    {
      "cell_type": "markdown",
      "metadata": {
        "id": "h1nDTZqwYnOZ"
      },
      "source": [
        "**Example \"dice rolling\"**\n",
        "\n",
        "$\\Omega$ | description\n",
        "---|---\n",
        "{1,2,5,6} | Not exhaustive\n",
        "{1,2,3,4,5,6} | Seems good for most purposes\n",
        "{divisible by 2, divisible by 3, not divisible by 2 or 3} | Not mutually exclusive\n",
        "{1 and it rains, 1 and no rain,..., 6 and no rain} | May be too granular"
      ]
    },
    {
      "cell_type": "markdown",
      "metadata": {
        "id": "JKC-4wHXsDX1"
      },
      "source": [
        "**\"$\\sigma$\"-algebra**\n",
        "\n",
        "Let $X$ be some set, and let $\\mathcal{P}(X)$ represent its power set. Then a subset $\\Sigma \\subseteq \\mathcal{P}(X)$ is called a \"$\\sigma$\"-algebra if it satisfies the following three properties:\n",
        "\n",
        "* $X$ is in $\\Sigma$, and $X$ is considered to be the universal set in the following context.\n",
        "* $\\Sigma$ is closed under complementation: If $A$ is in $\\Sigma$, then so is its complement $X\\setminus A$.\n",
        "* $\\Sigma$ is closed under countable unions: If $A_1$, $A_2$, $A_3$, ... are in $\\Sigma$, then so is $A = A_1 \\cup A_2 \\cup \\cdots$.\n",
        "\n",
        "From these properties, it follows that the $\\sigma$-algebra is also closed under countable intersection (by applying De Morgan's laws).\n",
        "\n",
        "It also follows that the $\\varnothing$ is in $\\Sigma$ as complement of the whole $X$.  Moreover, since $\\left\\{X, \\varnothing\\right\\}$ satisfies all conditions it is the smallest possible $\\sigma$-algebra on $X$.  The largest possible $\\sigma$-algebra on $X$ is $\\mathcal{P}(X) = 2^X$.\n"
      ]
    },
    {
      "cell_type": "code",
      "source": [
        "#@title Complement and union\n",
        "%%html\n",
        "\n",
        "<img src='https://fbeilstein.github.io/machine_learning/lecture_07_naive_bayes/complement_and_union.svg'>\n",
        "</img>"
      ],
      "metadata": {
        "cellView": "form",
        "id": "jgffD11FyPtN",
        "outputId": "b1d2dcea-a9e7-43d1-e5c1-f550e9245e2f",
        "colab": {
          "base_uri": "https://localhost:8080/",
          "height": 405
        }
      },
      "execution_count": null,
      "outputs": [
        {
          "output_type": "display_data",
          "data": {
            "text/plain": [
              "<IPython.core.display.HTML object>"
            ],
            "text/html": [
              "\n",
              "<img src='https://fbeilstein.github.io/machine_learning/lecture_07_naive_bayes/complement_and_union.svg'>\n",
              "</img>\n"
            ]
          },
          "metadata": {}
        }
      ]
    },
    {
      "cell_type": "markdown",
      "metadata": {
        "id": "S9Vjq73ZyLEM"
      },
      "source": [
        "**Measure**\n",
        "\n",
        "Let $X$ be a set and $\\Sigma$ a Sigma-algebra over $X$. A function $\\mu$ from $\\Sigma$ to the extended real number line $\\bar{\\mathbb{R}}$ is called a \"measure\" if it satisfies the following properties:\n",
        "\n",
        "* Non-negativity: $\\forall E \\in \\Sigma: \\mu(E) \\geq 0$.\n",
        "* Null empty set: $\\mu(\\varnothing)=0$.\n",
        "* Countable additivity: For all countable collections $\\left. E_k\\right|_{k=0}^\\infty$ of pairwise disjoint sets in $\\Sigma$:\n",
        "$\\mu\\left(\\bigcup_{k=1}^\\infty E_k\\right)=\\sum_{k=1}^\\infty \\mu(E_k)$.\n",
        "\n",
        "If at least one set $E$ has finite measure, then the requirement that $\\mu(\\varnothing)=0$ is met automatically. Indeed, by countable additivity,\n",
        "$\\mu(E)=\\mu(E \\cup \\varnothing) = \\mu(E) + \\mu(\\varnothing),$ and therefore $\\mu(\\varnothing)=0$.\n",
        "\n",
        "**Probability**\n",
        "\n",
        "A measure defined on $\\sigma$-algebra $\\Sigma$ such that $\\mu(X) = 1$ is a probability measure."
      ]
    },
    {
      "cell_type": "markdown",
      "metadata": {
        "id": "fkU7Gr0dpj3U"
      },
      "source": [
        "We assign probabilities to events.\n",
        "Two events may happen at once.\n",
        "For example if we draw dice we can have an even number and a number divisible by $4$ simultaneously.\n",
        "\n",
        "We can ask what is the probability of event $A$ to happen if we know that event $B$ has happened.\n",
        "In a way we pretend that event $B$ has happened but we didn't notice whether $A$ has also happened and want to guess.\n",
        "The probability of $A$ given $B$ is called the conditional probability $P(A \\mid B)$.\n",
        "Events can also be joined together (they are sets after all) and we can quire for a probability of the joint event $P(A\\cap B)$ or $P(A, B)$."
      ]
    },
    {
      "cell_type": "code",
      "source": [
        "#@title Joint events\n",
        "%%html\n",
        "\n",
        "<img src='https://fbeilstein.github.io/machine_learning/lecture_07_naive_bayes/joint_events.svg'>\n",
        "</img>"
      ],
      "metadata": {
        "cellView": "form",
        "id": "Utqmw7GGyfLB",
        "outputId": "ffbc20ef-291b-428c-eaab-9c792635b537",
        "colab": {
          "base_uri": "https://localhost:8080/",
          "height": 343
        }
      },
      "execution_count": null,
      "outputs": [
        {
          "output_type": "display_data",
          "data": {
            "text/plain": [
              "<IPython.core.display.HTML object>"
            ],
            "text/html": [
              "\n",
              "<img src='https://fbeilstein.github.io/machine_learning/lecture_07_naive_bayes/joint_events.svg'>\n",
              "</img>\n"
            ]
          },
          "metadata": {}
        }
      ]
    },
    {
      "cell_type": "markdown",
      "metadata": {
        "id": "zn6Jn-QRnklx"
      },
      "source": [
        "**Our main tools:**\n",
        "* Multiplication rule $P(A\\cap B)=P(A)\\cdot P(B)$\n",
        "* Total probability theorem $P(B) = \\sum_i P(A_i) P(B|A_i)$ for partition $A_i$ of $X$ ($A_i$ in Sigma-algebra and measurable)\n",
        "* Bayes theorem (a bit later)"
      ]
    },
    {
      "cell_type": "markdown",
      "metadata": {
        "id": "yWJ5-p2ZlesZ"
      },
      "source": [
        "If\n",
        "$$\n",
        "P(A\\cap B)=P(A)\\cdot P(B).\n",
        "$$\n",
        "events $A$ and $B$ are called **independent**.\n",
        "\n",
        "In other words\n",
        "\n",
        "$$\n",
        "\\require{action}\n",
        "\\frac{P(A\\cap B)}{P(B)}=\\frac{P(A)}{\\toggle{P(\\Omega)}{1}\\endtoggle},\n",
        "$$\n",
        "\n",
        "where $\\Omega$ is the universum. That means that if $A$ and $B$ are independent the fraction of outcomes that support $A$ in $B$ equals the fraction of outcomes that support $A$ in $\\Omega$.  \n",
        "\n",
        "Informally independent events refer to unrelated aspects of the phenomenon we are observing.\n",
        "*Observing $A$ does not provide any new information on $B$*.\n",
        "Don't confuse conditional probability with joint probability.\n",
        "Conditional and joint probabilities are connected by formula\n",
        "\n",
        "$$\n",
        "\\def\\q{\\unicode{x201C}}\n",
        "\\def\\Q{\\unicode{x201D}}\n",
        "P(A|B)=\\frac{P(A\\cap B)}{P(B)}.\n",
        "$$\n",
        "\n",
        "If $A$ and $B$ are independent\n",
        "\n",
        "$$\n",
        "P(A|B)=P(A).\n",
        "$$\n",
        "\n",
        "This means that the fact that $B$ occurred doesn't influence the probability that $A$ occurred as well."
      ]
    },
    {
      "cell_type": "markdown",
      "metadata": {
        "id": "H23CBAhXyiLi"
      },
      "source": [
        "If\n",
        "$$\n",
        "P(A\\cap B | C)=P(A|C)\\cdot P(B|C).\n",
        "$$\n",
        "events $A$ and $B$ are called **conditionally independent** with condition $C$.\n",
        "\n",
        "* Conditioning may affect independence"
      ]
    },
    {
      "cell_type": "markdown",
      "metadata": {
        "id": "prCFaNbUzWsx"
      },
      "source": [
        "A collection of events is independent if any subcollection is independent. More formally\n",
        "$$\n",
        "P\\left(\\bigcap_{i \\in I\\subset \\{1,\\dots,n\\}} A_i\\right) = \\prod_{i \\in I\\subset \\{1,\\dots,n\\}} P(A_i)\n",
        "$$\n",
        "\n",
        "* pairwise independent events nay be **not** independent together.\n",
        "\n",
        "Consider 2 coin tosses.\n",
        "$$\n",
        "\\begin{array}{cc}\n",
        "HH(1/4) & HT(1/4) \\\\\n",
        "TH(1/4) & TT(1/4) \\\\\n",
        "\\end{array}\n",
        "$$\n",
        "Consider following events\n",
        "* $A_1$ first toss is H (HH, HT)\n",
        "* $A_2$ second toss is H (HH, TH)\n",
        "* $A_3$ both tosses have the same outcome (HH, TT)\n",
        "They are **pairwise independent** but all three together are **not independent**."
      ]
    },
    {
      "cell_type": "markdown",
      "metadata": {
        "id": "KCgT-RUb3qOD"
      },
      "source": [
        "Be careful with the problem statement -- probabilities may heavily depend on it. Consider the problem: \"King has a sibling, what is the probability that he has a sister suggesting that probabilities of boy or girl to be born are 1/2\". How do royal traditions influence our views? Consider the case when boys have precedence."
      ]
    },
    {
      "cell_type": "markdown",
      "metadata": {
        "id": "Cx08ev33K0TD"
      },
      "source": [
        "<hr size=\"2\" noshade=\"noshade\" color=\"black\"/>\n",
        "\n",
        "<font face=\"helvetica\" color=\"black\" size=\"3\">\n",
        "\n",
        "* Random variable is a function\n",
        "* Result is a realization of a random variable\n",
        "* Events are level sets (pre-image, fibration)\n",
        "  \n",
        "</font>\n",
        "\n",
        "<hr size=\"2\" noshade=\"noshade\" color=\"black\"/>"
      ]
    },
    {
      "cell_type": "markdown",
      "metadata": {
        "id": "NIU2w-jMMVsy"
      },
      "source": [
        "Another key concept is random variable. Sometimes it's possible to assign a number to each elementary outcome.\n",
        "\n",
        "\n",
        "\n"
      ]
    },
    {
      "cell_type": "code",
      "source": [
        "#@title Random variable\n",
        "%%html\n",
        "\n",
        "<img src='https://fbeilstein.github.io/machine_learning/lecture_07_naive_bayes/random_variable.svg'>\n",
        "</img>"
      ],
      "metadata": {
        "cellView": "form",
        "id": "U1waXeNZyveU",
        "outputId": "7da17094-d115-40b3-9f66-fd872aef872e",
        "colab": {
          "base_uri": "https://localhost:8080/",
          "height": 399
        }
      },
      "execution_count": null,
      "outputs": [
        {
          "output_type": "display_data",
          "data": {
            "text/plain": [
              "<IPython.core.display.HTML object>"
            ],
            "text/html": [
              "\n",
              "<img src='https://fbeilstein.github.io/machine_learning/lecture_07_naive_bayes/random_variable.svg'>\n",
              "</img>\n"
            ]
          },
          "metadata": {}
        }
      ]
    },
    {
      "cell_type": "markdown",
      "metadata": {
        "id": "HHKvW-XvpFGc"
      },
      "source": [
        "Symbolically we can express this as\n",
        "$$\n",
        "\\text{Random variable}=\\underbrace{\\Omega}_\\text{universum} + \\quad \\underbrace{\\Omega \\rightarrow \\mathbb{R}}_\\text{function}\n",
        "$$\n",
        "Informally we may think that the result of the trial is the number.\n",
        "We can also use analytic function (probability distribution) to assign probability to get a specific number in a trial.\n",
        "The most popular distributions are Uniform, Binomial, Negative Binomial, Geometric, Gaussian, Poisson."
      ]
    },
    {
      "cell_type": "markdown",
      "metadata": {
        "id": "mTKH7PBTU_QF"
      },
      "source": [
        "#Few points about random variables and distributions"
      ]
    },
    {
      "cell_type": "markdown",
      "metadata": {
        "id": "X9QB8S3kHdaT"
      },
      "source": [
        "**1) Random variable should be distinguished from its realization.**\n",
        "\n",
        "Random variable is an abstract notion, realization of a random variable is just a number.\n",
        "In a series of trials random variable $X$ may have realizations $0.1$, $10$ and $3$.\n",
        "If we want to say that $X$ has Normal distribution it's denoted like this\n",
        "\n",
        "$$\n",
        "X \\sim \\mathcal{N}(\\mu,\\,\\sigma^{2})\n",
        "$$\n",
        "\n",
        "We can also write this using pdf of $\\mathcal{N}$ as\n",
        "$$\n",
        "P(X=x)= \\frac{1}{\\sqrt{2 \\pi \\sigma^2}}e^{-\\frac{(x-\\mu)^2}{2\\sigma^2}}.\n",
        "$$\n",
        "Here $x$ is the realization of random variable $X$.\n",
        "\n",
        "**1') Also don't merge in your mind notions of distribution and pdf.**\n",
        "\n",
        "Pdf - is a one of the ways to describe continuous distribution. You also describe it with CDF or somehow else.\n",
        "$$\n",
        "p_X(x) = P(X=x) = \\mu(\\{\\omega\\in\\Omega | X(\\omega)=x\\})\n",
        "$$"
      ]
    },
    {
      "cell_type": "code",
      "source": [
        "#@title pdf vs cdf perspectives\n",
        "%%html\n",
        "\n",
        "<img src='https://fbeilstein.github.io/machine_learning/lecture_07_naive_bayes/pdf_vs_cdf_perspectives.svg'>\n",
        "</img>"
      ],
      "metadata": {
        "cellView": "form",
        "id": "zU5p5Qqty8AU",
        "outputId": "23fc58f5-d3c1-43e6-c8da-75535cbf5df6",
        "colab": {
          "base_uri": "https://localhost:8080/",
          "height": 361
        }
      },
      "execution_count": null,
      "outputs": [
        {
          "output_type": "display_data",
          "data": {
            "text/plain": [
              "<IPython.core.display.HTML object>"
            ],
            "text/html": [
              "\n",
              "<img src='https://fbeilstein.github.io/machine_learning/lecture_07_naive_bayes/pdf_vs_cdf_perspectives.svg'>\n",
              "</img>\n"
            ]
          },
          "metadata": {}
        }
      ]
    },
    {
      "cell_type": "markdown",
      "metadata": {
        "id": "kzet9m8WOFmR"
      },
      "source": [
        "\n",
        "\n",
        "Discrete random variables are described by pmf (probability mass function) that assigns probability to each outcome.\n",
        "\n"
      ]
    },
    {
      "cell_type": "code",
      "source": [
        "#@title Histogram\n",
        "%%html\n",
        "\n",
        "<img src='https://fbeilstein.github.io/machine_learning/lecture_07_naive_bayes/histogram.svg'>\n",
        "</img>"
      ],
      "metadata": {
        "cellView": "form",
        "id": "7G4QllB6zJT6",
        "outputId": "4dde55e4-699f-4813-f1a3-01133dca0cb6",
        "colab": {
          "base_uri": "https://localhost:8080/",
          "height": 550
        }
      },
      "execution_count": null,
      "outputs": [
        {
          "output_type": "display_data",
          "data": {
            "text/plain": [
              "<IPython.core.display.HTML object>"
            ],
            "text/html": [
              "\n",
              "<img src='https://fbeilstein.github.io/machine_learning/lecture_07_naive_bayes/histogram.svg'>\n",
              "</img>\n"
            ]
          },
          "metadata": {}
        }
      ]
    },
    {
      "cell_type": "markdown",
      "metadata": {
        "id": "ZjZAtfP6TPmj"
      },
      "source": [
        "**CDF is not redundant.**\n",
        "* CDF can describe distributions that are neither discrete nor continuous\n",
        "* CDF can be used to find distribution of $Y = g(X)$ (crucial in case of non-monotonic $g$, not needed for monotonic, simple formula for linear $g$): first find $F_Y(y)$, differentiate"
      ]
    },
    {
      "cell_type": "markdown",
      "metadata": {
        "id": "m55qlb9cOUg5"
      },
      "source": [
        "---\n",
        "**What is the defining property of the random process?**\n",
        "\n",
        "Probability distribution function.\n",
        "\n",
        "---"
      ]
    },
    {
      "cell_type": "markdown",
      "metadata": {
        "id": "OyYZtcJ3Pigb"
      },
      "source": [
        "**2) Every pdf depends on variables and parameters and consists of two parts:**\n",
        "* functional part (that depends on *variables* and parameters)\n",
        "* normalization part (that depends *only* on parameters).\n",
        "\n",
        "For example\n",
        "$$\n",
        "\\underbrace{\\frac{1}{\\sqrt{2 \\pi \\sigma^2}}}_{normalization}\\times \\underbrace{e^{-\\frac{(x-\\mu)^2}{2\\sigma^2}}}_{functional}\n",
        "$$\n",
        "\n",
        "There is no need to memorize normalization: it's just a constant that could be calculated from normalization condition\n",
        "\n",
        "$$\n",
        "\\int f(x, \\theta)dx=1.\n",
        "$$\n",
        "\n",
        "Try to remember overall behavior of the distribution like this: *Distribution has pdf of the form $C\\times x^{\\text{whatever}} e^{-\\frac{x}{\\text{something}}}$*.\n",
        "\n",
        "\n",
        "**3) Parameters of distributions may not have such clear meaning like in Gaussian distribution.**\n",
        "Moreover we can reparametrize distribution $f(\\theta)$ like this $$g(\\alpha)=f(1/\\alpha)$$ or like this $$h(\\beta)=f(e^{\\beta}).$$\n",
        "In general, parameter is just a number that indexes distributions in certain family of distributions.\n"
      ]
    },
    {
      "cell_type": "markdown",
      "metadata": {
        "id": "RkiUop2gPnwB"
      },
      "source": [
        "---\n",
        "**Can we guess this function by datapoints we have?**\n",
        "\n",
        "No, we always have limited amount of data, while we need infinite (in many cases uncountable) supply of data.\n",
        "\n",
        "**What can we do then?**\n",
        "\n",
        "* Guess the family of PDFs (human intuition or knowledge is needed) indexed with a manageable number of parameters and leave their estimation to computer (MLE).\n",
        "* Estimate certain properties of the unknown distribution to get some idea on how it looks\n",
        "   - properties -- any functions defined on random variable $X$, preferably meaningful.\n",
        "\n",
        "---"
      ]
    },
    {
      "cell_type": "markdown",
      "metadata": {
        "id": "QFmb84qc5zXt"
      },
      "source": [
        "**4) There are functions defined for random variable $X$ that describe its behavior, e.g.**\n",
        "* expected value $\\mathbb{E}{[X]}$;\n",
        "\n",
        "$$\n",
        "\\begin{align}\n",
        "continuous\\,distr: \\qquad &\\mathbb{E}{[X]}=\\int p(x) \\, x \\, dx \\\\\n",
        "discrete \\,distr: \\qquad &\\mathbb{E}{[X]}=\\sum p_i(x_i) \\, x_i\n",
        "\\end{align}\n",
        "$$"
      ]
    },
    {
      "cell_type": "code",
      "source": [
        "#@title Expected value (mean)\n",
        "%%html\n",
        "\n",
        "<img src='https://fbeilstein.github.io/machine_learning/lecture_07_naive_bayes/expected_value.svg'>\n",
        "</img>"
      ],
      "metadata": {
        "cellView": "form",
        "id": "2WuNf4q1zWAC",
        "outputId": "5abfb7a1-d760-4399-d250-38ea5d8cbb70",
        "colab": {
          "base_uri": "https://localhost:8080/",
          "height": 437
        }
      },
      "execution_count": null,
      "outputs": [
        {
          "output_type": "display_data",
          "data": {
            "text/plain": [
              "<IPython.core.display.HTML object>"
            ],
            "text/html": [
              "\n",
              "<img src='https://fbeilstein.github.io/machine_learning/lecture_07_naive_bayes/expected_value.svg'>\n",
              "</img>\n"
            ]
          },
          "metadata": {}
        }
      ]
    },
    {
      "cell_type": "markdown",
      "metadata": {
        "id": "iKFPpvja3jt6"
      },
      "source": [
        "#Recap on classical probability distributions"
      ]
    },
    {
      "cell_type": "markdown",
      "metadata": {
        "id": "C5VORi5J4puF"
      },
      "source": [
        "A **probability distribution** -- a mathematical function that provides the probabilities of occurrence of different possible outcomes in an experiment.\n",
        "\n",
        "There are **lots** of them!\n",
        "\n",
        "<br>\n",
        "\n",
        "![](https://raw.githubusercontent.com/fbeilstein/machine_learning/master/lecture_07_naive_bayes/dist.png)\n",
        "\n",
        "<br>\n",
        "\n",
        "Probability distributions could be\n",
        "* discrete\n",
        "* continuous\n",
        "\n",
        "Also they can be\n",
        "* univariate (one variable)\n",
        "* multivariate (multiple variables)\n",
        "\n",
        "Key concept to build-up classical probability distributions -- picking with and without replacement\n",
        "\n",
        "---"
      ]
    },
    {
      "cell_type": "markdown",
      "metadata": {
        "id": "LyV0xhZZYpfH"
      },
      "source": [
        "##Picking objects with and without replacement"
      ]
    },
    {
      "cell_type": "markdown",
      "metadata": {
        "id": "kH-om4NNefi0"
      },
      "source": [
        "Suppose we have a sack with $N$ balls: $K$ red balls and $N-K$ blue balls. The probability to pick red ball is $p=K/N$ and probability to pick blue ball is $1-p=(N-K)/N$.  We pick a a ball, remember its color and either return it to the sack or not.\n",
        "If we don't return balls to the sack the probability to pick red ball in the second trial changes!\n",
        "We can fix number of draws $n$ and wonder what is the probability to get $k$ red balls (get $k$ successes).\n",
        "We can fix number $r$ of blue balls (failures) and ask ourselves what is the probability that it would take $n$ draws to get $r$ failures in total.\n",
        "\n",
        "\n",
        "\n"
      ]
    },
    {
      "cell_type": "code",
      "source": [
        "#@title Picking with/without replacement\n",
        "%%html\n",
        "\n",
        "<img src='https://fbeilstein.github.io/machine_learning/lecture_07_naive_bayes/picking_and_replacement.svg'>\n",
        "</img>"
      ],
      "metadata": {
        "cellView": "form",
        "id": "xhsLYg5lzneW",
        "outputId": "ddc906c4-ad45-4806-bb18-8082b03462e7",
        "colab": {
          "base_uri": "https://localhost:8080/",
          "height": 273
        }
      },
      "execution_count": null,
      "outputs": [
        {
          "output_type": "display_data",
          "data": {
            "text/plain": [
              "<IPython.core.display.HTML object>"
            ],
            "text/html": [
              "\n",
              "<img src='https://fbeilstein.github.io/machine_learning/lecture_07_naive_bayes/picking_and_replacement.svg'>\n",
              "</img>\n"
            ]
          },
          "metadata": {}
        }
      ]
    },
    {
      "cell_type": "markdown",
      "metadata": {
        "id": "NsYf3qor3DOI"
      },
      "source": [
        "\n",
        "With replacements\tNo replacements\n",
        " of successes in constant  of draws\tbinomial distribution\thypergeometric distribution\n",
        " of successes in constant  of failures\tnegative binomial distribution\tnegative hypergeometric distribution"
      ]
    },
    {
      "cell_type": "markdown",
      "metadata": {
        "id": "rdpkhGnxHavW"
      },
      "source": [
        "##Discrete"
      ]
    },
    {
      "cell_type": "markdown",
      "metadata": {
        "id": "0pmIqfzcDU8X"
      },
      "source": [
        "---\n",
        "**Discrete distributions summary**\n",
        "\n",
        "Replacement | $1$ trial | $n$ trials | try until $r$ failures\n",
        "---|---|---|---\n",
        "YES | Bernoulli | Binomial | Hypergeometric\n",
        "NO | Bernoulli | Negative Binomial | Negative Hypergeometric\n",
        "| | |\n",
        "**Probability to get** | $0$ or $1$ | $k$ zeros<br> $n-k$ ones | $k$ ones<br> $r$ zeros, the last trial is zero!<br>\n",
        "\n",
        "---"
      ]
    },
    {
      "cell_type": "markdown",
      "metadata": {
        "id": "gnzs3h834oAY"
      },
      "source": [
        "###Bernoulli $Bernoulli(p)$"
      ]
    },
    {
      "cell_type": "markdown",
      "metadata": {
        "id": "Z2ExtO1e4rzp"
      },
      "source": [
        "$$\n",
        "f(k)=\n",
        "\\begin{cases}\n",
        "1-p \\quad & \\text{if} \\quad k=0,\\\\\n",
        "p \\quad &{\\text{if}} \\quad k=1.\\\\\n",
        "\\end{cases}\n",
        "$$\n",
        "\n",
        "Can be used to represent a (possibly biased) coin toss where $1$ and $0$ would represent \"heads\" and \"tails\".\n",
        "The Bernoulli distribution is a special case of the binomial distribution where a single trial is conducted (so $n$ would be $1$ for such a binomial distribution). It is also a special case of the two-point distribution, for which the possible outcomes need not be $0$ and $1$.\n",
        "\n",
        "Mean and variance are\n",
        "$$\n",
        "\\begin{aligned}\n",
        "\\mathbb{E}&=p \\\\\n",
        "\\mathbb{Var}&=p(1-p)\n",
        "\\end{aligned}\n",
        "$$"
      ]
    },
    {
      "cell_type": "markdown",
      "metadata": {
        "id": "IaEgSTqd69cK"
      },
      "source": [
        "###Binomial $B(n,p)$"
      ]
    },
    {
      "cell_type": "markdown",
      "metadata": {
        "id": "e00J7-lN3u36"
      },
      "source": [
        "$$\n",
        "f(k)={n \\choose k}p^k(1-p)^{n-k}\n",
        "$$\n",
        "\n",
        "Binomial distribution with parameters $n$ and $p$ is the probability distribution of the number of successes in a sequence of $n$ independent experiments, each asking a yes–no question, and each with its own boolean-valued outcome: success/yes/true/one (with probability $p$) or failure/no/false/zero (with probability $1-p$).\n",
        "A single success/failure experiment is also called a Bernoulli trial.\n",
        "\n",
        "\n",
        "\n"
      ]
    },
    {
      "cell_type": "code",
      "source": [
        "#@title Binomial distribution\n",
        "%%html\n",
        "\n",
        "<img src='https://fbeilstein.github.io/machine_learning/lecture_07_naive_bayes/binomial_choices.svg'>\n",
        "</img>"
      ],
      "metadata": {
        "cellView": "form",
        "id": "Rr9JbpiAzzM9",
        "outputId": "778e244e-41ba-4d58-a7fa-daea8d8f6a43",
        "colab": {
          "base_uri": "https://localhost:8080/",
          "height": 437
        }
      },
      "execution_count": null,
      "outputs": [
        {
          "output_type": "display_data",
          "data": {
            "text/plain": [
              "<IPython.core.display.HTML object>"
            ],
            "text/html": [
              "\n",
              "<img src='https://fbeilstein.github.io/machine_learning/lecture_07_naive_bayes/binomial_choices.svg'>\n",
              "</img>\n"
            ]
          },
          "metadata": {}
        }
      ]
    },
    {
      "cell_type": "markdown",
      "metadata": {
        "id": "EymWkwhNZY3K"
      },
      "source": [
        "Its mean and variance are\n",
        "\n",
        "$$\n",
        "\\begin{aligned}\n",
        "\\mathbb{E}&=np \\\\\n",
        "\\mathbb{Var}&=np(1-p)\n",
        "\\end{aligned}\n",
        "$$\n",
        "\n",
        "If $n\\to\\infty$, $p\\to 0$ while $np = \\lambda$ and remains constant, Bernoulli process can be approximated with Poisson process."
      ]
    },
    {
      "cell_type": "code",
      "source": [
        "#@title Binomial Distribution\n",
        "%%html\n",
        "<iframe title=\"Demo\"\n",
        "        src=\"https://fbeilstein.github.io/machine_learning/lecture_07_naive_bayes/demo_binomial_distribution.html\"\n",
        "        width=\"990\" height=\"600\"\n",
        "        marginwidth=\"0\" marginheight=\"0\" frameborder=\"0\"\n",
        "        scrolling=\"no\">\n",
        "Your browser does not support IFrames.\n",
        "</iframe>"
      ],
      "metadata": {
        "cellView": "form",
        "id": "qvu8_wdvdVOT",
        "outputId": "df878228-eb78-4c1b-e616-cf3c7ef16ae7",
        "colab": {
          "base_uri": "https://localhost:8080/",
          "height": 621
        }
      },
      "execution_count": 10,
      "outputs": [
        {
          "output_type": "display_data",
          "data": {
            "text/plain": [
              "<IPython.core.display.HTML object>"
            ],
            "text/html": [
              "<iframe title=\"Demo\"\n",
              "        src=\"https://fbeilstein.github.io/machine_learning/lecture_07_naive_bayes/demo_binomial_distribution.html\"\n",
              "        width=\"990\" height=\"600\"\n",
              "        marginwidth=\"0\" marginheight=\"0\" frameborder=\"0\"\n",
              "        scrolling=\"no\">\n",
              "Your browser does not support IFrames.\n",
              "</iframe>\n"
            ]
          },
          "metadata": {}
        }
      ]
    },
    {
      "cell_type": "markdown",
      "metadata": {
        "id": "GeXW-oDc66AW"
      },
      "source": [
        "###Negative binomial $NB(r,p)$"
      ]
    },
    {
      "cell_type": "markdown",
      "metadata": {
        "id": "QeVz3aDM4DmO"
      },
      "source": [
        "$$\n",
        "f(k)={{k+r-1} \\choose k} (1-p)^r p^k\n",
        "$$\n",
        "\n",
        "Negative binomial distribution is a discrete probability distribution of the number of successes in a sequence of independent and identically distributed Bernoulli trials before a specified (non-random) number of failures (denoted $r$) occurs. Do you wonder why this distribution is called negative binomial? Cause\n",
        "\n",
        "$$\n",
        "{{k+r-1} \\choose k}=(-1)^k{-r \\choose k} = \\left( {r \\choose k} \\right).\n",
        "$$\n",
        "\n",
        "Double bracketed symbol is called  [Stanley's symbol](https://www.johndcook.com/blog/select_with_replacement/).\n",
        "\n",
        "\n",
        "Its mean and variance are\n",
        "\n",
        "$$\n",
        "\\begin{aligned}\n",
        "\\mathbb{E}&=\\frac{pr}{1-p} \\\\\n",
        "\\mathbb{Var}&=\\frac{pr}{(1-p)^2}\n",
        "\\end{aligned}\n",
        "$$"
      ]
    },
    {
      "cell_type": "markdown",
      "metadata": {
        "id": "Arnq4Te9Adek"
      },
      "source": []
    },
    {
      "cell_type": "markdown",
      "metadata": {
        "id": "fZ4ORM3Ugi-l"
      },
      "source": [
        "###Hypergeometric $HG(N,K,n)$"
      ]
    },
    {
      "cell_type": "markdown",
      "metadata": {
        "id": "T9ZJhPGBKkxV"
      },
      "source": [
        "Hypergeometric distribution arises when counting $k$ number of red balls when drawn from a sack with $K$ red balls and $N-K$ blue balls without replacement.\n",
        "\n",
        "$$\n",
        "p(k)=\\frac{{K\\choose k}{N-K\\choose n-k}}{{N\\choose n}}\n",
        "$$\n",
        "\n",
        "\n",
        "Its mean and variance are\n",
        "\n",
        "$$\n",
        "\\begin{aligned}\n",
        "\\mathbb{E}&=n\\frac{K}{N} \\\\\n",
        "\\mathbb{Var}&=complicated\n",
        "\\end{aligned}\n",
        "$$\n",
        "\n",
        "Don't be afraid of scary-looking binomial coefficients! Science can look complicated but the essence is simple!"
      ]
    },
    {
      "cell_type": "markdown",
      "metadata": {
        "id": "PVrv9cgcgnuL"
      },
      "source": [
        "###Negative Hypergeometric $NHG(N,K,r)$"
      ]
    },
    {
      "cell_type": "markdown",
      "metadata": {
        "id": "aFteIoOOK9-f"
      },
      "source": [
        "Negative hypergeometric distribution arises when counting $k$ number trials to get $r$ failures when drawn from a sack with $K$ red balls and $N-K$ blue balls without replacement.\n",
        "\n",
        "$$\n",
        "p(k)=\\frac{{k+r-1\\choose k}{N-r-k\\choose K-k}}{{N\\choose K}}\n",
        "$$\n",
        "\n",
        "Don't be afraid of scary-looking binomial coefficients! Science can look complicated but the essence is simple!\n",
        "\n",
        "Its mean and variance are\n",
        "\n",
        "$$\n",
        "\\begin{aligned}\n",
        "\\mathbb{E}&=r\\, \\frac{K}{N-K+1} \\\\\n",
        "\\mathbb{Var}&=complicated\n",
        "\\end{aligned}\n",
        "$$"
      ]
    },
    {
      "cell_type": "markdown",
      "metadata": {
        "id": "lArD429b7MC3"
      },
      "source": [
        "###Multinomial $\\mathcal{M}(p_1,\\dots,p_k)$"
      ]
    },
    {
      "cell_type": "markdown",
      "metadata": {
        "id": "97jJwGm8GqBx"
      },
      "source": [
        "---\n",
        "We can generalize by altering the number of elementary outcomes -- not only $0$ and $1$ but $n$ possible results (Binomial $\\rightarrow$ Multinomial, etc.)\n",
        "\n",
        "---"
      ]
    },
    {
      "cell_type": "markdown",
      "metadata": {
        "id": "PNOgAF226XsE"
      },
      "source": [
        "The multinomial distribution is a generalization of the binomial distribution when we pick $n$ types of balls from the sack with replacement.\n",
        "\n",
        "$$\n",
        "f(x_1,\\cdots,x_n)=\n",
        "\\begin{cases}\n",
        "\\frac{n!}{x_1!\\cdots x_n!}p_1^{x_1}\\cdots p_k^{x^k} \\quad & \\text{if} \\quad x_1+\\cdots+x_k\n",
        "=n\\\\\n",
        "0 \\quad &{\\text{otherwise}}\n",
        "\\end{cases}\n",
        "$$\n",
        "\n",
        "Don't be afraid of scary-looking factorials! Science can look complicated but the essence is simple! Wait, I've already said that :)\n",
        "\n",
        "Mean and variance are\n",
        "\n",
        "$$\n",
        "\\begin{aligned}\n",
        "\\mathbb{E}(X_i)   &= n p_i\\\\\n",
        "\\mathbb{Var}(X_i) &= n p_i (1-p_i)\n",
        "\\end{aligned}\n",
        "$$"
      ]
    },
    {
      "cell_type": "markdown",
      "metadata": {
        "id": "ANJpLXfT7PTm"
      },
      "source": [
        "###Poisson $Pois(\\lambda)$\n"
      ]
    },
    {
      "cell_type": "markdown",
      "metadata": {
        "id": "kZYh33ikHDav"
      },
      "source": [
        "---\n",
        "Poisson is important in queue theory and physics.\n",
        "$$\n",
        "\\boxed{\\text{State }0}\n",
        "\\xrightarrow[\\text{probability flow}]{\\lambda}\n",
        "\\cdots\n",
        "\\rightarrow\n",
        "\\boxed{\\text{State }k-1}\n",
        "\\xrightarrow[\\text{probability flow}]{\\lambda}\n",
        "\\boxed{\\text{State }k}\n",
        "\\xrightarrow[\\text{probability flow}]{\\lambda}\n",
        "\\boxed{\\text{State }k+1}\n",
        "\\rightarrow\\cdots\n",
        "$$\n",
        "<br>\n",
        "$$\n",
        "\\frac{d P_k}{dt} = -\\lambda P_k + \\lambda P_{k-1}\n",
        "$$\n",
        "$$\n",
        "P_k(t)=\\frac{\\lambda^k t^k}{k!}e^{-\\lambda t}\n",
        "$$\n",
        "\n",
        "---"
      ]
    },
    {
      "cell_type": "markdown",
      "metadata": {
        "id": "73HpngiC4_cg"
      },
      "source": [
        "The Poisson distribution is popular for modeling the number of times an event occurs in an interval of time or space.\n",
        "\n",
        "$$\n",
        "f(k)=\\frac{\\lambda^k}{k!}e^{-\\lambda}\n",
        "$$\n",
        "\n",
        "Applications of the Poisson distribution can be found in many fields related to counting:\n",
        "* Telecommunication: telephone calls arriving in a system.\n",
        "* Astronomy: photons arriving at a telescope.\n",
        "* Chemistry: the molar mass distribution of a living polymerization\n",
        "* Biology: the number of mutations on a strand of DNA per unit length.\n",
        "* Management: customers arriving at a counter or call center.\n",
        "* Finance and insurance: number of losses or claims occurring in a given period of time.\n",
        "* Earthquake seismology: an asymptotic Poisson model of seismic risk for large earthquakes.\n",
        "* Radioactivity: number of decays in a given time interval in a radioactive sample.\n",
        "\n",
        "Its mean and variance are\n",
        "\n",
        "$$\n",
        "\\begin{aligned}\n",
        "\\mathbb{E}&=\\lambda \\\\\n",
        "\\mathbb{Var}&=\\lambda.\n",
        "\\end{aligned}\n",
        "$$\n",
        "\n",
        "It's a unique distribution with $\\mathbb{E}=\\mathbb{Var}$. Distributions with $$\\mathbb{E}<\\mathbb{Var}$$ are called overdispersed, while those with $$\\mathbb{E}>\\mathbb{Var}$$ are called underdispersed.\n",
        "\n",
        "\n",
        "* Can be viewed as a limit of Binomial distribution with $n\\to\\infty$ and $\\lambda = np = \\text{const}$"
      ]
    },
    {
      "cell_type": "code",
      "source": [
        "#@title Poisson Distribution\n",
        "%%html\n",
        "<iframe title=\"Demo\"\n",
        "        src=\"https://fbeilstein.github.io/machine_learning/lecture_07_naive_bayes/demo_poisson_distribution.html\"\n",
        "        width=\"900\" height=\"600\"\n",
        "        marginwidth=\"0\" marginheight=\"0\" frameborder=\"0\"\n",
        "        scrolling=\"no\">\n",
        "Your browser does not support IFrames.\n",
        "</iframe>"
      ],
      "metadata": {
        "cellView": "form",
        "id": "qb2UgYtXdFIh",
        "outputId": "c7d19172-3817-4e25-a334-8304bae7214c",
        "colab": {
          "base_uri": "https://localhost:8080/",
          "height": 621
        }
      },
      "execution_count": 7,
      "outputs": [
        {
          "output_type": "display_data",
          "data": {
            "text/plain": [
              "<IPython.core.display.HTML object>"
            ],
            "text/html": [
              "<iframe title=\"Demo\"\n",
              "        src=\"https://fbeilstein.github.io/machine_learning/lecture_07_naive_bayes/demo_poisson_distribution.html\"\n",
              "        width=\"900\" height=\"600\"\n",
              "        marginwidth=\"0\" marginheight=\"0\" frameborder=\"0\"\n",
              "        scrolling=\"no\">\n",
              "Your browser does not support IFrames.\n",
              "</iframe>\n"
            ]
          },
          "metadata": {}
        }
      ]
    },
    {
      "cell_type": "markdown",
      "metadata": {
        "id": "rWX3Ljn9Hj-1"
      },
      "source": [
        "##Continuous"
      ]
    },
    {
      "cell_type": "markdown",
      "metadata": {
        "id": "RXusRdmk7TCQ"
      },
      "source": [
        "###Uniform $\\mathcal{U}(a,b)$"
      ]
    },
    {
      "cell_type": "markdown",
      "metadata": {
        "id": "KcaWyQU13rd3"
      },
      "source": [
        "$$\n",
        "f(x)=\n",
        "\\begin{cases}\n",
        "\\frac{1}{b-a} \\quad & \\text{if} \\quad a\\leq x \\leq b \\\\\n",
        "0 \\quad &{\\text{otherwise}} \\\\\n",
        "\\end{cases}\n",
        "$$\n",
        "\n",
        "The simplest of distributions.\n",
        "\n",
        "Uniform distribution has also its discrete analog. Probability to get $k$ in a throw of fair die follows discrete uniform distribution.\n",
        "\n",
        "Its mean and variance are\n",
        "\n",
        "$$\n",
        "\\begin{aligned}\n",
        "\\mathbb{E}&=\\frac{a+b}{2} \\\\\n",
        "\\mathbb{Var}&=\\frac{(b-a)^2}{12}.\n",
        "\\end{aligned}\n",
        "$$\n",
        "\n",
        "BTW, variance of uniform distribution coincides with moment of inertia of a solid rod.\n",
        "\n",
        "\n",
        "\n"
      ]
    },
    {
      "cell_type": "code",
      "source": [
        "#@title Moment of inertia of a solid rod\n",
        "%%html\n",
        "\n",
        "<img src='https://fbeilstein.github.io/machine_learning/lecture_07_naive_bayes/rod_moment_of_inertia.svg'>\n",
        "</img>"
      ],
      "metadata": {
        "cellView": "form",
        "id": "Z-lMn7AQ0Cl5",
        "outputId": "646a5bfe-a7fb-4d34-a575-732ad9affb42",
        "colab": {
          "base_uri": "https://localhost:8080/",
          "height": 626
        }
      },
      "execution_count": null,
      "outputs": [
        {
          "output_type": "display_data",
          "data": {
            "text/plain": [
              "<IPython.core.display.HTML object>"
            ],
            "text/html": [
              "\n",
              "<img src='https://fbeilstein.github.io/machine_learning/lecture_07_naive_bayes/rod_moment_of_inertia.svg'>\n",
              "</img>\n"
            ]
          },
          "metadata": {}
        }
      ]
    },
    {
      "cell_type": "markdown",
      "metadata": {
        "id": "uk-9ny_J7WuZ"
      },
      "source": [
        "###Exponential $Exp(\\lambda)$"
      ]
    },
    {
      "cell_type": "markdown",
      "metadata": {
        "id": "WQ8ay79LOktG"
      },
      "source": [
        "You have met differential equation\n",
        "\n",
        "$$\n",
        "\\frac{dN}{dt}=-\\lambda N\n",
        "$$\n",
        "\n",
        "that has solution\n",
        "\n",
        "$$\n",
        "N(t)=N_0 \\, e^{-\\lambda t}.\n",
        "$$\n",
        "\n",
        "Its the law that governs radioactive decay, density distribution in the uniform gravitational field and capacitor discharge.\n",
        "If we normalize this function we obtain exponential probability distribution\n",
        "\n",
        "$$\n",
        "f(x)=\n",
        "\\begin{cases}\n",
        "\\lambda e^{-\\lambda x} & \\quad x\\geq0 \\\\\n",
        "0 & \\quad x<0\n",
        "\\end{cases}.\n",
        "$$\n",
        "\n",
        "Its mean and variance are\n",
        "\n",
        "$$\n",
        "\\begin{aligned}\n",
        "\\mathbb{E}&=\\frac{1}{\\lambda}, \\\\\n",
        "\\mathbb{Var}&=\\frac{1}{\\lambda^2}.\n",
        "\\end{aligned}\n",
        "$$\n"
      ]
    },
    {
      "cell_type": "code",
      "source": [
        "#@title Exponential Distribution\n",
        "%%html\n",
        "<iframe title=\"Demo\"\n",
        "        src=\"https://fbeilstein.github.io/machine_learning/lecture_07_naive_bayes/demo_exponential_distribution.html\"\n",
        "        width=\"900\" height=\"600\"\n",
        "        marginwidth=\"0\" marginheight=\"0\" frameborder=\"0\"\n",
        "        scrolling=\"no\">\n",
        "Your browser does not support IFrames.\n",
        "</iframe>"
      ],
      "metadata": {
        "cellView": "form",
        "id": "rHadotmUcHSu",
        "outputId": "ca7e13fb-46ed-40e9-9f44-b1bf0a3ea258",
        "colab": {
          "base_uri": "https://localhost:8080/",
          "height": 621
        }
      },
      "execution_count": 5,
      "outputs": [
        {
          "output_type": "display_data",
          "data": {
            "text/plain": [
              "<IPython.core.display.HTML object>"
            ],
            "text/html": [
              "<iframe title=\"Demo\"\n",
              "        src=\"https://fbeilstein.github.io/machine_learning/lecture_07_naive_bayes/demo_exponential_distribution.html\"\n",
              "        width=\"900\" height=\"600\"\n",
              "        marginwidth=\"0\" marginheight=\"0\" frameborder=\"0\"\n",
              "        scrolling=\"no\">\n",
              "Your browser does not support IFrames.\n",
              "</iframe>\n"
            ]
          },
          "metadata": {}
        }
      ]
    },
    {
      "cell_type": "markdown",
      "metadata": {
        "id": "nIn-QE_T7ano"
      },
      "source": [
        "###Gaussian (normal) $\\mathcal{N}(\\mu, \\sigma)$"
      ]
    },
    {
      "cell_type": "markdown",
      "metadata": {
        "id": "kgqab2v540CZ"
      },
      "source": [
        "$$\n",
        "f(x)=\\frac{1}{\\sqrt{2 \\pi \\sigma^2}}e^{-\\frac{(x-\\mu)^2}{2\\sigma^2}}\n",
        "$$\n",
        "\n",
        "The central limit theorem states that under certain (fairly common) conditions, the sum of many random variables will have an approximately normal distribution. When measuring any physical quantity random errors sum up thus resulting Gaussian distribution of the measured quantity.\n",
        "Its mean and variance are\n",
        "\n",
        "$$\n",
        "\\begin{aligned}\n",
        "\\mathbb{E}&=\\mu \\\\\n",
        "\\mathbb{Var}&=\\sigma^2.\n",
        "\\end{aligned}\n",
        "$$\n",
        "\n",
        "Many models are normal due to the **Central Limit Theorem**.\n",
        "If $X_i$ are i.i.d. with finite mean $\\mu$ and variance $\\sigma$\n",
        "$$\n",
        "\\forall z: \\lim_{n\\to\\infty} P\\left(\\frac{\\sum_i^n (X_i - \\mu)}{\\sqrt{n}\\sigma} \\leq z\\right) = P(\\mathcal{N}(0,1) \\leq z)\n",
        "$$\n",
        "the latter is CDF of $\\mathcal{N}(0,1)$.\n",
        "\n",
        "* universal and easy to apply; only means, variances matter\n",
        "* fairly accurate computational shortcut\n",
        "* justification of normal models\n"
      ]
    },
    {
      "cell_type": "code",
      "source": [
        "#@title Normal Distribution\n",
        "%%html\n",
        "<iframe title=\"Demo\"\n",
        "        src=\"https://fbeilstein.github.io/machine_learning/lecture_07_naive_bayes/demo_normal_distribution.html\"\n",
        "        width=\"900\" height=\"600\"\n",
        "        marginwidth=\"0\" marginheight=\"0\" frameborder=\"0\"\n",
        "        scrolling=\"no\">\n",
        "Your browser does not support IFrames.\n",
        "</iframe>"
      ],
      "metadata": {
        "cellView": "form",
        "id": "8sdIJc7zZr_x",
        "outputId": "0e82aece-aa74-4c2c-a348-29cea3321d98",
        "colab": {
          "base_uri": "https://localhost:8080/",
          "height": 621
        }
      },
      "execution_count": 6,
      "outputs": [
        {
          "output_type": "display_data",
          "data": {
            "text/plain": [
              "<IPython.core.display.HTML object>"
            ],
            "text/html": [
              "<iframe title=\"Demo\"\n",
              "        src=\"https://fbeilstein.github.io/machine_learning/lecture_07_naive_bayes/demo_normal_distribution.html\"\n",
              "        width=\"900\" height=\"600\"\n",
              "        marginwidth=\"0\" marginheight=\"0\" frameborder=\"0\"\n",
              "        scrolling=\"no\">\n",
              "Your browser does not support IFrames.\n",
              "</iframe>\n"
            ]
          },
          "metadata": {}
        }
      ]
    },
    {
      "cell_type": "markdown",
      "metadata": {
        "id": "X0CB5Zbp6BYz"
      },
      "source": [
        "###Miscellaneous distributions"
      ]
    },
    {
      "cell_type": "markdown",
      "metadata": {
        "id": "Hili7CRW4ozq"
      },
      "source": [
        "There more interesting distributions describing real world phenomena. Here are few examples.\n",
        "\n",
        "**Pareto distribution** describes\n",
        "* the allocation of wealth among individuals\n",
        "* the sizes of human settlements\n",
        "* sizes of sand particles\n",
        "* the size of meteorites\n",
        "* hard disk drive error rates\n",
        "* clusters of Bose–Einstein condensate near absolute zero\n",
        "\n",
        "Notorious $80/20$ Pareto rule that reads \"for many events, roughly $80\\%$ of the effects come from $20\\%$ of the causes\" could be derived for variables following Pareto distribution.\n",
        "\n",
        "**Gumbel distribution** describes\n",
        "* monthly and annual maximum values of daily rainfall and river discharge volumes\n",
        "* droughts\n",
        "\n",
        "**Weibull distribution** is also popular and proved to be useful in\n",
        "* reliability engineering and failure analysis\n",
        "* electrical engineering to represent overvoltage occurring in an electrical system\n",
        "* industrial engineering to represent manufacturing and delivery times\n",
        "* weather forecasting\n",
        "\n",
        "There are also few distributions important for theoretical calculations namely\n",
        "* **Logistic distribution**\n",
        "* **Log-normal distribution**\n",
        "* **Student's t-distribution**\n",
        "* **Chi-squared distribution**\n",
        "* **Chi distribution**\n",
        "\n",
        "By the way Maxwell–Boltzmann distribution used in physics is the chi distribution with three degrees of freedom.\n",
        "BTW, Fermi–Dirac and Bose–Einstein distribution and\n",
        "\n",
        "$$\n",
        "\\bar{n}_i=\\frac{1}{e^{\\frac{\\epsilon_i-\\mu}{k_BT}}\\pm1}\n",
        "$$\n",
        "\n",
        "are also legit probability distributions.\n",
        "\n",
        "There are many more distributions out there. If you've never heard of them does not mean they are not cool :)"
      ]
    },
    {
      "cell_type": "markdown",
      "metadata": {
        "id": "HsRltUtZ5yjA"
      },
      "source": [
        "#Bayes' theorem"
      ]
    },
    {
      "cell_type": "markdown",
      "metadata": {
        "id": "D4ypLthQJPgS"
      },
      "source": [
        "<hr size=\"2\" noshade=\"noshade\" color=\"black\"/>\n",
        "\n",
        "<font face=\"helvetica\" color=\"black\" size=\"6\">\n",
        "Bayes theorem\n",
        "</font>\n",
        "\n",
        "<font face=\"helvetica\" color=\"black\" size=\"3\">\n",
        "\n",
        "* theorem\n",
        "   - statement\n",
        "   - proof\n",
        "   - example\n",
        "* Bayes theorem as a measurement for the \"degree of belief\"\n",
        "  - conditional probability (section)\n",
        "  - joint probability\n",
        "  - marginal probability (integral)\n",
        "* Extended form of Bayes' rule\n",
        "* Terminology (prior, posterior, likelihood, evidence)\n",
        "\n",
        "</font>\n",
        "\n",
        "<hr size=\"2\" noshade=\"noshade\" color=\"black\"/>"
      ]
    },
    {
      "cell_type": "markdown",
      "metadata": {
        "id": "ZfZwztNQJEcL"
      },
      "source": [
        "At first Bayes' theorem seems like a simple statement about conditional probabilities\n",
        "\n",
        "$$P(A|B)=\\frac{P(B|A)\\cdot P(A)}{P(B)},$$\n",
        "\n",
        "where\n",
        "$A$ and $B$ are events and $P(B)\\neq 0$.\n",
        "* $P(A|B)$ is a conditional probability: the likelihood of event $A$ given that $B$ is true;\n",
        "* $P(B|A)$ is a conditional probability: the likelihood of event $B$ given that $A$ is true;\n",
        "* $P(A)$ and $P(B)$ are the probabilities of observing $A$ and $B$ independently of each other; this is known as the marginal probability.\n",
        "\n",
        "Let's prove it.\n",
        "\n",
        "$\\blacktriangleright$ By definition of conditional probability (likelihood)\n",
        "\n",
        "$$P(A|B)=\\frac{P(A\\cap B)}{P(B)}$$\n",
        "\n",
        "and\n",
        "\n",
        "$$P(B|A)=\\frac{P(A\\cap B)}{P(A)}.$$\n",
        "\n",
        "Therefore substituting $P(A\\cap B)$ (joint probability) from the second equation into the first we get Bayes' rule\n",
        "\n",
        "$$P(A|B)=\\frac{P(B|A) \\cdot P(A)}{P(B)}.$$\n",
        "\n",
        "$\\textbf{Q.E.D.}$"
      ]
    },
    {
      "cell_type": "markdown",
      "metadata": {
        "id": "bl72WDDfN34D"
      },
      "source": [
        "Bayes theorem proved to be very influential as it gave rise to Bayesian interpretation of probability.\n",
        "In this interpretation probability measures not an objective quality but a “degree of belief”.  Bayes’ theorem then links the degree of belief in a proposition before and after accounting for evidence. For example, suppose it is believed with $50\\%$ certainty that a coin is twice as likely to land heads than tails. If the coin is flipped a number of times and the outcomes observed, that degree of belief may rise, fall or remain the same depending on the results.\n",
        "Also Bayes' theorem has many practical applications. One of them is Naive Bayesian classification."
      ]
    },
    {
      "cell_type": "markdown",
      "metadata": {
        "id": "l4zvAO8bN7Qq"
      },
      "source": [
        "####Example on Bayes theorem:"
      ]
    },
    {
      "cell_type": "markdown",
      "metadata": {
        "id": "yGHWE8Qm5LY3"
      },
      "source": [
        "There are two jars (red and blue) with white and black balls in them. The red jar has 3 white and 5 black balls in it and blue has 1 white and 9 black balls. In a dark room you randomly choose a jar and pick a ball then go to another brightly lit room to find out that the ball is white. What is the probability that you got the ball from the red jar?\n",
        "\n",
        "$\\blacktriangleright$\n",
        "$$P(\\text{red jar}\\mid\\text{white ball})=\\frac{P(\\text{white ball }|\\text{ red jar}) \\cdot P(\\text{red jar})}{P(\\text{white ball})}=\\frac{3/8 \\times 1/2}{P(\\text{white ball})}.$$\n",
        "\n",
        "$P(\\text{white ball})$ needs some extra thinking.  You can draw white ball either from red or from blue jar. So\n",
        "\n",
        "$$\n",
        "\\begin{aligned}\n",
        "P(\\text{white ball})&=P(\\text{white ball}\\mid\\text{red jar}) \\cdot P(\\text{red jar})+P(\\text{white ball}\\mid\\text{blue jar})\\cdot P(\\text{blue jar}),\\\\\n",
        "P(\\text{white ball})&=3/8 \\times 1/2+1/10 \\times 1/2 =19/80.\n",
        "\\end{aligned}\n",
        "$$\n",
        "\n",
        "Substitute back to get\n",
        "\n",
        "$$P(\\text{red jar}\\mid\\text{white ball})=\\frac{3/8 \\times 1/2}{19/80}=15/19.$$\n",
        "\n",
        "$\\blacktriangleleft$\n",
        "\n",
        "As we can see it's almost for sure that we have chosen the red jar. That's an expected result as the blue jar contains only 1 white ball and it seems unlikely that we have chosen it.\n",
        "This problem suggests to rewrite denominator in Bayes' rule in an extended form that takes into account all pathways the event $B$ might happen. As a fact we use the Law of total probability\n",
        "\n",
        "$$P(B)=P(B\\mid A)\\cdot P(A)+P(B\\mid \\neg A)\\cdot P(\\neg A).$$\n",
        "\n",
        "Extended form of Bayes' rule reads\n",
        "\n",
        "$$P(A|B)=\\frac{P(B|A)\\cdot P(A)}{P(B|A)\\cdot P(A)+P(B\n",
        "|\\neg A)\\cdot P(\\neg A)}.$$\n",
        "\n",
        "In our problem\n",
        "* $A$ - choosing the white ball;\n",
        "* $B$ - choosing the red jar;\n",
        "* $\\neg B$ - choosing the blue jar.\n",
        "\n",
        "Also note that a priori -- before we left the dark room we know that two jars had equal probability $1/2$ to have been chosen (as they were chosen by random). But after we obtained new evidence - realized that we piсked a white ball, a posteriori probabilities changed. Probability that we chose red jar is now $15/19$.\n",
        "\n",
        "$$\\text{New data}\\Longrightarrow \\text{Probability reevaluation}.$$\n",
        "\n",
        "It is believed the more data(evidence) we get the more accurate our final(posterior) probabilities become.\n",
        "Therefore initial (prior) probabilities could be very crude. In fact they could be just rough guesses or frequencies of an event occurring in a small number of experiments. We can also adopt a simple and convenient theoretical distribution as our prior: Gaussian or uniform."
      ]
    },
    {
      "cell_type": "markdown",
      "metadata": {
        "id": "GCXKunSXOZ4i"
      },
      "source": [
        "####Terminology"
      ]
    },
    {
      "cell_type": "markdown",
      "metadata": {
        "id": "OEL0xjHYOVaN"
      },
      "source": [
        "Note there is specific terminology connected with Bayes' rule: prior, posterior, likelihood, evidence. Informally Bayes' rule can be written as:\n",
        "\n",
        "$$\n",
        "\\text{posterior}=\\frac{\\text{prior}\\times \\text{likelihood}}{\\text{evidence}}.\n",
        "$$\n",
        "\n",
        "where\n",
        "* $\\text{posterior(probability)} = P(A|B)$;\n",
        "* $\\text{prior(probability)} =P(A)$;\n",
        "* $\\text{likelihood} =P(B|A)$;\n",
        "* $\\text{evidence (marginal likelihood function, or integrated likelihood)} =P(B)$."
      ]
    },
    {
      "cell_type": "markdown",
      "metadata": {
        "id": "G1pOhUtRvJlb"
      },
      "source": [
        "#Bayes theorem example: Monty Hall problem"
      ]
    },
    {
      "cell_type": "markdown",
      "metadata": {
        "id": "W4ynZbwMKGjI"
      },
      "source": [
        "<hr size=\"2\" noshade=\"noshade\" color=\"black\"/>\n",
        "\n",
        "<font face=\"helvetica\" color=\"black\" size=\"6\">\n",
        "Monty Hall problem\n",
        "</font>\n",
        "\n",
        "<font face=\"helvetica\" color=\"black\" size=\"3\">\n",
        "\n",
        "* Three doors one prize\n",
        "* Demo for practice\n",
        "* To switch or not to switch that is the question\n",
        "* Bayes to the resque\n",
        "\n",
        "</font>\n",
        "\n",
        "<hr size=\"2\" noshade=\"noshade\" color=\"black\"/>"
      ]
    },
    {
      "cell_type": "code",
      "source": [
        "#@title Visualization code\n",
        "%%html\n",
        "<iframe title=\"Demo\"\n",
        "        src=\"https://fbeilstein.github.io/machine_learning/lecture_07_naive_bayes/demo_monty_hall.html\"\n",
        "        width=\"800\" height=\"550\"\n",
        "        marginwidth=\"0\" marginheight=\"0\" frameborder=\"0\"\n",
        "        scrolling=\"no\">\n",
        "Your browser does not support IFrames.\n",
        "</iframe>"
      ],
      "metadata": {
        "cellView": "form",
        "id": "lFgfxVSfE9-0",
        "outputId": "1bdac9c0-01c5-43a7-92fc-8fb747d6ab73",
        "colab": {
          "base_uri": "https://localhost:8080/",
          "height": 571
        }
      },
      "execution_count": null,
      "outputs": [
        {
          "output_type": "display_data",
          "data": {
            "text/plain": [
              "<IPython.core.display.HTML object>"
            ],
            "text/html": [
              "<iframe title=\"Demo\"\n",
              "        src=\"https://fbeilstein.github.io/machine_learning/lecture_07_naive_bayes/demo_monty_hall.html\"\n",
              "        width=\"800\" height=\"550\"\n",
              "        marginwidth=\"0\" marginheight=\"0\" frameborder=\"0\"\n",
              "        scrolling=\"no\">\n",
              "Your browser does not support IFrames.\n",
              "</iframe>\n"
            ]
          },
          "metadata": {}
        }
      ]
    },
    {
      "cell_type": "markdown",
      "metadata": {
        "id": "xP2AGqw2q2w7"
      },
      "source": [
        "The Monty Hall problem is a brain teaser, in the form of a probability puzzle, loosely based on the American television game show *Let's Make a Deal* and named after its original host, Monty Hall.\n",
        "\n",
        "*Suppose you're on a game show, and you're given the choice of three doors: Behind one door is a car; behind the others, goats. You pick a door, say No. 1, and the host, who knows what's behind the doors, opens another door, say No. 3, which has a goat. He then says to you, \"Do you want to pick door No. 2?\" Is it to your advantage to switch your choice?*\n",
        "\n",
        "Here is how it is featured in a 2008 movie \"21\" (directed by Robert Luketic)."
      ]
    },
    {
      "cell_type": "code",
      "metadata": {
        "id": "PvcIWREKWVXC",
        "cellView": "form",
        "outputId": "0e879b28-d1a6-4b5c-a6b8-77b3ea128ba9",
        "colab": {
          "base_uri": "https://localhost:8080/",
          "height": 421
        }
      },
      "source": [
        "#@title Monty Hall in popular culture\n",
        "\n",
        "from IPython.display import YouTubeVideo\n",
        "YouTubeVideo('iBdjqtR2iK4', width=600, height=400, start=72, end=153)"
      ],
      "execution_count": null,
      "outputs": [
        {
          "output_type": "execute_result",
          "data": {
            "text/plain": [
              "<IPython.lib.display.YouTubeVideo at 0x7ab77dd59960>"
            ],
            "text/html": [
              "\n",
              "        <iframe\n",
              "            width=\"600\"\n",
              "            height=\"400\"\n",
              "            src=\"https://www.youtube.com/embed/iBdjqtR2iK4?start=72&end=153\"\n",
              "            frameborder=\"0\"\n",
              "            allowfullscreen\n",
              "            \n",
              "        ></iframe>\n",
              "        "
            ],
            "image/jpeg": "[encoded data removed]"
          },
          "metadata": {},
          "execution_count": 7
        }
      ]
    },
    {
      "cell_type": "markdown",
      "metadata": {
        "id": "XQKgGQAOrVpX"
      },
      "source": [
        "Let's solve this puzzle with ~~variable change~~ Bayes.\n",
        "We have three types of events coming into play:\n",
        "* $Ci$ - car is behind door $i$, e.g. $C2$ means that the car is behind $2$-nd door;\n",
        "* $Pi$ - players chooses door $i$;\n",
        "* $Hi$ - host opens the door $i$.\n",
        "\n",
        "Before any choices are made we know that unconditional probability $P(Ci)=1/3$.\n",
        "Suppose the player initially chooses the door $1$ ($P1$ event) and the host opened the door $3$ ($H3$ event).\n",
        "\n",
        "What is the probability $P(C2 | P1, H3)$? We use the Bayes theorem to get\n",
        "\n",
        "\n",
        "$$\n",
        "\\require{cancel}\n",
        "P(C2 | P1, H3) = \\frac{P(P1, H3|C2) \\cdot P(C2)}{P(P1, H3)} =\\frac{P(H3|P1, C2) \\cdot \\cancel{P(P1)}\\cdot P(C2)}{P(H3|P1)\\cdot\\cancel{P(P1)}}=\\frac{P(H3|P1, C2)\\cdot P(C2)}{P(H3|P1)}=\\frac{1\\times1/3}{1/2}=2/3,\n",
        "$$\n",
        "\n",
        "where we have used the fact that $P(H3|P1, C2)=1$ as the host knows where the car is and deliberately opens the door with the goat behind it.\n",
        "We have also used definition of conditional probability a couple of times.\n",
        "Probability of the event that the car is behind door $2$ is now $2/3$ instead of $1/3$ that's why the best strategy is to switch your initial choice."
      ]
    },
    {
      "cell_type": "markdown",
      "metadata": {
        "id": "7J76chGs52RT"
      },
      "source": [
        "#Classification problem"
      ]
    },
    {
      "cell_type": "markdown",
      "metadata": {
        "id": "KRVqPowSN_WD"
      },
      "source": [
        "<hr size=\"2\" noshade=\"noshade\" color=\"black\"/>\n",
        "\n",
        "<font face=\"helvetica\" color=\"black\" size=\"6\">\n",
        "classification\n",
        "</font>\n",
        "\n",
        "<font face=\"helvetica\" color=\"black\" size=\"3\">\n",
        "\n",
        "* Types: binary/multiclass\n",
        "* This is ~~Sparta~~ supervised learning\n",
        "* More complicated than it seems (dog-o-muffins problem, lecture 1)\n",
        "\n",
        "</font>\n",
        "\n",
        "<hr size=\"2\" noshade=\"noshade\" color=\"black\"/>"
      ]
    },
    {
      "cell_type": "markdown",
      "metadata": {
        "id": "4yJWr5ta5W8_"
      },
      "source": [
        "Consider problem of classification: we have a \"thing\" that we should label with \"tags\". In other words we want to identify which of several categories an object belongs.\n",
        "* Say we have a letter and the set of tags is $\\{\\text{spam},\\neg \\text{spam}=\\text{ham}\\}$. This is the example of binary classification.\n",
        "* In an automotive app we want to determine whether an object is a car, a pedestrian or a sign. This is multiclass classification.\n",
        "* We want to attribute person to a country he was born.\n",
        "* We want attribute a person to a profession\n",
        "\n",
        "In the terminology of machine learning, classification is considered an instance of supervised learning, i.e., learning where a training set of correctly identified observations is available. The corresponding unsupervised procedure is known as clustering, and involves grouping data into categories based on some measure of inherent similarity or distance.\n",
        "An algorithm that implements classification, especially in a concrete implementation, is known as a classifier."
      ]
    },
    {
      "cell_type": "markdown",
      "metadata": {
        "id": "sSewHu2-SfBi"
      },
      "source": [
        "#Naive Bayes"
      ]
    },
    {
      "cell_type": "markdown",
      "metadata": {
        "id": "SoPK7eAIrmiM"
      },
      "source": [
        "<hr size=\"2\" noshade=\"noshade\" color=\"black\"/>\n",
        "\n",
        "<font face=\"helvetica\" color=\"black\" size=\"6\">\n",
        "Naive Bayes\n",
        "</font>\n",
        "\n",
        "<font face=\"helvetica\" color=\"black\" size=\"3\">\n",
        "\n",
        "* Bayes is not alone ($P(f_i | C_k)$ = Gaussian, Multinomial, Bernoulli)\n",
        "* Why so naive? (independence of features)\n",
        "* Classifier = Model + Rule. Rules:\n",
        "    - Maximum APosteriori (MAP)\n",
        "    - Conditionl expectation\n",
        "* We use Maximum APosteriori (MAP), Least Mean Squares uses conditional expectation\n",
        "\n",
        "</font>\n",
        "\n",
        "<hr size=\"2\" noshade=\"noshade\" color=\"black\"/>"
      ]
    },
    {
      "cell_type": "markdown",
      "metadata": {
        "id": "0KIX63Z4SkHT"
      },
      "source": [
        "Naive Bayes classifiers are a family of simple probabilistic classifiers based on applying Bayes' theorem with strong (naive) independence assumptions between the features.\n",
        "Naive Bayes is a simple technique for constructing classifiers: models that assign class labels to problem instances, represented as vectors of feature values, where the class labels are drawn from some finite set. There is not a single algorithm for training such classifiers, but a family of algorithms based on a common principle: all naive Bayes classifiers assume that the value of a particular feature is independent of the value of any other feature, given the class variable. For example, a fruit may be considered to be an apple if it is red, round, and about $10 \\text{cm}$ in diameter. A naive Bayes classifier considers each of these features to contribute independently to the probability that this fruit is an apple, regardless of any possible correlations between the color, roundness, and diameter features.\n",
        "\n",
        "In reality we have not one but a few random variables that characterize the thing we want to classify. Usually they are called features $f_1, \\dots f_i, \\dots f_N$. In Naive Bayes we assume that this features are independent.\n",
        "\n",
        "$$P(f_1, \\dots f_i, \\dots f_N |C_k) = P(f_1 | C_k) \\dots P(f_i | C_k) \\dots P(f_N |C_k).$$\n",
        "\n",
        "Suppose we want to use Bayes theorem to calculate the probability that our thing belongs to class $C_k$ given $f_1 = x_1, \\dots f_i=x_i, \\dots f_N=x_N$\n",
        "\n",
        "$$P(C_k | x_1, \\dots x_i, \\dots x_N) = \\frac{P(x_1 | C_k) \\dots P(x_i | C_k) \\dots P(x_N |C_k)\\cdot P(C_k)}{P(x_1, x_2, \\dots x_i, \\dots x_N)}.$$\n",
        "\n",
        "\n",
        "The denominator is just a scaling facor that doesn't depend on $C_k$. Let me it denote with $Z$.\n",
        "\n",
        "$$P(C_k  | x_1, \\dots x_i, \\dots x_N) = \\frac{\\prod_{i=1}^{N}P(x_i | C_k)\\cdot P(C_k)}{Z}.$$\n",
        "\n",
        "In other words\n",
        "\n",
        "$$P(C_k  | x_1, \\dots x_i, \\dots x_N) \\propto P(C_k)\\prod_{i=1}^{N}P(x_i | C_k).$$\n",
        "\n",
        "Once we have probabilities that an object belongs to $C_k$ for any $k$ we need to decide what class do we actually assign our object to. What we were dealing up to now was Naive Bayes probability model. Now we need to choose the so called decision rule.\n",
        "\n",
        "$$\n",
        "\\text{Naive Bayes classifier} = \\text{Naive Bayes probability model} + \\text{Decision rule}.\n",
        "$$\n",
        "\n",
        "One common rule is to pick the hypothesis that is most probable; this is known as the maximum a posteriori or MAP decision rule. The corresponding classifier, a Bayes classifier, is the function that assigns a class index as follows:\n",
        "$$\n",
        "\\hat{k} = \\text{argmax}_{k=1,..,K}\\, P(C_k)\\cdot \\prod_{i=1}^{N}P(x_i | C_k).\n",
        "$$\n",
        "\n",
        "\n",
        "In real world we do not know $P(x_i | C_k)$  -- we can make assumptions.\n",
        "We could guess what kind of distribution that could be (e.g. Gaussian) but the parameters of that\n",
        "distribution ares still unknown.\n",
        "\n",
        "Depending on the $P(x | C_k)$ we adopt there are $3$ main types of Naive Bayes classifiers:\n",
        "* Gaussian;\n",
        "* Multinomial;\n",
        "* Bernoulli.\n",
        "\n",
        "Once we've made our mind on $P(x | C_k)$ that's where the training comes into play: we use the training set to estimate the parameters of that distribution and to determine $P(C_k)$.\n",
        "\n",
        "Bayes classifiers are implemented in ```sklearn.naive_bayes```:\n",
        "* **GaussianNB**;\n",
        "* **MultinomialNB**;\n",
        "* **BernoulliNB**;\n",
        "* **ComplementNB**.\n",
        "\n",
        "\n",
        "\n",
        "\n",
        "\n",
        "\n"
      ]
    },
    {
      "cell_type": "markdown",
      "metadata": {
        "id": "1UClv5wbtyeJ"
      },
      "source": [
        "#Spam example"
      ]
    },
    {
      "cell_type": "markdown",
      "metadata": {
        "id": "XcCH4QiNwJPl"
      },
      "source": [
        "![](https://upload.wikimedia.org/wikipedia/commons/thumb/8/8e/Monty_Python_Live_02-07-14_13_04_42_%2814598710791%29.jpg/360px-Monty_Python_Live_02-07-14_13_04_42_%2814598710791%29.jpg)"
      ]
    },
    {
      "cell_type": "markdown",
      "metadata": {
        "id": "cfNfS3CZwnOd"
      },
      "source": [
        "<hr size=\"2\" noshade=\"noshade\" color=\"black\"/>\n",
        "\n",
        "<font face=\"helvetica\" color=\"black\" size=\"6\">\n",
        "Spam filter by hands\n",
        "</font>\n",
        "\n",
        "<font face=\"helvetica\" color=\"black\" size=\"3\">\n",
        "\n",
        "* Find the probability that certain letter is spam basing on words it contains\n",
        "* Simplest example -- consider one word\n",
        "* Information needed:\n",
        "  - fraction of letters expected to be spam\n",
        "  - fraction of spam letters containing certain word\n",
        "\n",
        "</font>\n",
        "\n",
        "<hr size=\"2\" noshade=\"noshade\" color=\"black\"/>"
      ]
    },
    {
      "cell_type": "code",
      "source": [
        "#@title Simple spam classifier\n",
        "%%html\n",
        "\n",
        "<img src='https://fbeilstein.github.io/machine_learning/lecture_07_naive_bayes/simple_spam_classifier.svg'>\n",
        "</img>"
      ],
      "metadata": {
        "cellView": "form",
        "id": "IiJoB2b00Uka",
        "outputId": "899ee962-81fd-48f2-ea37-dd8f31cec6c6",
        "colab": {
          "base_uri": "https://localhost:8080/",
          "height": 437
        }
      },
      "execution_count": null,
      "outputs": [
        {
          "output_type": "display_data",
          "data": {
            "text/plain": [
              "<IPython.core.display.HTML object>"
            ],
            "text/html": [
              "\n",
              "<img src='https://fbeilstein.github.io/machine_learning/lecture_07_naive_bayes/simple_spam_classifier.svg'>\n",
              "</img>\n"
            ]
          },
          "metadata": {}
        }
      ]
    },
    {
      "cell_type": "markdown",
      "metadata": {
        "id": "IA4nevjC-SWy"
      },
      "source": [
        "<hr size=\"2\" noshade=\"noshade\" color=\"black\"/>\n",
        "\n",
        "<font face=\"helvetica\" color=\"black\" size=\"6\">\n",
        "Why is everything done the way it is?\n",
        "</font>\n",
        "\n",
        "<font face=\"helvetica\" color=\"black\" size=\"3\">\n",
        "\n",
        "* Why do we need **naive** Bayes? Ordinary Bayes could suffice.\n",
        "  - Yes, ordinary Bayes could suffice, **BUT** it's highly probable you will not be able to manage that number of information.\n",
        "    * Consider the simplest feature -- a word is present or absent in a text.\n",
        "    * Consider a general purpose classifier. Common vocabulary contains approximately $20000$ words.\n",
        "    * You will need $2^{20000}$ parameters $P(w_1,\\dots,w_{N}|C)$.\n",
        "    * Naive bayes needs only $20000$ parameters $P(w_1|C),\\dots,P(w_N|C)$.\n",
        "* Why do we need Bayes at all? Can't we store $P(C|w_1,\\dots,w_{N})$?\n",
        "  - Yes, we can, **BUT** we'll meet the same problem as storing $P(w_1,\\dots,w_{N}|C)$.\n",
        "* Why can't we store $P(C|w_1),\\dots,P(C|w_N)$ and avoid using Bayes?\n",
        "  - For independent features $w_1$ and $w_2$ you can write $P(w_1,w_2|C) = P(w_1|C) P(w_2|C)$, **BUT** you cannot write $P(C|w_1,w_2) = P(C|w_1) P(C|w_2)$.\n",
        "    * **Counterexample.** Consider two independent features $w_1$ and $w_2$. Say $P(w_1) = \\frac{1}{2}$,  $P(w_2) = \\frac{1}{2}$, $P(w_1,w_2) = \\frac{1}{4}$. Consider that $w_2$ perfectly classifies $C$, i.e. $P(w_2|C) = P(\\neg w_2|\\neg C) = 1$ and $P(\\neg w_2|C) = P(w_2|\\neg C) = 0$. Say that $w_1$ does not classify $C$ at all, i.e. $P(w_2|C) = P(\\neg w_2|\\neg C) = P(\\neg w_2|C) = P(w_2|\\neg C) = \\frac{1}{2}$. We see that $P(w_1,w_2|C) = \\frac{1}{4} = P(w_1|C) P(w_2|C)$. On the other hand $P(C|w_1,w_2) = 1$ because $w_2$ is true, but $P(C|w_1) p(C|w_2) = \\frac{1}{2}$.\n",
        "    \n",
        "    \n",
        "|$~$ | $w_1$ | $\\neg w_1$|\n",
        "|--|--|--|\n",
        "|$w_2$|$C$ (25%)| $C$ (25%)|\n",
        "|$\\neg w_2$| $\\neg C$ (25%) | $\\neg C$ (25%) |\n",
        "\n",
        "</font>\n",
        "\n",
        "<hr size=\"2\" noshade=\"noshade\" color=\"black\"/>"
      ]
    },
    {
      "cell_type": "markdown",
      "metadata": {
        "id": "QC09dQMPoKKy"
      },
      "source": [
        "\n",
        "#Gaussian Naive Bayes"
      ]
    },
    {
      "cell_type": "markdown",
      "metadata": {
        "id": "pysBgthR3FtD"
      },
      "source": [
        "<hr size=\"2\" noshade=\"noshade\" color=\"black\"/>\n",
        "\n",
        "<font face=\"helvetica\" color=\"black\" size=\"6\">\n",
        "Multidimensional Gaussian\n",
        "</font>\n",
        "\n",
        "<font face=\"helvetica\" color=\"black\" size=\"3\">\n",
        "\n",
        "* Independency\n",
        "* Covariance matrix kicks in\n",
        "* Gaussian states in QM/QO (quasiprobability distributions are Gaussian functions, $P$ here is Wigner function $W$ there)\n",
        "  - coherent states, such as those from a laser\n",
        "  - thermal states, as from a black body source\n",
        "  - vacuum state\n",
        "\n",
        "</font>\n",
        "\n",
        "<hr size=\"2\" noshade=\"noshade\" color=\"black\"/>"
      ]
    },
    {
      "cell_type": "code",
      "source": [
        "#@title Multivariate Normal Distribution and Marginal Probabilities (відособлений розподіл)\n",
        "%%html\n",
        "<iframe title=\"Demo\"\n",
        "        src=\"https://fbeilstein.github.io/machine_learning/lecture_07_naive_bayes/demo_marginal_probabilities.html\"\n",
        "        width=\"800\" height=\"600\"\n",
        "        marginwidth=\"0\" marginheight=\"0\" frameborder=\"0\"\n",
        "        scrolling=\"no\">\n",
        "Your browser does not support IFrames.\n",
        "</iframe>"
      ],
      "metadata": {
        "cellView": "form",
        "id": "pBQZeHi5CUlS",
        "outputId": "3a494aaa-2d1e-46c2-b639-9c6dda9413ae",
        "colab": {
          "base_uri": "https://localhost:8080/",
          "height": 621
        }
      },
      "execution_count": null,
      "outputs": [
        {
          "output_type": "display_data",
          "data": {
            "text/plain": [
              "<IPython.core.display.HTML object>"
            ],
            "text/html": [
              "<iframe title=\"Demo\"\n",
              "        src=\"https://fbeilstein.github.io/machine_learning/lecture_07_naive_bayes/demo_marginal_probabilities.html\"\n",
              "        width=\"800\" height=\"600\"\n",
              "        marginwidth=\"0\" marginheight=\"0\" frameborder=\"0\"\n",
              "        scrolling=\"no\">\n",
              "Your browser does not support IFrames.\n",
              "</iframe>\n"
            ]
          },
          "metadata": {}
        }
      ]
    },
    {
      "cell_type": "markdown",
      "metadata": {
        "id": "S5ZoteToV4cL"
      },
      "source": [
        "When dealing with continuous data, a typical assumption is that the continuous values associated with each class are distributed according to a normal (or Gaussian) distribution.\n",
        "Suppose we have continuous variable $x$ and classes $\\{C_1, C_2, \\dots, C_K\\}$.\n",
        "In 1D Gaussian Naive Bayes we presume that\n",
        "\n",
        "$$P(f=x| C_k) = \\frac{1}{\\sqrt{2 \\pi \\sigma_{k}^2}}e^{-\\frac{(x-\\mu_k)^2}{2\\sigma_{k}^2}}.$$\n",
        "\n",
        "In 2D Gaussian Naive Bayes we presume that\n",
        "\n",
        "$$P(f=\\mathbf{x}| C_k) = \\frac{1}{(2 \\pi)^{{N/2}} |\\Sigma_{k}|^{1/2}}e^{-(\\mathbf{x}-\\mathbf{\\mu}_k)\\Sigma_k^{-1}(\\mathbf{x}-\\mathbf{\\mu}_k)},$$\n",
        "\n",
        "where $\\Sigma_k$ is covariance matrix and $\\rho$ is correlation.\n",
        "\n",
        "\n",
        "\n",
        "\n",
        "\n",
        "\n"
      ]
    },
    {
      "cell_type": "markdown",
      "metadata": {
        "id": "Ev5aeJosDP0Z"
      },
      "source": [
        "**conditioning**\n",
        "$$\n",
        "p_{X|Y}(x|y) = P(X=x|Y=y) = \\frac{p_{X,Y}(x,y)}{p_Y(y)}, \\quad p_Y(y) > 0\n",
        "$$\n",
        "Same for PDF. Multiplication rule\n",
        "$$\n",
        "f_{X|Y}(x|y) f_Y(y) = f_{X,Y}(x,y) = f_{Y|X}(y|x) f_X(x)\n",
        "$$\n",
        "thus\n",
        "$$\n",
        "f_{X|Y}(x|y) = \\frac{f_{X,Y}(x,y)}{f_Y(y)}\n",
        "$$\n"
      ]
    },
    {
      "cell_type": "code",
      "source": [
        "#@title Correlation\n",
        "%%html\n",
        "\n",
        "<img src='https://fbeilstein.github.io/machine_learning/lecture_07_naive_bayes/correlation.svg'>\n",
        "</img>"
      ],
      "metadata": {
        "cellView": "form",
        "id": "qUsLWqYY0hvn",
        "outputId": "38192f36-cd6f-4280-8723-6917a2dcdcce",
        "colab": {
          "base_uri": "https://localhost:8080/",
          "height": 348
        }
      },
      "execution_count": null,
      "outputs": [
        {
          "output_type": "display_data",
          "data": {
            "text/plain": [
              "<IPython.core.display.HTML object>"
            ],
            "text/html": [
              "\n",
              "<img src='https://fbeilstein.github.io/machine_learning/lecture_07_naive_bayes/correlation.svg'>\n",
              "</img>\n"
            ]
          },
          "metadata": {}
        }
      ]
    },
    {
      "cell_type": "markdown",
      "metadata": {
        "id": "Dc_PY0BYiX2F"
      },
      "source": [
        "Each class $C_k$ has its own average $\\mathbf{\\mu_k}$ and covariance matrix $\\Sigma_k$ that are calculated on a training set with the help of the maximum likelihood method by the formulas\n",
        "\n",
        "$$\n",
        "\\begin{aligned}\n",
        "\\mathbf{\\mu}_k&=\\frac{1}{N}\\sum \\mathbf{x}_{ki}, \\\\\n",
        "\\Sigma_k&=\\frac{1}{N}\\sum (\\mathbf{x}_{ki}-\\mathbf{\\mu}_k)(\\mathbf{x}_{ki}-\\mathbf{\\mu}_k)^{\\top}.\n",
        "\\end{aligned}\n",
        "$$"
      ]
    },
    {
      "cell_type": "markdown",
      "metadata": {
        "id": "RKQ6d0R5vwwU"
      },
      "source": [
        "##1D  Example of Gaussian Naive Bayes"
      ]
    },
    {
      "cell_type": "markdown",
      "metadata": {
        "id": "CDDhYM_b4d6y"
      },
      "source": [
        "<hr size=\"2\" noshade=\"noshade\" color=\"black\"/>\n",
        "\n",
        "<font face=\"helvetica\" color=\"black\" size=\"6\">\n",
        "1D Gaussian Naive Bayes\n",
        "</font>\n",
        "\n",
        "<font face=\"helvetica\" color=\"black\" size=\"3\">\n",
        "\n",
        "* $2$ hidden distributions (red and blue)\n",
        "* Generate datapoints\n",
        "* Estimate distrubution parameters (scikit uses MLE, we will cover it the very next lecture)\n",
        "* For every $\\boldsymbol{x}$ find probability it is generated with red or blue Gaussian\n",
        "* Do decision\n",
        "* Practice contains dynamic demo\n",
        "\n",
        "</font>\n",
        "\n",
        "<hr size=\"2\" noshade=\"noshade\" color=\"black\"/>"
      ]
    },
    {
      "cell_type": "markdown",
      "metadata": {
        "id": "JEhxwh7wv0_d"
      },
      "source": [
        "Suppose we want to classify points on the line. That is $N=1$, hence we have only one feature.\n",
        "\n",
        "The tags we want to assign are colors $\\{red, blue\\}$. In fact we want to perform binary classification ($K=2$).\n",
        "\n",
        "* We generate two arrays of points that are have normal distributions.\n",
        "\n",
        "* Then we generate $200$ equidistant points and apply Gaussian Naive Bayes classifier.\n",
        "We can take a look at posterior probabilities $[P(red|x),P(blue|x)]$ that NB assigns to out test points $X$.\n",
        "\n",
        "* We use decision rule to choose the color with the highest probability. If both colors have equal large number of points in the training set NB splits colors in the points of intersections of their Gaussians."
      ]
    },
    {
      "cell_type": "code",
      "source": [
        "#@title Gaussian Naive Bayes for two classes\n",
        "%%html\n",
        "<iframe title=\"Demo\"\n",
        "        src=\"https://fbeilstein.github.io/machine_learning/lecture_07_naive_bayes/demo_bayes_2d.html\"\n",
        "        width=\"800\" height=\"600\"\n",
        "        marginwidth=\"0\" marginheight=\"0\" frameborder=\"0\"\n",
        "        scrolling=\"no\">\n",
        "Your browser does not support IFrames.\n",
        "</iframe>"
      ],
      "metadata": {
        "cellView": "form",
        "id": "73vdOuUkA_Cd",
        "outputId": "bd2e0aa9-66bd-4b32-97a9-b1a517f00c1c",
        "colab": {
          "base_uri": "https://localhost:8080/",
          "height": 621
        }
      },
      "execution_count": null,
      "outputs": [
        {
          "output_type": "display_data",
          "data": {
            "text/plain": [
              "<IPython.core.display.HTML object>"
            ],
            "text/html": [
              "<iframe title=\"Demo\"\n",
              "        src=\"https://fbeilstein.github.io/machine_learning/lecture_07_naive_bayes/demo_bayes_2d.html\"\n",
              "        width=\"800\" height=\"600\"\n",
              "        marginwidth=\"0\" marginheight=\"0\" frameborder=\"0\"\n",
              "        scrolling=\"no\">\n",
              "Your browser does not support IFrames.\n",
              "</iframe>\n"
            ]
          },
          "metadata": {}
        }
      ]
    },
    {
      "cell_type": "markdown",
      "metadata": {
        "id": "U3qXhYIALEcW"
      },
      "source": [
        "##2D  Example of Gaussian Naive Bayes"
      ]
    },
    {
      "cell_type": "markdown",
      "metadata": {
        "id": "olEOO4p78ZYN"
      },
      "source": [
        "<hr size=\"2\" noshade=\"noshade\" color=\"black\"/>\n",
        "\n",
        "<font face=\"helvetica\" color=\"black\" size=\"6\">\n",
        "2D Gaussian Naive Bayes\n",
        "</font>\n",
        "\n",
        "<font face=\"helvetica\" color=\"black\" size=\"3\">\n",
        "\n",
        "* 2 hidden 2D distributions (red and blue)\n",
        "* Generate datapoints\n",
        "* Use function GaussianNB()\n",
        "* Plot how the plane is splitted\n",
        "* Practice contains dynamic demo\n",
        "\n",
        "</font>\n",
        "\n",
        "<hr size=\"2\" noshade=\"noshade\" color=\"black\"/>"
      ]
    },
    {
      "cell_type": "markdown",
      "metadata": {
        "id": "lbofZZa9O-Xv"
      },
      "source": [
        "Suppose we want to classify points on the $2D$ plane. As before $N=1$, hence we have only one feature.\n",
        "\n",
        "The tags we want to assign are $\\{red, blue\\}$ again. We perform binary classification ($K=2$).\n",
        "\n",
        "The probabilities $P(x | red)$ and $P(x | blue)$ are both Gaussians with std's equal to $1.5$.\n",
        "\n",
        "We generate $100$ points in our training set."
      ]
    },
    {
      "cell_type": "code",
      "metadata": {
        "id": "Zo1YI3uqoLOW",
        "outputId": "2501f344-2fd4-49c7-ea00-7acf9944fce0",
        "colab": {
          "base_uri": "https://localhost:8080/",
          "height": 268
        }
      },
      "source": [
        "from sklearn.datasets import make_blobs\n",
        "import matplotlib.pyplot as plt\n",
        "\n",
        "training_set, y = make_blobs(100, 2, centers=2, random_state=2, cluster_std=1.5)\n",
        "plt.scatter(training_set[:, 0], training_set[:, 1], c=y, s=50, cmap='RdBu');"
      ],
      "execution_count": null,
      "outputs": [
        {
          "output_type": "display_data",
          "data": {
            "image/png": "[encoded data removed]",
            "text/plain": [
              "<Figure size 432x288 with 1 Axes>"
            ]
          },
          "metadata": {
            "tags": []
          }
        }
      ]
    },
    {
      "cell_type": "markdown",
      "metadata": {
        "id": "X3pyeR01QY7q"
      },
      "source": [
        "Choose Gaussian model for naive Bayes to fit the training set to the labels."
      ]
    },
    {
      "cell_type": "code",
      "metadata": {
        "id": "-N56m-9UoSs8"
      },
      "source": [
        "from sklearn.naive_bayes import GaussianNB\n",
        "\n",
        "model = GaussianNB()\n",
        "model.fit(training_set, y);"
      ],
      "execution_count": null,
      "outputs": []
    },
    {
      "cell_type": "markdown",
      "metadata": {
        "id": "dHvRp3xFRMpc"
      },
      "source": [
        "Here is the result. We see a slightly curved boundary in the classifications—in general, the boundary in\n",
        "Gaussian naive Bayes is quadratic."
      ]
    },
    {
      "cell_type": "code",
      "metadata": {
        "id": "1Y85D_0D9NFJ",
        "cellView": "form",
        "outputId": "80241f52-9ba5-4afc-c7b7-a187739b6bb8",
        "colab": {
          "base_uri": "https://localhost:8080/",
          "height": 594
        }
      },
      "source": [
        "#@title Visualize model and training set\n",
        "import numpy as np\n",
        "from matplotlib.colors import ListedColormap\n",
        "\n",
        "def visualize(estimator, X, y):\n",
        "  fig = plt.figure(figsize=(10,10))\n",
        "  ax = fig.gca()\n",
        "\n",
        "  # Plot the training points\n",
        "  rgb = [[210, 0, 0], [0, 0, 150], [107, 142, 35], [150, 0, 150], [220, 105, 0]]\n",
        "\n",
        "  rgb=np.array(rgb)/255.\n",
        "  ax.scatter(X[:, 0], X[:, 1], c=rgb[y], s=30, zorder=3)\n",
        "  ax.axis('tight')\n",
        "  xlim = [np.min(X[:, 0]), np.max(X[:, 0])]\n",
        "  ylim = [np.min(X[:, 1]), np.max(X[:, 1])]\n",
        "  ax.set_xlim(xlim)\n",
        "  ax.set_ylim(ylim)\n",
        "\n",
        "  # fit the estimator\n",
        "  xx, yy = np.meshgrid(np.linspace(*xlim, num=700), np.linspace(*ylim, num=700))\n",
        "  Z = estimator.predict(np.c_[xx.ravel(), yy.ravel()])\n",
        "\n",
        "  # Put the result into a color plot\n",
        "  n_classes = 5\n",
        "  Z = Z.reshape(xx.shape)\n",
        "  contours = ax.contourf(xx, yy, Z, alpha=0.3, levels=np.arange(n_classes + 1) - 0.5, cmap=ListedColormap(rgb), zorder=1)\n",
        "\n",
        "  plt.close(fig)\n",
        "\n",
        "  return fig\n",
        "\n",
        "visualize(model, training_set, y)"
      ],
      "execution_count": null,
      "outputs": [
        {
          "output_type": "execute_result",
          "data": {
            "image/png": "[encoded data removed]",
            "text/plain": [
              "<Figure size 720x720 with 1 Axes>"
            ]
          },
          "metadata": {
            "tags": []
          },
          "execution_count": 4
        }
      ]
    },
    {
      "cell_type": "markdown",
      "metadata": {
        "id": "R4EbeVGSRhYb"
      },
      "source": [
        "As before we can take a look at posterior probabilities $[P(red|x),P(blue|x)]$ before decision rule is applied."
      ]
    },
    {
      "cell_type": "code",
      "metadata": {
        "id": "2_VydT5fobm2",
        "outputId": "9a80f664-3c8f-467e-bd2c-fdae5c16d596",
        "colab": {
          "base_uri": "https://localhost:8080/",
          "height": 119
        }
      },
      "source": [
        "y_predicted_P = model.predict_proba([[1, 2], [2, 3], [-4, -7], [0, -6], [2, -6], [4, -6]])\n",
        "y_predicted_P.round(2)"
      ],
      "execution_count": null,
      "outputs": [
        {
          "output_type": "execute_result",
          "data": {
            "text/plain": [
              "array([[0.  , 1.  ],\n",
              "       [0.  , 1.  ],\n",
              "       [1.  , 0.  ],\n",
              "       [0.93, 0.07],\n",
              "       [0.46, 0.54],\n",
              "       [0.03, 0.97]])"
            ]
          },
          "metadata": {
            "tags": []
          },
          "execution_count": 21
        }
      ]
    },
    {
      "cell_type": "markdown",
      "metadata": {
        "id": "3FHsp7u6r7zW"
      },
      "source": [
        "Now do the same with slightly better UI"
      ]
    },
    {
      "cell_type": "code",
      "metadata": {
        "id": "5QhkxjPeFsKS"
      },
      "source": [
        "from sklearn.naive_bayes import GaussianNB\n",
        "\n",
        "model = GaussianNB()\n",
        "\n",
        "def fit_model(training_set, y):\n",
        "  model.fit(training_set, y);\n",
        "\n",
        "def predict_result(X):\n",
        "  return model.predict(X)"
      ],
      "execution_count": null,
      "outputs": []
    },
    {
      "cell_type": "code",
      "metadata": {
        "id": "Lwb7AbfQFd-b",
        "cellView": "form",
        "outputId": "520484cf-51da-4827-822f-d9d86673d555",
        "colab": {
          "base_uri": "https://localhost:8080/",
          "height": 621
        }
      },
      "source": [
        "#@title 2D Naive Bayes\n",
        "\n",
        "import numpy as np\n",
        "import matplotlib.pyplot as plt\n",
        "from matplotlib.colors import ListedColormap\n",
        "\n",
        "\n",
        "def visualize(X, y):\n",
        "  fig = plt.figure(figsize=(10,10))\n",
        "  ax = fig.gca()\n",
        "  ax.tick_params(axis=\"y\",direction=\"in\", pad=-40)\n",
        "  ax.tick_params(axis=\"x\",direction=\"in\", pad=-15)\n",
        "  ax.set_xticks(np.arange(-.75, 1, .25))\n",
        "  ax.set_yticks(np.arange(-.75, 1, .25))\n",
        "\n",
        "  # Plot the training points\n",
        "  rgb = [[210, 0, 0], [0, 0, 150], [107, 142, 35], [150, 0, 150], [220, 105, 0]]\n",
        "\n",
        "  rgb=np.array(rgb)/255.\n",
        "  ax.scatter(X[:, 0], X[:, 1], c=rgb[y], s=30, zorder=3)\n",
        "  ax.axis('tight')\n",
        "  xlim = [-1, +1]\n",
        "  ylim = [-1, +1]\n",
        "  ax.set_xlim(xlim)\n",
        "  ax.set_ylim(ylim)\n",
        "\n",
        "  # fit the estimator\n",
        "  xx, yy = np.meshgrid(np.linspace(*xlim, num=700), np.linspace(*ylim, num=700))\n",
        "  Z = predict_result(np.c_[xx.ravel(), yy.ravel()])\n",
        "\n",
        "  # Put the result into a color plot\n",
        "  n_classes = 5\n",
        "  Z = Z.reshape(xx.shape)\n",
        "  contours = ax.contourf(xx, yy, Z, alpha=0.3, levels=np.arange(n_classes + 1) - 0.5, cmap=ListedColormap(rgb), zorder=1)\n",
        "\n",
        "  plt.close(fig)\n",
        "\n",
        "  return fig\n",
        "\n",
        "import base64\n",
        "import io\n",
        "\n",
        "def figure_to_base64(fig):\n",
        "  buf = io.BytesIO()\n",
        "  fig.savefig(buf, format='png', bbox_inches='tight', pad_inches=0);\n",
        "  image_base64 = base64.b64encode(buf.getvalue()).decode('utf-8').replace('\\n', '')\n",
        "  buf.close()\n",
        "  return image_base64\n",
        "\n",
        "import json\n",
        "\n",
        "def invoke(pts):\n",
        "  data = np.array(pts).reshape((-1, 3))\n",
        "  X = data[:, :2] / 300.0 - 1.0\n",
        "  X[:, 1] *= -1.0\n",
        "  y = data[:, 2]\n",
        "\n",
        "  fit_model(X, y)\n",
        "  fig = visualize(X, y)\n",
        "\n",
        "  return IPython.display.JSON({'image': figure_to_base64(fig)})\n",
        "\n",
        "\n",
        "import IPython\n",
        "from google.colab import output\n",
        "\n",
        "main_str = '''\n",
        "  <script type=\"application/javascript\">\n",
        "\n",
        "    var active_pt = null;\n",
        "    var all_pts = [];\n",
        "    var class_btn = [[650, 50], [650, 150], [650, 250], [650, 350], [650, 450]];\n",
        "    var class_name = [\"class A\", \"class B\", \"class C\", \"class D\", \"class E\"];\n",
        "    var class_color = [\"rgba(210, 0, 0, 0.75)\", \"rgba(0, 0, 150, 0.75)\",\n",
        "         \"rgba(107, 142, 35, 0.95)\", \"rgba(150, 0, 150, 0.75)\", \"rgba(220, 105, 0, 0.75)\"]\n",
        "\n",
        "    var ptR = 10.0;\n",
        "    var params = null;\n",
        "    var debug_txt = \"\";\n",
        "    var bg_image = new Image();\n",
        "\n",
        "    function is_close(pt1, pt2) {\n",
        "      return   (pt1[0] - pt2[0])*(pt1[0] - pt2[0])\n",
        "            +  (pt1[1] - pt2[1])*(pt1[1] - pt2[1])\n",
        "            <= ptR*ptR;\n",
        "    }\n",
        "\n",
        "    function circ(ctx, pos, cls) {\n",
        "      ctx.beginPath();\n",
        "      ctx.arc(pos[0], pos[1], ptR, 0.0, 2.0 * Math.PI, 0);\n",
        "      ctx.fillStyle = class_color[cls];\n",
        "      ctx.fill();\n",
        "    }\n",
        "\n",
        "    function draw() {\n",
        "      var canvas = document.getElementById('canvas');\n",
        "      if (canvas.getContext) {\n",
        "        var ctx = canvas.getContext('2d');\n",
        "\n",
        "        ctx.clearRect(0, 0, canvas.width, canvas.height); // cleanup before start\n",
        "        ctx.drawImage(bg_image, 0, 0, 600, 600);\n",
        "        ctx.strokeRect(0, 0, 600, 600); // field\n",
        "\n",
        "        ctx.fillText(debug_txt, 200, 200);\n",
        "\n",
        "        if (active_pt) {\n",
        "          circ(ctx, [active_pt[0], active_pt[1]], active_pt[2]);\n",
        "        }\n",
        "        all_pts.forEach(function (item, index) {\n",
        "          circ(ctx, [item[0], item[1]], item[2]);\n",
        "        });\n",
        "\n",
        "      }\n",
        "    }\n",
        "\n",
        "    var timer\n",
        "    function init() {\n",
        "      timer = setInterval(draw, 10);\n",
        "    }\n",
        "\n",
        "    function get_state() {\n",
        "      var rates = document.getElementsByName('rate');\n",
        "      for(var i = 0; i < rates.length; i++)\n",
        "        if(rates[i].checked)\n",
        "          return rates[i].value;\n",
        "      return \"none\";\n",
        "    }\n",
        "\n",
        "\n",
        "    function mdown_handle(evt) {\n",
        "      x = evt.offsetX;\n",
        "      y = evt.offsetY;\n",
        "      state = get_state();\n",
        "      if (state.slice(0,3) == \"add\") {\n",
        "        var class_idx = parseInt(state.slice(3,4), 10);\n",
        "        if (x < 600)\n",
        "            all_pts.push([x, y, class_idx]);\n",
        "        return;\n",
        "      }\n",
        "\n",
        "      idx = -1;\n",
        "      all_pts.forEach(function (item, index) {\n",
        "        if (is_close([x,y], [item[0], item[1]])) {\n",
        "          idx = index;\n",
        "        }\n",
        "      });\n",
        "      if (idx <= -1)\n",
        "          return;\n",
        "      if (state == \"move\") {\n",
        "        active_pt = all_pts[idx];\n",
        "        all_pts.splice(idx, 1);\n",
        "      }\n",
        "      if (state == \"del\")\n",
        "          all_pts.splice(idx, 1);\n",
        "    }\n",
        "\n",
        "    function mmove_handle(evt) {\n",
        "      if (get_state() != \"move\")\n",
        "          return;\n",
        "      x = evt.offsetX;\n",
        "      y = evt.offsetY;\n",
        "      if (active_pt) {\n",
        "        active_pt[0] = x;\n",
        "        active_pt[1] = y;\n",
        "      }\n",
        "    }\n",
        "\n",
        "    function mup_handle(evt) {\n",
        "      if (get_state() != \"move\")\n",
        "          return;\n",
        "      x = evt.offsetX;\n",
        "      y = evt.offsetY;\n",
        "      if (x >= 600) {\n",
        "        active_pt = null;\n",
        "      }\n",
        "      if (active_pt) {\n",
        "        all_pts.push(active_pt);\n",
        "        active_pt = null;\n",
        "      }\n",
        "    }\n",
        "\n",
        "    function clear_field() {\n",
        "      active_pt = null;\n",
        "      all_pts = [];\n",
        "    }\n",
        "\n",
        "    async function calculate() {\n",
        "      if (!all_pts)\n",
        "        return;\n",
        "      var merged = [].concat.apply([], all_pts);\n",
        "      const result = await google.colab.kernel.invokeFunction('notebook.InvSVM', [merged], {});\n",
        "      params = result.data['application/json'];\n",
        "      bg_image.src = 'data:image/  png;base64,' + params.image;\n",
        "    }\n",
        "\n",
        "  function getImageURL(class_idx)\n",
        "  {\n",
        "     var canvas = document.createElement('canvas');\n",
        "     var ctx = canvas.getContext('2d');\n",
        "     canvas.width  = 2.0 * ptR;\n",
        "     canvas.height = 2.0 * ptR;\n",
        "     circ(ctx, [ptR, ptR], class_idx);\n",
        "     return canvas.toDataURL(); //image URL\n",
        "  }\n",
        "\n",
        "  </script>\n",
        "  <canvas id=\"canvas\" width=\"800\" height=\"600\"\n",
        "    onmousedown=\"mdown_handle(event)\"\n",
        "    onmousemove=\"mmove_handle(event)\"\n",
        "    onmouseup=\"mup_handle(event)\"></canvas>\n",
        "  <div style=\"position:absolute; top:200px; left:625px;\">\n",
        "   <div style=\"border-style: solid;\">\n",
        "    <input type=\"radio\" id=\"r1a\" name=\"rate\" value=\"add0\" checked=\"checked\">\n",
        "    <label for=\"r1a\">\n",
        "      <img src=\"\" onerror=\"this.onerror=null; this.src = getImageURL(0); \"> Add class A\n",
        "    </label>\n",
        "    <br>\n",
        "    <input type=\"radio\" id=\"r1b\" name=\"rate\" value=\"add1\">\n",
        "    <label for=\"r1b\">\n",
        "      <img src=\"\" onerror=\"this.onerror=null; this.src = getImageURL(1); \"> Add class B\n",
        "    </label>\n",
        "    <br>\n",
        "    <input type=\"radio\" id=\"r1c\" name=\"rate\" value=\"add2\">\n",
        "    <label for=\"r1c\">\n",
        "      <img src=\"\" onerror=\"this.onerror=null; this.src = getImageURL(2); \"> Add class C\n",
        "    </label>\n",
        "    <br>\n",
        "    <input type=\"radio\" id=\"r1d\" name=\"rate\" value=\"add3\">\n",
        "    <label for=\"r1d\">\n",
        "      <img src=\"\" onerror=\"this.onerror=null; this.src = getImageURL(3); \"> Add class D\n",
        "    </label>\n",
        "    <br>\n",
        "    <input type=\"radio\" id=\"r1e\" name=\"rate\" value=\"add4\">\n",
        "    <label for=\"r1e\">\n",
        "      <img src=\"\" onerror=\"this.onerror=null; this.src = getImageURL(4); \"> Add class E\n",
        "    </label>\n",
        "    <br>\n",
        "    <input type=\"radio\" id=\"r2\" name=\"rate\" value=\"move\">\n",
        "    <label for=\"r2\">\n",
        "      Move data point\n",
        "    </label>\n",
        "    <br>\n",
        "    <input type=\"radio\" id=\"r3\" name=\"rate\" value=\"del\">\n",
        "    <label for=\"r3\">\n",
        "      Delete data point\n",
        "    </label>\n",
        "    <br>\n",
        "    <button type=\"button\" onclick=\"clear_field();\">\n",
        "      Clear\n",
        "    </button>\n",
        "   </div>\n",
        "   <br><br>\n",
        "    <button type=\"button\" onclick=\"calculate();\">\n",
        "      Invoke Bayes\n",
        "    </button>\n",
        "  </div>\n",
        "  <script> init();</script>\n",
        "'''\n",
        "\n",
        "display(IPython.display.HTML(main_str))\n",
        "\n",
        "output.register_callback('notebook.InvSVM', invoke)"
      ],
      "execution_count": null,
      "outputs": [
        {
          "output_type": "display_data",
          "data": {
            "text/html": [
              "\n",
              "  <script type=\"application/javascript\">\n",
              "  \n",
              "    var active_pt = null;\n",
              "    var all_pts = [];\n",
              "    var class_btn = [[650, 50], [650, 150], [650, 250], [650, 350], [650, 450]];\n",
              "    var class_name = [\"class A\", \"class B\", \"class C\", \"class D\", \"class E\"];\n",
              "    var class_color = [\"rgba(210, 0, 0, 0.75)\", \"rgba(0, 0, 150, 0.75)\", \n",
              "         \"rgba(107, 142, 35, 0.95)\", \"rgba(150, 0, 150, 0.75)\", \"rgba(220, 105, 0, 0.75)\"]\n",
              "\n",
              "    var ptR = 10.0;\n",
              "    var params = null;\n",
              "    var debug_txt = \"\";\n",
              "    var bg_image = new Image();\n",
              "\n",
              "    function is_close(pt1, pt2) {\n",
              "      return   (pt1[0] - pt2[0])*(pt1[0] - pt2[0])\n",
              "            +  (pt1[1] - pt2[1])*(pt1[1] - pt2[1])\n",
              "            <= ptR*ptR;\n",
              "    }\n",
              "  \n",
              "    function circ(ctx, pos, cls) {\n",
              "      ctx.beginPath();\n",
              "      ctx.arc(pos[0], pos[1], ptR, 0.0, 2.0 * Math.PI, 0);\n",
              "      ctx.fillStyle = class_color[cls];\n",
              "      ctx.fill();\n",
              "    }\n",
              "    \n",
              "    function draw() {\n",
              "      var canvas = document.getElementById('canvas');\n",
              "      if (canvas.getContext) {\n",
              "        var ctx = canvas.getContext('2d');\n",
              "        \n",
              "        ctx.clearRect(0, 0, canvas.width, canvas.height); // cleanup before start\n",
              "        ctx.drawImage(bg_image, 0, 0, 600, 600);\n",
              "        ctx.strokeRect(0, 0, 600, 600); // field\n",
              "\n",
              "        ctx.fillText(debug_txt, 200, 200);\n",
              "\n",
              "        if (active_pt) {\n",
              "          circ(ctx, [active_pt[0], active_pt[1]], active_pt[2]);\n",
              "        }\n",
              "        all_pts.forEach(function (item, index) {\n",
              "          circ(ctx, [item[0], item[1]], item[2]);\n",
              "        });\n",
              "\n",
              "      }\n",
              "    }\n",
              "    \n",
              "    var timer\n",
              "    function init() {\n",
              "      timer = setInterval(draw, 10);\n",
              "    }\n",
              "\n",
              "    function get_state() {\n",
              "      var rates = document.getElementsByName('rate');\n",
              "      for(var i = 0; i < rates.length; i++)\n",
              "        if(rates[i].checked)\n",
              "          return rates[i].value;\n",
              "      return \"none\";\n",
              "    }\n",
              "\n",
              "    \n",
              "    function mdown_handle(evt) {\n",
              "      x = evt.offsetX;\n",
              "      y = evt.offsetY;\n",
              "      state = get_state();\n",
              "      if (state.slice(0,3) == \"add\") {\n",
              "        var class_idx = parseInt(state.slice(3,4), 10);\n",
              "        if (x < 600)\n",
              "            all_pts.push([x, y, class_idx]);\n",
              "        return;\n",
              "      }\n",
              "\n",
              "      idx = -1;\n",
              "      all_pts.forEach(function (item, index) {\n",
              "        if (is_close([x,y], [item[0], item[1]])) {\n",
              "          idx = index;\n",
              "        }\n",
              "      });\n",
              "      if (idx <= -1)\n",
              "          return;\n",
              "      if (state == \"move\") {\n",
              "        active_pt = all_pts[idx];\n",
              "        all_pts.splice(idx, 1);\n",
              "      }\n",
              "      if (state == \"del\")\n",
              "          all_pts.splice(idx, 1);\n",
              "    }\n",
              "    \n",
              "    function mmove_handle(evt) {\n",
              "      if (get_state() != \"move\")\n",
              "          return;\n",
              "      x = evt.offsetX;\n",
              "      y = evt.offsetY;\n",
              "      if (active_pt) {\n",
              "        active_pt[0] = x;\n",
              "        active_pt[1] = y;\n",
              "      }\n",
              "    }\n",
              "    \n",
              "    function mup_handle(evt) {\n",
              "      if (get_state() != \"move\")\n",
              "          return;\n",
              "      x = evt.offsetX;\n",
              "      y = evt.offsetY;\n",
              "      if (x >= 600) {\n",
              "        active_pt = null;\n",
              "      }\n",
              "      if (active_pt) {\n",
              "        all_pts.push(active_pt);\n",
              "        active_pt = null;\n",
              "      }\n",
              "    }\n",
              "    \n",
              "    function clear_field() {\n",
              "      active_pt = null;\n",
              "      all_pts = [];\n",
              "    }\n",
              "\n",
              "    async function calculate() {\n",
              "      if (!all_pts)\n",
              "        return;\n",
              "      var merged = [].concat.apply([], all_pts);\n",
              "      const result = await google.colab.kernel.invokeFunction('notebook.InvSVM', [merged], {});\n",
              "      params = result.data['application/json'];\n",
              "      bg_image.src = 'data:image/  png;base64,' + params.image;\n",
              "    }\n",
              "\n",
              "  function getImageURL(class_idx)\n",
              "  {\n",
              "     var canvas = document.createElement('canvas');\n",
              "     var ctx = canvas.getContext('2d');\n",
              "     canvas.width  = 2.0 * ptR;\n",
              "     canvas.height = 2.0 * ptR;\n",
              "     circ(ctx, [ptR, ptR], class_idx);\n",
              "     return canvas.toDataURL(); //image URL\n",
              "  }\n",
              "\n",
              "  </script>\n",
              "  <canvas id=\"canvas\" width=\"800\" height=\"600\" \n",
              "    onmousedown=\"mdown_handle(event)\"\n",
              "    onmousemove=\"mmove_handle(event)\"\n",
              "    onmouseup=\"mup_handle(event)\"></canvas>\n",
              "  <div style=\"position:absolute; top:200px; left:625px;\">\n",
              "   <div style=\"border-style: solid;\">\n",
              "    <input type=\"radio\" id=\"r1a\" name=\"rate\" value=\"add0\" checked=\"checked\"> \n",
              "    <label for=\"r1a\">\n",
              "      <img src=\"\" onerror=\"this.onerror=null; this.src = getImageURL(0); \"> Add class A\n",
              "    </label>\n",
              "    <br>\n",
              "    <input type=\"radio\" id=\"r1b\" name=\"rate\" value=\"add1\"> \n",
              "    <label for=\"r1b\">\n",
              "      <img src=\"\" onerror=\"this.onerror=null; this.src = getImageURL(1); \"> Add class B\n",
              "    </label>\n",
              "    <br>\n",
              "    <input type=\"radio\" id=\"r1c\" name=\"rate\" value=\"add2\"> \n",
              "    <label for=\"r1c\">\n",
              "      <img src=\"\" onerror=\"this.onerror=null; this.src = getImageURL(2); \"> Add class C\n",
              "    </label>\n",
              "    <br>\n",
              "    <input type=\"radio\" id=\"r1d\" name=\"rate\" value=\"add3\"> \n",
              "    <label for=\"r1d\">\n",
              "      <img src=\"\" onerror=\"this.onerror=null; this.src = getImageURL(3); \"> Add class D\n",
              "    </label>\n",
              "    <br>\n",
              "    <input type=\"radio\" id=\"r1e\" name=\"rate\" value=\"add4\"> \n",
              "    <label for=\"r1e\">\n",
              "      <img src=\"\" onerror=\"this.onerror=null; this.src = getImageURL(4); \"> Add class E\n",
              "    </label>\n",
              "    <br>\n",
              "    <input type=\"radio\" id=\"r2\" name=\"rate\" value=\"move\">\n",
              "    <label for=\"r2\">\n",
              "      Move data point\n",
              "    </label>\n",
              "    <br>\n",
              "    <input type=\"radio\" id=\"r3\" name=\"rate\" value=\"del\">\n",
              "    <label for=\"r3\">\n",
              "      Delete data point\n",
              "    </label>\n",
              "    <br>\n",
              "    <button type=\"button\" onclick=\"clear_field();\">\n",
              "      Clear\n",
              "    </button>\n",
              "   </div>\n",
              "   <br><br>\n",
              "    <button type=\"button\" onclick=\"calculate();\">\n",
              "      Invoke Bayes\n",
              "    </button>\n",
              "  </div>\n",
              "  <script> init();</script>\n"
            ],
            "text/plain": [
              "<IPython.core.display.HTML object>"
            ]
          },
          "metadata": {
            "tags": []
          }
        }
      ]
    },
    {
      "cell_type": "markdown",
      "metadata": {
        "id": "5-OvgwcaCFQe"
      },
      "source": [
        "##ROC and AUC"
      ]
    },
    {
      "cell_type": "markdown",
      "metadata": {
        "id": "1xXwbh4z6UaH"
      },
      "source": [
        "**Binary classifier with threshold** (almost all classifiers fall into this category)\n",
        "* Most classifiers yield probability $p_A$ that datapoint $\\vec{x}$ belongs to class $A$ (and $1 - p_A$ that it belongs to $B$).\n",
        "* We set threshold $T$ such that model predicts $A$ if $p_A > T$ and $B$ otherwise."
      ]
    },
    {
      "cell_type": "markdown",
      "metadata": {
        "id": "o2Zn5_LvUUnP"
      },
      "source": [
        "* **Receiver operating characteristics (ROC)**\n",
        "\n",
        "Curve similar to precision-recall curve, but instead false positive rate\n",
        "$$\n",
        "\\text{FPR} = \\frac{\\text{FP}}{\\text{FP} + \\text{TN}}\n",
        "= \\frac{\\text{FP}}{\\text{All verily Negatives}}\n",
        "$$\n",
        "and true positive rate\n",
        "$$\n",
        "\\text{TPR} = \\frac{\\text{TP}}{\\text{FN} + \\text{TP}}\n",
        "= \\frac{\\text{TP}}{\\text{All verily Positives}}\n",
        "$$\n",
        "\n",
        "* **False Positive Rate** shows what percentage of cases that are negative were wrongly recognized as positive\n",
        "* **True Positive Rate** shows what percentage of cases that are positive were recognized as such\n"
      ]
    },
    {
      "cell_type": "code",
      "source": [
        "#@title ROC curve for Gaussian Naive Bayes\n",
        "%%html\n",
        "<iframe title=\"Demo\"\n",
        "        src=\"https://fbeilstein.github.io/machine_learning/lecture_07_naive_bayes/demo_roc_auc.html\"\n",
        "        width=\"1500\" height=\"600\"\n",
        "        marginwidth=\"0\" marginheight=\"0\" frameborder=\"0\"\n",
        "        scrolling=\"no\">\n",
        "Your browser does not support IFrames.\n",
        "</iframe>"
      ],
      "metadata": {
        "cellView": "form",
        "id": "TyiAFZJK8fWu",
        "outputId": "540b729b-4680-496e-b96b-fda3569ded2a",
        "colab": {
          "base_uri": "https://localhost:8080/",
          "height": 641
        }
      },
      "execution_count": null,
      "outputs": [
        {
          "output_type": "display_data",
          "data": {
            "text/plain": [
              "<IPython.core.display.HTML object>"
            ],
            "text/html": [
              "<iframe title=\"Demo\"\n",
              "        src=\"https://fbeilstein.github.io/machine_learning/lecture_07_naive_bayes/demo_roc_auc.html\"\n",
              "        width=\"1500\" height=\"600\"\n",
              "        marginwidth=\"0\" marginheight=\"0\" frameborder=\"0\"\n",
              "        scrolling=\"no\">\n",
              "Your browser does not support IFrames.\n",
              "</iframe>\n"
            ]
          },
          "metadata": {}
        }
      ]
    },
    {
      "cell_type": "markdown",
      "metadata": {
        "id": "0235Bey-UAA_"
      },
      "source": [
        "* **Precision-Recall curve**"
      ]
    },
    {
      "cell_type": "markdown",
      "metadata": {
        "id": "9u2EIDvSmm1Q"
      },
      "source": [
        "- Simplest metric -- percent of correctly classified items\n",
        "$$\n",
        "\\text{Accuracy} = \\frac{\\text{TP} + \\text{TN}}{\\text{TP} + \\text{TN} + \\text{FP} + \\text{FN}}\n",
        "$$\n",
        "- Confusion matrix\n",
        "- More complex metrics\n",
        "\n",
        "\n"
      ]
    },
    {
      "cell_type": "code",
      "source": [
        "#@title Precision/Recall\n",
        "%%html\n",
        "\n",
        "<img src='https://fbeilstein.github.io/machine_learning/lecture_07_naive_bayes/precision_recall.svg'>\n",
        "</img>"
      ],
      "metadata": {
        "cellView": "form",
        "id": "Gij_oQBK0xX2",
        "outputId": "b0f84116-f5a6-4536-a902-27b17126162e",
        "colab": {
          "base_uri": "https://localhost:8080/",
          "height": 652
        }
      },
      "execution_count": null,
      "outputs": [
        {
          "output_type": "display_data",
          "data": {
            "text/plain": [
              "<IPython.core.display.HTML object>"
            ],
            "text/html": [
              "\n",
              "<img src='https://fbeilstein.github.io/machine_learning/lecture_07_naive_bayes/precision_recall.svg'>\n",
              "</img>\n"
            ]
          },
          "metadata": {}
        }
      ]
    },
    {
      "cell_type": "code",
      "metadata": {
        "id": "HQXElqurGiWK",
        "cellView": "form",
        "outputId": "21cb429c-7333-40f8-88fd-aa97f17d4633",
        "colab": {
          "base_uri": "https://localhost:8080/",
          "height": 284
        }
      },
      "source": [
        "#@title Precision-Recall curve\n",
        "\n",
        "from sklearn.datasets import make_blobs\n",
        "from sklearn.model_selection import train_test_split\n",
        "\n",
        "import matplotlib.pyplot as plt\n",
        "from sklearn.datasets import make_blobs\n",
        "X, y = make_blobs(n_samples=500, centers=2, random_state=30, cluster_std=1.9)\n",
        "#plt.scatter(X[:, 0], X[:, 1], c=y, s=50, cmap='autumn');\n",
        "\n",
        "X_train, X_test, y_train, y_test = train_test_split(X, y, test_size=0.33, random_state=42)\n",
        "\n",
        "from sklearn.svm import SVC\n",
        "svc = SVC(gamma=.05).fit(X_train, y_train)\n",
        "\n",
        "from sklearn.metrics import precision_recall_curve\n",
        "precision, recall, thresholds = precision_recall_curve(y_test, svc.decision_function(X_test))\n",
        "\n",
        "import matplotlib.pyplot as plt\n",
        "import seaborn as sns; sns.set();\n",
        "plt.plot(precision, recall, label=\"precision recall curve\")\n",
        "plt.xlabel(\"Precision\");\n",
        "plt.ylabel(\"Recall\");\n",
        "#svc.decision_function(X_test).shape, X_test.shape"
      ],
      "execution_count": null,
      "outputs": [
        {
          "output_type": "display_data",
          "data": {
            "image/png": "[encoded data removed]",
            "text/plain": [
              "<Figure size 432x288 with 1 Axes>"
            ]
          },
          "metadata": {
            "tags": []
          }
        }
      ]
    },
    {
      "cell_type": "markdown",
      "metadata": {
        "id": "wJzb5XRuTIO6"
      },
      "source": [
        "* **Be careful with using only one of these parameters**\n",
        "   - Model that yieds true only has perfect recall equal $1$\n",
        "   - Model that yields true for unique most probable datapoint and false otherwise has perfect precision equal $1$"
      ]
    },
    {
      "cell_type": "markdown",
      "metadata": {
        "id": "e9PplE-JrQr-"
      },
      "source": [
        "* **Be careful with imbalanced datasets**\n",
        "\n",
        "In a city with population 1M inhabitants live 100 terrorists. You create a model that detects terrorists and rings a bell. Testing the model you achieve following resuts:\n",
        "(A) it confuses terrorist with non-terrorist with only 1% chance;\n",
        "(B) it confuses non-terrorist with terrorist with only 1% chance;\n",
        "Is this model good?"
      ]
    },
    {
      "cell_type": "markdown",
      "metadata": {
        "id": "4XO1tMTBqovf"
      },
      "source": [
        "* $f$-score or $f$-measure is a bit better for imbalanced datasets\n",
        "$$\n",
        "F = 2~~ \\frac{\\text{Precision} \\cdot \\text{Recall}}{\\text{Precision} + \\text{Recall}}\n",
        "$$"
      ]
    },
    {
      "cell_type": "markdown",
      "metadata": {
        "id": "BAH6Fw79UGK8"
      },
      "source": [
        "* **Mean Precision**\n",
        "\n",
        "Calculated through integral of the precision-recall curve"
      ]
    },
    {
      "cell_type": "markdown",
      "metadata": {
        "id": "pVE4cZqcXaTk"
      },
      "source": [
        "* **Area Under Curve (AUC)**\n",
        "\n",
        "Calculated as integral of ROC"
      ]
    },
    {
      "cell_type": "markdown",
      "metadata": {
        "id": "EYqhUpqa_cmB"
      },
      "source": [
        "#Text classification"
      ]
    },
    {
      "cell_type": "markdown",
      "metadata": {
        "id": "sqIJtQuPzZLs"
      },
      "source": [
        "<hr size=\"2\" noshade=\"noshade\" color=\"black\"/>\n",
        "\n",
        "<font face=\"helvetica\" color=\"black\" size=\"6\">\n",
        "Text classification\n",
        "</font>\n",
        "\n",
        "<font face=\"helvetica\" color=\"black\" size=\"3\">\n",
        "\n",
        "* Steps:\n",
        "  - calculate doc-type priors\n",
        "  - estimate $p_{ki}$ (word $i$, doc-type $k$) by smoothed MLE (with pseudocounts), two approaches\n",
        "    * multi-variate $Bernoulli$ (features are boolean frequencies(1,0) of words)\n",
        "    * multinominal model (features are # of occurrences of words)\n",
        "  - to classify a document find $P(\\boldsymbol{x}|C_k)$, choose $k$ with the largest posterior probability\n",
        "* Laplace smoothing ($\\alpha = 1$)\n",
        "* Example\n",
        "* Better performance\n",
        "  - TFIDF (term frequency inverse document frequency) removes \"the\"-\"is\" problem\n",
        "  - Multinomial performs better on large docs\n",
        "  \n",
        "</font>\n",
        "\n",
        "<hr size=\"2\" noshade=\"noshade\" color=\"black\"/>"
      ]
    },
    {
      "cell_type": "markdown",
      "metadata": {
        "id": "tJ3Vo622_i5p"
      },
      "source": [
        "There are two approaches to documents classification:  multi-variate Bernoulli model and multinomial model.\n",
        "\n",
        "Both of them start from a vocabulary of words (that can have thousands them).\n",
        "Training set contains documents that are classified into categories.\n",
        "For example out of $100$ of documents $100$ are labeled as $\\q Physics \\Q$, $200$ - as $\\q Literature \\Q$ and so on. Next step is to estimate $P(C_k)$ using empirical frequencies\n",
        "\n",
        "$$\n",
        "\\begin{aligned}\n",
        "&P(\\q Physics \\Q)\\quad \\,=\\frac{100}{1000}=0.1,\\\\\n",
        "&P(\\q Literature \\Q)=\\frac{200}{1000}=0.2.\n",
        "\\end{aligned}\n",
        "$$\n",
        "\n",
        "These probabilities are statistical \"stereotypes\" that give us information about most likely category without any information about the document we want to classify.\n",
        "\n",
        "\n",
        "Next step is to analyze the document and to determine what words in the vocabulary are contained in it. Multi-variate Bernoulli specifies that a document is represented by a vector of binary attributes indicating which words occur and do not occur in the document:\n",
        "\n",
        "$$\n",
        "\\boldsymbol{x}=\\{0,1,0,1\\},\n",
        "$$\n",
        "\n",
        "for words $\\{\\q force \\Q, \\q love \\Q, \\q object \\Q, \\q poem \\Q\\}$.\n",
        "\n",
        "When calculating the probability of a document, one multiplies probability of all attribute values, including the probability of non-occurrence for words that do not occur in the document.\n",
        "\n",
        "$$\n",
        "P(\\boldsymbol{x}|C_k)=\\prod_{i=1}^{N}p_{ki}^{x_i}(1-p_{ki})^{(1-x_i)},\n",
        "$$\n",
        "\n",
        "where $\\boldsymbol{x}=\\{x_1,\\dots x_i \\dots x_N\\}$.\n",
        "\n",
        "Multinomial approach specifies that a document is represented by the set of word occurrences from the document. As above, the order of the words is lost, however, the number of occurrences of each word in the document is captured.\n",
        "\n",
        "$$\n",
        "\\boldsymbol{x}=\\{3,0,3,1\\}\n",
        "$$\n",
        "\n",
        "for words $\\{\\q force \\Q, \\q love \\Q, \\q object \\Q, \\q poem \\Q \\}$.\n",
        "\n",
        "When calculating the probability of a document, one multiplies the probability of the words that occur.\n",
        "\n",
        " $$P(\\boldsymbol{x}|C_k)=\\frac{(\\sum_i x_i)!}{\\prod_{i} x_i!}\\prod_i p_{ki}^{x_i}=|d|!\\prod_{i=1}^N \\frac{p_{ki}^{x_i}}{ x_i!},$$\n",
        "\n",
        " where $\\boldsymbol{x}=\\{x_1,\\dots x_i \\dots x_N\\}$.\n",
        "\n",
        " We now see that features occurrences are independent (hence this method is naive).\n",
        " In both models parameters $p_{ki}$ are estimated from the training set.\n",
        " They are estimated using smoothed empirical frequencies (smoothed MLE estimators aka frequencies with pseudocounts).\n",
        "\n",
        " In Bernoulli:\n",
        "\n",
        " $$\n",
        " p_{ki}=\\frac{\\#\\, of \\, documents\\, labeled \\, \\q k \\Q \\, with \\, word \\, \\q i \\Q \\, in \\, them +\\alpha}{total\\, \\#\\, of \\, documents\\, labeled \\, \\q k \\Q+ \\, 2\\, \\alpha}.\n",
        " $$\n",
        "\n",
        "  In Multinomial:\n",
        "\n",
        "  $$\n",
        " p_{ki}=\\frac{\\#\\, of \\, counts\\, of\\, word \\,  \\q i \\Q\\, in\\, all \\, documents \\, labeled \\, \\q k \\Q +\\alpha}{\\#\\, of \\, counts\\, of \\, all\\, words\\, in \\, documents \\, labels \\, \\q k \\Q + \\, \\alpha N}.\n",
        " $$\n",
        "\n",
        "\n",
        "\n",
        "\n",
        "\n",
        "\n",
        "\n",
        "\n"
      ]
    },
    {
      "cell_type": "code",
      "source": [
        "#@title Classification algo\n",
        "%%html\n",
        "\n",
        "<img src='https://fbeilstein.github.io/machine_learning/lecture_07_naive_bayes/text_classification.svg'>\n",
        "</img>"
      ],
      "metadata": {
        "cellView": "form",
        "id": "A8lD6nBp09h_",
        "outputId": "df83518a-65e3-4248-a054-cbad215b5eb5",
        "colab": {
          "base_uri": "https://localhost:8080/",
          "height": 701
        }
      },
      "execution_count": null,
      "outputs": [
        {
          "output_type": "display_data",
          "data": {
            "text/plain": [
              "<IPython.core.display.HTML object>"
            ],
            "text/html": [
              "\n",
              "<img src='https://fbeilstein.github.io/machine_learning/lecture_07_naive_bayes/text_classification.svg'>\n",
              "</img>\n"
            ]
          },
          "metadata": {}
        }
      ]
    },
    {
      "cell_type": "markdown",
      "metadata": {
        "id": "ZanChOmuyqVH"
      },
      "source": [
        "Usually $\\alpha =1$ (Laplace smoothing). In the advanced realizations \"counts\" are not just simple counts but rather so called $tf\\text{-}idf$ counts adjusted for the relevance of words so that such abundant and meaningless words as \"is\" and \"the\" do not have sky-rocketing number of counts."
      ]
    },
    {
      "cell_type": "code",
      "source": [
        "#@title Physics or Literature?\n",
        "%%html\n",
        "\n",
        "<img src='https://fbeilstein.github.io/machine_learning/lecture_07_naive_bayes/physics_or_literature.svg'>\n",
        "</img>"
      ],
      "metadata": {
        "cellView": "form",
        "id": "CX84ftQO1Tjj",
        "outputId": "ba8b104d-0761-45e4-aafc-21294d01e397",
        "colab": {
          "base_uri": "https://localhost:8080/",
          "height": 512
        }
      },
      "execution_count": null,
      "outputs": [
        {
          "output_type": "display_data",
          "data": {
            "text/plain": [
              "<IPython.core.display.HTML object>"
            ],
            "text/html": [
              "\n",
              "<img src='https://fbeilstein.github.io/machine_learning/lecture_07_naive_bayes/physics_or_literature.svg'>\n",
              "</img>\n"
            ]
          },
          "metadata": {}
        }
      ]
    },
    {
      "cell_type": "markdown",
      "metadata": {
        "id": "C5NEJSsLuvDG"
      },
      "source": [
        "In general, multinomial model performs better especially for the large vocabularies and large documents for classification."
      ]
    },
    {
      "cell_type": "markdown",
      "metadata": {
        "id": "KO5z1IADoown"
      },
      "source": [
        "#Multinomial Naive Bayes"
      ]
    },
    {
      "cell_type": "markdown",
      "metadata": {
        "id": "loSP2DspbgnB"
      },
      "source": [
        "<hr size=\"2\" noshade=\"noshade\" color=\"black\"/>\n",
        "\n",
        "<font face=\"helvetica\" color=\"black\" size=\"6\">\n",
        "Multinomial Bayes\n",
        "</font>\n",
        "\n",
        "<font face=\"helvetica\" color=\"black\" size=\"3\">\n",
        "\n",
        "* Multinomial as generalization of binomial (previous lecture)\n",
        "* Bag of words model\n",
        "* Vectorizers\n",
        "  - CountVectorizer (a number of times each word occurs in each document)\n",
        "  - TfidfVectorizer (tf $\\times$ idf)\n",
        "     * tf -- term frequency (regular, boolean, log-scaled, augmented)\n",
        "     * idf (entropy-like measure, many definitions, provide sklearn-implemented one)\n",
        "  \n",
        "</font>\n",
        "\n",
        "<hr size=\"2\" noshade=\"noshade\" color=\"black\"/>"
      ]
    },
    {
      "cell_type": "markdown",
      "metadata": {
        "id": "K5qiBLWlY4Xc"
      },
      "source": [
        "##Example: Multinomial Naive Bayes\n"
      ]
    },
    {
      "cell_type": "markdown",
      "metadata": {
        "id": "oO7SP-sXS9iC"
      },
      "source": [
        "Have you heard about the Multinomial distribution before? This is the generalization on the Binomial distribution.\n",
        "Suppose you pick $n=6$ balls from a big bag with red, blue and green balls ($N=3$).  You are given that the probability to pick red is $p_{\\text{red}}=0.2$, blue — $p_{\\text{blue}}=0.5$ and green — $p_{\\text{green}}=0.3$. What is the probability to pick $3$ red, $2$ blue balls and $1$ green ball? You do not care about order of the appearance of the balls. The answer is given by the Multinomial distribution\n",
        "\n",
        "$$P(\\boldsymbol{x}=[3,2,1])=\\frac{6!}{3! \\times 2! \\times 1!}0.2^{3}\\times0.5^{2} \\times0.1^{1}.$$\n",
        "\n",
        " Why is it called multinomial? It's related to the multinomial theorem that is the generalization of the binomial theorem:\n",
        "\n",
        " $$(p_1+p_2+\\dots+p_N)^n=\\sum_{i_1+i_2+\\dots+i_N=n}\\frac{n!}{i_1!i_2!\\dots i_N!}\\prod_{j=1}^N{p_{j}^{i_j}}.$$\n",
        "\n",
        " For example\n",
        "\n",
        " $$(0.2+0.5+0.3)^6=0.2^6\\times0.5^0\\times0.3^0 +\\dots+\\frac{6!}{3! \\times 2! \\times 1!}0.2^{3}\\times0.5^{2} \\times0.1^{1}+\\dots+0.2^0\\times0.5^0\\times0.3^6. $$\n",
        "\n",
        "Now you have the idea why in Multinomial Naive Bayes we choose\n",
        "\n",
        "$$P(\\boldsymbol{x}|C_k)=\\frac{(\\sum_i x_i)!}{\\prod_i x_i!}\\prod p_{ki}^{x_i},$$\n",
        "\n",
        "where $\\boldsymbol{x}$ is a vector of integers.\n",
        "\n",
        "\n",
        "One place where Multinomial Naive Bayes is often used is in text classification, where the features are related to word counts or frequencies within the documents to be classified. In fact we are pretending that a document is a placeholder where we place words drawn from the bag  (bag-of-words model).\n",
        "Here we will use the sparse word count features from the $20$ Newsgroups corpus to show how we might classify these short documents into categories.\n",
        "Let's download the data and take a look at the target names:"
      ]
    },
    {
      "cell_type": "code",
      "metadata": {
        "id": "Ohd7q7ZTopnf",
        "outputId": "d7e23ec6-c354-4ebf-d94d-809e8a93befb",
        "colab": {
          "base_uri": "https://localhost:8080/",
          "height": 53
        }
      },
      "source": [
        "from sklearn.datasets import fetch_20newsgroups\n",
        "data = fetch_20newsgroups()"
      ],
      "execution_count": null,
      "outputs": [
        {
          "output_type": "stream",
          "text": [
            "Downloading 20news dataset. This may take a few minutes.\n",
            "Downloading dataset from https://ndownloader.figshare.com/files/5975967 (14 MB)\n"
          ],
          "name": "stderr"
        }
      ]
    },
    {
      "cell_type": "markdown",
      "metadata": {
        "id": "nALe6rUBAxgW"
      },
      "source": [
        "We will classify text into $K=4$ classes. We divide our data into training set ($\\approx 2000$ documents) and validation set ($\\approx 1000$ documents)."
      ]
    },
    {
      "cell_type": "code",
      "metadata": {
        "id": "2G95e2hloz6u"
      },
      "source": [
        "categories = ['talk.religion.misc', 'soc.religion.christian', 'sci.space', 'comp.graphics']\n",
        "training_set = fetch_20newsgroups(subset='train', categories=categories)\n",
        "validation_set = fetch_20newsgroups(subset='test', categories=categories)"
      ],
      "execution_count": null,
      "outputs": []
    },
    {
      "cell_type": "markdown",
      "metadata": {
        "id": "OdAHwq9jDixK"
      },
      "source": [
        "Typical document looks like this."
      ]
    },
    {
      "cell_type": "code",
      "metadata": {
        "id": "ehEUk4ELo4X1",
        "outputId": "2e48ea62-41d4-4c6f-f5de-b978b003a6c1",
        "colab": {
          "base_uri": "https://localhost:8080/",
          "height": 323
        }
      },
      "source": [
        "print(training_set.data[5])"
      ],
      "execution_count": null,
      "outputs": [
        {
          "output_type": "stream",
          "text": [
            "From: dmcgee@uluhe.soest.hawaii.edu (Don McGee)\n",
            "Subject: Federal Hearing\n",
            "Originator: dmcgee@uluhe\n",
            "Organization: School of Ocean and Earth Science and Technology\n",
            "Distribution: usa\n",
            "Lines: 10\n",
            "\n",
            "\n",
            "Fact or rumor....?  Madalyn Murray O'Hare an atheist who eliminated the\n",
            "use of the bible reading and prayer in public schools 15 years ago is now\n",
            "going to appear before the FCC with a petition to stop the reading of the\n",
            "Gospel on the airways of America.  And she is also campaigning to remove\n",
            "Christmas programs, songs, etc from the public schools.  If it is true\n",
            "then mail to Federal Communications Commission 1919 H Street Washington DC\n",
            "20054 expressing your opposition to her request.  Reference Petition number\n",
            "\n",
            "2493.\n",
            "\n"
          ],
          "name": "stdout"
        }
      ]
    },
    {
      "cell_type": "markdown",
      "metadata": {
        "id": "RGYNpT5FTOXy"
      },
      "source": [
        "In order to use this data for machine learning, we need to be able to convert the content of each string into a vector of numbers. It's called a vectorization of a document. For this we will use the tf–idf vectorizer, and create a pipeline that attaches it to a multinomial naive Bayes classifier:"
      ]
    },
    {
      "cell_type": "code",
      "metadata": {
        "id": "EJE9AUGKo70D"
      },
      "source": [
        "from sklearn.feature_extraction.text import TfidfVectorizer, CountVectorizer\n",
        "from sklearn.naive_bayes import MultinomialNB\n",
        "from sklearn.pipeline import make_pipeline\n",
        "\n",
        "# Making pipelines\n",
        "model = make_pipeline(TfidfVectorizer(), MultinomialNB())\n",
        "model_simple = make_pipeline(CountVectorizer(), MultinomialNB())\n",
        "\n",
        "# Training models\n",
        "model.fit(training_set.data, training_set.target);\n",
        "model_simple.fit(training_set.data, training_set.target);"
      ],
      "execution_count": null,
      "outputs": []
    },
    {
      "cell_type": "markdown",
      "metadata": {
        "id": "lbHuLTG9B1yY"
      },
      "source": [
        "We can now use so called confusion matrix to visualize the result.\n",
        "Confusion matrix, also known as an error matrix, is a specific table layout that allows visualization of the performance of an algorithm, typically a supervised learning one. We will see how it works.\n"
      ]
    },
    {
      "cell_type": "code",
      "metadata": {
        "id": "w-IA2yw5pAXN",
        "outputId": "f9cf0897-1a56-4340-91a9-82e61847b67f",
        "colab": {
          "base_uri": "https://localhost:8080/",
          "height": 396
        }
      },
      "source": [
        "import seaborn as sns; sns.set()\n",
        "import matplotlib.pyplot as plt\n",
        "from sklearn.metrics import confusion_matrix\n",
        "\n",
        "labels = model.predict(validation_set.data)\n",
        "mat = confusion_matrix(validation_set.target, labels)\n",
        "sns.heatmap(mat.T, square=True, annot=True, fmt='d', cbar=False,\n",
        "            xticklabels=validation_set.target_names, yticklabels=validation_set.target_names)\n",
        "plt.xlabel('true label')\n",
        "plt.ylabel('predicted label');"
      ],
      "execution_count": null,
      "outputs": [
        {
          "output_type": "display_data",
          "data": {
            "image/png": "[encoded data removed]",
            "text/plain": [
              "<Figure size 432x288 with 1 Axes>"
            ]
          },
          "metadata": {
            "tags": []
          }
        }
      ]
    },
    {
      "cell_type": "markdown",
      "metadata": {
        "id": "M4GMkJP82V0H"
      },
      "source": [
        "But before we will talk about ```TfidfVectorizer``` consider simpler kind of vectorizer namely `CountVectorizer`.\n",
        "`CountVectorizer` compiles vocabulary (words) from a corpus and counts a number of times each word occurs in each document. Vectorizer ignores punctuation marks such as colons and semicolons. It also converts all words to lowercase. Thus, vocabulary consists of all lowercased words that are present in the documents of the corpus.\n",
        "Function `toarray()` returns the count matrix ($|corpus|\\times|Vocabulary|$) with counts of every word in every document of the corpus.\n",
        "\n",
        "\n"
      ]
    },
    {
      "cell_type": "code",
      "metadata": {
        "id": "TdRNrPEg389u",
        "outputId": "8214980a-fe1b-403a-ea94-cf1bb095cfe3",
        "colab": {
          "base_uri": "https://localhost:8080/",
          "height": 334
        }
      },
      "source": [
        "from sklearn.feature_extraction.text import CountVectorizer\n",
        "from sklearn.feature_extraction.text import TfidfVectorizer\n",
        "\n",
        "corpus = ['This is the first document.',\n",
        "          'This document is the second document.',\n",
        "          'And this is the third one.',\n",
        "          'Is this the first document?']\n",
        "\n",
        "print(\"_______________________COUNT VECTORIZER______________________________\")\n",
        "vectorizer_C = CountVectorizer()\n",
        "C = vectorizer_C.fit_transform(corpus)\n",
        "print(\"Vocabulary : \", vectorizer_C.get_feature_names())\n",
        "print(\"Vocabulary size: \", len(vectorizer_C.get_feature_names()))\n",
        "print(\"We had 4 documents and vocabulary has 9 words. That's why vectorizer has dimensions:\", C.shape)\n",
        "print(\"arr :\\n\", C.toarray())\n",
        "\n",
        "%load_ext google.colab.data_table\n",
        "import pandas as pd\n",
        "pd.DataFrame(C.toarray(), columns=vectorizer_C.get_feature_names())"
      ],
      "execution_count": null,
      "outputs": [
        {
          "output_type": "stream",
          "text": [
            "_______________________COUNT VECTORIZER______________________________\n",
            "Vocabulary :  ['and', 'document', 'first', 'is', 'one', 'second', 'the', 'third', 'this']\n",
            "Vocabulary size:  9\n",
            "We had 4 documents and vocabulary has 9 words. That's why vectorizer has dimensions: (4, 9)\n",
            "arr :\n",
            " [[0 1 1 1 0 0 1 0 1]\n",
            " [0 2 0 1 0 1 1 0 1]\n",
            " [1 0 0 1 1 0 1 1 1]\n",
            " [0 1 1 1 0 0 1 0 1]]\n"
          ],
          "name": "stdout"
        },
        {
          "output_type": "execute_result",
          "data": {
            "application/vnd.google.colaboratory.module+javascript": "\n      import \"https://ssl.gstatic.com/colaboratory/data_table/9e554b27bdd509f3/data_table.js\";\n\n      window.createDataTable({\n        data: [[{\n            'v': 0,\n            'f': \"0\",\n        },\n{\n            'v': 0,\n            'f': \"0\",\n        },\n{\n            'v': 1,\n            'f': \"1\",\n        },\n{\n            'v': 1,\n            'f': \"1\",\n        },\n{\n            'v': 1,\n            'f': \"1\",\n        },\n{\n            'v': 0,\n            'f': \"0\",\n        },\n{\n            'v': 0,\n            'f': \"0\",\n        },\n{\n            'v': 1,\n            'f': \"1\",\n        },\n{\n            'v': 0,\n            'f': \"0\",\n        },\n{\n            'v': 1,\n            'f': \"1\",\n        }],\n [{\n            'v': 1,\n            'f': \"1\",\n        },\n{\n            'v': 0,\n            'f': \"0\",\n        },\n{\n            'v': 2,\n            'f': \"2\",\n        },\n{\n            'v': 0,\n            'f': \"0\",\n        },\n{\n            'v': 1,\n            'f': \"1\",\n        },\n{\n            'v': 0,\n            'f': \"0\",\n        },\n{\n            'v': 1,\n            'f': \"1\",\n        },\n{\n            'v': 1,\n            'f': \"1\",\n        },\n{\n            'v': 0,\n            'f': \"0\",\n        },\n{\n            'v': 1,\n            'f': \"1\",\n        }],\n [{\n            'v': 2,\n            'f': \"2\",\n        },\n{\n            'v': 1,\n            'f': \"1\",\n        },\n{\n            'v': 0,\n            'f': \"0\",\n        },\n{\n            'v': 0,\n            'f': \"0\",\n        },\n{\n            'v': 1,\n            'f': \"1\",\n        },\n{\n            'v': 1,\n            'f': \"1\",\n        },\n{\n            'v': 0,\n            'f': \"0\",\n        },\n{\n            'v': 1,\n            'f': \"1\",\n        },\n{\n            'v': 1,\n            'f': \"1\",\n        },\n{\n            'v': 1,\n            'f': \"1\",\n        }],\n [{\n            'v': 3,\n            'f': \"3\",\n        },\n{\n            'v': 0,\n            'f': \"0\",\n        },\n{\n            'v': 1,\n            'f': \"1\",\n        },\n{\n            'v': 1,\n            'f': \"1\",\n        },\n{\n            'v': 1,\n            'f': \"1\",\n        },\n{\n            'v': 0,\n            'f': \"0\",\n        },\n{\n            'v': 0,\n            'f': \"0\",\n        },\n{\n            'v': 1,\n            'f': \"1\",\n        },\n{\n            'v': 0,\n            'f': \"0\",\n        },\n{\n            'v': 1,\n            'f': \"1\",\n        }]],\n        columns: [[\"number\", \"index\"], [\"number\", \"and\"], [\"number\", \"document\"], [\"number\", \"first\"], [\"number\", \"is\"], [\"number\", \"one\"], [\"number\", \"second\"], [\"number\", \"the\"], [\"number\", \"third\"], [\"number\", \"this\"]],\n        columnOptions: [{\"width\": \"1px\", \"className\": \"index_column\"}],\n        rowsPerPage: 25,\n        helpUrl: \"https://colab.research.google.com/notebooks/data_table.ipynb\",\n      });\n    ",
            "text/html": [
              "<div>\n",
              "<style scoped>\n",
              "    .dataframe tbody tr th:only-of-type {\n",
              "        vertical-align: middle;\n",
              "    }\n",
              "\n",
              "    .dataframe tbody tr th {\n",
              "        vertical-align: top;\n",
              "    }\n",
              "\n",
              "    .dataframe thead th {\n",
              "        text-align: right;\n",
              "    }\n",
              "</style>\n",
              "<table border=\"1\" class=\"dataframe\">\n",
              "  <thead>\n",
              "    <tr style=\"text-align: right;\">\n",
              "      <th></th>\n",
              "      <th>and</th>\n",
              "      <th>document</th>\n",
              "      <th>first</th>\n",
              "      <th>is</th>\n",
              "      <th>one</th>\n",
              "      <th>second</th>\n",
              "      <th>the</th>\n",
              "      <th>third</th>\n",
              "      <th>this</th>\n",
              "    </tr>\n",
              "  </thead>\n",
              "  <tbody>\n",
              "    <tr>\n",
              "      <th>0</th>\n",
              "      <td>0</td>\n",
              "      <td>1</td>\n",
              "      <td>1</td>\n",
              "      <td>1</td>\n",
              "      <td>0</td>\n",
              "      <td>0</td>\n",
              "      <td>1</td>\n",
              "      <td>0</td>\n",
              "      <td>1</td>\n",
              "    </tr>\n",
              "    <tr>\n",
              "      <th>1</th>\n",
              "      <td>0</td>\n",
              "      <td>2</td>\n",
              "      <td>0</td>\n",
              "      <td>1</td>\n",
              "      <td>0</td>\n",
              "      <td>1</td>\n",
              "      <td>1</td>\n",
              "      <td>0</td>\n",
              "      <td>1</td>\n",
              "    </tr>\n",
              "    <tr>\n",
              "      <th>2</th>\n",
              "      <td>1</td>\n",
              "      <td>0</td>\n",
              "      <td>0</td>\n",
              "      <td>1</td>\n",
              "      <td>1</td>\n",
              "      <td>0</td>\n",
              "      <td>1</td>\n",
              "      <td>1</td>\n",
              "      <td>1</td>\n",
              "    </tr>\n",
              "    <tr>\n",
              "      <th>3</th>\n",
              "      <td>0</td>\n",
              "      <td>1</td>\n",
              "      <td>1</td>\n",
              "      <td>1</td>\n",
              "      <td>0</td>\n",
              "      <td>0</td>\n",
              "      <td>1</td>\n",
              "      <td>0</td>\n",
              "      <td>1</td>\n",
              "    </tr>\n",
              "  </tbody>\n",
              "</table>\n",
              "</div>"
            ],
            "text/plain": [
              "   and  document  first  is  one  second  the  third  this\n",
              "0    0         1      1   1    0       0    1      0     1\n",
              "1    0         2      0   1    0       1    1      0     1\n",
              "2    1         0      0   1    1       0    1      1     1\n",
              "3    0         1      1   1    0       0    1      0     1"
            ]
          },
          "metadata": {
            "tags": []
          },
          "execution_count": 2
        }
      ]
    },
    {
      "cell_type": "markdown",
      "metadata": {
        "id": "EOhd8kZIGLi2"
      },
      "source": [
        "The problem with `CountVectorizer` is that it contains many uninformative common words such as 'am', 'is', \"the\", that carry no information about the document class because they are present in every document.\n",
        "\n",
        "In the ```TfidfVectorizer``` the simple counts of the words are substituted by Tf–idf or TFIDF, short for term frequency–inverse document frequency, a numerical statistic that is intended to reflect how important a word is to a document in a collection or corpus.\n",
        "Suppose we have a document $d$, word $t$ and a collection of documents $D$. Then\n",
        "\n",
        "$$tf\\text{-}idf(t,d,D)=tf(t,d)\\cdot idf(t,D)$$ where\n",
        "\n",
        "* $tf(t,d)$ is term frequency that describes how common is the term in the document.\n",
        "  - boolean \"frequencies\": $tf(t,d) = 1$ if $t$ occurs in $d$ and $0$ otherwise;\n",
        "  - term frequency adjusted for document length: (counts of $t$ in $d$) ÷ (number of words in $d$)\n",
        "  - logarithmically scaled frequency: $tf(t,d) =  \\log (1 + \\text{(counts of $t$ in $d$)})$\n",
        "  - augmented frequency, to prevent a bias towards longer documents, e.g. raw frequency divided by the raw frequency of the most occurring term in the document: $tf(t,d) = 1/2 + 1/2 \\cdot  \\cfrac{\\text{(counts of $t$ in $d$)}}{\\text{(counts of maximum frequent term in $d$)}}$\n",
        "* $idf(t,D)$ is the inverse document frequency equal to\n",
        "\n",
        "$$\n",
        "idf(t,D)=1+\\log{\\frac{|D|}{|\\{d \\in D \\mid d \\text{ contains } t\\}|}}.\n",
        "$$\n",
        "\n",
        "The inverse document frequency is a measure of how much information the word provides, i.e., if it's common or rare across all documents. Its purpose is to filter out common words: words like \"this\" and \"is\" don't provide much information.\n",
        "  - There are different formulas for $idf$, but this one is used in `sklearn` by default.\n",
        "\n",
        "\n",
        "Here is how ```TfidfVectorizer``` works. As `CountVectorizer` it extracts unique words (features). It then constructs so called Tf-idf-weighted document-term matrix that for each word in each document calculates its $tf\\text{-}idf$. Note that $tf\\text{-}idf$ is more informative than simple counts."
      ]
    },
    {
      "cell_type": "code",
      "metadata": {
        "id": "cCDORxUnElQi",
        "outputId": "47e83e62-f112-40be-9fd6-8c317caf2139",
        "colab": {
          "base_uri": "https://localhost:8080/",
          "height": 256
        }
      },
      "source": [
        "from sklearn.feature_extraction.text import CountVectorizer\n",
        "from sklearn.feature_extraction.text import TfidfVectorizer\n",
        "\n",
        "print(\"_______________________TFIDF VECTORIZER______________________________\")\n",
        "vectorizer_tfidf = TfidfVectorizer()\n",
        "X = vectorizer_tfidf.fit_transform(corpus)\n",
        "print(\"Vocabulary : \", vectorizer_tfidf.get_feature_names())\n",
        "print(\"Vocabulary size: \", len(vectorizer_tfidf.get_feature_names()))\n",
        "print(\"We had 4 documents and vocabulary has 9 words. That's why vectorizer has dimensions:\", X.shape)\n",
        "#print(\"arr :\\n\", X.toarray())\n",
        "pd.DataFrame(X.toarray(), columns=vectorizer_tfidf.get_feature_names())"
      ],
      "execution_count": null,
      "outputs": [
        {
          "output_type": "stream",
          "text": [
            "_______________________TFIDF VECTORIZER______________________________\n",
            "Vocabulary :  ['and', 'document', 'first', 'is', 'one', 'second', 'the', 'third', 'this']\n",
            "Vocabulary size:  9\n",
            "We had 4 documents and vocabulary has 9 words. That's why vectorizer has dimensions: (4, 9)\n"
          ],
          "name": "stdout"
        },
        {
          "output_type": "execute_result",
          "data": {
            "application/vnd.google.colaboratory.module+javascript": "\n      import \"https://ssl.gstatic.com/colaboratory/data_table/9e554b27bdd509f3/data_table.js\";\n\n      window.createDataTable({\n        data: [[{\n            'v': 0,\n            'f': \"0\",\n        },\n{\n            'v': 0,\n            'f': \"0\",\n        },\n{\n            'v': 0.46979138557992045,\n            'f': \"0.46979138557992045\",\n        },\n{\n            'v': 0.5802858236844359,\n            'f': \"0.5802858236844359\",\n        },\n{\n            'v': 0.38408524091481483,\n            'f': \"0.38408524091481483\",\n        },\n{\n            'v': 0,\n            'f': \"0\",\n        },\n{\n            'v': 0,\n            'f': \"0\",\n        },\n{\n            'v': 0.38408524091481483,\n            'f': \"0.38408524091481483\",\n        },\n{\n            'v': 0,\n            'f': \"0\",\n        },\n{\n            'v': 0.38408524091481483,\n            'f': \"0.38408524091481483\",\n        }],\n [{\n            'v': 1,\n            'f': \"1\",\n        },\n{\n            'v': 0,\n            'f': \"0\",\n        },\n{\n            'v': 0.6876235979836938,\n            'f': \"0.6876235979836938\",\n        },\n{\n            'v': 0,\n            'f': \"0\",\n        },\n{\n            'v': 0.281088674033753,\n            'f': \"0.281088674033753\",\n        },\n{\n            'v': 0,\n            'f': \"0\",\n        },\n{\n            'v': 0.5386476208856763,\n            'f': \"0.5386476208856763\",\n        },\n{\n            'v': 0.281088674033753,\n            'f': \"0.281088674033753\",\n        },\n{\n            'v': 0,\n            'f': \"0\",\n        },\n{\n            'v': 0.281088674033753,\n            'f': \"0.281088674033753\",\n        }],\n [{\n            'v': 2,\n            'f': \"2\",\n        },\n{\n            'v': 0.511848512707169,\n            'f': \"0.511848512707169\",\n        },\n{\n            'v': 0,\n            'f': \"0\",\n        },\n{\n            'v': 0,\n            'f': \"0\",\n        },\n{\n            'v': 0.267103787642168,\n            'f': \"0.267103787642168\",\n        },\n{\n            'v': 0.511848512707169,\n            'f': \"0.511848512707169\",\n        },\n{\n            'v': 0,\n            'f': \"0\",\n        },\n{\n            'v': 0.267103787642168,\n            'f': \"0.267103787642168\",\n        },\n{\n            'v': 0.511848512707169,\n            'f': \"0.511848512707169\",\n        },\n{\n            'v': 0.267103787642168,\n            'f': \"0.267103787642168\",\n        }],\n [{\n            'v': 3,\n            'f': \"3\",\n        },\n{\n            'v': 0,\n            'f': \"0\",\n        },\n{\n            'v': 0.46979138557992045,\n            'f': \"0.46979138557992045\",\n        },\n{\n            'v': 0.5802858236844359,\n            'f': \"0.5802858236844359\",\n        },\n{\n            'v': 0.38408524091481483,\n            'f': \"0.38408524091481483\",\n        },\n{\n            'v': 0,\n            'f': \"0\",\n        },\n{\n            'v': 0,\n            'f': \"0\",\n        },\n{\n            'v': 0.38408524091481483,\n            'f': \"0.38408524091481483\",\n        },\n{\n            'v': 0,\n            'f': \"0\",\n        },\n{\n            'v': 0.38408524091481483,\n            'f': \"0.38408524091481483\",\n        }]],\n        columns: [[\"number\", \"index\"], [\"number\", \"and\"], [\"number\", \"document\"], [\"number\", \"first\"], [\"number\", \"is\"], [\"number\", \"one\"], [\"number\", \"second\"], [\"number\", \"the\"], [\"number\", \"third\"], [\"number\", \"this\"]],\n        columnOptions: [{\"width\": \"1px\", \"className\": \"index_column\"}],\n        rowsPerPage: 25,\n        helpUrl: \"https://colab.research.google.com/notebooks/data_table.ipynb\",\n      });\n    ",
            "text/html": [
              "<div>\n",
              "<style scoped>\n",
              "    .dataframe tbody tr th:only-of-type {\n",
              "        vertical-align: middle;\n",
              "    }\n",
              "\n",
              "    .dataframe tbody tr th {\n",
              "        vertical-align: top;\n",
              "    }\n",
              "\n",
              "    .dataframe thead th {\n",
              "        text-align: right;\n",
              "    }\n",
              "</style>\n",
              "<table border=\"1\" class=\"dataframe\">\n",
              "  <thead>\n",
              "    <tr style=\"text-align: right;\">\n",
              "      <th></th>\n",
              "      <th>and</th>\n",
              "      <th>document</th>\n",
              "      <th>first</th>\n",
              "      <th>is</th>\n",
              "      <th>one</th>\n",
              "      <th>second</th>\n",
              "      <th>the</th>\n",
              "      <th>third</th>\n",
              "      <th>this</th>\n",
              "    </tr>\n",
              "  </thead>\n",
              "  <tbody>\n",
              "    <tr>\n",
              "      <th>0</th>\n",
              "      <td>0.000000</td>\n",
              "      <td>0.469791</td>\n",
              "      <td>0.580286</td>\n",
              "      <td>0.384085</td>\n",
              "      <td>0.000000</td>\n",
              "      <td>0.000000</td>\n",
              "      <td>0.384085</td>\n",
              "      <td>0.000000</td>\n",
              "      <td>0.384085</td>\n",
              "    </tr>\n",
              "    <tr>\n",
              "      <th>1</th>\n",
              "      <td>0.000000</td>\n",
              "      <td>0.687624</td>\n",
              "      <td>0.000000</td>\n",
              "      <td>0.281089</td>\n",
              "      <td>0.000000</td>\n",
              "      <td>0.538648</td>\n",
              "      <td>0.281089</td>\n",
              "      <td>0.000000</td>\n",
              "      <td>0.281089</td>\n",
              "    </tr>\n",
              "    <tr>\n",
              "      <th>2</th>\n",
              "      <td>0.511849</td>\n",
              "      <td>0.000000</td>\n",
              "      <td>0.000000</td>\n",
              "      <td>0.267104</td>\n",
              "      <td>0.511849</td>\n",
              "      <td>0.000000</td>\n",
              "      <td>0.267104</td>\n",
              "      <td>0.511849</td>\n",
              "      <td>0.267104</td>\n",
              "    </tr>\n",
              "    <tr>\n",
              "      <th>3</th>\n",
              "      <td>0.000000</td>\n",
              "      <td>0.469791</td>\n",
              "      <td>0.580286</td>\n",
              "      <td>0.384085</td>\n",
              "      <td>0.000000</td>\n",
              "      <td>0.000000</td>\n",
              "      <td>0.384085</td>\n",
              "      <td>0.000000</td>\n",
              "      <td>0.384085</td>\n",
              "    </tr>\n",
              "  </tbody>\n",
              "</table>\n",
              "</div>"
            ],
            "text/plain": [
              "        and  document     first  ...       the     third      this\n",
              "0  0.000000  0.469791  0.580286  ...  0.384085  0.000000  0.384085\n",
              "1  0.000000  0.687624  0.000000  ...  0.281089  0.000000  0.281089\n",
              "2  0.511849  0.000000  0.000000  ...  0.267104  0.511849  0.267104\n",
              "3  0.000000  0.469791  0.580286  ...  0.384085  0.000000  0.384085\n",
              "\n",
              "[4 rows x 9 columns]"
            ]
          },
          "metadata": {
            "tags": []
          },
          "execution_count": 9
        }
      ]
    },
    {
      "cell_type": "markdown",
      "metadata": {
        "id": "0jk5EIp0BhPo"
      },
      "source": [
        "Now we can fit our model and determine its parameters. Afterwords we can use this parameters and decision rule to make predictions."
      ]
    },
    {
      "cell_type": "markdown",
      "metadata": {
        "id": "O8WN_YzRpVxk"
      },
      "source": [
        "What if we used simple count vectorizer?"
      ]
    },
    {
      "cell_type": "code",
      "metadata": {
        "id": "oQilyEekpPyZ",
        "outputId": "f1436ff5-8fea-4718-8795-cecd022c17da",
        "colab": {
          "base_uri": "https://localhost:8080/",
          "height": 396
        }
      },
      "source": [
        "import seaborn as sns; sns.set()\n",
        "import matplotlib.pyplot as plt\n",
        "from sklearn.metrics import confusion_matrix\n",
        "\n",
        "labels_simple = model_simple.predict(validation_set.data)\n",
        "mat_simple = confusion_matrix(validation_set.target, labels_simple)\n",
        "sns.heatmap(mat_simple.T, square=True, annot=True, fmt='d', cbar=False,\n",
        "            xticklabels=validation_set.target_names, yticklabels=validation_set.target_names)\n",
        "plt.xlabel('true label')\n",
        "plt.ylabel('predicted label');"
      ],
      "execution_count": null,
      "outputs": [
        {
          "output_type": "display_data",
          "data": {
            "image/png": "[encoded data removed]",
            "text/plain": [
              "<Figure size 432x288 with 1 Axes>"
            ]
          },
          "metadata": {
            "tags": []
          }
        }
      ]
    },
    {
      "cell_type": "markdown",
      "metadata": {
        "id": "LWSrPlQwTyX6"
      },
      "source": [
        "The very cool thing here is that we now have the tools to determine the category for any string, using the `predict()` method of this pipeline. Here's a quick utility function that will return the prediction for a single string:\n"
      ]
    },
    {
      "cell_type": "code",
      "metadata": {
        "id": "vLxb1RXDpDsC"
      },
      "source": [
        "def predict_category(s, train=training_set, model=model):\n",
        "  pred = model.predict([s])\n",
        "  return training_set.target_names[pred[0]]"
      ],
      "execution_count": null,
      "outputs": []
    },
    {
      "cell_type": "code",
      "metadata": {
        "id": "YGJCDqpnpGgc",
        "outputId": "079ec386-5bb5-4d2e-c03d-f439f0b42735",
        "colab": {
          "base_uri": "https://localhost:8080/",
          "height": 34
        }
      },
      "source": [
        "predict_category('sending a payload to the ISS')"
      ],
      "execution_count": null,
      "outputs": [
        {
          "output_type": "execute_result",
          "data": {
            "text/plain": [
              "'sci.space'"
            ]
          },
          "metadata": {
            "tags": []
          },
          "execution_count": 15
        }
      ]
    },
    {
      "cell_type": "code",
      "metadata": {
        "id": "SSuugVALpJ7j",
        "outputId": "678b246e-5b4e-40b3-e8e8-bf8996cea568",
        "colab": {
          "base_uri": "https://localhost:8080/",
          "height": 34
        }
      },
      "source": [
        "predict_category('discussing islam vs atheism')"
      ],
      "execution_count": null,
      "outputs": [
        {
          "output_type": "execute_result",
          "data": {
            "text/plain": [
              "'soc.religion.christian'"
            ]
          },
          "metadata": {
            "tags": []
          },
          "execution_count": 16
        }
      ]
    },
    {
      "cell_type": "code",
      "metadata": {
        "id": "U1Uid_BDpMGZ",
        "outputId": "b2b3e9d1-18ca-4a9b-b727-20e805ae7bab",
        "colab": {
          "base_uri": "https://localhost:8080/",
          "height": 34
        }
      },
      "source": [
        "predict_category('determining the screen resolution')"
      ],
      "execution_count": null,
      "outputs": [
        {
          "output_type": "execute_result",
          "data": {
            "text/plain": [
              "'comp.graphics'"
            ]
          },
          "metadata": {
            "tags": []
          },
          "execution_count": 17
        }
      ]
    },
    {
      "cell_type": "markdown",
      "metadata": {
        "id": "5b8zJM_RT-k0"
      },
      "source": [
        "Remember that this is nothing more sophisticated than a simple probability model for the (weighted) frequency of each word in the string; nevertheless, the result is striking. Even a very naive algorithm, when used carefully and trained on a large set of high-dimensional data, can be surprisingly effective."
      ]
    },
    {
      "cell_type": "markdown",
      "metadata": {
        "id": "MlCc9NCNyiqI"
      },
      "source": [
        "#Bernoulli Naive Bayes"
      ]
    },
    {
      "cell_type": "markdown",
      "metadata": {
        "id": "PANN1EiLCjbH"
      },
      "source": [
        "<hr size=\"2\" noshade=\"noshade\" color=\"black\"/>\n",
        "\n",
        "<font face=\"helvetica\" color=\"black\" size=\"6\">\n",
        "Bernoulli Bayes\n",
        "</font>\n",
        "\n",
        "<font face=\"helvetica\" color=\"black\" size=\"3\">\n",
        "\n",
        "* Binary variables (whether document contains a term or not)\n",
        "* For large vocabularies worse than Multinomial\n",
        "* To use set `binary = True` in tf-idf\n",
        "* Guessing example\n",
        "  \n",
        "</font>\n",
        "\n",
        "<hr size=\"2\" noshade=\"noshade\" color=\"black\"/>"
      ]
    },
    {
      "cell_type": "markdown",
      "metadata": {
        "id": "-FpbhOGSGiXI"
      },
      "source": [
        "In the multivariate Bernoulli event model, features are independent booleans (binary variables) describing inputs.\n",
        "\n",
        "$$\n",
        "P(\\boldsymbol{x}|C_k)=\\prod_{i=1}^{N}p_{ki}^{x_i}(1-p_{ki})^{(1-x_i)}.\n",
        "$$\n",
        "\n",
        "For example when analyzing a document we can take into account not the number of occurences of a given word in a document but rather it's presence or absence (boolean frequency).\n",
        "For large vocabularies Bernoulli Naive Bayes performs worse than Multinomial Naive Bayes.\n",
        "\n",
        "Let's use Bernoulli Naive Bayes for the example above.\n",
        "Note that we set `binary = True` in `TfidfVectorizer` to obtain boolean frequencies."
      ]
    },
    {
      "cell_type": "code",
      "metadata": {
        "id": "URnKeYt-6CmF",
        "outputId": "58faae37-2cbc-4775-c44c-a9e66c1bfa47",
        "colab": {
          "base_uri": "https://localhost:8080/",
          "height": 226
        }
      },
      "source": [
        "from sklearn.feature_extraction.text import TfidfVectorizer\n",
        "from sklearn.naive_bayes import BernoulliNB\n",
        "from sklearn.pipeline import make_pipeline\n",
        "\n",
        "vectorizer_B = TfidfVectorizer(binary = True, use_idf = False, smooth_idf = False, norm=False)\n",
        "b = vectorizer_B.fit_transform(corpus)\n",
        "print(\"Vocabulary : \", vectorizer_B.get_feature_names())\n",
        "print(\"Vocabulary size: \", len(vectorizer_B.get_feature_names()))\n",
        "print(\"We had 4 documents and vocabulary has 9 words. That's why vectorizer has dimensions:\", b.shape)\n",
        "\n",
        "import pandas as pd\n",
        "pd.DataFrame(b.toarray(), columns=vectorizer_B.get_feature_names())"
      ],
      "execution_count": null,
      "outputs": [
        {
          "output_type": "stream",
          "text": [
            "Vocabulary :  ['and', 'document', 'first', 'is', 'one', 'second', 'the', 'third', 'this']\n",
            "Vocabulary size:  9\n",
            "We had 4 documents and vocabulary has 9 words. That's why vectorizer has dimensions: (4, 9)\n"
          ],
          "name": "stdout"
        },
        {
          "output_type": "execute_result",
          "data": {
            "application/vnd.google.colaboratory.module+javascript": "\n      import \"https://ssl.gstatic.com/colaboratory/data_table/9e554b27bdd509f3/data_table.js\";\n\n      window.createDataTable({\n        data: [[{\n            'v': 0,\n            'f': \"0\",\n        },\n{\n            'v': 0,\n            'f': \"0\",\n        },\n{\n            'v': 1,\n            'f': \"1\",\n        },\n{\n            'v': 1,\n            'f': \"1\",\n        },\n{\n            'v': 1,\n            'f': \"1\",\n        },\n{\n            'v': 0,\n            'f': \"0\",\n        },\n{\n            'v': 0,\n            'f': \"0\",\n        },\n{\n            'v': 1,\n            'f': \"1\",\n        },\n{\n            'v': 0,\n            'f': \"0\",\n        },\n{\n            'v': 1,\n            'f': \"1\",\n        }],\n [{\n            'v': 1,\n            'f': \"1\",\n        },\n{\n            'v': 0,\n            'f': \"0\",\n        },\n{\n            'v': 1,\n            'f': \"1\",\n        },\n{\n            'v': 0,\n            'f': \"0\",\n        },\n{\n            'v': 1,\n            'f': \"1\",\n        },\n{\n            'v': 0,\n            'f': \"0\",\n        },\n{\n            'v': 1,\n            'f': \"1\",\n        },\n{\n            'v': 1,\n            'f': \"1\",\n        },\n{\n            'v': 0,\n            'f': \"0\",\n        },\n{\n            'v': 1,\n            'f': \"1\",\n        }],\n [{\n            'v': 2,\n            'f': \"2\",\n        },\n{\n            'v': 1,\n            'f': \"1\",\n        },\n{\n            'v': 0,\n            'f': \"0\",\n        },\n{\n            'v': 0,\n            'f': \"0\",\n        },\n{\n            'v': 1,\n            'f': \"1\",\n        },\n{\n            'v': 1,\n            'f': \"1\",\n        },\n{\n            'v': 0,\n            'f': \"0\",\n        },\n{\n            'v': 1,\n            'f': \"1\",\n        },\n{\n            'v': 1,\n            'f': \"1\",\n        },\n{\n            'v': 1,\n            'f': \"1\",\n        }],\n [{\n            'v': 3,\n            'f': \"3\",\n        },\n{\n            'v': 0,\n            'f': \"0\",\n        },\n{\n            'v': 1,\n            'f': \"1\",\n        },\n{\n            'v': 1,\n            'f': \"1\",\n        },\n{\n            'v': 1,\n            'f': \"1\",\n        },\n{\n            'v': 0,\n            'f': \"0\",\n        },\n{\n            'v': 0,\n            'f': \"0\",\n        },\n{\n            'v': 1,\n            'f': \"1\",\n        },\n{\n            'v': 0,\n            'f': \"0\",\n        },\n{\n            'v': 1,\n            'f': \"1\",\n        }]],\n        columns: [[\"number\", \"index\"], [\"number\", \"and\"], [\"number\", \"document\"], [\"number\", \"first\"], [\"number\", \"is\"], [\"number\", \"one\"], [\"number\", \"second\"], [\"number\", \"the\"], [\"number\", \"third\"], [\"number\", \"this\"]],\n        columnOptions: [{\"width\": \"1px\", \"className\": \"index_column\"}],\n        rowsPerPage: 25,\n        helpUrl: \"https://colab.research.google.com/notebooks/data_table.ipynb\",\n      });\n    ",
            "text/html": [
              "<div>\n",
              "<style scoped>\n",
              "    .dataframe tbody tr th:only-of-type {\n",
              "        vertical-align: middle;\n",
              "    }\n",
              "\n",
              "    .dataframe tbody tr th {\n",
              "        vertical-align: top;\n",
              "    }\n",
              "\n",
              "    .dataframe thead th {\n",
              "        text-align: right;\n",
              "    }\n",
              "</style>\n",
              "<table border=\"1\" class=\"dataframe\">\n",
              "  <thead>\n",
              "    <tr style=\"text-align: right;\">\n",
              "      <th></th>\n",
              "      <th>and</th>\n",
              "      <th>document</th>\n",
              "      <th>first</th>\n",
              "      <th>is</th>\n",
              "      <th>one</th>\n",
              "      <th>second</th>\n",
              "      <th>the</th>\n",
              "      <th>third</th>\n",
              "      <th>this</th>\n",
              "    </tr>\n",
              "  </thead>\n",
              "  <tbody>\n",
              "    <tr>\n",
              "      <th>0</th>\n",
              "      <td>0.0</td>\n",
              "      <td>1.0</td>\n",
              "      <td>1.0</td>\n",
              "      <td>1.0</td>\n",
              "      <td>0.0</td>\n",
              "      <td>0.0</td>\n",
              "      <td>1.0</td>\n",
              "      <td>0.0</td>\n",
              "      <td>1.0</td>\n",
              "    </tr>\n",
              "    <tr>\n",
              "      <th>1</th>\n",
              "      <td>0.0</td>\n",
              "      <td>1.0</td>\n",
              "      <td>0.0</td>\n",
              "      <td>1.0</td>\n",
              "      <td>0.0</td>\n",
              "      <td>1.0</td>\n",
              "      <td>1.0</td>\n",
              "      <td>0.0</td>\n",
              "      <td>1.0</td>\n",
              "    </tr>\n",
              "    <tr>\n",
              "      <th>2</th>\n",
              "      <td>1.0</td>\n",
              "      <td>0.0</td>\n",
              "      <td>0.0</td>\n",
              "      <td>1.0</td>\n",
              "      <td>1.0</td>\n",
              "      <td>0.0</td>\n",
              "      <td>1.0</td>\n",
              "      <td>1.0</td>\n",
              "      <td>1.0</td>\n",
              "    </tr>\n",
              "    <tr>\n",
              "      <th>3</th>\n",
              "      <td>0.0</td>\n",
              "      <td>1.0</td>\n",
              "      <td>1.0</td>\n",
              "      <td>1.0</td>\n",
              "      <td>0.0</td>\n",
              "      <td>0.0</td>\n",
              "      <td>1.0</td>\n",
              "      <td>0.0</td>\n",
              "      <td>1.0</td>\n",
              "    </tr>\n",
              "  </tbody>\n",
              "</table>\n",
              "</div>"
            ],
            "text/plain": [
              "   and  document  first   is  one  second  the  third  this\n",
              "0  0.0       1.0    1.0  1.0  0.0     0.0  1.0    0.0   1.0\n",
              "1  0.0       1.0    0.0  1.0  0.0     1.0  1.0    0.0   1.0\n",
              "2  1.0       0.0    0.0  1.0  1.0     0.0  1.0    1.0   1.0\n",
              "3  0.0       1.0    1.0  1.0  0.0     0.0  1.0    0.0   1.0"
            ]
          },
          "metadata": {
            "tags": []
          },
          "execution_count": 3
        }
      ]
    },
    {
      "cell_type": "markdown",
      "metadata": {
        "id": "yBQxDtp162wW"
      },
      "source": [
        "Now test our classifier on a big dataset"
      ]
    },
    {
      "cell_type": "code",
      "metadata": {
        "id": "gIwuB_sig59n",
        "outputId": "d9176a13-3978-4dab-a7c7-54e310349ac6",
        "colab": {
          "base_uri": "https://localhost:8080/",
          "height": 396
        }
      },
      "source": [
        "from sklearn.metrics import confusion_matrix\n",
        "import seaborn as sns; sns.set()\n",
        "import matplotlib.pyplot as plt\n",
        "from sklearn.metrics import confusion_matrix\n",
        "\n",
        "model_B = make_pipeline(TfidfVectorizer(binary = True, use_idf = False, norm=False), BernoulliNB())\n",
        "model_B.fit(training_set.data, training_set.target)\n",
        "labels_B = model_B.predict(validation_set.data)\n",
        "\n",
        "mat_B = confusion_matrix(validation_set.target, labels_B)\n",
        "sns.heatmap(mat_B.T, square=True, annot=True, fmt='d', cbar=False,\n",
        "xticklabels=validation_set.target_names, yticklabels=validation_set.target_names)\n",
        "plt.xlabel('true label')\n",
        "plt.ylabel('predicted label');"
      ],
      "execution_count": null,
      "outputs": [
        {
          "output_type": "display_data",
          "data": {
            "image/png": "[encoded data removed]",
            "text/plain": [
              "<Figure size 432x288 with 1 Axes>"
            ]
          },
          "metadata": {
            "tags": []
          }
        }
      ]
    },
    {
      "cell_type": "markdown",
      "metadata": {
        "id": "hdi3kFvhGkP2"
      },
      "source": [
        "##Example: Guessing binary outcomes"
      ]
    },
    {
      "cell_type": "code",
      "metadata": {
        "id": "JA6TiSeo9SYZ"
      },
      "source": [
        "ones_and_zeros = '''\n",
        "1011010111101001010101010101001010101001010100101011100100101010101010101010101010101010101010101010101010101010101010101001101101101001010101001010101011010101010101010101010101010101010101100001010101010101010001001110100101\n",
        "'''"
      ],
      "execution_count": null,
      "outputs": []
    },
    {
      "cell_type": "code",
      "metadata": {
        "id": "wVKE2Tzso6zL",
        "cellView": "form"
      },
      "source": [
        "#@title Train code\n",
        "\n",
        "\n",
        "import numpy as np\n",
        "\n",
        "class Predictor():\n",
        "  def __init__(self, Nmax, D):\n",
        "    self.history = [0 for _ in range(D-1)]\n",
        "    self.stats = np.ones(Nmax**D).reshape([Nmax]*D)\n",
        "    self.D = D\n",
        "\n",
        "  def best_guess(self):\n",
        "    cond_stats = self.stats[tuple(self.history)] if self.D > 1 else self.stats\n",
        "    guess = np.argmax(cond_stats)\n",
        "    certainty = cond_stats[guess] / cond_stats.sum()\n",
        "    return guess, certainty\n",
        "\n",
        "  def update(self, num):\n",
        "    if self.D <= 1:\n",
        "      self.stats[num] += 1\n",
        "    else:\n",
        "      self.stats[tuple(self.history)][num] += 1\n",
        "      self.history = self.history[1:] + [num]\n",
        "\n",
        "\n",
        "class BayesGuesser:\n",
        "  def __init__(self, Nmax):\n",
        "    self.predictors = [Predictor(Nmax, D) for D in [1,2,3,4,5]]\n",
        "\n",
        "  def best_guess(self):\n",
        "    data = np.array([p.best_guess() for p in self.predictors]).T\n",
        "    return int(data[0, np.argmax(data[1])])\n",
        "\n",
        "    return self.predictors[np.argmax(self.guesses)].best_guess()\n",
        "\n",
        "  def update(self, num):\n",
        "    for p in self.predictors:\n",
        "      p.update(num)\n",
        "\n",
        "\n",
        "ones_and_zeros = ''.join(ones_and_zeros.split())\n",
        "data = [int(i) for i in ones_and_zeros]\n",
        "\n",
        "bg = BayesGuesser(10)\n",
        "for e in data:\n",
        "  bg.update(e)\n"
      ],
      "execution_count": null,
      "outputs": []
    },
    {
      "cell_type": "code",
      "metadata": {
        "id": "Ytwfl9SJ9ZTL"
      },
      "source": [
        "test = '''\n",
        "0010101010101001001\n",
        "'''"
      ],
      "execution_count": null,
      "outputs": []
    },
    {
      "cell_type": "code",
      "metadata": {
        "id": "sRWBkTQI2AWt",
        "cellView": "form"
      },
      "source": [
        "#@title Test code\n",
        "\n",
        "test = ''.join(test.split())\n",
        "data = [int(i) for i in test]\n",
        "\n",
        "stat_correct = 0\n",
        "stat_missed = 0\n",
        "\n",
        "for e in data:\n",
        "  if bg.best_guess() == e:\n",
        "    stat_correct += 1\n",
        "  else:\n",
        "    stat_missed += 1\n",
        "  bg.update(e)\n",
        "\n",
        "print(\"stats: correct = \", stat_correct, \", misses = \", stat_missed, \",  \", stat_correct / (stat_correct + stat_missed) * 100, \"%\")\n"
      ],
      "execution_count": null,
      "outputs": []
    },
    {
      "cell_type": "code",
      "metadata": {
        "id": "3pP3dmnSpXMG",
        "cellView": "form"
      },
      "source": [
        "#@title Test with Buttons\n",
        "\n",
        "import IPython\n",
        "from google.colab import output\n",
        "\n",
        "_const_guess = '''\n",
        "<br> My guess is: %s <br>\n",
        "<button onclick=\\\"google.colab.kernel.invokeFunction(\\'notebook.Guessed\\', [%s], {})\\\"> Correct </button>\n",
        "<button onclick=\\\"google.colab.kernel.invokeFunction(\\'notebook.Missed\\', [%s], {})\\\"> No </button>\n",
        "'''\n",
        "\n",
        "stat_correct = 0\n",
        "stat_missed = 0\n",
        "\n",
        "def guessed_click(number):\n",
        "  global stat_correct\n",
        "  stat_correct += 1\n",
        "  bg.update(int(number))\n",
        "  do_guess()\n",
        "\n",
        "def missed_click(number):\n",
        "  global stat_missed\n",
        "  stat_missed += 1\n",
        "  bg.update(1 - int(number))\n",
        "  do_guess()\n",
        "\n",
        "def do_guess():\n",
        "  number = bg.best_guess()\n",
        "  output.clear()\n",
        "  display(IPython.display.HTML(_const_guess % (str(number), str(number), str(number))))\n",
        "  output.register_callback('notebook.Guessed', guessed_click)\n",
        "  output.register_callback('notebook.Missed', missed_click)\n",
        "  print(\"stats: correct = \", stat_correct, \", misses = \", stat_missed)\n",
        "\n",
        "do_guess()"
      ],
      "execution_count": null,
      "outputs": []
    },
    {
      "cell_type": "markdown",
      "metadata": {
        "id": "WxdGcIulpPY2"
      },
      "source": [
        "#Applications of Naive Bayes"
      ]
    },
    {
      "cell_type": "markdown",
      "metadata": {
        "id": "Zk-6ImKkpQcB"
      },
      "source": [
        "**What are pros of Naive Bayes?**\n",
        "*  It is are extremely fast for both training and prediction\n",
        "*  It provides straightforward probabilistic prediction\n",
        "*  It is often very easily interpretable\n",
        "*  It has very few (if any) tunable parameters\n",
        "\n",
        "**Where should we use Naive Bayes Classification?**\n",
        "*  When the naive assumptions actually match the data (very rare in practice)\n",
        "*  For very well-separated categories, when model complexity is less important\n",
        "*  For very high-dimensional data, when model complexity is less important\n",
        "\n",
        "**Industrial applications:**\n",
        "* news classification\n",
        "* faces/objects recognition\n",
        "* spam detection (filthy spammers aware of Bayes spam filtering are trying to fool algorithm by so called Bayesian poisoning - addition of random (or even carefully selected) words that are unlikely to appear in a spam message and  cause the spam filter to believe the message to be legitimate.)\n",
        "* medical diagnosis\n",
        "* weather prediction\n",
        "\n"
      ]
    }
  ]
}